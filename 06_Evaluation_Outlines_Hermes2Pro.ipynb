{
 "cells": [
  {
   "cell_type": "code",
   "execution_count": 1,
   "id": "3d0f1b3e-69a0-4dd3-94c1-d0ffa14391de",
   "metadata": {
    "execution": {
     "iopub.execute_input": "2024-07-19T21:15:33.673226Z",
     "iopub.status.busy": "2024-07-19T21:15:33.672590Z",
     "iopub.status.idle": "2024-07-19T21:15:33.698227Z",
     "shell.execute_reply": "2024-07-19T21:15:33.696890Z",
     "shell.execute_reply.started": "2024-07-19T21:15:33.673174Z"
    }
   },
   "outputs": [],
   "source": [
    "%load_ext autoreload\n",
    "%autoreload 2"
   ]
  },
  {
   "cell_type": "code",
   "execution_count": 2,
   "id": "d1515a58-5f78-4a46-8d78-63a15cd95e63",
   "metadata": {
    "execution": {
     "iopub.execute_input": "2024-07-19T21:15:33.700535Z",
     "iopub.status.busy": "2024-07-19T21:15:33.700019Z",
     "iopub.status.idle": "2024-07-19T21:15:33.721370Z",
     "shell.execute_reply": "2024-07-19T21:15:33.720221Z",
     "shell.execute_reply.started": "2024-07-19T21:15:33.700485Z"
    }
   },
   "outputs": [
    {
     "name": "stdout",
     "output_type": "stream",
     "text": [
      "Pretty printing has been turned OFF\n"
     ]
    }
   ],
   "source": [
    "%pprint"
   ]
  },
  {
   "cell_type": "markdown",
   "id": "bae19095-3fb1-4819-b60a-de805cda7b3c",
   "metadata": {},
   "source": [
    "## UTILS FROM GORILLA: SKIP TO THE NEXT SECTION"
   ]
  },
  {
   "cell_type": "code",
   "execution_count": 3,
   "id": "b7e69925-f96e-498f-b82d-58642a2b022e",
   "metadata": {
    "execution": {
     "iopub.execute_input": "2024-07-19T21:15:33.723283Z",
     "iopub.status.busy": "2024-07-19T21:15:33.722750Z",
     "iopub.status.idle": "2024-07-19T21:15:33.739187Z",
     "shell.execute_reply": "2024-07-19T21:15:33.737830Z",
     "shell.execute_reply.started": "2024-07-19T21:15:33.723227Z"
    }
   },
   "outputs": [],
   "source": [
    "import re"
   ]
  },
  {
   "cell_type": "code",
   "execution_count": 4,
   "id": "17aaeb09-872b-4eb0-ba0d-b42b1f117a33",
   "metadata": {
    "execution": {
     "iopub.execute_input": "2024-07-19T21:15:33.741030Z",
     "iopub.status.busy": "2024-07-19T21:15:33.740592Z",
     "iopub.status.idle": "2024-07-19T21:15:33.758978Z",
     "shell.execute_reply": "2024-07-19T21:15:33.757827Z",
     "shell.execute_reply.started": "2024-07-19T21:15:33.740987Z"
    }
   },
   "outputs": [],
   "source": [
    "PYTHON_TYPE_MAPPING = {\n",
    "    \"string\": str,\n",
    "    \"integer\": int,\n",
    "    \"float\": float,\n",
    "    \"boolean\": bool,\n",
    "    \"array\": list,\n",
    "    \"tuple\": list,\n",
    "    \"dict\": dict,\n",
    "    \"any\": str,\n",
    "}"
   ]
  },
  {
   "cell_type": "code",
   "execution_count": 5,
   "id": "debde203-200a-46dd-866b-67ef811a8929",
   "metadata": {
    "execution": {
     "iopub.execute_input": "2024-07-19T21:15:33.760846Z",
     "iopub.status.busy": "2024-07-19T21:15:33.760418Z",
     "iopub.status.idle": "2024-07-19T21:15:33.779626Z",
     "shell.execute_reply": "2024-07-19T21:15:33.778774Z",
     "shell.execute_reply.started": "2024-07-19T21:15:33.760805Z"
    }
   },
   "outputs": [],
   "source": [
    "# This is the list of types that we need to recursively check its values\n",
    "PYTHON_NESTED_TYPE_CHECK_LIST = [\"array\", \"tuple\"]"
   ]
  },
  {
   "cell_type": "code",
   "execution_count": 6,
   "id": "e248dfc0-ec0e-408d-abc8-c9407adf2f6f",
   "metadata": {
    "execution": {
     "iopub.execute_input": "2024-07-19T21:15:33.782723Z",
     "iopub.status.busy": "2024-07-19T21:15:33.782386Z",
     "iopub.status.idle": "2024-07-19T21:15:33.796599Z",
     "shell.execute_reply": "2024-07-19T21:15:33.795933Z",
     "shell.execute_reply.started": "2024-07-19T21:15:33.782691Z"
    }
   },
   "outputs": [],
   "source": [
    "# ONLY INCLUDE YOUR MODEL HERE IF IT DOESN'T SUPPORT DOTS INSIDE FUNCTION NAMES\n",
    "UNDERSCORE_TO_DOT = [\n",
    "    \"gpt-4o-2024-05-13-FC\",\n",
    "    \"gpt-4-turbo-2024-04-09-FC\",\n",
    "    \"gpt-4-1106-preview-FC\",\n",
    "    \"gpt-4-0125-preview-FC\",\n",
    "    \"gpt-4-0613-FC\",\n",
    "    \"gpt-3.5-turbo-0125-FC\",\n",
    "    \"claude-3-opus-20240229-FC\",\n",
    "    \"claude-3-sonnet-20240229-FC\",\n",
    "    \"claude-3-haiku-20240307-FC\",\n",
    "    \"claude-3-5-sonnet-20240620-FC\",\n",
    "    \"mistral-large-2402-FC\",\n",
    "    \"mistral-large-2402-FC-Any\",\n",
    "    \"mistral-large-2402-FC-Auto\",\n",
    "    \"mistral-small-2402-FC-Any\",\n",
    "    \"mistral-small-2402-FC-Auto\",\n",
    "    \"mistral-small-2402-FC\",\n",
    "    \"gemini-1.0-pro\",\n",
    "    \"gemini-1.5-pro-preview-0409\",\n",
    "    \"gemini-1.5-pro-preview-0514\",\n",
    "    \"gemini-1.5-flash-preview-0514\",\n",
    "    \"meetkai/functionary-small-v2.2-FC\",\n",
    "    \"meetkai/functionary-medium-v2.2-FC\",\n",
    "    \"meetkai/functionary-small-v2.4-FC\",\n",
    "    \"meetkai/functionary-medium-v2.4-FC\",\n",
    "    \"NousResearch/Hermes-2-Pro-Mistral-7B\",\n",
    "    \"command-r-plus-FC\",\n",
    "    \"command-r-plus-FC-optimized\",\n",
    "]"
   ]
  },
  {
   "cell_type": "code",
   "execution_count": 7,
   "id": "8d8dd8fd-083b-47ee-83e1-7d0621c8de09",
   "metadata": {
    "execution": {
     "iopub.execute_input": "2024-07-19T21:15:33.797838Z",
     "iopub.status.busy": "2024-07-19T21:15:33.797488Z",
     "iopub.status.idle": "2024-07-19T21:15:33.820080Z",
     "shell.execute_reply": "2024-07-19T21:15:33.819129Z",
     "shell.execute_reply.started": "2024-07-19T21:15:33.797811Z"
    }
   },
   "outputs": [],
   "source": [
    "def get_possible_answer_type(possible_answer: list):\n",
    "    for answer in possible_answer:\n",
    "        if answer != \"\":  # Optional parameter\n",
    "            return type(answer)\n",
    "    return None"
   ]
  },
  {
   "cell_type": "code",
   "execution_count": 8,
   "id": "3603611c-61a6-4c3e-9cc5-ed305ab437b5",
   "metadata": {
    "execution": {
     "iopub.execute_input": "2024-07-19T21:15:33.821794Z",
     "iopub.status.busy": "2024-07-19T21:15:33.821307Z",
     "iopub.status.idle": "2024-07-19T21:15:33.837269Z",
     "shell.execute_reply": "2024-07-19T21:15:33.836470Z",
     "shell.execute_reply.started": "2024-07-19T21:15:33.821757Z"
    }
   },
   "outputs": [],
   "source": [
    "def convert_func_name(function_name, model_name: str):\n",
    "    model_name_escaped = model_name.replace(\"_\", \"/\")\n",
    "    if \".\" in function_name:\n",
    "        if model_name_escaped in UNDERSCORE_TO_DOT:\n",
    "            # OAI does not support \".\" in the function name so we replace it with \"_\". ^[a-zA-Z0-9_-]{1,64}$ is the regex for the name.\n",
    "            # This happens for OpenAI, Mistral, and Google models\n",
    "            return re.sub(r\"\\.\", \"_\", function_name)\n",
    "    return function_name"
   ]
  },
  {
   "cell_type": "code",
   "execution_count": 9,
   "id": "554a4b5e-745a-428c-9e91-d5c4365435cf",
   "metadata": {
    "execution": {
     "iopub.execute_input": "2024-07-19T21:15:33.839166Z",
     "iopub.status.busy": "2024-07-19T21:15:33.838554Z",
     "iopub.status.idle": "2024-07-19T21:15:33.855831Z",
     "shell.execute_reply": "2024-07-19T21:15:33.855247Z",
     "shell.execute_reply.started": "2024-07-19T21:15:33.839115Z"
    }
   },
   "outputs": [],
   "source": [
    "def type_checker(\n",
    "    param: str,\n",
    "    value,\n",
    "    possible_answer: list,\n",
    "    expected_type_description: str,\n",
    "    expected_type_converted,\n",
    "    nested_type_converted,\n",
    "):\n",
    "    # NOTE: This type checker only supports nested type checking for one level deep.\n",
    "    # We didn't implement recursive type checking for nested types, as it's not needed for the current use case and it's very complex.\n",
    "\n",
    "    result = {\n",
    "        \"valid\": True,\n",
    "        \"error\": [],\n",
    "        \"is_variable\": False,\n",
    "        \"error_type\": \"type_error:simple\",\n",
    "    }\n",
    "\n",
    "    is_variable = False\n",
    "    # check for the case where a variable is used instead of a actual value.\n",
    "    # use the type in possible_answer as the expected type\n",
    "    possible_answer_type = get_possible_answer_type(possible_answer)\n",
    "    # if possible_answer only contains optional parameters, we can't determine the type\n",
    "    if possible_answer_type != None:\n",
    "        # we are being precise here.\n",
    "        # in fact, possible_answer_type should always be string, as that's how we treat varibale in possible_answer\n",
    "        if possible_answer_type != expected_type_converted:\n",
    "            is_variable = True\n",
    "\n",
    "    # value is the same type as in function description\n",
    "    if type(value) == expected_type_converted:\n",
    "        # We don't need to do recursive check for simple types\n",
    "        if nested_type_converted == None:\n",
    "            result[\"is_variable\"] = is_variable\n",
    "            return result\n",
    "        else:\n",
    "            for possible_answer_item in possible_answer:\n",
    "                flag = True  # Each parameter should match to at least one possible answer type.\n",
    "                # Here, we assume that each item should be the same type. We could also relax it.\n",
    "                if type(possible_answer_item) == list:\n",
    "                    for value_item in value:\n",
    "                        checker_result = type_checker(\n",
    "                            param,\n",
    "                            value_item,\n",
    "                            possible_answer_item,\n",
    "                            str(nested_type_converted),\n",
    "                            nested_type_converted,\n",
    "                            None,\n",
    "                        )\n",
    "                        if not checker_result[\"valid\"]:\n",
    "                            flag = False\n",
    "                            break\n",
    "\n",
    "                if flag:\n",
    "                    return {\"valid\": True, \"error\": [], \"is_variable\": is_variable}\n",
    "\n",
    "            result[\"valid\"] = False\n",
    "            result[\"error\"] = [\n",
    "                f\"Nested type checking failed for parameter {repr(param)}. Expected outer type {expected_type_description} with inner type {str(nested_type_converted)}. Parameter value: {repr(value)}.\"\n",
    "            ]\n",
    "            result[\"error_type\"] = \"type_error:nested\"\n",
    "\n",
    "    # value is not as expected, check for the case where a variable is used instead of a actual value\n",
    "    # use the type in possible_answer as the expected type\n",
    "    possible_answer_type = get_possible_answer_type(possible_answer)\n",
    "    # if possible_answer only contains optional parameters, we can't determine the type\n",
    "    if possible_answer_type != None:\n",
    "        # we are being precise here.\n",
    "        # in fact, possible_answer_type should always be string, as that's how we treat varibale in possible_answer\n",
    "        if type(value) == possible_answer_type:\n",
    "            result[\"is_variable\"] = True\n",
    "            return result\n",
    "\n",
    "    result[\"valid\"] = False\n",
    "    result[\"error\"].append(\n",
    "        f\"Incorrect type for parameter {repr(param)}. Expected type {expected_type_description}, got {type(value).__name__}. Parameter value: {repr(value)}.\"\n",
    "    )\n",
    "    result[\"error_type\"] = \"type_error:simple\"\n",
    "    return result"
   ]
  },
  {
   "cell_type": "code",
   "execution_count": 10,
   "id": "6cc92bab-3d89-43a3-89b4-1ffb205fbd6d",
   "metadata": {
    "execution": {
     "iopub.execute_input": "2024-07-19T21:15:33.857134Z",
     "iopub.status.busy": "2024-07-19T21:15:33.856676Z",
     "iopub.status.idle": "2024-07-19T21:15:33.878294Z",
     "shell.execute_reply": "2024-07-19T21:15:33.877716Z",
     "shell.execute_reply.started": "2024-07-19T21:15:33.857097Z"
    }
   },
   "outputs": [],
   "source": [
    "def standardize_string(input_string: str):\n",
    "    # This function standardizes the string by removing all the spaces, \",./-_*^\" punctuation, and converting it to lowercase\n",
    "    # It will also convert all the single quotes to double quotes\n",
    "    # This is used to compare the model output with the possible answers\n",
    "    # We don't want to punish model for answer like April 1, 2024 vs April 1,2024, vs April 1 2024\n",
    "    regex_string = r\"[ \\,\\.\\/\\-\\_\\*\\^]\"\n",
    "    return re.sub(regex_string, \"\", input_string).lower().replace(\"'\", '\"')"
   ]
  },
  {
   "cell_type": "code",
   "execution_count": 11,
   "id": "7b9fd555-64da-4437-b843-c189a43893c3",
   "metadata": {
    "execution": {
     "iopub.execute_input": "2024-07-19T21:15:33.879575Z",
     "iopub.status.busy": "2024-07-19T21:15:33.879103Z",
     "iopub.status.idle": "2024-07-19T21:15:33.902158Z",
     "shell.execute_reply": "2024-07-19T21:15:33.900926Z",
     "shell.execute_reply.started": "2024-07-19T21:15:33.879538Z"
    }
   },
   "outputs": [],
   "source": [
    "def string_checker(param: str, model_output: str, possible_answer: list):\n",
    "    standardize_possible_answer = []\n",
    "    standardize_model_output = standardize_string(model_output)\n",
    "    for i in range(len(possible_answer)):\n",
    "        if type(possible_answer[i]) == str:\n",
    "            standardize_possible_answer.append(standardize_string(possible_answer[i]))\n",
    "\n",
    "    if standardize_model_output not in standardize_possible_answer:\n",
    "        return {\n",
    "            \"valid\": False,\n",
    "            \"error\": [\n",
    "                f\"Invalid value for parameter {repr(param)}: {repr(model_output)}. Expected one of {possible_answer}. Case insensitive.\"\n",
    "            ],\n",
    "            \"error_type\": \"value_error:string\",\n",
    "        }\n",
    "\n",
    "    return {\"valid\": True, \"error\": []}"
   ]
  },
  {
   "cell_type": "code",
   "execution_count": 12,
   "id": "5a3ffa10-d16e-431c-8695-2d4548f0f57e",
   "metadata": {
    "execution": {
     "iopub.execute_input": "2024-07-19T21:15:33.903393Z",
     "iopub.status.busy": "2024-07-19T21:15:33.903129Z",
     "iopub.status.idle": "2024-07-19T21:15:33.919378Z",
     "shell.execute_reply": "2024-07-19T21:15:33.918254Z",
     "shell.execute_reply.started": "2024-07-19T21:15:33.903368Z"
    }
   },
   "outputs": [],
   "source": [
    "def list_checker(param: str, model_output: list, possible_answer: list):\n",
    "    # Convert the tuple to a list\n",
    "\n",
    "    standardize_model_output = list(model_output)\n",
    "\n",
    "    # If the element in the list is a string, we need to standardize it\n",
    "    for i in range(len(standardize_model_output)):\n",
    "        if type(standardize_model_output[i]) == str:\n",
    "            standardize_model_output[i] = standardize_string(model_output[i])\n",
    "\n",
    "    standardize_possible_answer = []\n",
    "    # We also need to standardize the possible answers\n",
    "    for i in range(len(possible_answer)):\n",
    "        standardize_possible_answer.append([])\n",
    "        for j in range(len(possible_answer[i])):\n",
    "            if type(possible_answer[i][j]) == str:\n",
    "                standardize_possible_answer[i].append(\n",
    "                    standardize_string(possible_answer[i][j])\n",
    "                )\n",
    "            else:\n",
    "                standardize_possible_answer[i].append(possible_answer[i][j])\n",
    "\n",
    "    if standardize_model_output not in standardize_possible_answer:\n",
    "        return {\n",
    "            \"valid\": False,\n",
    "            \"error\": [\n",
    "                f\"Invalid value for parameter {repr(param)}: {repr(model_output)}. Expected one of {possible_answer}.\"\n",
    "            ],\n",
    "            \"error_type\": \"value_error:list/tuple\",\n",
    "        }\n",
    "\n",
    "    return {\"valid\": True, \"error\": []}\n",
    "\n"
   ]
  },
  {
   "cell_type": "code",
   "execution_count": 13,
   "id": "121bb34c-6c1b-4555-b4f7-8fd72517ff9f",
   "metadata": {
    "execution": {
     "iopub.execute_input": "2024-07-19T21:15:33.920676Z",
     "iopub.status.busy": "2024-07-19T21:15:33.920359Z",
     "iopub.status.idle": "2024-07-19T21:15:33.943211Z",
     "shell.execute_reply": "2024-07-19T21:15:33.942014Z",
     "shell.execute_reply.started": "2024-07-19T21:15:33.920651Z"
    }
   },
   "outputs": [],
   "source": [
    "def dict_checker(param: str, model_output: dict, possible_answers: list):\n",
    "    # This function works for simple dictionaries, as well as dictionaries with nested dictionaries\n",
    "\n",
    "    result = {\"valid\": False, \"error\": [], \"error_type\": \"dict_checker:unclear\"}\n",
    "    for i in range(len(possible_answers)):\n",
    "\n",
    "        if possible_answers[i] == \"\":\n",
    "            continue\n",
    "\n",
    "        result = {\"valid\": False, \"error\": [], \"error_type\": \"dict_checker:unclear\"}\n",
    "\n",
    "        flag = True\n",
    "\n",
    "        possible_answer = possible_answers[i]\n",
    "        # possible_anwer is a single dictionary\n",
    "        if len(model_output.keys()) != len(possible_answer.keys()):\n",
    "            result[\"valid\"] = False\n",
    "            result[\"error\"].append(\"Wrong number of parameters for dictionary.\")\n",
    "            result[\"error_type\"] = \"value_error:dict_items\"\n",
    "            flag = False\n",
    "            continue\n",
    "\n",
    "        for key, value in model_output.items():\n",
    "            if key not in possible_answer:\n",
    "                result[\"valid\"] = False\n",
    "                result[\"error\"].append(f\"Unexpected parameter: '{key}'.\")\n",
    "                result[\"error_type\"] = \"value_error:dict_key\"\n",
    "                flag = False\n",
    "                break\n",
    "\n",
    "            expected_values = possible_answer[key]\n",
    "            if isinstance(expected_values, dict):\n",
    "                result = dict_checker(param, value, [expected_values])\n",
    "                if not result[\"valid\"]:\n",
    "                    flag = False\n",
    "                    break\n",
    "            else:\n",
    "                standardize_value = value\n",
    "                # If the value is a string, we need to standardize it\n",
    "                if type(value) == str:\n",
    "                    standardize_value = standardize_string(value)\n",
    "                # We also need to standardize the possible answers\n",
    "                standardize_possible_answer = []\n",
    "                for i in range(len(possible_answer[key])):\n",
    "                    if type(possible_answer[key][i]) == str:\n",
    "                        standardize_possible_answer.append(\n",
    "                            standardize_string(possible_answer[key][i])\n",
    "                        )\n",
    "                    else:\n",
    "                        standardize_possible_answer.append(possible_answer[key][i])\n",
    "\n",
    "                if standardize_value not in standardize_possible_answer:\n",
    "                    result[\"valid\"] = False\n",
    "                    result[\"error\"].append(\n",
    "                        f\"Invalid value for parameter {repr(key)}: {repr(value)}. Expected one of {standardize_possible_answer}.\"\n",
    "                    )\n",
    "                    result[\"error_type\"] = \"value_error:dict_value\"\n",
    "                    flag = False\n",
    "                    break\n",
    "        if flag:\n",
    "            return {\"valid\": True, \"error\": []}\n",
    "\n",
    "    return result"
   ]
  },
  {
   "cell_type": "code",
   "execution_count": 14,
   "id": "663b3655-6e56-4091-9dd1-00c24b4d4b7a",
   "metadata": {
    "execution": {
     "iopub.execute_input": "2024-07-19T21:15:33.944369Z",
     "iopub.status.busy": "2024-07-19T21:15:33.944115Z",
     "iopub.status.idle": "2024-07-19T21:15:33.966127Z",
     "shell.execute_reply": "2024-07-19T21:15:33.965048Z",
     "shell.execute_reply.started": "2024-07-19T21:15:33.944345Z"
    }
   },
   "outputs": [],
   "source": [
    "def list_dict_checker(param: str, model_output: list, possible_answers: list):\n",
    "    # This function takes in a list of dictionaries and checks if each dictionary is valid\n",
    "    # The order of the dictionaries in the list must match the order of the possible answers\n",
    "\n",
    "    result = {\"valid\": False, \"error\": [], \"error_type\": \"list_dict_checker:unclear\"}\n",
    "\n",
    "    for answer_index in range(len(possible_answers)):\n",
    "        flag = True  # True means so far, all dictionaries are valid\n",
    "\n",
    "        # Only proceed if the number of dictionaries in the list matches the number of dictionaries in the possible answers\n",
    "        if len(model_output) != len(possible_answers[answer_index]):\n",
    "            result[\"valid\"] = False\n",
    "            result[\"error\"] = [\"Wrong number of dictionaries in the list.\"]\n",
    "            result[\"error_type\"] = \"value_error:list_dict_count\"\n",
    "            flag = False\n",
    "            continue\n",
    "\n",
    "        for dict_index in range(len(model_output)):\n",
    "            result = dict_checker(\n",
    "                param,\n",
    "                model_output[dict_index],\n",
    "                [possible_answers[answer_index][dict_index]],\n",
    "            )\n",
    "            if not result[\"valid\"]:\n",
    "                flag = False\n",
    "                break\n",
    "        if flag:\n",
    "            return {\"valid\": True, \"error\": []}\n",
    "\n",
    "    return result\n"
   ]
  },
  {
   "cell_type": "code",
   "execution_count": 15,
   "id": "44e6d519-7a5c-420c-b98a-f80aabeabaf9",
   "metadata": {
    "execution": {
     "iopub.execute_input": "2024-07-19T21:15:33.967699Z",
     "iopub.status.busy": "2024-07-19T21:15:33.967258Z",
     "iopub.status.idle": "2024-07-19T21:15:33.995885Z",
     "shell.execute_reply": "2024-07-19T21:15:33.994816Z",
     "shell.execute_reply.started": "2024-07-19T21:15:33.967668Z"
    }
   },
   "outputs": [],
   "source": [
    "def simple_function_checker(\n",
    "    func_description: dict,\n",
    "    model_output: dict,\n",
    "    possible_answer: dict,\n",
    "    language: str,\n",
    "    model_name: str,\n",
    "):\n",
    "    possible_answer = list(possible_answer.values())[0]\n",
    "    # Extract function name and parameters details\n",
    "    func_name = func_description[\"name\"]\n",
    "    param_details = func_description[\"parameters\"][\"properties\"]\n",
    "    required_params = func_description[\"parameters\"][\"required\"]\n",
    "\n",
    "    # Initialize a result dictionary\n",
    "    result = {\n",
    "        \"valid\": True,\n",
    "        \"error\": [],\n",
    "        \"error_type\": \"simple_function_checker:unclear\",\n",
    "    }\n",
    "\n",
    "    func_name = convert_func_name(func_name, model_name)\n",
    "\n",
    "    # Check if function name matches\n",
    "    if func_name not in model_output:\n",
    "        result[\"valid\"] = False\n",
    "        result[\"error\"].append(\n",
    "            f\"Function name {repr(func_name)} not found in model output.\"\n",
    "        )\n",
    "        result[\"error_type\"] = \"simple_function_checker:wrong_func_name\"\n",
    "        return result\n",
    "\n",
    "    model_params = model_output[func_name]\n",
    "\n",
    "    # Check for required parameters in model output\n",
    "    for param in required_params:\n",
    "        if param not in model_params:\n",
    "            result[\"valid\"] = False\n",
    "            result[\"error\"].append(f\"Missing required parameter: {repr(param)}.\")\n",
    "            result[\"error_type\"] = \"simple_function_checker:missing_required\"\n",
    "            return result\n",
    "\n",
    "    # Validate types and values for each parameter in model output\n",
    "    for param, value in model_params.items():\n",
    "        if param not in param_details or param not in possible_answer:\n",
    "            result[\"valid\"] = False\n",
    "            result[\"error\"].append(f\"Unexpected parameter: {repr(param)}.\")\n",
    "            result[\"error_type\"] = \"simple_function_checker:unexpected_param\"\n",
    "            return result\n",
    "\n",
    "        full_param_details = param_details[param]\n",
    "        expected_type_description = full_param_details[\"type\"]  # This is a string\n",
    "        is_variable = False\n",
    "        nested_type_converted = None\n",
    "\n",
    "        if language == \"Java\":\n",
    "            expected_type_converted = JAVA_TYPE_CONVERSION[expected_type_description]\n",
    "\n",
    "            if expected_type_description in JAVA_TYPE_CONVERSION:\n",
    "                if expected_type_description in NESTED_CONVERSION_TYPE_LIST:\n",
    "                    nested_type = param_details[param][\"items\"][\"type\"]\n",
    "                    nested_type_converted = JAVA_TYPE_CONVERSION[nested_type]\n",
    "                    value = java_type_converter(\n",
    "                        value, expected_type_description, nested_type\n",
    "                    )\n",
    "                else:\n",
    "                    value = java_type_converter(value, expected_type_description)\n",
    "\n",
    "        elif language == \"JavaScript\":\n",
    "            expected_type_converted = JS_TYPE_CONVERSION[expected_type_description]\n",
    "\n",
    "            if expected_type_description in JS_TYPE_CONVERSION:\n",
    "                if expected_type_description in NESTED_CONVERSION_TYPE_LIST:\n",
    "                    nested_type = param_details[param][\"items\"][\"type\"]\n",
    "                    nested_type_converted = JS_TYPE_CONVERSION[nested_type]\n",
    "                    value = js_type_converter(\n",
    "                        value, expected_type_description, nested_type\n",
    "                    )\n",
    "                else:\n",
    "                    value = js_type_converter(value, expected_type_description)\n",
    "\n",
    "        elif language == \"Python\":\n",
    "            expected_type_converted = PYTHON_TYPE_MAPPING[expected_type_description]\n",
    "            if expected_type_description in PYTHON_NESTED_TYPE_CHECK_LIST:\n",
    "                nested_type = param_details[param][\"items\"][\"type\"]\n",
    "                nested_type_converted = PYTHON_TYPE_MAPPING[nested_type]\n",
    "\n",
    "        # We convert all tuple value to list when the expected type is tuple.\n",
    "        # The conversion is necessary because any tuple in the possible answer would become a list after being processed through json.dump() and json.load().\n",
    "        # This does introduce some false positive (eg, when the model provides a list value instead of tuple). We hope to find a better solution in the future.\n",
    "        if expected_type_description == \"tuple\" and type(value) == tuple:\n",
    "            value = list(value)\n",
    "\n",
    "        # Allow python auto conversion from int to float\n",
    "        if (\n",
    "            language == \"Python\"\n",
    "            and expected_type_description == \"float\"\n",
    "            and type(value) == int\n",
    "        ):\n",
    "            value = float(value)\n",
    "\n",
    "        # Type checking\n",
    "        # In fact, we only check for Python here.\n",
    "        # Type check for other languages are handled by the type converter, and so their value (after conversion) is always correct.\n",
    "        type_check_result = type_checker(\n",
    "            param,\n",
    "            value,\n",
    "            possible_answer[param],\n",
    "            expected_type_description,\n",
    "            expected_type_converted,\n",
    "            nested_type_converted,\n",
    "        )\n",
    "        is_variable = type_check_result[\"is_variable\"]\n",
    "        if not type_check_result[\"valid\"]:\n",
    "            return type_check_result\n",
    "\n",
    "        # It doesn't make sense to special handle dictionaries and list of dictionaries if the value is a variable.\n",
    "        # We can just treat the variable as a string and use the normal flow.\n",
    "        if not is_variable:\n",
    "            # Special handle for dictionaries\n",
    "            if expected_type_converted == dict:\n",
    "                result = dict_checker(param, value, possible_answer[param])\n",
    "                if not result[\"valid\"]:\n",
    "                    return result\n",
    "                continue\n",
    "\n",
    "            # Special handle for list of dictionaries\n",
    "            elif expected_type_converted == list and nested_type_converted == dict:\n",
    "                result = list_dict_checker(param, value, possible_answer[param])\n",
    "                if not result[\"valid\"]:\n",
    "                    return result\n",
    "                continue\n",
    "\n",
    "            # Special handle for strings\n",
    "            elif expected_type_converted == str:\n",
    "                # We don't check for case sensitivity for string, as long as it's not a variable\n",
    "                result = string_checker(param, value, possible_answer[param])\n",
    "                if not result[\"valid\"]:\n",
    "                    return result\n",
    "                continue\n",
    "\n",
    "            elif expected_type_converted == list:\n",
    "                result = list_checker(param, value, possible_answer[param])\n",
    "                if not result[\"valid\"]:\n",
    "                    return result\n",
    "                continue\n",
    "\n",
    "        # Check if the value is within the possible answers\n",
    "        if value not in possible_answer[param]:\n",
    "            result[\"valid\"] = False\n",
    "            result[\"error\"].append(\n",
    "                f\"Invalid value for parameter {repr(param)}: {repr(value)}. Expected one of {possible_answer[param]}.\"\n",
    "            )\n",
    "            result[\"error_type\"] = \"value_error:others\"\n",
    "            return result\n",
    "\n",
    "    # Check for optional parameters not provided but allowed\n",
    "    for param in possible_answer:\n",
    "        if param not in model_params and \"\" not in possible_answer[param]:\n",
    "            result[\"valid\"] = False\n",
    "            result[\"error\"].append(\n",
    "                f\"Optional parameter {repr(param)} not provided and not marked as optional.\"\n",
    "            )\n",
    "            result[\"error_type\"] = \"simple_function_checker:missing_optional\"\n",
    "            return result\n",
    "\n",
    "    return result"
   ]
  },
  {
   "cell_type": "markdown",
   "id": "0e5de52a-a3b8-4220-aa09-1328d50f05b3",
   "metadata": {},
   "source": [
    "## EVALUATION"
   ]
  },
  {
   "cell_type": "code",
   "execution_count": 16,
   "id": "c6793635-f773-4d9c-a93f-921de58775b3",
   "metadata": {
    "execution": {
     "iopub.execute_input": "2024-07-19T21:15:33.997008Z",
     "iopub.status.busy": "2024-07-19T21:15:33.996734Z",
     "iopub.status.idle": "2024-07-19T21:15:34.017086Z",
     "shell.execute_reply": "2024-07-19T21:15:34.016527Z",
     "shell.execute_reply.started": "2024-07-19T21:15:33.996985Z"
    }
   },
   "outputs": [],
   "source": [
    "# RUN IT ONCE TO DOWNLOAD THE TEST DATASET\n",
    "# !wget https://raw.githubusercontent.com/ShishirPatil/gorilla/main/berkeley-function-call-leaderboard/data/possible_answer/gorilla_openfunctions_v1_test_simple.json"
   ]
  },
  {
   "cell_type": "code",
   "execution_count": 17,
   "id": "f67580be-eaee-4921-9b59-0a7f92e371fb",
   "metadata": {
    "execution": {
     "iopub.execute_input": "2024-07-19T21:15:34.018044Z",
     "iopub.status.busy": "2024-07-19T21:15:34.017819Z",
     "iopub.status.idle": "2024-07-19T21:15:34.034389Z",
     "shell.execute_reply": "2024-07-19T21:15:34.033420Z",
     "shell.execute_reply.started": "2024-07-19T21:15:34.018022Z"
    }
   },
   "outputs": [],
   "source": [
    "file_path = \"gorilla_openfunctions_v1_test_simple.json\""
   ]
  },
  {
   "cell_type": "code",
   "execution_count": 18,
   "id": "17736f53-8fcb-4468-8303-d7e5e1fe1489",
   "metadata": {
    "execution": {
     "iopub.execute_input": "2024-07-19T21:15:34.036173Z",
     "iopub.status.busy": "2024-07-19T21:15:34.035682Z",
     "iopub.status.idle": "2024-07-19T21:15:34.652289Z",
     "shell.execute_reply": "2024-07-19T21:15:34.651549Z",
     "shell.execute_reply.started": "2024-07-19T21:15:34.036134Z"
    }
   },
   "outputs": [
    {
     "data": {
      "text/html": [
       "<div>\n",
       "<style scoped>\n",
       "    .dataframe tbody tr th:only-of-type {\n",
       "        vertical-align: middle;\n",
       "    }\n",
       "\n",
       "    .dataframe tbody tr th {\n",
       "        vertical-align: top;\n",
       "    }\n",
       "\n",
       "    .dataframe thead th {\n",
       "        text-align: right;\n",
       "    }\n",
       "</style>\n",
       "<table border=\"1\" class=\"dataframe\">\n",
       "  <thead>\n",
       "    <tr style=\"text-align: right;\">\n",
       "      <th></th>\n",
       "      <th>question</th>\n",
       "      <th>function</th>\n",
       "    </tr>\n",
       "  </thead>\n",
       "  <tbody>\n",
       "    <tr>\n",
       "      <th>0</th>\n",
       "      <td>Find the area of a triangle with a base of 10 ...</td>\n",
       "      <td>{'name': 'calculate_triangle_area', 'descripti...</td>\n",
       "    </tr>\n",
       "    <tr>\n",
       "      <th>1</th>\n",
       "      <td>Calculate the factorial of 5 using math functi...</td>\n",
       "      <td>{'name': 'math.factorial', 'description': 'Cal...</td>\n",
       "    </tr>\n",
       "    <tr>\n",
       "      <th>2</th>\n",
       "      <td>Calculate the hypotenuse of a right triangle g...</td>\n",
       "      <td>{'name': 'math.hypot', 'description': 'Calcula...</td>\n",
       "    </tr>\n",
       "    <tr>\n",
       "      <th>3</th>\n",
       "      <td>Find the roots of a quadratic equation with co...</td>\n",
       "      <td>{'name': 'algebra.quadratic_roots', 'descripti...</td>\n",
       "    </tr>\n",
       "    <tr>\n",
       "      <th>4</th>\n",
       "      <td>Solve a quadratic equation where a=2, b=6, and...</td>\n",
       "      <td>{'name': 'solve_quadratic_equation', 'descript...</td>\n",
       "    </tr>\n",
       "  </tbody>\n",
       "</table>\n",
       "</div>"
      ],
      "text/plain": [
       "                                            question  \\\n",
       "0  Find the area of a triangle with a base of 10 ...   \n",
       "1  Calculate the factorial of 5 using math functi...   \n",
       "2  Calculate the hypotenuse of a right triangle g...   \n",
       "3  Find the roots of a quadratic equation with co...   \n",
       "4  Solve a quadratic equation where a=2, b=6, and...   \n",
       "\n",
       "                                            function  \n",
       "0  {'name': 'calculate_triangle_area', 'descripti...  \n",
       "1  {'name': 'math.factorial', 'description': 'Cal...  \n",
       "2  {'name': 'math.hypot', 'description': 'Calcula...  \n",
       "3  {'name': 'algebra.quadratic_roots', 'descripti...  \n",
       "4  {'name': 'solve_quadratic_equation', 'descript...  "
      ]
     },
     "execution_count": 18,
     "metadata": {},
     "output_type": "execute_result"
    }
   ],
   "source": [
    "import pandas as pd\n",
    "df_gorilla = pd.read_json(\"https://huggingface.co/datasets/gorilla-llm/Berkeley-Function-Calling-Leaderboard/raw/main/gorilla_openfunctions_v1_test_simple.json\", lines=True)\n",
    "df_gorilla.head()"
   ]
  },
  {
   "cell_type": "code",
   "execution_count": 19,
   "id": "ce2dbe4f-4e3c-4154-a3a3-838b5b66666f",
   "metadata": {
    "execution": {
     "iopub.execute_input": "2024-07-19T21:15:34.653552Z",
     "iopub.status.busy": "2024-07-19T21:15:34.653171Z",
     "iopub.status.idle": "2024-07-19T21:15:34.668742Z",
     "shell.execute_reply": "2024-07-19T21:15:34.668286Z",
     "shell.execute_reply.started": "2024-07-19T21:15:34.653529Z"
    }
   },
   "outputs": [
    {
     "data": {
      "text/html": [
       "<div>\n",
       "<style scoped>\n",
       "    .dataframe tbody tr th:only-of-type {\n",
       "        vertical-align: middle;\n",
       "    }\n",
       "\n",
       "    .dataframe tbody tr th {\n",
       "        vertical-align: top;\n",
       "    }\n",
       "\n",
       "    .dataframe thead th {\n",
       "        text-align: right;\n",
       "    }\n",
       "</style>\n",
       "<table border=\"1\" class=\"dataframe\">\n",
       "  <thead>\n",
       "    <tr style=\"text-align: right;\">\n",
       "      <th></th>\n",
       "      <th>possible_answer</th>\n",
       "      <th>model_output</th>\n",
       "    </tr>\n",
       "  </thead>\n",
       "  <tbody>\n",
       "    <tr>\n",
       "      <th>0</th>\n",
       "      <td>calculate_triangle_area,{\"base\":[10],\"height\":...</td>\n",
       "      <td>calculate_triangle_area,{\"base\":10,\"height\":5}</td>\n",
       "    </tr>\n",
       "    <tr>\n",
       "      <th>1</th>\n",
       "      <td>math.factorial,{\"number\":[5]}</td>\n",
       "      <td>math.factorial,{\"number\":5}</td>\n",
       "    </tr>\n",
       "    <tr>\n",
       "      <th>2</th>\n",
       "      <td>math.hypot,{\"x\":[4],\"y\":[5],\"z\":[\"\",0]}</td>\n",
       "      <td>math.hypot,{\"x\":4,\"y\":5}</td>\n",
       "    </tr>\n",
       "    <tr>\n",
       "      <th>3</th>\n",
       "      <td>algebra.quadratic_roots,{\"a\":[1],\"b\":[-3],\"c\":...</td>\n",
       "      <td>algebra.quadratic_roots,{\"a\":1,\"b\":-3,\"c\":2}</td>\n",
       "    </tr>\n",
       "    <tr>\n",
       "      <th>4</th>\n",
       "      <td>solve_quadratic_equation,{\"a\":[2],\"b\":[6],\"c\":...</td>\n",
       "      <td>solve_quadratic_equation,{\"a\":2,\"b\":6,\"c\":5}</td>\n",
       "    </tr>\n",
       "  </tbody>\n",
       "</table>\n",
       "</div>"
      ],
      "text/plain": [
       "                                     possible_answer  \\\n",
       "0  calculate_triangle_area,{\"base\":[10],\"height\":...   \n",
       "1                      math.factorial,{\"number\":[5]}   \n",
       "2            math.hypot,{\"x\":[4],\"y\":[5],\"z\":[\"\",0]}   \n",
       "3  algebra.quadratic_roots,{\"a\":[1],\"b\":[-3],\"c\":...   \n",
       "4  solve_quadratic_equation,{\"a\":[2],\"b\":[6],\"c\":...   \n",
       "\n",
       "                                     model_output  \n",
       "0  calculate_triangle_area,{\"base\":10,\"height\":5}  \n",
       "1                     math.factorial,{\"number\":5}  \n",
       "2                        math.hypot,{\"x\":4,\"y\":5}  \n",
       "3    algebra.quadratic_roots,{\"a\":1,\"b\":-3,\"c\":2}  \n",
       "4    solve_quadratic_equation,{\"a\":2,\"b\":6,\"c\":5}  "
      ]
     },
     "execution_count": 19,
     "metadata": {},
     "output_type": "execute_result"
    }
   ],
   "source": [
    "df = pd.read_csv(\"results_Outlines_Hermes2Pro.csv\")\n",
    "df.head()"
   ]
  },
  {
   "cell_type": "code",
   "execution_count": 20,
   "id": "6bbe2a17-6674-4197-82f5-e1f622986282",
   "metadata": {
    "execution": {
     "iopub.execute_input": "2024-07-19T21:15:34.669682Z",
     "iopub.status.busy": "2024-07-19T21:15:34.669428Z",
     "iopub.status.idle": "2024-07-19T21:15:34.710677Z",
     "shell.execute_reply": "2024-07-19T21:15:34.709470Z",
     "shell.execute_reply.started": "2024-07-19T21:15:34.669650Z"
    }
   },
   "outputs": [
    {
     "data": {
      "text/html": [
       "<div>\n",
       "<style scoped>\n",
       "    .dataframe tbody tr th:only-of-type {\n",
       "        vertical-align: middle;\n",
       "    }\n",
       "\n",
       "    .dataframe tbody tr th {\n",
       "        vertical-align: top;\n",
       "    }\n",
       "\n",
       "    .dataframe thead th {\n",
       "        text-align: right;\n",
       "    }\n",
       "</style>\n",
       "<table border=\"1\" class=\"dataframe\">\n",
       "  <thead>\n",
       "    <tr style=\"text-align: right;\">\n",
       "      <th></th>\n",
       "      <th>question</th>\n",
       "      <th>function</th>\n",
       "      <th>possible_answer</th>\n",
       "      <th>model_output</th>\n",
       "    </tr>\n",
       "  </thead>\n",
       "  <tbody>\n",
       "    <tr>\n",
       "      <th>0</th>\n",
       "      <td>Find the area of a triangle with a base of 10 ...</td>\n",
       "      <td>{'name': 'calculate_triangle_area', 'descripti...</td>\n",
       "      <td>calculate_triangle_area,{\"base\":[10],\"height\":...</td>\n",
       "      <td>calculate_triangle_area,{\"base\":10,\"height\":5}</td>\n",
       "    </tr>\n",
       "    <tr>\n",
       "      <th>1</th>\n",
       "      <td>Calculate the factorial of 5 using math functi...</td>\n",
       "      <td>{'name': 'math.factorial', 'description': 'Cal...</td>\n",
       "      <td>math.factorial,{\"number\":[5]}</td>\n",
       "      <td>math.factorial,{\"number\":5}</td>\n",
       "    </tr>\n",
       "    <tr>\n",
       "      <th>2</th>\n",
       "      <td>Calculate the hypotenuse of a right triangle g...</td>\n",
       "      <td>{'name': 'math.hypot', 'description': 'Calcula...</td>\n",
       "      <td>math.hypot,{\"x\":[4],\"y\":[5],\"z\":[\"\",0]}</td>\n",
       "      <td>math.hypot,{\"x\":4,\"y\":5}</td>\n",
       "    </tr>\n",
       "    <tr>\n",
       "      <th>3</th>\n",
       "      <td>Find the roots of a quadratic equation with co...</td>\n",
       "      <td>{'name': 'algebra.quadratic_roots', 'descripti...</td>\n",
       "      <td>algebra.quadratic_roots,{\"a\":[1],\"b\":[-3],\"c\":...</td>\n",
       "      <td>algebra.quadratic_roots,{\"a\":1,\"b\":-3,\"c\":2}</td>\n",
       "    </tr>\n",
       "    <tr>\n",
       "      <th>4</th>\n",
       "      <td>Solve a quadratic equation where a=2, b=6, and...</td>\n",
       "      <td>{'name': 'solve_quadratic_equation', 'descript...</td>\n",
       "      <td>solve_quadratic_equation,{\"a\":[2],\"b\":[6],\"c\":...</td>\n",
       "      <td>solve_quadratic_equation,{\"a\":2,\"b\":6,\"c\":5}</td>\n",
       "    </tr>\n",
       "  </tbody>\n",
       "</table>\n",
       "</div>"
      ],
      "text/plain": [
       "                                            question  \\\n",
       "0  Find the area of a triangle with a base of 10 ...   \n",
       "1  Calculate the factorial of 5 using math functi...   \n",
       "2  Calculate the hypotenuse of a right triangle g...   \n",
       "3  Find the roots of a quadratic equation with co...   \n",
       "4  Solve a quadratic equation where a=2, b=6, and...   \n",
       "\n",
       "                                            function  \\\n",
       "0  {'name': 'calculate_triangle_area', 'descripti...   \n",
       "1  {'name': 'math.factorial', 'description': 'Cal...   \n",
       "2  {'name': 'math.hypot', 'description': 'Calcula...   \n",
       "3  {'name': 'algebra.quadratic_roots', 'descripti...   \n",
       "4  {'name': 'solve_quadratic_equation', 'descript...   \n",
       "\n",
       "                                     possible_answer  \\\n",
       "0  calculate_triangle_area,{\"base\":[10],\"height\":...   \n",
       "1                      math.factorial,{\"number\":[5]}   \n",
       "2            math.hypot,{\"x\":[4],\"y\":[5],\"z\":[\"\",0]}   \n",
       "3  algebra.quadratic_roots,{\"a\":[1],\"b\":[-3],\"c\":...   \n",
       "4  solve_quadratic_equation,{\"a\":[2],\"b\":[6],\"c\":...   \n",
       "\n",
       "                                     model_output  \n",
       "0  calculate_triangle_area,{\"base\":10,\"height\":5}  \n",
       "1                     math.factorial,{\"number\":5}  \n",
       "2                        math.hypot,{\"x\":4,\"y\":5}  \n",
       "3    algebra.quadratic_roots,{\"a\":1,\"b\":-3,\"c\":2}  \n",
       "4    solve_quadratic_equation,{\"a\":2,\"b\":6,\"c\":5}  "
      ]
     },
     "execution_count": 20,
     "metadata": {},
     "output_type": "execute_result"
    }
   ],
   "source": [
    "df_gorilla[\"possible_answer\"] = df[\"possible_answer\"]\n",
    "df_gorilla[\"model_output\"] = df[\"model_output\"]\n",
    "df_gorilla.head()"
   ]
  },
  {
   "cell_type": "markdown",
   "id": "8b366bb7-b97b-449d-93f2-0611e16e04cb",
   "metadata": {},
   "source": [
    "### Check that things are working"
   ]
  },
  {
   "cell_type": "code",
   "execution_count": 21,
   "id": "f92e7572-ba0a-4754-832e-a7065a3d40d2",
   "metadata": {
    "execution": {
     "iopub.execute_input": "2024-07-19T21:15:34.715183Z",
     "iopub.status.busy": "2024-07-19T21:15:34.714787Z",
     "iopub.status.idle": "2024-07-19T21:15:34.730021Z",
     "shell.execute_reply": "2024-07-19T21:15:34.729172Z",
     "shell.execute_reply.started": "2024-07-19T21:15:34.715150Z"
    }
   },
   "outputs": [
    {
     "data": {
      "text/plain": [
       "{'name': 'calculate_triangle_area', 'description': 'Calculate the area of a triangle given its base and height.', 'parameters': {'type': 'dict', 'properties': {'base': {'type': 'integer', 'description': 'The base of the triangle.'}, 'height': {'type': 'integer', 'description': 'The height of the triangle.'}, 'unit': {'type': 'string', 'description': \"The unit of measure (defaults to 'units' if not specified)\"}}, 'required': ['base', 'height']}}"
      ]
     },
     "execution_count": 21,
     "metadata": {},
     "output_type": "execute_result"
    }
   ],
   "source": [
    "pos = 0\n",
    "function = df_gorilla['function'].iloc[pos]\n",
    "function"
   ]
  },
  {
   "cell_type": "code",
   "execution_count": 22,
   "id": "081f3f23-6177-4179-8db2-d01f60ddef5d",
   "metadata": {
    "execution": {
     "iopub.execute_input": "2024-07-19T21:15:34.732144Z",
     "iopub.status.busy": "2024-07-19T21:15:34.731508Z",
     "iopub.status.idle": "2024-07-19T21:15:34.752850Z",
     "shell.execute_reply": "2024-07-19T21:15:34.751694Z",
     "shell.execute_reply.started": "2024-07-19T21:15:34.732094Z"
    }
   },
   "outputs": [
    {
     "data": {
      "text/plain": [
       "'Find the area of a triangle with a base of 10 units and height of 5 units.'"
      ]
     },
     "execution_count": 22,
     "metadata": {},
     "output_type": "execute_result"
    }
   ],
   "source": [
    "question = df_gorilla['question'].iloc[pos]\n",
    "question"
   ]
  },
  {
   "cell_type": "code",
   "execution_count": 23,
   "id": "49622b90-5956-41ec-aa04-c5d6bd54e06c",
   "metadata": {
    "execution": {
     "iopub.execute_input": "2024-07-19T21:15:34.754675Z",
     "iopub.status.busy": "2024-07-19T21:15:34.754079Z",
     "iopub.status.idle": "2024-07-19T21:15:34.774835Z",
     "shell.execute_reply": "2024-07-19T21:15:34.773466Z",
     "shell.execute_reply.started": "2024-07-19T21:15:34.754636Z"
    }
   },
   "outputs": [
    {
     "data": {
      "text/plain": [
       "{'calculate_triangle_area': {'base': [10], 'height': [5], 'unit': ['units', '']}}"
      ]
     },
     "execution_count": 23,
     "metadata": {},
     "output_type": "execute_result"
    }
   ],
   "source": [
    "import ast\n",
    "function_name, arguments = df[\"possible_answer\"].iloc[pos].split(\",\",1)\n",
    "possible_answer = dict()\n",
    "possible_answer[function_name] = ast.literal_eval(arguments)\n",
    "possible_answer"
   ]
  },
  {
   "cell_type": "code",
   "execution_count": 24,
   "id": "a12605fe-e301-48cb-a190-378a10ac812e",
   "metadata": {
    "execution": {
     "iopub.execute_input": "2024-07-19T21:15:34.777621Z",
     "iopub.status.busy": "2024-07-19T21:15:34.776445Z",
     "iopub.status.idle": "2024-07-19T21:15:34.801520Z",
     "shell.execute_reply": "2024-07-19T21:15:34.800510Z",
     "shell.execute_reply.started": "2024-07-19T21:15:34.777565Z"
    }
   },
   "outputs": [
    {
     "data": {
      "text/plain": [
       "{'calculate_triangle_area': {'base': 10, 'height': 5}}"
      ]
     },
     "execution_count": 24,
     "metadata": {},
     "output_type": "execute_result"
    }
   ],
   "source": [
    "import json_repair\n",
    "function_name, arguments = df[\"model_output\"].iloc[pos].split(\",\",1)\n",
    "model_output = dict()\n",
    "model_output[function_name] = ast.literal_eval(arguments)\n",
    "model_output"
   ]
  },
  {
   "cell_type": "code",
   "execution_count": 25,
   "id": "428e8e46-ec92-4f19-93ce-ee078c41a326",
   "metadata": {
    "execution": {
     "iopub.execute_input": "2024-07-19T21:15:34.803559Z",
     "iopub.status.busy": "2024-07-19T21:15:34.803051Z",
     "iopub.status.idle": "2024-07-19T21:15:34.822454Z",
     "shell.execute_reply": "2024-07-19T21:15:34.821567Z",
     "shell.execute_reply.started": "2024-07-19T21:15:34.803488Z"
    }
   },
   "outputs": [
    {
     "data": {
      "text/plain": [
       "{'valid': True, 'error': [], 'error_type': 'simple_function_checker:unclear'}"
      ]
     },
     "execution_count": 25,
     "metadata": {},
     "output_type": "execute_result"
    }
   ],
   "source": [
    "result = simple_function_checker(function,model_output, possible_answer, \"Python\", \"test\")\n",
    "result"
   ]
  },
  {
   "cell_type": "code",
   "execution_count": 26,
   "id": "ab135df7-5f60-455a-b7a0-87c1be75e456",
   "metadata": {
    "execution": {
     "iopub.execute_input": "2024-07-19T21:15:34.824147Z",
     "iopub.status.busy": "2024-07-19T21:15:34.823665Z",
     "iopub.status.idle": "2024-07-19T21:15:34.870337Z",
     "shell.execute_reply": "2024-07-19T21:15:34.869921Z",
     "shell.execute_reply.started": "2024-07-19T21:15:34.824112Z"
    }
   },
   "outputs": [],
   "source": [
    "results = []\n",
    "for pos in range(len(df_gorilla)):\n",
    "    # print(pos)\n",
    "    function = df_gorilla['function'].iloc[pos]\n",
    "    function_name, arguments = df[\"possible_answer\"].iloc[pos].split(\",\",1)\n",
    "    arguments = arguments.replace('\"\"SanJose\"\"','\"SanJose\"')\n",
    "    arguments = arguments.replace('\"\"radium\"\"', '\"radium\"')\n",
    "    arguments = arguments.replace('Let\"s',\"Let's\")\n",
    "    arguments = arguments.replace('It\"s',\"It's\")\n",
    "    possible_answer = dict()\n",
    "    possible_answer[function_name] = ast.literal_eval(arguments)\n",
    "    try:\n",
    "        function_name, arguments = df[\"model_output\"].iloc[pos].split(\",\",1)\n",
    "        arguments = arguments.replace('Let\"s',\"Let's\")\n",
    "        arguments = arguments.replace('It\"s',\"It's\")\n",
    "        arguments = arguments.replace('\"',\"'\")\n",
    "        # import pdb; pdb.set_trace()\n",
    "        model_output = dict()\n",
    "        model_output[function_name] = ast.literal_eval(arguments)\n",
    "        # model_output[function_name] = json.dumps(json_repair.loads(arguments))\n",
    "        result = simple_function_checker(function,model_output, possible_answer, \"Python\", \"test\")\n",
    "    except:\n",
    "        result = {'valid': False, 'error': ['Error'], 'error_type': 'simple_function_checker:TESTERROR'}\n",
    "    results.append(result)"
   ]
  },
  {
   "cell_type": "code",
   "execution_count": 27,
   "id": "36ea06e4-cedd-48a7-a004-84c9c7fea583",
   "metadata": {
    "execution": {
     "iopub.execute_input": "2024-07-19T21:15:34.871074Z",
     "iopub.status.busy": "2024-07-19T21:15:34.870903Z",
     "iopub.status.idle": "2024-07-19T21:15:34.887084Z",
     "shell.execute_reply": "2024-07-19T21:15:34.886683Z",
     "shell.execute_reply.started": "2024-07-19T21:15:34.871059Z"
    }
   },
   "outputs": [
    {
     "data": {
      "text/plain": [
       "[38, 61, 91, 96, 99, 101, 122, 127, 151, 158, 166, 183, 197, 200, 203, 211, 215, 216, 233, 234, 260, 264, 267, 337, 340, 373, 375, 387]"
      ]
     },
     "execution_count": 27,
     "metadata": {},
     "output_type": "execute_result"
    }
   ],
   "source": [
    "wrong = [i for i in range(len(df)) if results[i][\"valid\"] == False]\n",
    "wrong"
   ]
  },
  {
   "cell_type": "code",
   "execution_count": 28,
   "id": "aad683e2-2e33-4d1a-8227-b8e5736f40c9",
   "metadata": {
    "execution": {
     "iopub.execute_input": "2024-07-19T21:15:34.888318Z",
     "iopub.status.busy": "2024-07-19T21:15:34.887780Z",
     "iopub.status.idle": "2024-07-19T21:15:34.903736Z",
     "shell.execute_reply": "2024-07-19T21:15:34.903220Z",
     "shell.execute_reply.started": "2024-07-19T21:15:34.888295Z"
    }
   },
   "outputs": [
    {
     "name": "stdout",
     "output_type": "stream",
     "text": [
      "Number of valid answers: 372\n"
     ]
    }
   ],
   "source": [
    "import numpy as np\n",
    "\n",
    "print(f\"Number of valid answers: {np.sum([results[i]['valid'] for i in range(len(df))])}\")"
   ]
  },
  {
   "cell_type": "code",
   "execution_count": 29,
   "id": "7722d2e0-b09d-47f1-b35e-c119eef6f0ef",
   "metadata": {
    "execution": {
     "iopub.execute_input": "2024-07-19T21:15:34.904936Z",
     "iopub.status.busy": "2024-07-19T21:15:34.904397Z",
     "iopub.status.idle": "2024-07-19T21:15:34.921212Z",
     "shell.execute_reply": "2024-07-19T21:15:34.920468Z",
     "shell.execute_reply.started": "2024-07-19T21:15:34.904914Z"
    }
   },
   "outputs": [
    {
     "name": "stdout",
     "output_type": "stream",
     "text": [
      "Percentage of valid answers: 93.0%\n"
     ]
    }
   ],
   "source": [
    "print(f\"Percentage of valid answers: {100*np.sum([results[i]['valid'] for i in range(len(df))])/len(df)}%\")"
   ]
  }
 ],
 "metadata": {
  "kernelspec": {
   "display_name": "Python 3 (ipykernel)",
   "language": "python",
   "name": "python3"
  },
  "language_info": {
   "codemirror_mode": {
    "name": "ipython",
    "version": 3
   },
   "file_extension": ".py",
   "mimetype": "text/x-python",
   "name": "python",
   "nbconvert_exporter": "python",
   "pygments_lexer": "ipython3",
   "version": "3.10.12"
  }
 },
 "nbformat": 4,
 "nbformat_minor": 5
}
