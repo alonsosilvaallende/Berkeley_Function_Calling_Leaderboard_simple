{
 "cells": [
  {
   "cell_type": "code",
   "execution_count": 1,
   "id": "bdd60801-080f-41e4-adf2-3f66bb64aafa",
   "metadata": {
    "execution": {
     "iopub.execute_input": "2024-07-08T17:12:28.445702Z",
     "iopub.status.busy": "2024-07-08T17:12:28.444947Z",
     "iopub.status.idle": "2024-07-08T17:12:28.485094Z",
     "shell.execute_reply": "2024-07-08T17:12:28.483761Z",
     "shell.execute_reply.started": "2024-07-08T17:12:28.445647Z"
    }
   },
   "outputs": [],
   "source": [
    "%load_ext autoreload\n",
    "%autoreload 2"
   ]
  },
  {
   "cell_type": "markdown",
   "id": "a65e246e-e971-4599-9721-773d0aabe362",
   "metadata": {},
   "source": [
    "## UTILS FROM GORILLA: SKIP TO THE NEXT SECTION"
   ]
  },
  {
   "cell_type": "code",
   "execution_count": 2,
   "id": "b7adfa50-ccff-42ab-aa62-9dac9b58a3a4",
   "metadata": {
    "execution": {
     "iopub.execute_input": "2024-07-08T17:12:28.509354Z",
     "iopub.status.busy": "2024-07-08T17:12:28.508869Z",
     "iopub.status.idle": "2024-07-08T17:12:28.530720Z",
     "shell.execute_reply": "2024-07-08T17:12:28.529010Z",
     "shell.execute_reply.started": "2024-07-08T17:12:28.509307Z"
    }
   },
   "outputs": [],
   "source": [
    "import re"
   ]
  },
  {
   "cell_type": "code",
   "execution_count": 3,
   "id": "5bf6e02c-75cf-44b9-8e4a-06e8bef83f28",
   "metadata": {
    "execution": {
     "iopub.execute_input": "2024-07-08T17:12:28.532990Z",
     "iopub.status.busy": "2024-07-08T17:12:28.532407Z",
     "iopub.status.idle": "2024-07-08T17:12:28.548678Z",
     "shell.execute_reply": "2024-07-08T17:12:28.547554Z",
     "shell.execute_reply.started": "2024-07-08T17:12:28.532938Z"
    }
   },
   "outputs": [],
   "source": [
    "PYTHON_TYPE_MAPPING = {\n",
    "    \"string\": str,\n",
    "    \"integer\": int,\n",
    "    \"float\": float,\n",
    "    \"boolean\": bool,\n",
    "    \"array\": list,\n",
    "    \"tuple\": list,\n",
    "    \"dict\": dict,\n",
    "    \"any\": str,\n",
    "}"
   ]
  },
  {
   "cell_type": "code",
   "execution_count": 4,
   "id": "a983f284-5254-468d-ba41-f03a18046225",
   "metadata": {
    "execution": {
     "iopub.execute_input": "2024-07-08T17:12:28.550492Z",
     "iopub.status.busy": "2024-07-08T17:12:28.550106Z",
     "iopub.status.idle": "2024-07-08T17:12:28.565562Z",
     "shell.execute_reply": "2024-07-08T17:12:28.564697Z",
     "shell.execute_reply.started": "2024-07-08T17:12:28.550461Z"
    }
   },
   "outputs": [],
   "source": [
    "# This is the list of types that we need to recursively check its values\n",
    "PYTHON_NESTED_TYPE_CHECK_LIST = [\"array\", \"tuple\"]"
   ]
  },
  {
   "cell_type": "code",
   "execution_count": 5,
   "id": "3044e9d8-b799-42bd-9fbd-db3f105aca18",
   "metadata": {
    "execution": {
     "iopub.execute_input": "2024-07-08T17:12:28.567616Z",
     "iopub.status.busy": "2024-07-08T17:12:28.567173Z",
     "iopub.status.idle": "2024-07-08T17:12:28.583346Z",
     "shell.execute_reply": "2024-07-08T17:12:28.582144Z",
     "shell.execute_reply.started": "2024-07-08T17:12:28.567589Z"
    }
   },
   "outputs": [],
   "source": [
    "# ONLY INCLUDE YOUR MODEL HERE IF IT DOESN'T SUPPORT DOTS INSIDE FUNCTION NAMES\n",
    "UNDERSCORE_TO_DOT = [\n",
    "    \"gpt-4o-2024-05-13-FC\",\n",
    "    \"gpt-4-turbo-2024-04-09-FC\",\n",
    "    \"gpt-4-1106-preview-FC\",\n",
    "    \"gpt-4-0125-preview-FC\",\n",
    "    \"gpt-4-0613-FC\",\n",
    "    \"gpt-3.5-turbo-0125-FC\",\n",
    "    \"claude-3-opus-20240229-FC\",\n",
    "    \"claude-3-sonnet-20240229-FC\",\n",
    "    \"claude-3-haiku-20240307-FC\",\n",
    "    \"claude-3-5-sonnet-20240620-FC\",\n",
    "    \"mistral-large-2402-FC\",\n",
    "    \"mistral-large-2402-FC-Any\",\n",
    "    \"mistral-large-2402-FC-Auto\",\n",
    "    \"mistral-small-2402-FC-Any\",\n",
    "    \"mistral-small-2402-FC-Auto\",\n",
    "    \"mistral-small-2402-FC\",\n",
    "    \"gemini-1.0-pro\",\n",
    "    \"gemini-1.5-pro-preview-0409\",\n",
    "    \"gemini-1.5-pro-preview-0514\",\n",
    "    \"gemini-1.5-flash-preview-0514\",\n",
    "    \"meetkai/functionary-small-v2.2-FC\",\n",
    "    \"meetkai/functionary-medium-v2.2-FC\",\n",
    "    \"meetkai/functionary-small-v2.4-FC\",\n",
    "    \"meetkai/functionary-medium-v2.4-FC\",\n",
    "    \"NousResearch/Hermes-2-Pro-Mistral-7B\",\n",
    "    \"command-r-plus-FC\",\n",
    "    \"command-r-plus-FC-optimized\",\n",
    "]"
   ]
  },
  {
   "cell_type": "code",
   "execution_count": 6,
   "id": "e05046cc-b6c8-47f7-a244-e40eb0b64a49",
   "metadata": {
    "execution": {
     "iopub.execute_input": "2024-07-08T17:12:29.095866Z",
     "iopub.status.busy": "2024-07-08T17:12:29.095239Z",
     "iopub.status.idle": "2024-07-08T17:12:29.114350Z",
     "shell.execute_reply": "2024-07-08T17:12:29.113293Z",
     "shell.execute_reply.started": "2024-07-08T17:12:29.095814Z"
    },
    "jupyter": {
     "source_hidden": true
    }
   },
   "outputs": [],
   "source": [
    "def get_possible_answer_type(possible_answer: list):\n",
    "    for answer in possible_answer:\n",
    "        if answer != \"\":  # Optional parameter\n",
    "            return type(answer)\n",
    "    return None"
   ]
  },
  {
   "cell_type": "code",
   "execution_count": 7,
   "id": "251e10a8-14de-4500-aedf-62dbf33cc76a",
   "metadata": {
    "execution": {
     "iopub.execute_input": "2024-07-08T17:12:29.611005Z",
     "iopub.status.busy": "2024-07-08T17:12:29.610496Z",
     "iopub.status.idle": "2024-07-08T17:12:29.628316Z",
     "shell.execute_reply": "2024-07-08T17:12:29.626977Z",
     "shell.execute_reply.started": "2024-07-08T17:12:29.610957Z"
    },
    "jupyter": {
     "source_hidden": true
    }
   },
   "outputs": [],
   "source": [
    "def convert_func_name(function_name, model_name: str):\n",
    "    model_name_escaped = model_name.replace(\"_\", \"/\")\n",
    "    if \".\" in function_name:\n",
    "        if model_name_escaped in UNDERSCORE_TO_DOT:\n",
    "            # OAI does not support \".\" in the function name so we replace it with \"_\". ^[a-zA-Z0-9_-]{1,64}$ is the regex for the name.\n",
    "            # This happens for OpenAI, Mistral, and Google models\n",
    "            return re.sub(r\"\\.\", \"_\", function_name)\n",
    "    return function_name"
   ]
  },
  {
   "cell_type": "code",
   "execution_count": 8,
   "id": "db13d50d-265a-4b2f-954e-ad31652f2cb4",
   "metadata": {
    "execution": {
     "iopub.execute_input": "2024-07-08T17:12:30.146792Z",
     "iopub.status.busy": "2024-07-08T17:12:30.146282Z",
     "iopub.status.idle": "2024-07-08T17:12:30.171509Z",
     "shell.execute_reply": "2024-07-08T17:12:30.170096Z",
     "shell.execute_reply.started": "2024-07-08T17:12:30.146745Z"
    },
    "jupyter": {
     "source_hidden": true
    }
   },
   "outputs": [],
   "source": [
    "def type_checker(\n",
    "    param: str,\n",
    "    value,\n",
    "    possible_answer: list,\n",
    "    expected_type_description: str,\n",
    "    expected_type_converted,\n",
    "    nested_type_converted,\n",
    "):\n",
    "    # NOTE: This type checker only supports nested type checking for one level deep.\n",
    "    # We didn't implement recursive type checking for nested types, as it's not needed for the current use case and it's very complex.\n",
    "\n",
    "    result = {\n",
    "        \"valid\": True,\n",
    "        \"error\": [],\n",
    "        \"is_variable\": False,\n",
    "        \"error_type\": \"type_error:simple\",\n",
    "    }\n",
    "\n",
    "    is_variable = False\n",
    "    # check for the case where a variable is used instead of a actual value.\n",
    "    # use the type in possible_answer as the expected type\n",
    "    possible_answer_type = get_possible_answer_type(possible_answer)\n",
    "    # if possible_answer only contains optional parameters, we can't determine the type\n",
    "    if possible_answer_type != None:\n",
    "        # we are being precise here.\n",
    "        # in fact, possible_answer_type should always be string, as that's how we treat varibale in possible_answer\n",
    "        if possible_answer_type != expected_type_converted:\n",
    "            is_variable = True\n",
    "\n",
    "    # value is the same type as in function description\n",
    "    if type(value) == expected_type_converted:\n",
    "        # We don't need to do recursive check for simple types\n",
    "        if nested_type_converted == None:\n",
    "            result[\"is_variable\"] = is_variable\n",
    "            return result\n",
    "        else:\n",
    "            for possible_answer_item in possible_answer:\n",
    "                flag = True  # Each parameter should match to at least one possible answer type.\n",
    "                # Here, we assume that each item should be the same type. We could also relax it.\n",
    "                if type(possible_answer_item) == list:\n",
    "                    for value_item in value:\n",
    "                        checker_result = type_checker(\n",
    "                            param,\n",
    "                            value_item,\n",
    "                            possible_answer_item,\n",
    "                            str(nested_type_converted),\n",
    "                            nested_type_converted,\n",
    "                            None,\n",
    "                        )\n",
    "                        if not checker_result[\"valid\"]:\n",
    "                            flag = False\n",
    "                            break\n",
    "\n",
    "                if flag:\n",
    "                    return {\"valid\": True, \"error\": [], \"is_variable\": is_variable}\n",
    "\n",
    "            result[\"valid\"] = False\n",
    "            result[\"error\"] = [\n",
    "                f\"Nested type checking failed for parameter {repr(param)}. Expected outer type {expected_type_description} with inner type {str(nested_type_converted)}. Parameter value: {repr(value)}.\"\n",
    "            ]\n",
    "            result[\"error_type\"] = \"type_error:nested\"\n",
    "\n",
    "    # value is not as expected, check for the case where a variable is used instead of a actual value\n",
    "    # use the type in possible_answer as the expected type\n",
    "    possible_answer_type = get_possible_answer_type(possible_answer)\n",
    "    # if possible_answer only contains optional parameters, we can't determine the type\n",
    "    if possible_answer_type != None:\n",
    "        # we are being precise here.\n",
    "        # in fact, possible_answer_type should always be string, as that's how we treat varibale in possible_answer\n",
    "        if type(value) == possible_answer_type:\n",
    "            result[\"is_variable\"] = True\n",
    "            return result\n",
    "\n",
    "    result[\"valid\"] = False\n",
    "    result[\"error\"].append(\n",
    "        f\"Incorrect type for parameter {repr(param)}. Expected type {expected_type_description}, got {type(value).__name__}. Parameter value: {repr(value)}.\"\n",
    "    )\n",
    "    result[\"error_type\"] = \"type_error:simple\"\n",
    "    return result"
   ]
  },
  {
   "cell_type": "code",
   "execution_count": 9,
   "id": "48d1cc9b-f00c-4d2e-ba62-15dbd41707ce",
   "metadata": {
    "execution": {
     "iopub.execute_input": "2024-07-08T17:12:30.585548Z",
     "iopub.status.busy": "2024-07-08T17:12:30.585038Z",
     "iopub.status.idle": "2024-07-08T17:12:30.602385Z",
     "shell.execute_reply": "2024-07-08T17:12:30.601037Z",
     "shell.execute_reply.started": "2024-07-08T17:12:30.585501Z"
    },
    "jupyter": {
     "source_hidden": true
    }
   },
   "outputs": [],
   "source": [
    "def standardize_string(input_string: str):\n",
    "    # This function standardizes the string by removing all the spaces, \",./-_*^\" punctuation, and converting it to lowercase\n",
    "    # It will also convert all the single quotes to double quotes\n",
    "    # This is used to compare the model output with the possible answers\n",
    "    # We don't want to punish model for answer like April 1, 2024 vs April 1,2024, vs April 1 2024\n",
    "    regex_string = r\"[ \\,\\.\\/\\-\\_\\*\\^]\"\n",
    "    return re.sub(regex_string, \"\", input_string).lower().replace(\"'\", '\"')"
   ]
  },
  {
   "cell_type": "code",
   "execution_count": 10,
   "id": "d2b7669b-5364-486a-9ff0-349d64a80f79",
   "metadata": {
    "execution": {
     "iopub.execute_input": "2024-07-08T17:12:30.978534Z",
     "iopub.status.busy": "2024-07-08T17:12:30.978044Z",
     "iopub.status.idle": "2024-07-08T17:12:30.998337Z",
     "shell.execute_reply": "2024-07-08T17:12:30.996905Z",
     "shell.execute_reply.started": "2024-07-08T17:12:30.978488Z"
    },
    "jupyter": {
     "source_hidden": true
    }
   },
   "outputs": [],
   "source": [
    "def string_checker(param: str, model_output: str, possible_answer: list):\n",
    "    standardize_possible_answer = []\n",
    "    standardize_model_output = standardize_string(model_output)\n",
    "    for i in range(len(possible_answer)):\n",
    "        if type(possible_answer[i]) == str:\n",
    "            standardize_possible_answer.append(standardize_string(possible_answer[i]))\n",
    "\n",
    "    if standardize_model_output not in standardize_possible_answer:\n",
    "        return {\n",
    "            \"valid\": False,\n",
    "            \"error\": [\n",
    "                f\"Invalid value for parameter {repr(param)}: {repr(model_output)}. Expected one of {possible_answer}. Case insensitive.\"\n",
    "            ],\n",
    "            \"error_type\": \"value_error:string\",\n",
    "        }\n",
    "\n",
    "    return {\"valid\": True, \"error\": []}"
   ]
  },
  {
   "cell_type": "code",
   "execution_count": 11,
   "id": "397095b4-3603-4885-9d15-5dae52b0d498",
   "metadata": {
    "execution": {
     "iopub.execute_input": "2024-07-08T17:12:31.369756Z",
     "iopub.status.busy": "2024-07-08T17:12:31.369250Z",
     "iopub.status.idle": "2024-07-08T17:12:31.391329Z",
     "shell.execute_reply": "2024-07-08T17:12:31.390124Z",
     "shell.execute_reply.started": "2024-07-08T17:12:31.369710Z"
    },
    "jupyter": {
     "source_hidden": true
    }
   },
   "outputs": [],
   "source": [
    "def list_checker(param: str, model_output: list, possible_answer: list):\n",
    "    # Convert the tuple to a list\n",
    "\n",
    "    standardize_model_output = list(model_output)\n",
    "\n",
    "    # If the element in the list is a string, we need to standardize it\n",
    "    for i in range(len(standardize_model_output)):\n",
    "        if type(standardize_model_output[i]) == str:\n",
    "            standardize_model_output[i] = standardize_string(model_output[i])\n",
    "\n",
    "    standardize_possible_answer = []\n",
    "    # We also need to standardize the possible answers\n",
    "    for i in range(len(possible_answer)):\n",
    "        standardize_possible_answer.append([])\n",
    "        for j in range(len(possible_answer[i])):\n",
    "            if type(possible_answer[i][j]) == str:\n",
    "                standardize_possible_answer[i].append(\n",
    "                    standardize_string(possible_answer[i][j])\n",
    "                )\n",
    "            else:\n",
    "                standardize_possible_answer[i].append(possible_answer[i][j])\n",
    "\n",
    "    if standardize_model_output not in standardize_possible_answer:\n",
    "        return {\n",
    "            \"valid\": False,\n",
    "            \"error\": [\n",
    "                f\"Invalid value for parameter {repr(param)}: {repr(model_output)}. Expected one of {possible_answer}.\"\n",
    "            ],\n",
    "            \"error_type\": \"value_error:list/tuple\",\n",
    "        }\n",
    "\n",
    "    return {\"valid\": True, \"error\": []}\n",
    "\n"
   ]
  },
  {
   "cell_type": "code",
   "execution_count": 12,
   "id": "170aeb1c-4c09-4efa-a747-58030adf4d28",
   "metadata": {
    "execution": {
     "iopub.execute_input": "2024-07-08T17:12:31.705768Z",
     "iopub.status.busy": "2024-07-08T17:12:31.705259Z",
     "iopub.status.idle": "2024-07-08T17:12:31.730399Z",
     "shell.execute_reply": "2024-07-08T17:12:31.728995Z",
     "shell.execute_reply.started": "2024-07-08T17:12:31.705721Z"
    },
    "jupyter": {
     "source_hidden": true
    }
   },
   "outputs": [],
   "source": [
    "def dict_checker(param: str, model_output: dict, possible_answers: list):\n",
    "    # This function works for simple dictionaries, as well as dictionaries with nested dictionaries\n",
    "\n",
    "    result = {\"valid\": False, \"error\": [], \"error_type\": \"dict_checker:unclear\"}\n",
    "    for i in range(len(possible_answers)):\n",
    "\n",
    "        if possible_answers[i] == \"\":\n",
    "            continue\n",
    "\n",
    "        result = {\"valid\": False, \"error\": [], \"error_type\": \"dict_checker:unclear\"}\n",
    "\n",
    "        flag = True\n",
    "\n",
    "        possible_answer = possible_answers[i]\n",
    "        # possible_anwer is a single dictionary\n",
    "        if len(model_output.keys()) != len(possible_answer.keys()):\n",
    "            result[\"valid\"] = False\n",
    "            result[\"error\"].append(\"Wrong number of parameters for dictionary.\")\n",
    "            result[\"error_type\"] = \"value_error:dict_items\"\n",
    "            flag = False\n",
    "            continue\n",
    "\n",
    "        for key, value in model_output.items():\n",
    "            if key not in possible_answer:\n",
    "                result[\"valid\"] = False\n",
    "                result[\"error\"].append(f\"Unexpected parameter: '{key}'.\")\n",
    "                result[\"error_type\"] = \"value_error:dict_key\"\n",
    "                flag = False\n",
    "                break\n",
    "\n",
    "            expected_values = possible_answer[key]\n",
    "            if isinstance(expected_values, dict):\n",
    "                result = dict_checker(param, value, [expected_values])\n",
    "                if not result[\"valid\"]:\n",
    "                    flag = False\n",
    "                    break\n",
    "            else:\n",
    "                standardize_value = value\n",
    "                # If the value is a string, we need to standardize it\n",
    "                if type(value) == str:\n",
    "                    standardize_value = standardize_string(value)\n",
    "                # We also need to standardize the possible answers\n",
    "                standardize_possible_answer = []\n",
    "                for i in range(len(possible_answer[key])):\n",
    "                    if type(possible_answer[key][i]) == str:\n",
    "                        standardize_possible_answer.append(\n",
    "                            standardize_string(possible_answer[key][i])\n",
    "                        )\n",
    "                    else:\n",
    "                        standardize_possible_answer.append(possible_answer[key][i])\n",
    "\n",
    "                if standardize_value not in standardize_possible_answer:\n",
    "                    result[\"valid\"] = False\n",
    "                    result[\"error\"].append(\n",
    "                        f\"Invalid value for parameter {repr(key)}: {repr(value)}. Expected one of {standardize_possible_answer}.\"\n",
    "                    )\n",
    "                    result[\"error_type\"] = \"value_error:dict_value\"\n",
    "                    flag = False\n",
    "                    break\n",
    "        if flag:\n",
    "            return {\"valid\": True, \"error\": []}\n",
    "\n",
    "    return result"
   ]
  },
  {
   "cell_type": "code",
   "execution_count": 13,
   "id": "83d2a1a6-4b31-467f-b298-b125e89b4949",
   "metadata": {
    "execution": {
     "iopub.execute_input": "2024-07-08T17:12:32.366580Z",
     "iopub.status.busy": "2024-07-08T17:12:32.366087Z",
     "iopub.status.idle": "2024-07-08T17:12:32.387464Z",
     "shell.execute_reply": "2024-07-08T17:12:32.386233Z",
     "shell.execute_reply.started": "2024-07-08T17:12:32.366533Z"
    },
    "jupyter": {
     "source_hidden": true
    }
   },
   "outputs": [],
   "source": [
    "def list_dict_checker(param: str, model_output: list, possible_answers: list):\n",
    "    # This function takes in a list of dictionaries and checks if each dictionary is valid\n",
    "    # The order of the dictionaries in the list must match the order of the possible answers\n",
    "\n",
    "    result = {\"valid\": False, \"error\": [], \"error_type\": \"list_dict_checker:unclear\"}\n",
    "\n",
    "    for answer_index in range(len(possible_answers)):\n",
    "        flag = True  # True means so far, all dictionaries are valid\n",
    "\n",
    "        # Only proceed if the number of dictionaries in the list matches the number of dictionaries in the possible answers\n",
    "        if len(model_output) != len(possible_answers[answer_index]):\n",
    "            result[\"valid\"] = False\n",
    "            result[\"error\"] = [\"Wrong number of dictionaries in the list.\"]\n",
    "            result[\"error_type\"] = \"value_error:list_dict_count\"\n",
    "            flag = False\n",
    "            continue\n",
    "\n",
    "        for dict_index in range(len(model_output)):\n",
    "            result = dict_checker(\n",
    "                param,\n",
    "                model_output[dict_index],\n",
    "                [possible_answers[answer_index][dict_index]],\n",
    "            )\n",
    "            if not result[\"valid\"]:\n",
    "                flag = False\n",
    "                break\n",
    "        if flag:\n",
    "            return {\"valid\": True, \"error\": []}\n",
    "\n",
    "    return result\n"
   ]
  },
  {
   "cell_type": "code",
   "execution_count": 14,
   "id": "495b3b45-824c-49f8-b462-113c2a4f14f3",
   "metadata": {
    "execution": {
     "iopub.execute_input": "2024-07-08T17:12:32.821116Z",
     "iopub.status.busy": "2024-07-08T17:12:32.820596Z",
     "iopub.status.idle": "2024-07-08T17:12:32.853344Z",
     "shell.execute_reply": "2024-07-08T17:12:32.852215Z",
     "shell.execute_reply.started": "2024-07-08T17:12:32.821068Z"
    },
    "jupyter": {
     "source_hidden": true
    }
   },
   "outputs": [],
   "source": [
    "def simple_function_checker(\n",
    "    func_description: dict,\n",
    "    model_output: dict,\n",
    "    possible_answer: dict,\n",
    "    language: str,\n",
    "    model_name: str,\n",
    "):\n",
    "    possible_answer = list(possible_answer.values())[0]\n",
    "    # Extract function name and parameters details\n",
    "    func_name = func_description[\"name\"]\n",
    "    param_details = func_description[\"parameters\"][\"properties\"]\n",
    "    required_params = func_description[\"parameters\"][\"required\"]\n",
    "\n",
    "    # Initialize a result dictionary\n",
    "    result = {\n",
    "        \"valid\": True,\n",
    "        \"error\": [],\n",
    "        \"error_type\": \"simple_function_checker:unclear\",\n",
    "    }\n",
    "\n",
    "    func_name = convert_func_name(func_name, model_name)\n",
    "\n",
    "    # Check if function name matches\n",
    "    if func_name not in model_output:\n",
    "        result[\"valid\"] = False\n",
    "        result[\"error\"].append(\n",
    "            f\"Function name {repr(func_name)} not found in model output.\"\n",
    "        )\n",
    "        result[\"error_type\"] = \"simple_function_checker:wrong_func_name\"\n",
    "        return result\n",
    "\n",
    "    model_params = model_output[func_name]\n",
    "\n",
    "    # Check for required parameters in model output\n",
    "    for param in required_params:\n",
    "        if param not in model_params:\n",
    "            result[\"valid\"] = False\n",
    "            result[\"error\"].append(f\"Missing required parameter: {repr(param)}.\")\n",
    "            result[\"error_type\"] = \"simple_function_checker:missing_required\"\n",
    "            return result\n",
    "\n",
    "    # Validate types and values for each parameter in model output\n",
    "    for param, value in model_params.items():\n",
    "        if param not in param_details or param not in possible_answer:\n",
    "            result[\"valid\"] = False\n",
    "            result[\"error\"].append(f\"Unexpected parameter: {repr(param)}.\")\n",
    "            result[\"error_type\"] = \"simple_function_checker:unexpected_param\"\n",
    "            return result\n",
    "\n",
    "        full_param_details = param_details[param]\n",
    "        expected_type_description = full_param_details[\"type\"]  # This is a string\n",
    "        is_variable = False\n",
    "        nested_type_converted = None\n",
    "\n",
    "        if language == \"Java\":\n",
    "            expected_type_converted = JAVA_TYPE_CONVERSION[expected_type_description]\n",
    "\n",
    "            if expected_type_description in JAVA_TYPE_CONVERSION:\n",
    "                if expected_type_description in NESTED_CONVERSION_TYPE_LIST:\n",
    "                    nested_type = param_details[param][\"items\"][\"type\"]\n",
    "                    nested_type_converted = JAVA_TYPE_CONVERSION[nested_type]\n",
    "                    value = java_type_converter(\n",
    "                        value, expected_type_description, nested_type\n",
    "                    )\n",
    "                else:\n",
    "                    value = java_type_converter(value, expected_type_description)\n",
    "\n",
    "        elif language == \"JavaScript\":\n",
    "            expected_type_converted = JS_TYPE_CONVERSION[expected_type_description]\n",
    "\n",
    "            if expected_type_description in JS_TYPE_CONVERSION:\n",
    "                if expected_type_description in NESTED_CONVERSION_TYPE_LIST:\n",
    "                    nested_type = param_details[param][\"items\"][\"type\"]\n",
    "                    nested_type_converted = JS_TYPE_CONVERSION[nested_type]\n",
    "                    value = js_type_converter(\n",
    "                        value, expected_type_description, nested_type\n",
    "                    )\n",
    "                else:\n",
    "                    value = js_type_converter(value, expected_type_description)\n",
    "\n",
    "        elif language == \"Python\":\n",
    "            expected_type_converted = PYTHON_TYPE_MAPPING[expected_type_description]\n",
    "            if expected_type_description in PYTHON_NESTED_TYPE_CHECK_LIST:\n",
    "                nested_type = param_details[param][\"items\"][\"type\"]\n",
    "                nested_type_converted = PYTHON_TYPE_MAPPING[nested_type]\n",
    "\n",
    "        # We convert all tuple value to list when the expected type is tuple.\n",
    "        # The conversion is necessary because any tuple in the possible answer would become a list after being processed through json.dump() and json.load().\n",
    "        # This does introduce some false positive (eg, when the model provides a list value instead of tuple). We hope to find a better solution in the future.\n",
    "        if expected_type_description == \"tuple\" and type(value) == tuple:\n",
    "            value = list(value)\n",
    "\n",
    "        # Allow python auto conversion from int to float\n",
    "        if (\n",
    "            language == \"Python\"\n",
    "            and expected_type_description == \"float\"\n",
    "            and type(value) == int\n",
    "        ):\n",
    "            value = float(value)\n",
    "\n",
    "        # Type checking\n",
    "        # In fact, we only check for Python here.\n",
    "        # Type check for other languages are handled by the type converter, and so their value (after conversion) is always correct.\n",
    "        type_check_result = type_checker(\n",
    "            param,\n",
    "            value,\n",
    "            possible_answer[param],\n",
    "            expected_type_description,\n",
    "            expected_type_converted,\n",
    "            nested_type_converted,\n",
    "        )\n",
    "        is_variable = type_check_result[\"is_variable\"]\n",
    "        if not type_check_result[\"valid\"]:\n",
    "            return type_check_result\n",
    "\n",
    "        # It doesn't make sense to special handle dictionaries and list of dictionaries if the value is a variable.\n",
    "        # We can just treat the variable as a string and use the normal flow.\n",
    "        if not is_variable:\n",
    "            # Special handle for dictionaries\n",
    "            if expected_type_converted == dict:\n",
    "                result = dict_checker(param, value, possible_answer[param])\n",
    "                if not result[\"valid\"]:\n",
    "                    return result\n",
    "                continue\n",
    "\n",
    "            # Special handle for list of dictionaries\n",
    "            elif expected_type_converted == list and nested_type_converted == dict:\n",
    "                result = list_dict_checker(param, value, possible_answer[param])\n",
    "                if not result[\"valid\"]:\n",
    "                    return result\n",
    "                continue\n",
    "\n",
    "            # Special handle for strings\n",
    "            elif expected_type_converted == str:\n",
    "                # We don't check for case sensitivity for string, as long as it's not a variable\n",
    "                result = string_checker(param, value, possible_answer[param])\n",
    "                if not result[\"valid\"]:\n",
    "                    return result\n",
    "                continue\n",
    "\n",
    "            elif expected_type_converted == list:\n",
    "                result = list_checker(param, value, possible_answer[param])\n",
    "                if not result[\"valid\"]:\n",
    "                    return result\n",
    "                continue\n",
    "\n",
    "        # Check if the value is within the possible answers\n",
    "        if value not in possible_answer[param]:\n",
    "            result[\"valid\"] = False\n",
    "            result[\"error\"].append(\n",
    "                f\"Invalid value for parameter {repr(param)}: {repr(value)}. Expected one of {possible_answer[param]}.\"\n",
    "            )\n",
    "            result[\"error_type\"] = \"value_error:others\"\n",
    "            return result\n",
    "\n",
    "    # Check for optional parameters not provided but allowed\n",
    "    for param in possible_answer:\n",
    "        if param not in model_params and \"\" not in possible_answer[param]:\n",
    "            result[\"valid\"] = False\n",
    "            result[\"error\"].append(\n",
    "                f\"Optional parameter {repr(param)} not provided and not marked as optional.\"\n",
    "            )\n",
    "            result[\"error_type\"] = \"simple_function_checker:missing_optional\"\n",
    "            return result\n",
    "\n",
    "    return result"
   ]
  },
  {
   "cell_type": "markdown",
   "id": "f849bb47-c7be-4837-a5ac-dc29e49394cd",
   "metadata": {},
   "source": [
    "## EVALUATION"
   ]
  },
  {
   "cell_type": "code",
   "execution_count": 15,
   "id": "4f342422-d07a-4435-8789-f86e52d405a6",
   "metadata": {
    "execution": {
     "iopub.execute_input": "2024-07-08T17:12:33.983303Z",
     "iopub.status.busy": "2024-07-08T17:12:33.982796Z",
     "iopub.status.idle": "2024-07-08T17:12:34.000326Z",
     "shell.execute_reply": "2024-07-08T17:12:33.998950Z",
     "shell.execute_reply.started": "2024-07-08T17:12:33.983256Z"
    }
   },
   "outputs": [],
   "source": [
    "# RUN IT ONCE TO DOWNLOAD THE TEST DATASET\n",
    "# !wget https://raw.githubusercontent.com/ShishirPatil/gorilla/main/berkeley-function-call-leaderboard/data/possible_answer/gorilla_openfunctions_v1_test_simple.json"
   ]
  },
  {
   "cell_type": "code",
   "execution_count": 16,
   "id": "0532760c-ae2c-434d-aa2d-1960e662e03a",
   "metadata": {
    "execution": {
     "iopub.execute_input": "2024-07-08T17:12:35.755619Z",
     "iopub.status.busy": "2024-07-08T17:12:35.755061Z",
     "iopub.status.idle": "2024-07-08T17:12:35.773196Z",
     "shell.execute_reply": "2024-07-08T17:12:35.771764Z",
     "shell.execute_reply.started": "2024-07-08T17:12:35.755568Z"
    }
   },
   "outputs": [],
   "source": [
    "file_path = \"gorilla_openfunctions_v1_test_simple.json\""
   ]
  },
  {
   "cell_type": "code",
   "execution_count": 17,
   "id": "37010264-608a-4a07-9985-391df2d24487",
   "metadata": {
    "execution": {
     "iopub.execute_input": "2024-07-08T17:12:37.457395Z",
     "iopub.status.busy": "2024-07-08T17:12:37.456734Z",
     "iopub.status.idle": "2024-07-08T17:12:39.983168Z",
     "shell.execute_reply": "2024-07-08T17:12:39.982537Z",
     "shell.execute_reply.started": "2024-07-08T17:12:37.457346Z"
    }
   },
   "outputs": [
    {
     "data": {
      "text/html": [
       "<div>\n",
       "<style scoped>\n",
       "    .dataframe tbody tr th:only-of-type {\n",
       "        vertical-align: middle;\n",
       "    }\n",
       "\n",
       "    .dataframe tbody tr th {\n",
       "        vertical-align: top;\n",
       "    }\n",
       "\n",
       "    .dataframe thead th {\n",
       "        text-align: right;\n",
       "    }\n",
       "</style>\n",
       "<table border=\"1\" class=\"dataframe\">\n",
       "  <thead>\n",
       "    <tr style=\"text-align: right;\">\n",
       "      <th></th>\n",
       "      <th>question</th>\n",
       "      <th>function</th>\n",
       "    </tr>\n",
       "  </thead>\n",
       "  <tbody>\n",
       "    <tr>\n",
       "      <th>0</th>\n",
       "      <td>Find the area of a triangle with a base of 10 ...</td>\n",
       "      <td>{'name': 'calculate_triangle_area', 'descripti...</td>\n",
       "    </tr>\n",
       "    <tr>\n",
       "      <th>1</th>\n",
       "      <td>Calculate the factorial of 5 using math functi...</td>\n",
       "      <td>{'name': 'math.factorial', 'description': 'Cal...</td>\n",
       "    </tr>\n",
       "    <tr>\n",
       "      <th>2</th>\n",
       "      <td>Calculate the hypotenuse of a right triangle g...</td>\n",
       "      <td>{'name': 'math.hypot', 'description': 'Calcula...</td>\n",
       "    </tr>\n",
       "    <tr>\n",
       "      <th>3</th>\n",
       "      <td>Find the roots of a quadratic equation with co...</td>\n",
       "      <td>{'name': 'algebra.quadratic_roots', 'descripti...</td>\n",
       "    </tr>\n",
       "    <tr>\n",
       "      <th>4</th>\n",
       "      <td>Solve a quadratic equation where a=2, b=6, and...</td>\n",
       "      <td>{'name': 'solve_quadratic_equation', 'descript...</td>\n",
       "    </tr>\n",
       "  </tbody>\n",
       "</table>\n",
       "</div>"
      ],
      "text/plain": [
       "                                            question  \\\n",
       "0  Find the area of a triangle with a base of 10 ...   \n",
       "1  Calculate the factorial of 5 using math functi...   \n",
       "2  Calculate the hypotenuse of a right triangle g...   \n",
       "3  Find the roots of a quadratic equation with co...   \n",
       "4  Solve a quadratic equation where a=2, b=6, and...   \n",
       "\n",
       "                                            function  \n",
       "0  {'name': 'calculate_triangle_area', 'descripti...  \n",
       "1  {'name': 'math.factorial', 'description': 'Cal...  \n",
       "2  {'name': 'math.hypot', 'description': 'Calcula...  \n",
       "3  {'name': 'algebra.quadratic_roots', 'descripti...  \n",
       "4  {'name': 'solve_quadratic_equation', 'descript...  "
      ]
     },
     "execution_count": 17,
     "metadata": {},
     "output_type": "execute_result"
    }
   ],
   "source": [
    "import pandas as pd\n",
    "df_gorilla = pd.read_json(\"https://huggingface.co/datasets/gorilla-llm/Berkeley-Function-Calling-Leaderboard/raw/main/gorilla_openfunctions_v1_test_simple.json\", lines=True)\n",
    "df_gorilla.head()"
   ]
  },
  {
   "cell_type": "code",
   "execution_count": 18,
   "id": "f98b37bd-7456-43de-a733-0349469a96a1",
   "metadata": {
    "execution": {
     "iopub.execute_input": "2024-07-08T17:12:41.662147Z",
     "iopub.status.busy": "2024-07-08T17:12:41.661401Z",
     "iopub.status.idle": "2024-07-08T17:12:41.693530Z",
     "shell.execute_reply": "2024-07-08T17:12:41.692381Z",
     "shell.execute_reply.started": "2024-07-08T17:12:41.662093Z"
    }
   },
   "outputs": [
    {
     "data": {
      "text/html": [
       "<div>\n",
       "<style scoped>\n",
       "    .dataframe tbody tr th:only-of-type {\n",
       "        vertical-align: middle;\n",
       "    }\n",
       "\n",
       "    .dataframe tbody tr th {\n",
       "        vertical-align: top;\n",
       "    }\n",
       "\n",
       "    .dataframe thead th {\n",
       "        text-align: right;\n",
       "    }\n",
       "</style>\n",
       "<table border=\"1\" class=\"dataframe\">\n",
       "  <thead>\n",
       "    <tr style=\"text-align: right;\">\n",
       "      <th></th>\n",
       "      <th>possible_answer</th>\n",
       "      <th>model_output</th>\n",
       "    </tr>\n",
       "  </thead>\n",
       "  <tbody>\n",
       "    <tr>\n",
       "      <th>0</th>\n",
       "      <td>calculate_triangle_area,{\"base\":[10],\"height\":...</td>\n",
       "      <td>calculate_triangle_area,{\"base\":10,\"height\":5}</td>\n",
       "    </tr>\n",
       "    <tr>\n",
       "      <th>1</th>\n",
       "      <td>math.factorial,{\"number\":[5]}</td>\n",
       "      <td>math.factorial,{\"number\":5}</td>\n",
       "    </tr>\n",
       "    <tr>\n",
       "      <th>2</th>\n",
       "      <td>math.hypot,{\"x\":[4],\"y\":[5],\"z\":[\"\",0]}</td>\n",
       "      <td>math.hypot,{\"x\":4,\"y\":5}</td>\n",
       "    </tr>\n",
       "    <tr>\n",
       "      <th>3</th>\n",
       "      <td>algebra.quadratic_roots,{\"a\":[1],\"b\":[-3],\"c\":...</td>\n",
       "      <td>algebra.quadratic_roots,{\"a\":1,\"b\":-3,\"c\":2}</td>\n",
       "    </tr>\n",
       "    <tr>\n",
       "      <th>4</th>\n",
       "      <td>solve_quadratic_equation,{\"a\":[2],\"b\":[6],\"c\":...</td>\n",
       "      <td>solve_quadratic_equation,{\"a\":2,\"b\":6,\"c\":5}</td>\n",
       "    </tr>\n",
       "  </tbody>\n",
       "</table>\n",
       "</div>"
      ],
      "text/plain": [
       "                                     possible_answer  \\\n",
       "0  calculate_triangle_area,{\"base\":[10],\"height\":...   \n",
       "1                      math.factorial,{\"number\":[5]}   \n",
       "2            math.hypot,{\"x\":[4],\"y\":[5],\"z\":[\"\",0]}   \n",
       "3  algebra.quadratic_roots,{\"a\":[1],\"b\":[-3],\"c\":...   \n",
       "4  solve_quadratic_equation,{\"a\":[2],\"b\":[6],\"c\":...   \n",
       "\n",
       "                                     model_output  \n",
       "0  calculate_triangle_area,{\"base\":10,\"height\":5}  \n",
       "1                     math.factorial,{\"number\":5}  \n",
       "2                        math.hypot,{\"x\":4,\"y\":5}  \n",
       "3    algebra.quadratic_roots,{\"a\":1,\"b\":-3,\"c\":2}  \n",
       "4    solve_quadratic_equation,{\"a\":2,\"b\":6,\"c\":5}  "
      ]
     },
     "execution_count": 18,
     "metadata": {},
     "output_type": "execute_result"
    }
   ],
   "source": [
    "# Get results from previous notebook\n",
    "df = pd.read_csv(\"results_Outlines_Mistral_v0_3.csv\")\n",
    "df.head()"
   ]
  },
  {
   "cell_type": "markdown",
   "id": "881578e4-8fe3-4c13-8e50-573d8da69057",
   "metadata": {},
   "source": [
    "### Check that things are working"
   ]
  },
  {
   "cell_type": "code",
   "execution_count": 19,
   "id": "14eff6d8-b461-4d44-af03-065a2f8aa52e",
   "metadata": {
    "execution": {
     "iopub.execute_input": "2024-07-08T17:12:44.362630Z",
     "iopub.status.busy": "2024-07-08T17:12:44.361911Z",
     "iopub.status.idle": "2024-07-08T17:12:44.386932Z",
     "shell.execute_reply": "2024-07-08T17:12:44.385652Z",
     "shell.execute_reply.started": "2024-07-08T17:12:44.362559Z"
    }
   },
   "outputs": [
    {
     "data": {
      "text/plain": [
       "{'name': 'calculate_triangle_area',\n",
       " 'description': 'Calculate the area of a triangle given its base and height.',\n",
       " 'parameters': {'type': 'dict',\n",
       "  'properties': {'base': {'type': 'integer',\n",
       "    'description': 'The base of the triangle.'},\n",
       "   'height': {'type': 'integer', 'description': 'The height of the triangle.'},\n",
       "   'unit': {'type': 'string',\n",
       "    'description': \"The unit of measure (defaults to 'units' if not specified)\"}},\n",
       "  'required': ['base', 'height']}}"
      ]
     },
     "execution_count": 19,
     "metadata": {},
     "output_type": "execute_result"
    }
   ],
   "source": [
    "pos = 0\n",
    "function = df_gorilla['function'].iloc[pos]\n",
    "function"
   ]
  },
  {
   "cell_type": "code",
   "execution_count": 20,
   "id": "0517fcbb-ad7b-4901-997c-6e5824063394",
   "metadata": {
    "execution": {
     "iopub.execute_input": "2024-07-08T17:12:45.558691Z",
     "iopub.status.busy": "2024-07-08T17:12:45.557996Z",
     "iopub.status.idle": "2024-07-08T17:12:45.582586Z",
     "shell.execute_reply": "2024-07-08T17:12:45.581565Z",
     "shell.execute_reply.started": "2024-07-08T17:12:45.558640Z"
    }
   },
   "outputs": [
    {
     "data": {
      "text/plain": [
       "'Find the area of a triangle with a base of 10 units and height of 5 units.'"
      ]
     },
     "execution_count": 20,
     "metadata": {},
     "output_type": "execute_result"
    }
   ],
   "source": [
    "question = df_gorilla['question'].iloc[pos]\n",
    "question"
   ]
  },
  {
   "cell_type": "code",
   "execution_count": 21,
   "id": "878b6c6b-658b-4605-b97f-2dcf1cb6e011",
   "metadata": {
    "execution": {
     "iopub.execute_input": "2024-07-08T17:12:46.271101Z",
     "iopub.status.busy": "2024-07-08T17:12:46.270582Z",
     "iopub.status.idle": "2024-07-08T17:12:46.297196Z",
     "shell.execute_reply": "2024-07-08T17:12:46.296169Z",
     "shell.execute_reply.started": "2024-07-08T17:12:46.271052Z"
    }
   },
   "outputs": [
    {
     "data": {
      "text/plain": [
       "{'calculate_triangle_area': {'base': [10],\n",
       "  'height': [5],\n",
       "  'unit': ['units', '']}}"
      ]
     },
     "execution_count": 21,
     "metadata": {},
     "output_type": "execute_result"
    }
   ],
   "source": [
    "import ast\n",
    "function_name, arguments = df[\"possible_answer\"].iloc[pos].split(\",\",1)\n",
    "possible_answer = dict()\n",
    "possible_answer[function_name] = ast.literal_eval(arguments)\n",
    "possible_answer"
   ]
  },
  {
   "cell_type": "code",
   "execution_count": 22,
   "id": "0b7a807d-0d95-47be-8acf-8798c9e1de6c",
   "metadata": {
    "execution": {
     "iopub.execute_input": "2024-07-08T17:12:47.175810Z",
     "iopub.status.busy": "2024-07-08T17:12:47.175222Z",
     "iopub.status.idle": "2024-07-08T17:12:47.200143Z",
     "shell.execute_reply": "2024-07-08T17:12:47.199179Z",
     "shell.execute_reply.started": "2024-07-08T17:12:47.175758Z"
    }
   },
   "outputs": [
    {
     "data": {
      "text/plain": [
       "{'calculate_triangle_area': {'base': 10, 'height': 5}}"
      ]
     },
     "execution_count": 22,
     "metadata": {},
     "output_type": "execute_result"
    }
   ],
   "source": [
    "function_name, arguments = df[\"model_output\"].iloc[pos].split(\",\",1)\n",
    "model_output = dict()\n",
    "model_output[function_name] = ast.literal_eval(arguments)\n",
    "model_output"
   ]
  },
  {
   "cell_type": "code",
   "execution_count": 23,
   "id": "e5dbfdc1-0acd-4258-bd01-618e7e4b2305",
   "metadata": {
    "execution": {
     "iopub.execute_input": "2024-07-08T17:12:48.595636Z",
     "iopub.status.busy": "2024-07-08T17:12:48.595062Z",
     "iopub.status.idle": "2024-07-08T17:12:48.618391Z",
     "shell.execute_reply": "2024-07-08T17:12:48.617321Z",
     "shell.execute_reply.started": "2024-07-08T17:12:48.595584Z"
    }
   },
   "outputs": [
    {
     "data": {
      "text/plain": [
       "{'valid': True, 'error': [], 'error_type': 'simple_function_checker:unclear'}"
      ]
     },
     "execution_count": 23,
     "metadata": {},
     "output_type": "execute_result"
    }
   ],
   "source": [
    "result = simple_function_checker(function,model_output, possible_answer, \"Python\", \"test\")\n",
    "result"
   ]
  },
  {
   "cell_type": "code",
   "execution_count": 24,
   "id": "2aef2c01-fd23-4382-880b-4b2ba0dfe145",
   "metadata": {
    "execution": {
     "iopub.execute_input": "2024-07-08T17:12:52.137867Z",
     "iopub.status.busy": "2024-07-08T17:12:52.137346Z",
     "iopub.status.idle": "2024-07-08T17:12:52.197207Z",
     "shell.execute_reply": "2024-07-08T17:12:52.196463Z",
     "shell.execute_reply.started": "2024-07-08T17:12:52.137819Z"
    }
   },
   "outputs": [],
   "source": [
    "results = []\n",
    "for pos in range(len(df)):\n",
    "    # print(pos)\n",
    "    function = df_gorilla['function'].iloc[pos]\n",
    "    function_name, arguments = df[\"possible_answer\"].iloc[pos].split(\",\",1)\n",
    "    arguments = arguments.replace('\"\"SanJose\"\"','\"SanJose\"')\n",
    "    arguments = arguments.replace('\"\"radium\"\"', '\"radium\"')\n",
    "    arguments = arguments.replace('Let\"s',\"Let's\")\n",
    "    arguments = arguments.replace('It\"s',\"It's\")\n",
    "    possible_answer = dict()\n",
    "    possible_answer[function_name] = ast.literal_eval(arguments)\n",
    "    try:\n",
    "        function_name, arguments = df[\"model_output\"].iloc[pos].split(\",\",1)\n",
    "        arguments = arguments.replace('Let\"s',\"Let's\")\n",
    "        arguments = arguments.replace('It\"s',\"It's\")\n",
    "        model_output = dict()\n",
    "        model_output[function_name] = ast.literal_eval(arguments)\n",
    "        result = simple_function_checker(function,model_output, possible_answer, \"Python\", \"test\")\n",
    "    except:\n",
    "        result = {'valid': False, 'error': ['Error'], 'error_type': 'simple_function_checker:TESTERROR'}\n",
    "    results.append(result)"
   ]
  },
  {
   "cell_type": "code",
   "execution_count": 25,
   "id": "d4b95cc9-6176-4dcb-90aa-80b1799df1fd",
   "metadata": {
    "execution": {
     "iopub.execute_input": "2024-07-08T17:12:54.421792Z",
     "iopub.status.busy": "2024-07-08T17:12:54.421274Z",
     "iopub.status.idle": "2024-07-08T17:12:54.445499Z",
     "shell.execute_reply": "2024-07-08T17:12:54.444421Z",
     "shell.execute_reply.started": "2024-07-08T17:12:54.421744Z"
    }
   },
   "outputs": [
    {
     "data": {
      "text/plain": [
       "[{'valid': True, 'error': [], 'error_type': 'simple_function_checker:unclear'},\n",
       " {'valid': True, 'error': [], 'error_type': 'simple_function_checker:unclear'},\n",
       " {'valid': True, 'error': [], 'error_type': 'simple_function_checker:unclear'},\n",
       " {'valid': True, 'error': []},\n",
       " {'valid': True, 'error': [], 'error_type': 'simple_function_checker:unclear'},\n",
       " {'valid': True, 'error': [], 'error_type': 'simple_function_checker:unclear'},\n",
       " {'valid': True, 'error': [], 'error_type': 'simple_function_checker:unclear'},\n",
       " {'valid': True, 'error': [], 'error_type': 'simple_function_checker:unclear'},\n",
       " {'valid': True, 'error': [], 'error_type': 'simple_function_checker:unclear'},\n",
       " {'valid': True, 'error': [], 'error_type': 'simple_function_checker:unclear'}]"
      ]
     },
     "execution_count": 25,
     "metadata": {},
     "output_type": "execute_result"
    }
   ],
   "source": [
    "results[20:30]"
   ]
  },
  {
   "cell_type": "code",
   "execution_count": 26,
   "id": "886061c8-3f70-4ef9-8944-aae26af09b82",
   "metadata": {
    "execution": {
     "iopub.execute_input": "2024-07-08T17:12:58.284500Z",
     "iopub.status.busy": "2024-07-08T17:12:58.283969Z",
     "iopub.status.idle": "2024-07-08T17:12:58.308843Z",
     "shell.execute_reply": "2024-07-08T17:12:58.307649Z",
     "shell.execute_reply.started": "2024-07-08T17:12:58.284451Z"
    }
   },
   "outputs": [
    {
     "name": "stdout",
     "output_type": "stream",
     "text": [
      "Number of valid answers: 352\n"
     ]
    }
   ],
   "source": [
    "import numpy as np\n",
    "\n",
    "print(f\"Number of valid answers: {np.sum([results[i]['valid'] for i in range(len(df))])}\")"
   ]
  },
  {
   "cell_type": "code",
   "execution_count": 27,
   "id": "b0b61fc5-3c83-442d-b817-9e6c486b9ea7",
   "metadata": {
    "execution": {
     "iopub.execute_input": "2024-07-08T17:12:59.657596Z",
     "iopub.status.busy": "2024-07-08T17:12:59.657081Z",
     "iopub.status.idle": "2024-07-08T17:12:59.677280Z",
     "shell.execute_reply": "2024-07-08T17:12:59.676340Z",
     "shell.execute_reply.started": "2024-07-08T17:12:59.657548Z"
    }
   },
   "outputs": [
    {
     "name": "stdout",
     "output_type": "stream",
     "text": [
      "Percentage of valid answers: 88.0%\n"
     ]
    }
   ],
   "source": [
    "print(f\"Percentage of valid answers: {100*np.sum([results[i]['valid'] for i in range(len(df))])/len(df)}%\")"
   ]
  }
 ],
 "metadata": {
  "kernelspec": {
   "display_name": "Python 3 (ipykernel)",
   "language": "python",
   "name": "python3"
  },
  "language_info": {
   "codemirror_mode": {
    "name": "ipython",
    "version": 3
   },
   "file_extension": ".py",
   "mimetype": "text/x-python",
   "name": "python",
   "nbconvert_exporter": "python",
   "pygments_lexer": "ipython3",
   "version": "3.10.12"
  }
 },
 "nbformat": 4,
 "nbformat_minor": 5
}
