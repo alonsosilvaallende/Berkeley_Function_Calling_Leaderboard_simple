{
 "cells": [
  {
   "cell_type": "code",
   "execution_count": 1,
   "id": "5db0704d-5d44-4330-a4ac-dbe3c89aaa3e",
   "metadata": {
    "execution": {
     "iopub.execute_input": "2024-07-08T15:39:45.322449Z",
     "iopub.status.busy": "2024-07-08T15:39:45.321856Z",
     "iopub.status.idle": "2024-07-08T15:39:45.347812Z",
     "shell.execute_reply": "2024-07-08T15:39:45.346196Z",
     "shell.execute_reply.started": "2024-07-08T15:39:45.322404Z"
    }
   },
   "outputs": [],
   "source": [
    "%load_ext autoreload\n",
    "%autoreload 2"
   ]
  },
  {
   "cell_type": "code",
   "execution_count": 2,
   "id": "92cf36e7-6d15-4f8b-9917-ff57075cbe5e",
   "metadata": {
    "execution": {
     "iopub.execute_input": "2024-07-08T15:39:45.350045Z",
     "iopub.status.busy": "2024-07-08T15:39:45.349414Z",
     "iopub.status.idle": "2024-07-08T15:39:49.435872Z",
     "shell.execute_reply": "2024-07-08T15:39:49.434477Z",
     "shell.execute_reply.started": "2024-07-08T15:39:45.349995Z"
    }
   },
   "outputs": [
    {
     "data": {
      "text/html": [
       "<div>\n",
       "<style scoped>\n",
       "    .dataframe tbody tr th:only-of-type {\n",
       "        vertical-align: middle;\n",
       "    }\n",
       "\n",
       "    .dataframe tbody tr th {\n",
       "        vertical-align: top;\n",
       "    }\n",
       "\n",
       "    .dataframe thead th {\n",
       "        text-align: right;\n",
       "    }\n",
       "</style>\n",
       "<table border=\"1\" class=\"dataframe\">\n",
       "  <thead>\n",
       "    <tr style=\"text-align: right;\">\n",
       "      <th></th>\n",
       "      <th>question</th>\n",
       "      <th>function</th>\n",
       "    </tr>\n",
       "  </thead>\n",
       "  <tbody>\n",
       "    <tr>\n",
       "      <th>0</th>\n",
       "      <td>Find the area of a triangle with a base of 10 ...</td>\n",
       "      <td>{'name': 'calculate_triangle_area', 'descripti...</td>\n",
       "    </tr>\n",
       "    <tr>\n",
       "      <th>1</th>\n",
       "      <td>Calculate the factorial of 5 using math functi...</td>\n",
       "      <td>{'name': 'math.factorial', 'description': 'Cal...</td>\n",
       "    </tr>\n",
       "    <tr>\n",
       "      <th>2</th>\n",
       "      <td>Calculate the hypotenuse of a right triangle g...</td>\n",
       "      <td>{'name': 'math.hypot', 'description': 'Calcula...</td>\n",
       "    </tr>\n",
       "    <tr>\n",
       "      <th>3</th>\n",
       "      <td>Find the roots of a quadratic equation with co...</td>\n",
       "      <td>{'name': 'algebra.quadratic_roots', 'descripti...</td>\n",
       "    </tr>\n",
       "    <tr>\n",
       "      <th>4</th>\n",
       "      <td>Solve a quadratic equation where a=2, b=6, and...</td>\n",
       "      <td>{'name': 'solve_quadratic_equation', 'descript...</td>\n",
       "    </tr>\n",
       "  </tbody>\n",
       "</table>\n",
       "</div>"
      ],
      "text/plain": [
       "                                            question  \\\n",
       "0  Find the area of a triangle with a base of 10 ...   \n",
       "1  Calculate the factorial of 5 using math functi...   \n",
       "2  Calculate the hypotenuse of a right triangle g...   \n",
       "3  Find the roots of a quadratic equation with co...   \n",
       "4  Solve a quadratic equation where a=2, b=6, and...   \n",
       "\n",
       "                                            function  \n",
       "0  {'name': 'calculate_triangle_area', 'descripti...  \n",
       "1  {'name': 'math.factorial', 'description': 'Cal...  \n",
       "2  {'name': 'math.hypot', 'description': 'Calcula...  \n",
       "3  {'name': 'algebra.quadratic_roots', 'descripti...  \n",
       "4  {'name': 'solve_quadratic_equation', 'descript...  "
      ]
     },
     "execution_count": 2,
     "metadata": {},
     "output_type": "execute_result"
    }
   ],
   "source": [
    "import pandas as pd\n",
    "\n",
    "df = pd.read_json(\"https://huggingface.co/datasets/gorilla-llm/Berkeley-Function-Calling-Leaderboard/raw/main/gorilla_openfunctions_v1_test_simple.json\", lines=True)\n",
    "df.head()"
   ]
  },
  {
   "cell_type": "code",
   "execution_count": 3,
   "id": "aa234ddd-06e8-4902-a924-232623e5d23d",
   "metadata": {
    "collapsed": true,
    "execution": {
     "iopub.execute_input": "2024-07-08T15:39:49.437050Z",
     "iopub.status.busy": "2024-07-08T15:39:49.436816Z",
     "iopub.status.idle": "2024-07-08T15:39:52.375455Z",
     "shell.execute_reply": "2024-07-08T15:39:52.374425Z",
     "shell.execute_reply.started": "2024-07-08T15:39:49.437030Z"
    },
    "jupyter": {
     "outputs_hidden": true
    },
    "scrolled": true
   },
   "outputs": [
    {
     "name": "stderr",
     "output_type": "stream",
     "text": [
      "llama_model_loader: loaded meta data with 25 key-value pairs and 291 tensors from /home/asilva/models/Mistral-7B-Instruct-v0.3.fp16.gguf (version GGUF V3 (latest))\n",
      "llama_model_loader: Dumping metadata keys/values. Note: KV overrides do not apply in this output.\n",
      "llama_model_loader: - kv   0:                       general.architecture str              = llama\n",
      "llama_model_loader: - kv   1:                               general.name str              = models--mistralai--Mistral-7B-Instruc...\n",
      "llama_model_loader: - kv   2:                          llama.block_count u32              = 32\n",
      "llama_model_loader: - kv   3:                       llama.context_length u32              = 32768\n",
      "llama_model_loader: - kv   4:                     llama.embedding_length u32              = 4096\n",
      "llama_model_loader: - kv   5:                  llama.feed_forward_length u32              = 14336\n",
      "llama_model_loader: - kv   6:                 llama.attention.head_count u32              = 32\n",
      "llama_model_loader: - kv   7:              llama.attention.head_count_kv u32              = 8\n",
      "llama_model_loader: - kv   8:                       llama.rope.freq_base f32              = 1000000.000000\n",
      "llama_model_loader: - kv   9:     llama.attention.layer_norm_rms_epsilon f32              = 0.000010\n",
      "llama_model_loader: - kv  10:                          general.file_type u32              = 1\n",
      "llama_model_loader: - kv  11:                           llama.vocab_size u32              = 32768\n",
      "llama_model_loader: - kv  12:                 llama.rope.dimension_count u32              = 128\n",
      "llama_model_loader: - kv  13:                       tokenizer.ggml.model str              = llama\n",
      "llama_model_loader: - kv  14:                         tokenizer.ggml.pre str              = default\n",
      "llama_model_loader: - kv  15:                      tokenizer.ggml.tokens arr[str,32768]   = [\"<unk>\", \"<s>\", \"</s>\", \"[INST]\", \"[...\n",
      "llama_model_loader: - kv  16:                      tokenizer.ggml.scores arr[f32,32768]   = [0.000000, 0.000000, 0.000000, 0.0000...\n",
      "llama_model_loader: - kv  17:                  tokenizer.ggml.token_type arr[i32,32768]   = [2, 3, 3, 3, 3, 3, 3, 3, 3, 3, 3, 3, ...\n",
      "llama_model_loader: - kv  18:                tokenizer.ggml.bos_token_id u32              = 1\n",
      "llama_model_loader: - kv  19:                tokenizer.ggml.eos_token_id u32              = 2\n",
      "llama_model_loader: - kv  20:            tokenizer.ggml.unknown_token_id u32              = 0\n",
      "llama_model_loader: - kv  21:               tokenizer.ggml.add_bos_token bool             = true\n",
      "llama_model_loader: - kv  22:               tokenizer.ggml.add_eos_token bool             = false\n",
      "llama_model_loader: - kv  23:                    tokenizer.chat_template str              = {{ bos_token }}{% for message in mess...\n",
      "llama_model_loader: - kv  24:               general.quantization_version u32              = 2\n",
      "llama_model_loader: - type  f32:   65 tensors\n",
      "llama_model_loader: - type  f16:  226 tensors\n",
      "llm_load_vocab: special tokens cache size = 1027\n",
      "llm_load_vocab: token to piece cache size = 0.1731 MB\n",
      "llm_load_print_meta: format           = GGUF V3 (latest)\n",
      "llm_load_print_meta: arch             = llama\n",
      "llm_load_print_meta: vocab type       = SPM\n",
      "llm_load_print_meta: n_vocab          = 32768\n",
      "llm_load_print_meta: n_merges         = 0\n",
      "llm_load_print_meta: n_ctx_train      = 32768\n",
      "llm_load_print_meta: n_embd           = 4096\n",
      "llm_load_print_meta: n_head           = 32\n",
      "llm_load_print_meta: n_head_kv        = 8\n",
      "llm_load_print_meta: n_layer          = 32\n",
      "llm_load_print_meta: n_rot            = 128\n",
      "llm_load_print_meta: n_embd_head_k    = 128\n",
      "llm_load_print_meta: n_embd_head_v    = 128\n",
      "llm_load_print_meta: n_gqa            = 4\n",
      "llm_load_print_meta: n_embd_k_gqa     = 1024\n",
      "llm_load_print_meta: n_embd_v_gqa     = 1024\n",
      "llm_load_print_meta: f_norm_eps       = 0.0e+00\n",
      "llm_load_print_meta: f_norm_rms_eps   = 1.0e-05\n",
      "llm_load_print_meta: f_clamp_kqv      = 0.0e+00\n",
      "llm_load_print_meta: f_max_alibi_bias = 0.0e+00\n",
      "llm_load_print_meta: f_logit_scale    = 0.0e+00\n",
      "llm_load_print_meta: n_ff             = 14336\n",
      "llm_load_print_meta: n_expert         = 0\n",
      "llm_load_print_meta: n_expert_used    = 0\n",
      "llm_load_print_meta: causal attn      = 1\n",
      "llm_load_print_meta: pooling type     = 0\n",
      "llm_load_print_meta: rope type        = 0\n",
      "llm_load_print_meta: rope scaling     = linear\n",
      "llm_load_print_meta: freq_base_train  = 1000000.0\n",
      "llm_load_print_meta: freq_scale_train = 1\n",
      "llm_load_print_meta: n_ctx_orig_yarn  = 32768\n",
      "llm_load_print_meta: rope_finetuned   = unknown\n",
      "llm_load_print_meta: ssm_d_conv       = 0\n",
      "llm_load_print_meta: ssm_d_inner      = 0\n",
      "llm_load_print_meta: ssm_d_state      = 0\n",
      "llm_load_print_meta: ssm_dt_rank      = 0\n",
      "llm_load_print_meta: model type       = 7B\n",
      "llm_load_print_meta: model ftype      = F16\n",
      "llm_load_print_meta: model params     = 7.25 B\n",
      "llm_load_print_meta: model size       = 13.50 GiB (16.00 BPW) \n",
      "llm_load_print_meta: general.name     = models--mistralai--Mistral-7B-Instruct-v0.3\n",
      "llm_load_print_meta: BOS token        = 1 '<s>'\n",
      "llm_load_print_meta: EOS token        = 2 '</s>'\n",
      "llm_load_print_meta: UNK token        = 0 '<unk>'\n",
      "llm_load_print_meta: LF token         = 781 '<0x0A>'\n",
      "ggml_cuda_init: GGML_CUDA_FORCE_MMQ:   no\n",
      "ggml_cuda_init: CUDA_USE_TENSOR_CORES: yes\n",
      "ggml_cuda_init: found 4 CUDA devices:\n",
      "  Device 0: NVIDIA RTX A4000, compute capability 8.6, VMM: yes\n",
      "  Device 1: NVIDIA RTX A4000, compute capability 8.6, VMM: yes\n",
      "  Device 2: NVIDIA RTX A4000, compute capability 8.6, VMM: yes\n",
      "  Device 3: NVIDIA RTX A4000, compute capability 8.6, VMM: yes\n",
      "llm_load_tensors: ggml ctx size =    0.74 MiB\n",
      "llm_load_tensors: offloading 32 repeating layers to GPU\n",
      "llm_load_tensors: offloading non-repeating layers to GPU\n",
      "llm_load_tensors: offloaded 33/33 layers to GPU\n",
      "llm_load_tensors:        CPU buffer size =   256.00 MiB\n",
      "llm_load_tensors:      CUDA0 buffer size =  3744.28 MiB\n",
      "llm_load_tensors:      CUDA1 buffer size =  3328.25 MiB\n",
      "llm_load_tensors:      CUDA2 buffer size =  3744.28 MiB\n",
      "llm_load_tensors:      CUDA3 buffer size =  2752.20 MiB\n",
      "....................................................................................................\n",
      "llama_new_context_with_model: n_ctx      = 512\n",
      "llama_new_context_with_model: n_batch    = 512\n",
      "llama_new_context_with_model: n_ubatch   = 512\n",
      "llama_new_context_with_model: flash_attn = 0\n",
      "llama_new_context_with_model: freq_base  = 1000000.0\n",
      "llama_new_context_with_model: freq_scale = 1\n",
      "llama_kv_cache_init:      CUDA0 KV buffer size =    18.00 MiB\n",
      "llama_kv_cache_init:      CUDA1 KV buffer size =    16.00 MiB\n",
      "llama_kv_cache_init:      CUDA2 KV buffer size =    18.00 MiB\n",
      "llama_kv_cache_init:      CUDA3 KV buffer size =    12.00 MiB\n",
      "llama_new_context_with_model: KV self size  =   64.00 MiB, K (f16):   32.00 MiB, V (f16):   32.00 MiB\n",
      "llama_new_context_with_model:  CUDA_Host  output buffer size =     0.12 MiB\n",
      "llama_new_context_with_model: pipeline parallelism enabled (n_copies=4)\n",
      "llama_new_context_with_model:      CUDA0 compute buffer size =   108.01 MiB\n",
      "llama_new_context_with_model:      CUDA1 compute buffer size =   108.01 MiB\n",
      "llama_new_context_with_model:      CUDA2 compute buffer size =   108.01 MiB\n",
      "llama_new_context_with_model:      CUDA3 compute buffer size =   116.02 MiB\n",
      "llama_new_context_with_model:  CUDA_Host compute buffer size =    12.02 MiB\n",
      "llama_new_context_with_model: graph nodes  = 1030\n",
      "llama_new_context_with_model: graph splits = 5\n",
      "AVX = 1 | AVX_VNNI = 0 | AVX2 = 1 | AVX512 = 1 | AVX512_VBMI = 0 | AVX512_VNNI = 1 | AVX512_BF16 = 0 | FMA = 1 | NEON = 0 | SVE = 0 | ARM_FMA = 0 | F16C = 1 | FP16_VA = 0 | WASM_SIMD = 0 | BLAS = 1 | SSE3 = 1 | SSSE3 = 1 | VSX = 0 | MATMUL_INT8 = 0 | LLAMAFILE = 1 | \n",
      "Model metadata: {'tokenizer.chat_template': \"{{ bos_token }}{% for message in messages %}{% if (message['role'] == 'user') != (loop.index0 % 2 == 0) %}{{ raise_exception('Conversation roles must alternate user/assistant/user/assistant/...') }}{% endif %}{% if message['role'] == 'user' %}{{ '[INST] ' + message['content'] + ' [/INST]' }}{% elif message['role'] == 'assistant' %}{{ message['content'] + eos_token}}{% else %}{{ raise_exception('Only user and assistant roles are supported!') }}{% endif %}{% endfor %}\", 'tokenizer.ggml.add_eos_token': 'false', 'tokenizer.ggml.unknown_token_id': '0', 'tokenizer.ggml.eos_token_id': '2', 'general.quantization_version': '2', 'tokenizer.ggml.model': 'llama', 'general.architecture': 'llama', 'llama.rope.freq_base': '1000000.000000', 'tokenizer.ggml.pre': 'default', 'llama.context_length': '32768', 'general.name': 'models--mistralai--Mistral-7B-Instruct-v0.3', 'tokenizer.ggml.add_bos_token': 'true', 'llama.embedding_length': '4096', 'llama.feed_forward_length': '14336', 'llama.attention.layer_norm_rms_epsilon': '0.000010', 'tokenizer.ggml.bos_token_id': '1', 'llama.attention.head_count': '32', 'llama.block_count': '32', 'llama.attention.head_count_kv': '8', 'general.file_type': '1', 'llama.vocab_size': '32768', 'llama.rope.dimension_count': '128'}\n",
      "Available chat formats from metadata: chat_template.default\n",
      "Guessed chat format: mistral-instruct\n"
     ]
    }
   ],
   "source": [
    "from llama_cpp import Llama\n",
    "\n",
    "llm = Llama(\"/home/asilva/models/Mistral-7B-Instruct-v0.3.fp16.gguf\", n_gpu_layers=-1)"
   ]
  },
  {
   "cell_type": "code",
   "execution_count": 4,
   "id": "20b35c39-6118-4690-9fe5-05dc6e6c028d",
   "metadata": {
    "execution": {
     "iopub.execute_input": "2024-07-08T15:39:52.376737Z",
     "iopub.status.busy": "2024-07-08T15:39:52.376426Z",
     "iopub.status.idle": "2024-07-08T15:39:52.389549Z",
     "shell.execute_reply": "2024-07-08T15:39:52.388923Z",
     "shell.execute_reply.started": "2024-07-08T15:39:52.376714Z"
    }
   },
   "outputs": [
    {
     "data": {
      "text/plain": [
       "'Find the area of a triangle with a base of 10 units and height of 5 units.'"
      ]
     },
     "execution_count": 4,
     "metadata": {},
     "output_type": "execute_result"
    }
   ],
   "source": [
    "pos = 0\n",
    "question = df.iloc[pos][\"question\"]\n",
    "question"
   ]
  },
  {
   "cell_type": "code",
   "execution_count": 5,
   "id": "3bd60448-35c8-48c7-98c9-45a0cd678ef5",
   "metadata": {
    "execution": {
     "iopub.execute_input": "2024-07-08T15:39:52.390404Z",
     "iopub.status.busy": "2024-07-08T15:39:52.390190Z",
     "iopub.status.idle": "2024-07-08T15:39:52.418590Z",
     "shell.execute_reply": "2024-07-08T15:39:52.417598Z",
     "shell.execute_reply.started": "2024-07-08T15:39:52.390390Z"
    }
   },
   "outputs": [
    {
     "data": {
      "text/plain": [
       "'{\"name\": \"calculate_triangle_area\", \"description\": \"Calculate the area of a triangle given its base and height.\", \"parameters\": {\"type\": \"dict\", \"properties\": {\"base\": {\"type\": \"integer\", \"description\": \"The base of the triangle.\"}, \"height\": {\"type\": \"integer\", \"description\": \"The height of the triangle.\"}, \"unit\": {\"type\": \"string\", \"description\": \"The unit of measure (defaults to \\'units\\' if not specified)\"}}, \"required\": [\"base\", \"height\"]}}'"
      ]
     },
     "execution_count": 5,
     "metadata": {},
     "output_type": "execute_result"
    }
   ],
   "source": [
    "import json\n",
    "\n",
    "function = df.iloc[pos]['function']\n",
    "json.dumps(function)"
   ]
  },
  {
   "cell_type": "code",
   "execution_count": 6,
   "id": "1765c588-3884-4e33-b4dc-af000a72cf5b",
   "metadata": {
    "execution": {
     "iopub.execute_input": "2024-07-08T15:39:52.424041Z",
     "iopub.status.busy": "2024-07-08T15:39:52.422760Z",
     "iopub.status.idle": "2024-07-08T15:39:52.446491Z",
     "shell.execute_reply": "2024-07-08T15:39:52.445442Z",
     "shell.execute_reply.started": "2024-07-08T15:39:52.423987Z"
    }
   },
   "outputs": [
    {
     "data": {
      "text/plain": [
       "'<s>[AVAILABLE_TOOLS] [{\"name\": \"calculate_triangle_area\", \"description\": \"Calculate the area of a triangle given its base and height.\", \"parameters\": {\"type\": \"dict\", \"properties\": {\"base\": {\"type\": \"integer\", \"description\": \"The base of the triangle.\"}, \"height\": {\"type\": \"integer\", \"description\": \"The height of the triangle.\"}, \"unit\": {\"type\": \"string\", \"description\": \"The unit of measure (defaults to \\'units\\' if not specified)\"}}, \"required\": [\"base\", \"height\"]}}] [/AVAILABLE_TOOLS][INST] Find the area of a triangle with a base of 10 units and height of 5 units. [/INST][TOOL_CALLS] '"
      ]
     },
     "execution_count": 6,
     "metadata": {},
     "output_type": "execute_result"
    }
   ],
   "source": [
    "final_prompt = (\n",
    "    \"<s>[AVAILABLE_TOOLS] [\"\n",
    "    + json.dumps(function)\n",
    "    + \"] [/AVAILABLE_TOOLS][INST] \"\n",
    "    + question\n",
    "    + \" [/INST]\"\n",
    "    + \"[TOOL_CALLS] \"\n",
    ")\n",
    "final_prompt"
   ]
  },
  {
   "cell_type": "code",
   "execution_count": 7,
   "id": "7cf521be-96f6-402f-9e19-a7780dfa014b",
   "metadata": {
    "collapsed": true,
    "execution": {
     "iopub.execute_input": "2024-07-08T15:39:52.448221Z",
     "iopub.status.busy": "2024-07-08T15:39:52.447555Z",
     "iopub.status.idle": "2024-07-08T15:39:54.419159Z",
     "shell.execute_reply": "2024-07-08T15:39:54.418706Z",
     "shell.execute_reply.started": "2024-07-08T15:39:52.448186Z"
    },
    "jupyter": {
     "outputs_hidden": true
    },
    "scrolled": true
   },
   "outputs": [
    {
     "name": "stderr",
     "output_type": "stream",
     "text": [
      "/home/asilva/test-finite-state-machine/.venv/lib/python3.10/site-packages/llama_cpp/llama.py:1054: RuntimeWarning: Detected duplicate leading \"<s>\" in prompt, this will likely reduce response quality, consider removing it...\n",
      "  warnings.warn(\n",
      "\n",
      "llama_print_timings:        load time =     196.58 ms\n",
      "llama_print_timings:      sample time =      17.11 ms /    45 runs   (    0.38 ms per token,  2630.19 tokens per second)\n",
      "llama_print_timings: prompt eval time =     196.15 ms /   154 tokens (    1.27 ms per token,   785.13 tokens per second)\n",
      "llama_print_timings:        eval time =    1724.01 ms /    44 runs   (   39.18 ms per token,    25.52 tokens per second)\n",
      "llama_print_timings:       total time =    1949.86 ms /   198 tokens\n"
     ]
    }
   ],
   "source": [
    "response = llm(final_prompt, temperature=0, seed=0, max_tokens=None)"
   ]
  },
  {
   "cell_type": "code",
   "execution_count": 8,
   "id": "1fc44fe5-2c76-49c3-9fa4-a293f42776e0",
   "metadata": {
    "execution": {
     "iopub.execute_input": "2024-07-08T15:39:54.420002Z",
     "iopub.status.busy": "2024-07-08T15:39:54.419825Z",
     "iopub.status.idle": "2024-07-08T15:39:54.429674Z",
     "shell.execute_reply": "2024-07-08T15:39:54.429288Z",
     "shell.execute_reply.started": "2024-07-08T15:39:54.419986Z"
    }
   },
   "outputs": [
    {
     "data": {
      "text/plain": [
       "' [{\"name\": \"calculate_triangle_area\", \"arguments\": {\"base\": 10, \"height\": 5}}]\\n\\nThe area of the triangle is 50 square units.'"
      ]
     },
     "execution_count": 8,
     "metadata": {},
     "output_type": "execute_result"
    }
   ],
   "source": [
    "response[\"choices\"][0][\"text\"]"
   ]
  },
  {
   "cell_type": "code",
   "execution_count": 9,
   "id": "77b7d4c2-e63a-4100-843d-93c50701fcbf",
   "metadata": {
    "execution": {
     "iopub.execute_input": "2024-07-08T15:39:54.430371Z",
     "iopub.status.busy": "2024-07-08T15:39:54.430221Z",
     "iopub.status.idle": "2024-07-08T15:39:54.474946Z",
     "shell.execute_reply": "2024-07-08T15:39:54.473714Z",
     "shell.execute_reply.started": "2024-07-08T15:39:54.430356Z"
    }
   },
   "outputs": [],
   "source": [
    "import regex\n",
    "\n",
    "def extract_first_of_nested_brackets(input_string):\n",
    "    # pattern = r'\\{(?>[^{}]+|(?R))*\\}'\n",
    "    pattern = r'\\[(.*?)\\]'\n",
    "    match = regex.search(pattern, input_string)\n",
    "    if match:\n",
    "        return match.group(0)[1:-1]\n",
    "    return None"
   ]
  },
  {
   "cell_type": "code",
   "execution_count": 10,
   "id": "fb4e6ac1-7e44-4695-bee1-b2844f46a7db",
   "metadata": {
    "execution": {
     "iopub.execute_input": "2024-07-08T15:39:54.476451Z",
     "iopub.status.busy": "2024-07-08T15:39:54.476039Z",
     "iopub.status.idle": "2024-07-08T15:39:54.490566Z",
     "shell.execute_reply": "2024-07-08T15:39:54.489616Z",
     "shell.execute_reply.started": "2024-07-08T15:39:54.476420Z"
    }
   },
   "outputs": [
    {
     "data": {
      "text/plain": [
       "'{\"name\": \"calculate_triangle_area\", \"arguments\": {\"base\": 10, \"height\": 5}}'"
      ]
     },
     "execution_count": 10,
     "metadata": {},
     "output_type": "execute_result"
    }
   ],
   "source": [
    "final_result = extract_first_of_nested_brackets(response[\"choices\"][0][\"text\"])\n",
    "final_result"
   ]
  },
  {
   "cell_type": "code",
   "execution_count": 11,
   "id": "68b2e124-5a50-4440-aa2e-4e0456f1793d",
   "metadata": {
    "execution": {
     "iopub.execute_input": "2024-07-08T15:39:54.491313Z",
     "iopub.status.busy": "2024-07-08T15:39:54.491128Z",
     "iopub.status.idle": "2024-07-08T15:39:54.509131Z",
     "shell.execute_reply": "2024-07-08T15:39:54.508485Z",
     "shell.execute_reply.started": "2024-07-08T15:39:54.491294Z"
    }
   },
   "outputs": [
    {
     "data": {
      "text/plain": [
       "{'name': 'calculate_triangle_area', 'arguments': {'base': 10, 'height': 5}}"
      ]
     },
     "execution_count": 11,
     "metadata": {},
     "output_type": "execute_result"
    }
   ],
   "source": [
    "import json_repair\n",
    "json_repair.loads(final_result)"
   ]
  },
  {
   "cell_type": "code",
   "execution_count": 12,
   "id": "adffa7f3-766a-4a05-8109-c37ba93c55f0",
   "metadata": {
    "execution": {
     "iopub.execute_input": "2024-07-08T15:39:54.509861Z",
     "iopub.status.busy": "2024-07-08T15:39:54.509695Z",
     "iopub.status.idle": "2024-07-08T15:39:54.524305Z",
     "shell.execute_reply": "2024-07-08T15:39:54.523597Z",
     "shell.execute_reply.started": "2024-07-08T15:39:54.509844Z"
    }
   },
   "outputs": [],
   "source": [
    "GORILLA_TO_OPENAPI = {\n",
    "    \"integer\": \"integer\",\n",
    "    \"number\": \"number\",\n",
    "    \"float\": \"number\",\n",
    "    \"string\": \"string\",\n",
    "    \"boolean\": \"boolean\",\n",
    "    \"bool\": \"boolean\",\n",
    "    \"array\": \"array\",\n",
    "    \"list\": \"array\",\n",
    "    \"dict\": \"object\",\n",
    "    \"object\": \"object\",\n",
    "    \"tuple\": \"array\",\n",
    "    \"any\": \"string\",\n",
    "    \"byte\": \"integer\",\n",
    "    \"short\": \"integer\",\n",
    "    \"long\": \"integer\",\n",
    "    \"double\": \"number\",\n",
    "    \"char\": \"string\",\n",
    "    \"ArrayList\": \"array\",\n",
    "    \"Array\": \"array\",\n",
    "    \"HashMap\": \"object\",\n",
    "    \"Hashtable\": \"object\",\n",
    "    \"Queue\": \"array\",\n",
    "    \"Stack\": \"array\",\n",
    "    \"Any\": \"string\",\n",
    "    \"String\": \"string\",\n",
    "    \"Bigint\": \"integer\",\n",
    "}"
   ]
  },
  {
   "cell_type": "code",
   "execution_count": 13,
   "id": "3e310fd3-4f86-4262-873c-e1bacb1961f1",
   "metadata": {
    "execution": {
     "iopub.execute_input": "2024-07-08T15:39:54.525648Z",
     "iopub.status.busy": "2024-07-08T15:39:54.525085Z",
     "iopub.status.idle": "2024-07-08T15:39:54.541903Z",
     "shell.execute_reply": "2024-07-08T15:39:54.541179Z",
     "shell.execute_reply.started": "2024-07-08T15:39:54.525627Z"
    }
   },
   "outputs": [],
   "source": [
    "def _cast_to_openai_type(properties, mapping, test_category):\n",
    "    for key, value in properties.items():\n",
    "        if \"type\" not in value:\n",
    "            properties[key][\"type\"] = \"string\"\n",
    "        else:\n",
    "            var_type = value[\"type\"]\n",
    "            if mapping == GORILLA_TO_OPENAPI and var_type == \"float\":\n",
    "                properties[key][\"format\"] = \"float\"\n",
    "                properties[key][\"description\"] += \" This is a float type value.\"\n",
    "            if var_type in mapping:\n",
    "                properties[key][\"type\"] = mapping[var_type]\n",
    "            else:\n",
    "                properties[key][\"type\"] = \"string\"\n",
    "\n",
    "        # Currently support:\n",
    "        # - list of any\n",
    "        # - list of list of any\n",
    "        # - list of dict\n",
    "        # - list of list of dict\n",
    "        # - dict of any\n",
    "\n",
    "        if properties[key][\"type\"] == \"array\" or properties[key][\"type\"] == \"object\":\n",
    "            if \"properties\" in properties[key]:\n",
    "                properties[key][\"properties\"] = _cast_to_openai_type(\n",
    "                    properties[key][\"properties\"], mapping, test_category\n",
    "                )\n",
    "            elif \"items\" in properties[key]:\n",
    "                properties[key][\"items\"][\"type\"] = mapping[\n",
    "                    properties[key][\"items\"][\"type\"]\n",
    "                ]\n",
    "                if (\n",
    "                    properties[key][\"items\"][\"type\"] == \"array\"\n",
    "                    and \"items\" in properties[key][\"items\"]\n",
    "                ):\n",
    "                    properties[key][\"items\"][\"items\"][\"type\"] = mapping[\n",
    "                        properties[key][\"items\"][\"items\"][\"type\"]\n",
    "                    ]\n",
    "                elif (\n",
    "                    properties[key][\"items\"][\"type\"] == \"object\"\n",
    "                    and \"properties\" in properties[key][\"items\"]\n",
    "                ):\n",
    "                    properties[key][\"items\"][\"properties\"] = _cast_to_openai_type(\n",
    "                        properties[key][\"items\"][\"properties\"], mapping, test_category\n",
    "                    )\n",
    "    return properties"
   ]
  },
  {
   "cell_type": "code",
   "execution_count": 14,
   "id": "ca08d9f5-dac4-470e-ba12-7c86b1040d90",
   "metadata": {
    "execution": {
     "iopub.execute_input": "2024-07-08T15:39:54.542751Z",
     "iopub.status.busy": "2024-07-08T15:39:54.542555Z",
     "iopub.status.idle": "2024-07-08T15:39:54.566129Z",
     "shell.execute_reply": "2024-07-08T15:39:54.565407Z",
     "shell.execute_reply.started": "2024-07-08T15:39:54.542732Z"
    }
   },
   "outputs": [
    {
     "data": {
      "text/plain": [
       "{'base': {'type': 'integer', 'description': 'The base of the triangle.'},\n",
       " 'height': {'type': 'integer', 'description': 'The height of the triangle.'},\n",
       " 'unit': {'type': 'string',\n",
       "  'description': \"The unit of measure (defaults to 'units' if not specified)\"}}"
      ]
     },
     "execution_count": 14,
     "metadata": {},
     "output_type": "execute_result"
    }
   ],
   "source": [
    "function[\"parameters\"][\"properties\"]"
   ]
  },
  {
   "cell_type": "code",
   "execution_count": 15,
   "id": "4ec565bc-cb53-42fb-8dbe-dfad1b5092a4",
   "metadata": {
    "execution": {
     "iopub.execute_input": "2024-07-08T15:39:54.567109Z",
     "iopub.status.busy": "2024-07-08T15:39:54.566885Z",
     "iopub.status.idle": "2024-07-08T15:39:54.583502Z",
     "shell.execute_reply": "2024-07-08T15:39:54.582741Z",
     "shell.execute_reply.started": "2024-07-08T15:39:54.567086Z"
    }
   },
   "outputs": [
    {
     "data": {
      "text/plain": [
       "{'base': {'type': 'integer', 'description': 'The base of the triangle.'},\n",
       " 'height': {'type': 'integer', 'description': 'The height of the triangle.'},\n",
       " 'unit': {'type': 'string',\n",
       "  'description': \"The unit of measure (defaults to 'units' if not specified)\"}}"
      ]
     },
     "execution_count": 15,
     "metadata": {},
     "output_type": "execute_result"
    }
   ],
   "source": [
    "_cast_to_openai_type(function[\"parameters\"][\"properties\"], GORILLA_TO_OPENAPI, \"simple\")"
   ]
  },
  {
   "cell_type": "code",
   "execution_count": 16,
   "id": "27ab1349-1454-4aca-a2d3-9bc0b9623f76",
   "metadata": {
    "execution": {
     "iopub.execute_input": "2024-07-08T15:39:54.584713Z",
     "iopub.status.busy": "2024-07-08T15:39:54.584464Z",
     "iopub.status.idle": "2024-07-08T15:39:54.607969Z",
     "shell.execute_reply": "2024-07-08T15:39:54.606707Z",
     "shell.execute_reply.started": "2024-07-08T15:39:54.584689Z"
    }
   },
   "outputs": [],
   "source": [
    "# allow `\\\"`, `\\\\`, or any character which isn't a control sequence\n",
    "STRING_INNER = r'([^\"\\\\\\x00-\\x1F\\x7F-\\x9F]|\\\\[\"\\\\])'\n",
    "STRING = f'\"{STRING_INNER}*\"'\n",
    "\n",
    "INTEGER = r\"(-)?(0|[1-9][0-9]*)\"\n",
    "NUMBER = rf\"({INTEGER})(\\.[0-9]+)?([eE][+-][0-9]+)?\"\n",
    "BOOLEAN = r\"(true|false)\"\n",
    "NULL = r\"null\"\n",
    "WHITESPACE = r\"[ ]?\"\n",
    "\n",
    "type_to_regex = {\n",
    "    \"string\": STRING,\n",
    "    \"integer\": INTEGER,\n",
    "    \"number\": NUMBER,\n",
    "    \"boolean\": BOOLEAN,\n",
    "    \"null\": NULL,\n",
    "}"
   ]
  },
  {
   "cell_type": "code",
   "execution_count": 17,
   "id": "26d68439-72f8-49c5-9382-7d7c195b79f5",
   "metadata": {
    "execution": {
     "iopub.execute_input": "2024-07-08T15:39:54.609842Z",
     "iopub.status.busy": "2024-07-08T15:39:54.609391Z",
     "iopub.status.idle": "2024-07-08T15:39:54.628610Z",
     "shell.execute_reply": "2024-07-08T15:39:54.627481Z",
     "shell.execute_reply.started": "2024-07-08T15:39:54.609795Z"
    }
   },
   "outputs": [],
   "source": [
    "function_data = function"
   ]
  },
  {
   "cell_type": "code",
   "execution_count": 18,
   "id": "540ec4f8-b14a-4758-bd7f-bd803115af37",
   "metadata": {
    "execution": {
     "iopub.execute_input": "2024-07-08T15:39:54.629893Z",
     "iopub.status.busy": "2024-07-08T15:39:54.629572Z",
     "iopub.status.idle": "2024-07-08T15:39:54.646002Z",
     "shell.execute_reply": "2024-07-08T15:39:54.645049Z",
     "shell.execute_reply.started": "2024-07-08T15:39:54.629860Z"
    }
   },
   "outputs": [
    {
     "name": "stdout",
     "output_type": "stream",
     "text": [
      "base\n",
      "{'type': 'integer', 'description': 'The base of the triangle.'}\n",
      "height\n",
      "{'type': 'integer', 'description': 'The height of the triangle.'}\n"
     ]
    }
   ],
   "source": [
    "for arg, value in _cast_to_openai_type(\n",
    "            function_data['parameters']['properties'], \n",
    "            GORILLA_TO_OPENAPI, \n",
    "            \"simple\").items():\n",
    "        # do any of the examples use the option parameter?\n",
    "        # Easy enough to add in!\n",
    "        if arg in function_data['parameters']['required']:\n",
    "            print(arg)\n",
    "            print(value)"
   ]
  },
  {
   "cell_type": "code",
   "execution_count": 19,
   "id": "62bd403f-ddb1-45c6-9717-fc285b676e97",
   "metadata": {
    "execution": {
     "iopub.execute_input": "2024-07-08T15:39:54.647016Z",
     "iopub.status.busy": "2024-07-08T15:39:54.646797Z",
     "iopub.status.idle": "2024-07-08T15:39:54.662935Z",
     "shell.execute_reply": "2024-07-08T15:39:54.661923Z",
     "shell.execute_reply.started": "2024-07-08T15:39:54.646994Z"
    }
   },
   "outputs": [],
   "source": [
    "# this should be more universal\n",
    "def type_to_regex(arg_meta):\n",
    "    basic_map = {\n",
    "        \"string\": f'\"{STRING_INNER}{{1,42}}\"', # might need to be longer?\n",
    "        \"integer\": INTEGER,\n",
    "        \"number\": NUMBER,\n",
    "        \"float\": NUMBER, # change this later\n",
    "        \"boolean\": BOOLEAN,\n",
    "        \"null\": NULL,\n",
    "    }\n",
    "    arg_type = arg_meta['type']\n",
    "    if arg_type == 'object':\n",
    "        arg_type = 'dict'\n",
    "    if arg_type == 'dict':\n",
    "        result = build_dict_regex(arg_meta['properties'])\n",
    "    # Note, this currently won't pass the empty list\n",
    "    elif arg_type == 'array':\n",
    "        pattern = type_to_regex(arg_meta['items'])\n",
    "        result = array_regex = r'\\[('+pattern+', ){0,8}'+pattern+'\\]'\n",
    "    else:\n",
    "        result = basic_map[arg_type]\n",
    "    return result\n"
   ]
  },
  {
   "cell_type": "code",
   "execution_count": 20,
   "id": "019f3403-40ea-43a0-8bc0-e509bdb26d91",
   "metadata": {
    "execution": {
     "iopub.execute_input": "2024-07-08T15:39:54.663858Z",
     "iopub.status.busy": "2024-07-08T15:39:54.663647Z",
     "iopub.status.idle": "2024-07-08T15:39:54.679779Z",
     "shell.execute_reply": "2024-07-08T15:39:54.678866Z",
     "shell.execute_reply.started": "2024-07-08T15:39:54.663838Z"
    }
   },
   "outputs": [
    {
     "name": "stdout",
     "output_type": "stream",
     "text": [
      "base\n",
      "{'type': 'integer', 'description': 'The base of the triangle.'}\n",
      "(-)?(0|[1-9][0-9]*)\n",
      "height\n",
      "{'type': 'integer', 'description': 'The height of the triangle.'}\n",
      "(-)?(0|[1-9][0-9]*)\n"
     ]
    }
   ],
   "source": [
    "for arg, value in _cast_to_openai_type(\n",
    "    function_data['parameters']['properties'], \n",
    "    GORILLA_TO_OPENAPI, \n",
    "    \"simple\").items():\n",
    "# do any of the examples use the option parameter?\n",
    "# Easy enough to add in!\n",
    "    if arg in function_data['parameters']['required']:\n",
    "        print(arg)\n",
    "        print(value)\n",
    "        print(type_to_regex(value))"
   ]
  },
  {
   "cell_type": "code",
   "execution_count": 21,
   "id": "7984c9b7-c0ee-43d2-affe-fdbdede87bb5",
   "metadata": {
    "execution": {
     "iopub.execute_input": "2024-07-08T15:39:54.682760Z",
     "iopub.status.busy": "2024-07-08T15:39:54.682543Z",
     "iopub.status.idle": "2024-07-08T15:39:54.697199Z",
     "shell.execute_reply": "2024-07-08T15:39:54.696361Z",
     "shell.execute_reply.started": "2024-07-08T15:39:54.682739Z"
    }
   },
   "outputs": [],
   "source": [
    "def build_fc_regex(function_data):\n",
    "    out_re = r'\\[\\{\"name\": \"' + function_data[\"name\"] + '\", \"arguments\": \\{'        \n",
    "    args_part  = \", \".join([\n",
    "        f'\"{arg}\": '+type_to_regex(value)\n",
    "        for arg, value in _cast_to_openai_type(\n",
    "            function_data['parameters']['properties'], \n",
    "            GORILLA_TO_OPENAPI, \n",
    "            \"simple\").items()\n",
    "        # do any of the examples use the option parameter?\n",
    "        # Easy enough to add in!\n",
    "        if arg in function_data['parameters']['required']\n",
    "    ])\n",
    "    optional_part = \"\".join([\n",
    "        f'(, \"{arg}\": '+type_to_regex(value) + r')?'\n",
    "        for arg, value in _cast_to_openai_type(\n",
    "            function_data['parameters']['properties'], \n",
    "            GORILLA_TO_OPENAPI, \n",
    "            \"simple\").items()\n",
    "        if not (arg in function_data['parameters']['required'])\n",
    "    ])\n",
    "    return out_re+args_part+optional_part+\"}}]\""
   ]
  },
  {
   "cell_type": "code",
   "execution_count": 22,
   "id": "83875bd7-025d-4184-a702-be423793c2a5",
   "metadata": {
    "execution": {
     "iopub.execute_input": "2024-07-08T15:39:54.698154Z",
     "iopub.status.busy": "2024-07-08T15:39:54.697958Z",
     "iopub.status.idle": "2024-07-08T15:39:54.723852Z",
     "shell.execute_reply": "2024-07-08T15:39:54.722590Z",
     "shell.execute_reply.started": "2024-07-08T15:39:54.698136Z"
    }
   },
   "outputs": [
    {
     "data": {
      "text/plain": [
       "{'name': 'calculate_triangle_area',\n",
       " 'description': 'Calculate the area of a triangle given its base and height.',\n",
       " 'parameters': {'type': 'dict',\n",
       "  'properties': {'base': {'type': 'integer',\n",
       "    'description': 'The base of the triangle.'},\n",
       "   'height': {'type': 'integer', 'description': 'The height of the triangle.'},\n",
       "   'unit': {'type': 'string',\n",
       "    'description': \"The unit of measure (defaults to 'units' if not specified)\"}},\n",
       "  'required': ['base', 'height']}}"
      ]
     },
     "execution_count": 22,
     "metadata": {},
     "output_type": "execute_result"
    }
   ],
   "source": [
    "function"
   ]
  },
  {
   "cell_type": "code",
   "execution_count": 23,
   "id": "44dc03dc-9d27-42ac-b223-d061a1f89bd8",
   "metadata": {
    "execution": {
     "iopub.execute_input": "2024-07-08T15:39:54.726331Z",
     "iopub.status.busy": "2024-07-08T15:39:54.725334Z",
     "iopub.status.idle": "2024-07-08T15:39:54.745677Z",
     "shell.execute_reply": "2024-07-08T15:39:54.744782Z",
     "shell.execute_reply.started": "2024-07-08T15:39:54.726282Z"
    }
   },
   "outputs": [
    {
     "data": {
      "text/plain": [
       "'\\\\[\\\\{\"name\": \"calculate_triangle_area\", \"arguments\": \\\\{\"base\": (-)?(0|[1-9][0-9]*), \"height\": (-)?(0|[1-9][0-9]*)(, \"unit\": \"([^\"\\\\\\\\\\\\x00-\\\\x1F\\\\x7F-\\\\x9F]|\\\\\\\\[\"\\\\\\\\]){1,42}\")?}}]'"
      ]
     },
     "execution_count": 23,
     "metadata": {},
     "output_type": "execute_result"
    }
   ],
   "source": [
    "regex = build_fc_regex(function)\n",
    "regex"
   ]
  },
  {
   "cell_type": "code",
   "execution_count": 24,
   "id": "6e729718-18aa-4c3f-9ef6-751178c3fced",
   "metadata": {
    "execution": {
     "iopub.execute_input": "2024-07-08T15:39:54.747178Z",
     "iopub.status.busy": "2024-07-08T15:39:54.746774Z",
     "iopub.status.idle": "2024-07-08T15:39:57.026791Z",
     "shell.execute_reply": "2024-07-08T15:39:57.025915Z",
     "shell.execute_reply.started": "2024-07-08T15:39:54.747149Z"
    }
   },
   "outputs": [
    {
     "name": "stderr",
     "output_type": "stream",
     "text": [
      "/home/asilva/test-finite-state-machine/.venv/lib/python3.10/site-packages/tqdm/auto.py:21: TqdmWarning: IProgress not found. Please update jupyter and ipywidgets. See https://ipywidgets.readthedocs.io/en/stable/user_install.html\n",
      "  from .autonotebook import tqdm as notebook_tqdm\n"
     ]
    }
   ],
   "source": [
    "from outlines import models\n",
    "\n",
    "model = models.LlamaCpp(llm)"
   ]
  },
  {
   "cell_type": "code",
   "execution_count": 25,
   "id": "da46b7c4-d4de-4eb4-a31f-51a5ba48ef1a",
   "metadata": {
    "execution": {
     "iopub.execute_input": "2024-07-08T15:39:57.027783Z",
     "iopub.status.busy": "2024-07-08T15:39:57.027613Z",
     "iopub.status.idle": "2024-07-08T15:39:58.231764Z",
     "shell.execute_reply": "2024-07-08T15:39:58.230634Z",
     "shell.execute_reply.started": "2024-07-08T15:39:57.027767Z"
    }
   },
   "outputs": [],
   "source": [
    "from outlines import generate\n",
    "\n",
    "generator = generate.regex(model, regex)"
   ]
  },
  {
   "cell_type": "code",
   "execution_count": 26,
   "id": "24f70cb7-41c4-4164-962d-20cc8385af8e",
   "metadata": {
    "execution": {
     "iopub.execute_input": "2024-07-08T15:39:58.234158Z",
     "iopub.status.busy": "2024-07-08T15:39:58.233365Z",
     "iopub.status.idle": "2024-07-08T15:39:58.265470Z",
     "shell.execute_reply": "2024-07-08T15:39:58.264593Z",
     "shell.execute_reply.started": "2024-07-08T15:39:58.234089Z"
    }
   },
   "outputs": [
    {
     "data": {
      "text/plain": [
       "'<s>[AVAILABLE_TOOLS] [{\"name\": \"calculate_triangle_area\", \"description\": \"Calculate the area of a triangle given its base and height.\", \"parameters\": {\"type\": \"dict\", \"properties\": {\"base\": {\"type\": \"integer\", \"description\": \"The base of the triangle.\"}, \"height\": {\"type\": \"integer\", \"description\": \"The height of the triangle.\"}, \"unit\": {\"type\": \"string\", \"description\": \"The unit of measure (defaults to \\'units\\' if not specified)\"}}, \"required\": [\"base\", \"height\"]}}] [/AVAILABLE_TOOLS][INST] Find the area of a triangle with a base of 10 units and height of 5 units. [/INST][TOOL_CALLS] '"
      ]
     },
     "execution_count": 26,
     "metadata": {},
     "output_type": "execute_result"
    }
   ],
   "source": [
    "final_prompt"
   ]
  },
  {
   "cell_type": "code",
   "execution_count": 27,
   "id": "df32fb78-392f-49dd-a675-b20a7d0b6c76",
   "metadata": {
    "execution": {
     "iopub.execute_input": "2024-07-08T15:39:58.267008Z",
     "iopub.status.busy": "2024-07-08T15:39:58.266573Z",
     "iopub.status.idle": "2024-07-08T15:39:59.587139Z",
     "shell.execute_reply": "2024-07-08T15:39:59.585770Z",
     "shell.execute_reply.started": "2024-07-08T15:39:58.266974Z"
    },
    "scrolled": true
   },
   "outputs": [
    {
     "name": "stderr",
     "output_type": "stream",
     "text": [
      "/home/asilva/test-finite-state-machine/.venv/lib/python3.10/site-packages/llama_cpp/llama.py:1054: RuntimeWarning: Detected duplicate leading \"<s>\" in prompt, this will likely reduce response quality, consider removing it...\n",
      "  warnings.warn(\n",
      "Llama.generate: prefix-match hit\n",
      "\n",
      "llama_print_timings:        load time =     196.58 ms\n",
      "llama_print_timings:      sample time =      36.02 ms /    31 runs   (    1.16 ms per token,   860.70 tokens per second)\n",
      "llama_print_timings: prompt eval time =       0.00 ms /     0 tokens (    -nan ms per token,     -nan tokens per second)\n",
      "llama_print_timings:        eval time =    1238.32 ms /    31 runs   (   39.95 ms per token,    25.03 tokens per second)\n",
      "llama_print_timings:       total time =    1285.84 ms /    31 tokens\n"
     ]
    }
   ],
   "source": [
    "answer = generator(final_prompt, max_tokens=1024)"
   ]
  },
  {
   "cell_type": "code",
   "execution_count": 28,
   "id": "c9ed834e-8e1d-4786-aaa8-bee443d67a20",
   "metadata": {
    "execution": {
     "iopub.execute_input": "2024-07-08T15:39:59.589306Z",
     "iopub.status.busy": "2024-07-08T15:39:59.588809Z",
     "iopub.status.idle": "2024-07-08T15:39:59.622662Z",
     "shell.execute_reply": "2024-07-08T15:39:59.621951Z",
     "shell.execute_reply.started": "2024-07-08T15:39:59.589255Z"
    }
   },
   "outputs": [
    {
     "data": {
      "text/plain": [
       "'[{\"name\": \"calculate_triangle_area\", \"arguments\": {\"base\": 10, \"height\": 5}}]'"
      ]
     },
     "execution_count": 28,
     "metadata": {},
     "output_type": "execute_result"
    }
   ],
   "source": [
    "answer"
   ]
  },
  {
   "cell_type": "code",
   "execution_count": 29,
   "id": "7eac89a5-7e3e-4aad-af48-44878079e20c",
   "metadata": {
    "execution": {
     "iopub.execute_input": "2024-07-08T15:39:59.623506Z",
     "iopub.status.busy": "2024-07-08T15:39:59.623313Z",
     "iopub.status.idle": "2024-07-08T16:20:40.243887Z",
     "shell.execute_reply": "2024-07-08T16:20:40.243346Z",
     "shell.execute_reply.started": "2024-07-08T15:39:59.623487Z"
    },
    "scrolled": true
   },
   "outputs": [
    {
     "name": "stdout",
     "output_type": "stream",
     "text": [
      "0\n"
     ]
    },
    {
     "name": "stderr",
     "output_type": "stream",
     "text": [
      "\n",
      "llama_print_timings:        load time =     196.58 ms\n",
      "llama_print_timings:      sample time =      36.27 ms /    31 runs   (    1.17 ms per token,   854.80 tokens per second)\n",
      "llama_print_timings: prompt eval time =      74.37 ms /   154 tokens (    0.48 ms per token,  2070.84 tokens per second)\n",
      "llama_print_timings:        eval time =    1181.19 ms /    30 runs   (   39.37 ms per token,    25.40 tokens per second)\n",
      "llama_print_timings:       total time =    1301.41 ms /   184 tokens\n"
     ]
    },
    {
     "name": "stdout",
     "output_type": "stream",
     "text": [
      "1\n"
     ]
    },
    {
     "name": "stderr",
     "output_type": "stream",
     "text": [
      "\n",
      "llama_print_timings:        load time =     196.58 ms\n",
      "llama_print_timings:      sample time =      24.32 ms /    21 runs   (    1.16 ms per token,   863.63 tokens per second)\n",
      "llama_print_timings: prompt eval time =      59.00 ms /    93 tokens (    0.63 ms per token,  1576.22 tokens per second)\n",
      "llama_print_timings:        eval time =     783.28 ms /    20 runs   (   39.16 ms per token,    25.53 tokens per second)\n",
      "llama_print_timings:       total time =     874.21 ms /   113 tokens\n"
     ]
    },
    {
     "name": "stdout",
     "output_type": "stream",
     "text": [
      "2\n"
     ]
    },
    {
     "name": "stderr",
     "output_type": "stream",
     "text": [
      "\n",
      "llama_print_timings:        load time =     196.58 ms\n",
      "llama_print_timings:      sample time =      32.30 ms /    28 runs   (    1.15 ms per token,   866.98 tokens per second)\n",
      "llama_print_timings: prompt eval time =      81.53 ms /   191 tokens (    0.43 ms per token,  2342.67 tokens per second)\n",
      "llama_print_timings:        eval time =    1063.43 ms /    27 runs   (   39.39 ms per token,    25.39 tokens per second)\n",
      "llama_print_timings:       total time =    1185.75 ms /   218 tokens\n"
     ]
    },
    {
     "name": "stdout",
     "output_type": "stream",
     "text": [
      "3\n"
     ]
    },
    {
     "name": "stderr",
     "output_type": "stream",
     "text": [
      "\n",
      "llama_print_timings:        load time =     196.58 ms\n",
      "llama_print_timings:      sample time =      43.28 ms /    38 runs   (    1.14 ms per token,   878.04 tokens per second)\n",
      "llama_print_timings: prompt eval time =      75.36 ms /   160 tokens (    0.47 ms per token,  2123.23 tokens per second)\n",
      "llama_print_timings:        eval time =    1456.91 ms /    37 runs   (   39.38 ms per token,    25.40 tokens per second)\n",
      "llama_print_timings:       total time =    1587.58 ms /   197 tokens\n"
     ]
    },
    {
     "name": "stdout",
     "output_type": "stream",
     "text": [
      "4\n"
     ]
    },
    {
     "name": "stderr",
     "output_type": "stream",
     "text": [
      "\n",
      "llama_print_timings:        load time =     196.58 ms\n",
      "llama_print_timings:      sample time =      42.42 ms /    37 runs   (    1.15 ms per token,   872.19 tokens per second)\n",
      "llama_print_timings: prompt eval time =      73.70 ms /   151 tokens (    0.49 ms per token,  2048.87 tokens per second)\n",
      "llama_print_timings:        eval time =    1417.04 ms /    36 runs   (   39.36 ms per token,    25.41 tokens per second)\n",
      "llama_print_timings:       total time =    1545.33 ms /   187 tokens\n"
     ]
    },
    {
     "name": "stdout",
     "output_type": "stream",
     "text": [
      "5\n"
     ]
    },
    {
     "name": "stderr",
     "output_type": "stream",
     "text": [
      "Compiling FSM index for all state transitions:  51%|█████     | 176/344 [00:01<00:01, 97.31it/s] \n",
      "/home/asilva/test-finite-state-machine/.venv/lib/python3.10/site-packages/llama_cpp/llama.py:1054: RuntimeWarning: Detected duplicate leading \"<s>\" in prompt, this will likely reduce response quality, consider removing it...\n",
      "  warnings.warn(\n",
      "\n",
      "llama_print_timings:        load time =     196.58 ms\n",
      "llama_print_timings:      sample time =      41.02 ms /    36 runs   (    1.14 ms per token,   877.71 tokens per second)\n",
      "llama_print_timings: prompt eval time =      97.27 ms /   248 tokens (    0.39 ms per token,  2549.55 tokens per second)\n",
      "llama_print_timings:        eval time =    1388.09 ms /    35 runs   (   39.66 ms per token,    25.21 tokens per second)\n",
      "llama_print_timings:       total time =    1538.98 ms /   283 tokens\n"
     ]
    },
    {
     "name": "stdout",
     "output_type": "stream",
     "text": [
      "6\n"
     ]
    },
    {
     "name": "stderr",
     "output_type": "stream",
     "text": [
      "\n",
      "llama_print_timings:        load time =     196.58 ms\n",
      "llama_print_timings:      sample time =      43.98 ms /    35 runs   (    1.26 ms per token,   795.83 tokens per second)\n",
      "llama_print_timings: prompt eval time =      74.24 ms /   154 tokens (    0.48 ms per token,  2074.38 tokens per second)\n",
      "llama_print_timings:        eval time =    1338.97 ms /    34 runs   (   39.38 ms per token,    25.39 tokens per second)\n",
      "llama_print_timings:       total time =    1468.68 ms /   188 tokens\n"
     ]
    },
    {
     "name": "stdout",
     "output_type": "stream",
     "text": [
      "7\n"
     ]
    },
    {
     "name": "stderr",
     "output_type": "stream",
     "text": [
      "Compiling FSM index for all state transitions:  49%|████▉     | 164/332 [00:01<00:01, 94.73it/s]\n",
      "\n",
      "llama_print_timings:        load time =     196.58 ms\n",
      "llama_print_timings:      sample time =      35.44 ms /    30 runs   (    1.18 ms per token,   846.60 tokens per second)\n",
      "llama_print_timings: prompt eval time =      70.59 ms /   130 tokens (    0.54 ms per token,  1841.72 tokens per second)\n",
      "llama_print_timings:        eval time =    1141.14 ms /    29 runs   (   39.35 ms per token,    25.41 tokens per second)\n",
      "llama_print_timings:       total time =    1259.93 ms /   159 tokens\n"
     ]
    },
    {
     "name": "stdout",
     "output_type": "stream",
     "text": [
      "8\n"
     ]
    },
    {
     "name": "stderr",
     "output_type": "stream",
     "text": [
      "Compiling FSM index for all state transitions:  49%|████▊     | 162/334 [00:01<00:01, 95.68it/s]\n",
      "\n",
      "llama_print_timings:        load time =     196.58 ms\n",
      "llama_print_timings:      sample time =      26.32 ms /    23 runs   (    1.14 ms per token,   873.73 tokens per second)\n",
      "llama_print_timings: prompt eval time =      62.32 ms /   124 tokens (    0.50 ms per token,  1989.86 tokens per second)\n",
      "llama_print_timings:        eval time =     864.43 ms /    22 runs   (   39.29 ms per token,    25.45 tokens per second)\n",
      "llama_print_timings:       total time =     961.05 ms /   146 tokens\n"
     ]
    },
    {
     "name": "stdout",
     "output_type": "stream",
     "text": [
      "9\n"
     ]
    },
    {
     "name": "stderr",
     "output_type": "stream",
     "text": [
      "Compiling FSM index for all state transitions:  50%|████▉     | 171/343 [00:01<00:01, 98.14it/s] \n",
      "\n",
      "llama_print_timings:        load time =     196.58 ms\n",
      "llama_print_timings:      sample time =      28.81 ms /    25 runs   (    1.15 ms per token,   867.84 tokens per second)\n",
      "llama_print_timings: prompt eval time =      62.56 ms /   126 tokens (    0.50 ms per token,  2014.16 tokens per second)\n",
      "llama_print_timings:        eval time =     943.38 ms /    24 runs   (   39.31 ms per token,    25.44 tokens per second)\n",
      "llama_print_timings:       total time =    1043.19 ms /   150 tokens\n"
     ]
    },
    {
     "name": "stdout",
     "output_type": "stream",
     "text": [
      "10\n"
     ]
    },
    {
     "name": "stderr",
     "output_type": "stream",
     "text": [
      "Compiling FSM index for all state transitions:  50%|█████     | 168/336 [00:01<00:01, 92.60it/s]\n",
      "\n",
      "llama_print_timings:        load time =     196.58 ms\n",
      "llama_print_timings:      sample time =      32.00 ms /    28 runs   (    1.14 ms per token,   875.14 tokens per second)\n",
      "llama_print_timings: prompt eval time =      78.22 ms /   172 tokens (    0.45 ms per token,  2198.84 tokens per second)\n",
      "llama_print_timings:        eval time =    1062.82 ms /    27 runs   (   39.36 ms per token,    25.40 tokens per second)\n",
      "llama_print_timings:       total time =    1182.06 ms /   199 tokens\n"
     ]
    },
    {
     "name": "stdout",
     "output_type": "stream",
     "text": [
      "11\n"
     ]
    },
    {
     "name": "stderr",
     "output_type": "stream",
     "text": [
      "\n",
      "llama_print_timings:        load time =     196.58 ms\n",
      "llama_print_timings:      sample time =      35.51 ms /    31 runs   (    1.15 ms per token,   872.94 tokens per second)\n",
      "llama_print_timings: prompt eval time =      70.70 ms /   132 tokens (    0.54 ms per token,  1867.04 tokens per second)\n",
      "llama_print_timings:        eval time =    1180.52 ms /    30 runs   (   39.35 ms per token,    25.41 tokens per second)\n",
      "llama_print_timings:       total time =    1296.39 ms /   162 tokens\n"
     ]
    },
    {
     "name": "stdout",
     "output_type": "stream",
     "text": [
      "12\n"
     ]
    },
    {
     "name": "stderr",
     "output_type": "stream",
     "text": [
      "Compiling FSM index for all state transitions:  49%|████▉     | 164/336 [00:01<00:01, 96.04it/s]\n",
      "\n",
      "llama_print_timings:        load time =     196.58 ms\n",
      "llama_print_timings:      sample time =      25.24 ms /    22 runs   (    1.15 ms per token,   871.63 tokens per second)\n",
      "llama_print_timings: prompt eval time =      63.70 ms /   119 tokens (    0.54 ms per token,  1868.13 tokens per second)\n",
      "llama_print_timings:        eval time =     824.57 ms /    21 runs   (   39.27 ms per token,    25.47 tokens per second)\n",
      "llama_print_timings:       total time =     920.53 ms /   140 tokens\n"
     ]
    },
    {
     "name": "stdout",
     "output_type": "stream",
     "text": [
      "13\n"
     ]
    },
    {
     "name": "stderr",
     "output_type": "stream",
     "text": [
      "Compiling FSM index for all state transitions:  52%|█████▏    | 358/694 [00:03<00:03, 95.80it/s] \n",
      "\n",
      "llama_print_timings:        load time =     196.58 ms\n",
      "llama_print_timings:      sample time =      58.40 ms /    48 runs   (    1.22 ms per token,   821.97 tokens per second)\n",
      "llama_print_timings: prompt eval time =      81.44 ms /   190 tokens (    0.43 ms per token,  2333.03 tokens per second)\n",
      "llama_print_timings:        eval time =    1850.84 ms /    47 runs   (   39.38 ms per token,    25.39 tokens per second)\n",
      "llama_print_timings:       total time =    2021.23 ms /   237 tokens\n"
     ]
    },
    {
     "name": "stdout",
     "output_type": "stream",
     "text": [
      "14\n"
     ]
    },
    {
     "name": "stderr",
     "output_type": "stream",
     "text": [
      "Compiling FSM index for all state transitions:  50%|█████     | 171/339 [00:01<00:01, 96.83it/s] \n",
      "\n",
      "llama_print_timings:        load time =     196.58 ms\n",
      "llama_print_timings:      sample time =      53.87 ms /    44 runs   (    1.22 ms per token,   816.78 tokens per second)\n",
      "llama_print_timings: prompt eval time =      71.08 ms /   132 tokens (    0.54 ms per token,  1857.11 tokens per second)\n",
      "llama_print_timings:        eval time =    1692.63 ms /    43 runs   (   39.36 ms per token,    25.40 tokens per second)\n",
      "llama_print_timings:       total time =    1849.03 ms /   175 tokens\n"
     ]
    },
    {
     "name": "stdout",
     "output_type": "stream",
     "text": [
      "15\n"
     ]
    },
    {
     "name": "stderr",
     "output_type": "stream",
     "text": [
      "Compiling FSM index for all state transitions:  44%|████▍     | 267/603 [00:03<00:03, 85.72it/s] \n",
      "\n",
      "llama_print_timings:        load time =     196.58 ms\n",
      "llama_print_timings:      sample time =      53.48 ms /    45 runs   (    1.19 ms per token,   841.44 tokens per second)\n",
      "llama_print_timings: prompt eval time =      93.77 ms /   227 tokens (    0.41 ms per token,  2420.95 tokens per second)\n",
      "llama_print_timings:        eval time =    1738.41 ms /    44 runs   (   39.51 ms per token,    25.31 tokens per second)\n",
      "llama_print_timings:       total time =    1911.86 ms /   271 tokens\n"
     ]
    },
    {
     "name": "stdout",
     "output_type": "stream",
     "text": [
      "16\n"
     ]
    },
    {
     "name": "stderr",
     "output_type": "stream",
     "text": [
      "Compiling FSM index for all state transitions:  44%|████▍     | 272/612 [00:03<00:03, 86.61it/s] \n",
      "\n",
      "llama_print_timings:        load time =     196.58 ms\n",
      "llama_print_timings:      sample time =      39.22 ms /    33 runs   (    1.19 ms per token,   841.47 tokens per second)\n",
      "llama_print_timings: prompt eval time =      76.68 ms /   165 tokens (    0.46 ms per token,  2151.91 tokens per second)\n",
      "llama_print_timings:        eval time =    1259.95 ms /    32 runs   (   39.37 ms per token,    25.40 tokens per second)\n",
      "llama_print_timings:       total time =    1395.10 ms /   197 tokens\n"
     ]
    },
    {
     "name": "stdout",
     "output_type": "stream",
     "text": [
      "17\n"
     ]
    },
    {
     "name": "stderr",
     "output_type": "stream",
     "text": [
      "\n",
      "llama_print_timings:        load time =     196.58 ms\n",
      "llama_print_timings:      sample time =      35.39 ms /    31 runs   (    1.14 ms per token,   875.93 tokens per second)\n",
      "llama_print_timings: prompt eval time =      62.13 ms /   123 tokens (    0.51 ms per token,  1979.62 tokens per second)\n",
      "llama_print_timings:        eval time =    1179.28 ms /    30 runs   (   39.31 ms per token,    25.44 tokens per second)\n",
      "llama_print_timings:       total time =    1286.69 ms /   153 tokens\n"
     ]
    },
    {
     "name": "stdout",
     "output_type": "stream",
     "text": [
      "18\n"
     ]
    },
    {
     "name": "stderr",
     "output_type": "stream",
     "text": [
      "\n",
      "llama_print_timings:        load time =     196.58 ms\n",
      "llama_print_timings:      sample time =      34.45 ms /    30 runs   (    1.15 ms per token,   870.75 tokens per second)\n",
      "llama_print_timings: prompt eval time =      55.54 ms /    94 tokens (    0.59 ms per token,  1692.41 tokens per second)\n",
      "llama_print_timings:        eval time =    1135.20 ms /    29 runs   (   39.14 ms per token,    25.55 tokens per second)\n",
      "llama_print_timings:       total time =    1234.23 ms /   123 tokens\n"
     ]
    },
    {
     "name": "stdout",
     "output_type": "stream",
     "text": [
      "19\n"
     ]
    },
    {
     "name": "stderr",
     "output_type": "stream",
     "text": [
      "\n",
      "llama_print_timings:        load time =     196.58 ms\n",
      "llama_print_timings:      sample time =      35.48 ms /    31 runs   (    1.14 ms per token,   873.63 tokens per second)\n",
      "llama_print_timings: prompt eval time =      58.69 ms /   117 tokens (    0.50 ms per token,  1993.59 tokens per second)\n",
      "llama_print_timings:        eval time =    1177.95 ms /    30 runs   (   39.27 ms per token,    25.47 tokens per second)\n",
      "llama_print_timings:       total time =    1281.24 ms /   147 tokens\n"
     ]
    },
    {
     "name": "stdout",
     "output_type": "stream",
     "text": [
      "20\n"
     ]
    },
    {
     "name": "stderr",
     "output_type": "stream",
     "text": [
      "\n",
      "llama_print_timings:        load time =     196.58 ms\n",
      "llama_print_timings:      sample time =      35.40 ms /    31 runs   (    1.14 ms per token,   875.73 tokens per second)\n",
      "llama_print_timings: prompt eval time =      57.99 ms /   111 tokens (    0.52 ms per token,  1913.99 tokens per second)\n",
      "llama_print_timings:        eval time =    1176.85 ms /    30 runs   (   39.23 ms per token,    25.49 tokens per second)\n",
      "llama_print_timings:       total time =    1280.03 ms /   141 tokens\n"
     ]
    },
    {
     "name": "stdout",
     "output_type": "stream",
     "text": [
      "21\n"
     ]
    },
    {
     "name": "stderr",
     "output_type": "stream",
     "text": [
      "\n",
      "llama_print_timings:        load time =     196.58 ms\n",
      "llama_print_timings:      sample time =      38.73 ms /    34 runs   (    1.14 ms per token,   877.99 tokens per second)\n",
      "llama_print_timings: prompt eval time =      70.14 ms /   129 tokens (    0.54 ms per token,  1839.26 tokens per second)\n",
      "llama_print_timings:        eval time =    1298.34 ms /    33 runs   (   39.34 ms per token,    25.42 tokens per second)\n",
      "llama_print_timings:       total time =    1417.97 ms /   162 tokens\n"
     ]
    },
    {
     "name": "stdout",
     "output_type": "stream",
     "text": [
      "22\n"
     ]
    },
    {
     "name": "stderr",
     "output_type": "stream",
     "text": [
      "\n",
      "llama_print_timings:        load time =     196.58 ms\n",
      "llama_print_timings:      sample time =      35.39 ms /    31 runs   (    1.14 ms per token,   875.98 tokens per second)\n",
      "llama_print_timings: prompt eval time =      62.79 ms /   128 tokens (    0.49 ms per token,  2038.51 tokens per second)\n",
      "llama_print_timings:        eval time =    1180.06 ms /    30 runs   (   39.34 ms per token,    25.42 tokens per second)\n",
      "llama_print_timings:       total time =    1287.49 ms /   158 tokens\n"
     ]
    },
    {
     "name": "stdout",
     "output_type": "stream",
     "text": [
      "23\n"
     ]
    },
    {
     "name": "stderr",
     "output_type": "stream",
     "text": [
      "Compiling FSM index for all state transitions:  49%|████▉     | 163/331 [00:01<00:01, 96.81it/s]\n",
      "\n",
      "llama_print_timings:        load time =     196.58 ms\n",
      "llama_print_timings:      sample time =      37.36 ms /    32 runs   (    1.17 ms per token,   856.55 tokens per second)\n",
      "llama_print_timings: prompt eval time =      76.08 ms /   161 tokens (    0.47 ms per token,  2116.22 tokens per second)\n",
      "llama_print_timings:        eval time =    1220.27 ms /    31 runs   (   39.36 ms per token,    25.40 tokens per second)\n",
      "llama_print_timings:       total time =    1347.96 ms /   192 tokens\n"
     ]
    },
    {
     "name": "stdout",
     "output_type": "stream",
     "text": [
      "24\n"
     ]
    },
    {
     "name": "stderr",
     "output_type": "stream",
     "text": [
      "\n",
      "llama_print_timings:        load time =     196.58 ms\n",
      "llama_print_timings:      sample time =      35.37 ms /    31 runs   (    1.14 ms per token,   876.57 tokens per second)\n",
      "llama_print_timings: prompt eval time =      58.83 ms /   117 tokens (    0.50 ms per token,  1988.95 tokens per second)\n",
      "llama_print_timings:        eval time =    1177.86 ms /    30 runs   (   39.26 ms per token,    25.47 tokens per second)\n",
      "llama_print_timings:       total time =    1281.27 ms /   147 tokens\n"
     ]
    },
    {
     "name": "stdout",
     "output_type": "stream",
     "text": [
      "25\n"
     ]
    },
    {
     "name": "stderr",
     "output_type": "stream",
     "text": [
      "Compiling FSM index for all state transitions: 100%|██████████| 115/115 [00:00<00:00, 175.65it/s]\n",
      "\n",
      "llama_print_timings:        load time =     196.58 ms\n",
      "llama_print_timings:      sample time =      52.57 ms /    45 runs   (    1.17 ms per token,   856.03 tokens per second)\n",
      "llama_print_timings: prompt eval time =      91.12 ms /   205 tokens (    0.44 ms per token,  2249.85 tokens per second)\n",
      "llama_print_timings:        eval time =    1732.79 ms /    44 runs   (   39.38 ms per token,    25.39 tokens per second)\n",
      "llama_print_timings:       total time =    1891.03 ms /   249 tokens\n"
     ]
    },
    {
     "name": "stdout",
     "output_type": "stream",
     "text": [
      "26\n"
     ]
    },
    {
     "name": "stderr",
     "output_type": "stream",
     "text": [
      "Compiling FSM index for all state transitions:  51%|█████▏    | 178/346 [00:01<00:01, 99.71it/s] \n",
      "\n",
      "llama_print_timings:        load time =     196.58 ms\n",
      "llama_print_timings:      sample time =      32.93 ms /    29 runs   (    1.14 ms per token,   880.74 tokens per second)\n",
      "llama_print_timings: prompt eval time =      81.45 ms /   177 tokens (    0.46 ms per token,  2172.98 tokens per second)\n",
      "llama_print_timings:        eval time =    1102.55 ms /    28 runs   (   39.38 ms per token,    25.40 tokens per second)\n",
      "llama_print_timings:       total time =    1225.81 ms /   205 tokens\n"
     ]
    },
    {
     "name": "stdout",
     "output_type": "stream",
     "text": [
      "27\n"
     ]
    },
    {
     "name": "stderr",
     "output_type": "stream",
     "text": [
      "\n",
      "llama_print_timings:        load time =     196.58 ms\n",
      "llama_print_timings:      sample time =      45.83 ms /    40 runs   (    1.15 ms per token,   872.87 tokens per second)\n",
      "llama_print_timings: prompt eval time =      87.66 ms /   200 tokens (    0.44 ms per token,  2281.44 tokens per second)\n",
      "llama_print_timings:        eval time =    1535.92 ms /    39 runs   (   39.38 ms per token,    25.39 tokens per second)\n",
      "llama_print_timings:       total time =    1682.06 ms /   239 tokens\n"
     ]
    },
    {
     "name": "stdout",
     "output_type": "stream",
     "text": [
      "28\n"
     ]
    },
    {
     "name": "stderr",
     "output_type": "stream",
     "text": [
      "Compiling FSM index for all state transitions: 100%|██████████| 116/116 [00:00<00:00, 151.23it/s]\n",
      "\n",
      "llama_print_timings:        load time =     196.58 ms\n",
      "llama_print_timings:      sample time =      48.95 ms /    43 runs   (    1.14 ms per token,   878.45 tokens per second)\n",
      "llama_print_timings: prompt eval time =      86.64 ms /   195 tokens (    0.44 ms per token,  2250.82 tokens per second)\n",
      "llama_print_timings:        eval time =    1653.92 ms /    42 runs   (   39.38 ms per token,    25.39 tokens per second)\n",
      "llama_print_timings:       total time =    1802.78 ms /   237 tokens\n"
     ]
    },
    {
     "name": "stdout",
     "output_type": "stream",
     "text": [
      "29\n"
     ]
    },
    {
     "name": "stderr",
     "output_type": "stream",
     "text": [
      "Compiling FSM index for all state transitions: 100%|██████████| 107/107 [00:00<00:00, 171.70it/s]\n",
      "\n",
      "llama_print_timings:        load time =     196.58 ms\n",
      "llama_print_timings:      sample time =      47.11 ms /    41 runs   (    1.15 ms per token,   870.23 tokens per second)\n",
      "llama_print_timings: prompt eval time =      89.52 ms /   211 tokens (    0.42 ms per token,  2357.04 tokens per second)\n",
      "llama_print_timings:        eval time =    1576.09 ms /    40 runs   (   39.40 ms per token,    25.38 tokens per second)\n",
      "llama_print_timings:       total time =    1725.84 ms /   251 tokens\n"
     ]
    },
    {
     "name": "stdout",
     "output_type": "stream",
     "text": [
      "30\n"
     ]
    },
    {
     "name": "stderr",
     "output_type": "stream",
     "text": [
      "Compiling FSM index for all state transitions:  98%|█████████▊| 137/140 [00:00<00:00, 165.29it/s]\n",
      "\n",
      "llama_print_timings:        load time =     196.58 ms\n",
      "llama_print_timings:      sample time =      45.74 ms /    40 runs   (    1.14 ms per token,   874.41 tokens per second)\n",
      "llama_print_timings: prompt eval time =      88.42 ms /   201 tokens (    0.44 ms per token,  2273.22 tokens per second)\n",
      "llama_print_timings:        eval time =    1535.78 ms /    39 runs   (   39.38 ms per token,    25.39 tokens per second)\n",
      "llama_print_timings:       total time =    1683.61 ms /   240 tokens\n"
     ]
    },
    {
     "name": "stdout",
     "output_type": "stream",
     "text": [
      "31\n"
     ]
    },
    {
     "name": "stderr",
     "output_type": "stream",
     "text": [
      "\n",
      "llama_print_timings:        load time =     196.58 ms\n",
      "llama_print_timings:      sample time =      50.29 ms /    44 runs   (    1.14 ms per token,   874.94 tokens per second)\n",
      "llama_print_timings: prompt eval time =      86.59 ms /   195 tokens (    0.44 ms per token,  2252.02 tokens per second)\n",
      "llama_print_timings:        eval time =    1693.03 ms /    43 runs   (   39.37 ms per token,    25.40 tokens per second)\n",
      "llama_print_timings:       total time =    1844.54 ms /   238 tokens\n"
     ]
    },
    {
     "name": "stdout",
     "output_type": "stream",
     "text": [
      "32\n"
     ]
    },
    {
     "name": "stderr",
     "output_type": "stream",
     "text": [
      "Compiling FSM index for all state transitions: 100%|██████████| 112/112 [00:00<00:00, 172.49it/s]\n",
      "\n",
      "llama_print_timings:        load time =     196.58 ms\n",
      "llama_print_timings:      sample time =      49.61 ms /    43 runs   (    1.15 ms per token,   866.76 tokens per second)\n",
      "llama_print_timings: prompt eval time =      77.63 ms /   170 tokens (    0.46 ms per token,  2189.82 tokens per second)\n",
      "llama_print_timings:        eval time =    1653.99 ms /    42 runs   (   39.38 ms per token,    25.39 tokens per second)\n",
      "llama_print_timings:       total time =    1795.61 ms /   212 tokens\n"
     ]
    },
    {
     "name": "stdout",
     "output_type": "stream",
     "text": [
      "33\n"
     ]
    },
    {
     "name": "stderr",
     "output_type": "stream",
     "text": [
      "Compiling FSM index for all state transitions:  41%|████▏     | 356/860 [00:04<00:06, 78.91it/s] \n",
      "\n",
      "llama_print_timings:        load time =     196.58 ms\n",
      "llama_print_timings:      sample time =      53.94 ms /    45 runs   (    1.20 ms per token,   834.23 tokens per second)\n",
      "llama_print_timings: prompt eval time =      81.85 ms /   173 tokens (    0.47 ms per token,  2113.57 tokens per second)\n",
      "llama_print_timings:        eval time =    1732.55 ms /    44 runs   (   39.38 ms per token,    25.40 tokens per second)\n",
      "llama_print_timings:       total time =    1901.76 ms /   217 tokens\n"
     ]
    },
    {
     "name": "stdout",
     "output_type": "stream",
     "text": [
      "34\n"
     ]
    },
    {
     "name": "stderr",
     "output_type": "stream",
     "text": [
      "Compiling FSM index for all state transitions:  47%|████▋     | 301/637 [00:03<00:03, 91.59it/s] \n",
      "\n",
      "llama_print_timings:        load time =     196.58 ms\n",
      "llama_print_timings:      sample time =      64.18 ms /    55 runs   (    1.17 ms per token,   857.02 tokens per second)\n",
      "llama_print_timings: prompt eval time =      92.06 ms /   224 tokens (    0.41 ms per token,  2433.12 tokens per second)\n",
      "llama_print_timings:        eval time =    2134.29 ms /    54 runs   (   39.52 ms per token,    25.30 tokens per second)\n",
      "llama_print_timings:       total time =    2317.65 ms /   278 tokens\n"
     ]
    },
    {
     "name": "stdout",
     "output_type": "stream",
     "text": [
      "35\n"
     ]
    },
    {
     "name": "stderr",
     "output_type": "stream",
     "text": [
      "Compiling FSM index for all state transitions:  51%|█████▏    | 182/354 [00:01<00:01, 100.13it/s]\n",
      "\n",
      "llama_print_timings:        load time =     196.58 ms\n",
      "llama_print_timings:      sample time =      50.50 ms /    43 runs   (    1.17 ms per token,   851.45 tokens per second)\n",
      "llama_print_timings: prompt eval time =      82.59 ms /   192 tokens (    0.43 ms per token,  2324.76 tokens per second)\n",
      "llama_print_timings:        eval time =    1653.66 ms /    42 runs   (   39.37 ms per token,    25.40 tokens per second)\n",
      "llama_print_timings:       total time =    1807.91 ms /   234 tokens\n"
     ]
    },
    {
     "name": "stdout",
     "output_type": "stream",
     "text": [
      "36\n"
     ]
    },
    {
     "name": "stderr",
     "output_type": "stream",
     "text": [
      "Compiling FSM index for all state transitions:  41%|████▏     | 356/860 [00:04<00:06, 79.27it/s] \n",
      "\n",
      "llama_print_timings:        load time =     196.58 ms\n",
      "llama_print_timings:      sample time =      46.75 ms /    39 runs   (    1.20 ms per token,   834.30 tokens per second)\n",
      "llama_print_timings: prompt eval time =      77.99 ms /   170 tokens (    0.46 ms per token,  2179.85 tokens per second)\n",
      "llama_print_timings:        eval time =    1495.87 ms /    38 runs   (   39.37 ms per token,    25.40 tokens per second)\n",
      "llama_print_timings:       total time =    1650.32 ms /   208 tokens\n"
     ]
    },
    {
     "name": "stdout",
     "output_type": "stream",
     "text": [
      "37\n"
     ]
    },
    {
     "name": "stderr",
     "output_type": "stream",
     "text": [
      "Compiling FSM index for all state transitions:  36%|███▋      | 1062/2914 [00:15<00:27, 68.48it/s]\n",
      "\n",
      "llama_print_timings:        load time =     196.58 ms\n",
      "llama_print_timings:      sample time =      60.10 ms /    50 runs   (    1.20 ms per token,   831.95 tokens per second)\n",
      "llama_print_timings: prompt eval time =      94.31 ms /   202 tokens (    0.47 ms per token,  2141.90 tokens per second)\n",
      "llama_print_timings:        eval time =    1929.43 ms /    49 runs   (   39.38 ms per token,    25.40 tokens per second)\n",
      "llama_print_timings:       total time =    2124.70 ms /   251 tokens\n"
     ]
    },
    {
     "name": "stdout",
     "output_type": "stream",
     "text": [
      "38\n"
     ]
    },
    {
     "name": "stderr",
     "output_type": "stream",
     "text": [
      "Compiling FSM index for all state transitions: 100%|██████████| 149/149 [00:00<00:00, 170.38it/s]\n",
      "\n",
      "llama_print_timings:        load time =     196.58 ms\n",
      "llama_print_timings:      sample time =      69.89 ms /    61 runs   (    1.15 ms per token,   872.78 tokens per second)\n",
      "llama_print_timings: prompt eval time =      90.02 ms /   211 tokens (    0.43 ms per token,  2343.92 tokens per second)\n",
      "llama_print_timings:        eval time =    2367.80 ms /    60 runs   (   39.46 ms per token,    25.34 tokens per second)\n",
      "llama_print_timings:       total time =    2548.33 ms /   271 tokens\n"
     ]
    },
    {
     "name": "stdout",
     "output_type": "stream",
     "text": [
      "39\n"
     ]
    },
    {
     "name": "stderr",
     "output_type": "stream",
     "text": [
      "Compiling FSM index for all state transitions: 100%|██████████| 111/111 [00:00<00:00, 161.26it/s]\n",
      "\n",
      "llama_print_timings:        load time =     196.58 ms\n",
      "llama_print_timings:      sample time =      34.24 ms /    30 runs   (    1.14 ms per token,   876.27 tokens per second)\n",
      "llama_print_timings: prompt eval time =      82.54 ms /   182 tokens (    0.45 ms per token,  2204.91 tokens per second)\n",
      "llama_print_timings:        eval time =    1141.81 ms /    29 runs   (   39.37 ms per token,    25.40 tokens per second)\n",
      "llama_print_timings:       total time =    1268.71 ms /   211 tokens\n"
     ]
    },
    {
     "name": "stdout",
     "output_type": "stream",
     "text": [
      "40\n"
     ]
    },
    {
     "name": "stderr",
     "output_type": "stream",
     "text": [
      "Compiling FSM index for all state transitions: 100%|██████████| 111/111 [00:00<00:00, 171.61it/s]\n",
      "\n",
      "llama_print_timings:        load time =     196.58 ms\n",
      "llama_print_timings:      sample time =      34.64 ms /    30 runs   (    1.15 ms per token,   866.03 tokens per second)\n",
      "llama_print_timings: prompt eval time =      83.42 ms /   186 tokens (    0.45 ms per token,  2229.57 tokens per second)\n",
      "llama_print_timings:        eval time =    1141.89 ms /    29 runs   (   39.38 ms per token,    25.40 tokens per second)\n",
      "llama_print_timings:       total time =    1269.80 ms /   215 tokens\n"
     ]
    },
    {
     "name": "stdout",
     "output_type": "stream",
     "text": [
      "41\n"
     ]
    },
    {
     "name": "stderr",
     "output_type": "stream",
     "text": [
      "Compiling FSM index for all state transitions: 100%|██████████| 133/133 [00:00<00:00, 154.47it/s]\n",
      "\n",
      "llama_print_timings:        load time =     196.58 ms\n",
      "llama_print_timings:      sample time =      44.83 ms /    36 runs   (    1.25 ms per token,   803.02 tokens per second)\n",
      "llama_print_timings: prompt eval time =      92.82 ms /   226 tokens (    0.41 ms per token,  2434.90 tokens per second)\n",
      "llama_print_timings:        eval time =    1380.78 ms /    35 runs   (   39.45 ms per token,    25.35 tokens per second)\n",
      "llama_print_timings:       total time =    1531.38 ms /   261 tokens\n"
     ]
    },
    {
     "name": "stdout",
     "output_type": "stream",
     "text": [
      "42\n"
     ]
    },
    {
     "name": "stderr",
     "output_type": "stream",
     "text": [
      "Compiling FSM index for all state transitions: 100%|██████████| 125/125 [00:00<00:00, 163.42it/s]\n",
      "\n",
      "llama_print_timings:        load time =     196.58 ms\n",
      "llama_print_timings:      sample time =      59.63 ms /    52 runs   (    1.15 ms per token,   872.10 tokens per second)\n",
      "llama_print_timings: prompt eval time =      88.32 ms /   203 tokens (    0.44 ms per token,  2298.54 tokens per second)\n",
      "llama_print_timings:        eval time =    2008.33 ms /    51 runs   (   39.38 ms per token,    25.39 tokens per second)\n",
      "llama_print_timings:       total time =    2174.11 ms /   254 tokens\n"
     ]
    },
    {
     "name": "stdout",
     "output_type": "stream",
     "text": [
      "43\n"
     ]
    },
    {
     "name": "stderr",
     "output_type": "stream",
     "text": [
      "Compiling FSM index for all state transitions: 100%|██████████| 122/122 [00:00<00:00, 173.54it/s]\n",
      "\n",
      "llama_print_timings:        load time =     196.58 ms\n",
      "llama_print_timings:      sample time =      39.86 ms /    35 runs   (    1.14 ms per token,   878.05 tokens per second)\n",
      "llama_print_timings: prompt eval time =      88.45 ms /   204 tokens (    0.43 ms per token,  2306.34 tokens per second)\n",
      "llama_print_timings:        eval time =    1338.89 ms /    34 runs   (   39.38 ms per token,    25.39 tokens per second)\n",
      "llama_print_timings:       total time =    1478.47 ms /   238 tokens\n"
     ]
    },
    {
     "name": "stdout",
     "output_type": "stream",
     "text": [
      "44\n"
     ]
    },
    {
     "name": "stderr",
     "output_type": "stream",
     "text": [
      "Compiling FSM index for all state transitions:  54%|█████▍    | 198/366 [00:01<00:01, 102.57it/s]\n",
      "\n",
      "llama_print_timings:        load time =     196.58 ms\n",
      "llama_print_timings:      sample time =      41.39 ms /    36 runs   (    1.15 ms per token,   869.86 tokens per second)\n",
      "llama_print_timings: prompt eval time =      78.53 ms /   174 tokens (    0.45 ms per token,  2215.80 tokens per second)\n",
      "llama_print_timings:        eval time =    1378.05 ms /    35 runs   (   39.37 ms per token,    25.40 tokens per second)\n",
      "llama_print_timings:       total time =    1509.98 ms /   209 tokens\n"
     ]
    },
    {
     "name": "stdout",
     "output_type": "stream",
     "text": [
      "45\n"
     ]
    },
    {
     "name": "stderr",
     "output_type": "stream",
     "text": [
      "Compiling FSM index for all state transitions:  45%|████▍     | 275/615 [00:03<00:04, 83.58it/s]\n",
      "\n",
      "llama_print_timings:        load time =     196.58 ms\n",
      "llama_print_timings:      sample time =      43.51 ms /    37 runs   (    1.18 ms per token,   850.34 tokens per second)\n",
      "llama_print_timings: prompt eval time =      89.86 ms /   205 tokens (    0.44 ms per token,  2281.40 tokens per second)\n",
      "llama_print_timings:        eval time =    1418.08 ms /    36 runs   (   39.39 ms per token,    25.39 tokens per second)\n",
      "llama_print_timings:       total time =    1570.53 ms /   241 tokens\n"
     ]
    },
    {
     "name": "stdout",
     "output_type": "stream",
     "text": [
      "46\n"
     ]
    },
    {
     "name": "stderr",
     "output_type": "stream",
     "text": [
      "Compiling FSM index for all state transitions: 100%|██████████| 163/163 [00:00<00:00, 172.16it/s]\n",
      "\n",
      "llama_print_timings:        load time =     196.58 ms\n",
      "llama_print_timings:      sample time =      58.92 ms /    52 runs   (    1.13 ms per token,   882.57 tokens per second)\n",
      "llama_print_timings: prompt eval time =     127.34 ms /   284 tokens (    0.45 ms per token,  2230.27 tokens per second)\n",
      "llama_print_timings:        eval time =    2025.70 ms /    51 runs   (   39.72 ms per token,    25.18 tokens per second)\n",
      "llama_print_timings:       total time =    2229.93 ms /   335 tokens\n"
     ]
    },
    {
     "name": "stdout",
     "output_type": "stream",
     "text": [
      "47\n"
     ]
    },
    {
     "name": "stderr",
     "output_type": "stream",
     "text": [
      "\n",
      "llama_print_timings:        load time =     196.58 ms\n",
      "llama_print_timings:      sample time =      43.90 ms /    38 runs   (    1.16 ms per token,   865.54 tokens per second)\n",
      "llama_print_timings: prompt eval time =      72.95 ms /   145 tokens (    0.50 ms per token,  1987.77 tokens per second)\n",
      "llama_print_timings:        eval time =    1456.16 ms /    37 runs   (   39.36 ms per token,    25.41 tokens per second)\n",
      "llama_print_timings:       total time =    1588.70 ms /   182 tokens\n"
     ]
    },
    {
     "name": "stdout",
     "output_type": "stream",
     "text": [
      "48\n"
     ]
    },
    {
     "name": "stderr",
     "output_type": "stream",
     "text": [
      "Compiling FSM index for all state transitions:  50%|█████     | 171/339 [00:01<00:01, 96.35it/s] \n",
      "\n",
      "llama_print_timings:        load time =     196.58 ms\n",
      "llama_print_timings:      sample time =      33.80 ms /    29 runs   (    1.17 ms per token,   858.01 tokens per second)\n",
      "llama_print_timings: prompt eval time =      77.99 ms /   167 tokens (    0.47 ms per token,  2141.36 tokens per second)\n",
      "llama_print_timings:        eval time =    1102.31 ms /    28 runs   (   39.37 ms per token,    25.40 tokens per second)\n",
      "llama_print_timings:       total time =    1223.71 ms /   195 tokens\n"
     ]
    },
    {
     "name": "stdout",
     "output_type": "stream",
     "text": [
      "49\n"
     ]
    },
    {
     "name": "stderr",
     "output_type": "stream",
     "text": [
      "Compiling FSM index for all state transitions: 100%|██████████| 96/96 [00:00<00:00, 175.41it/s]\n",
      "\n",
      "llama_print_timings:        load time =     196.58 ms\n",
      "llama_print_timings:      sample time =      42.18 ms /    37 runs   (    1.14 ms per token,   877.15 tokens per second)\n",
      "llama_print_timings: prompt eval time =      77.22 ms /   167 tokens (    0.46 ms per token,  2162.57 tokens per second)\n",
      "llama_print_timings:        eval time =    1417.02 ms /    36 runs   (   39.36 ms per token,    25.41 tokens per second)\n",
      "llama_print_timings:       total time =    1548.66 ms /   203 tokens\n"
     ]
    },
    {
     "name": "stdout",
     "output_type": "stream",
     "text": [
      "50\n"
     ]
    },
    {
     "name": "stderr",
     "output_type": "stream",
     "text": [
      "Compiling FSM index for all state transitions:  58%|█████▊    | 239/411 [00:02<00:01, 111.48it/s]\n",
      "\n",
      "llama_print_timings:        load time =     196.58 ms\n",
      "llama_print_timings:      sample time =      66.85 ms /    58 runs   (    1.15 ms per token,   867.59 tokens per second)\n",
      "llama_print_timings: prompt eval time =     123.45 ms /   266 tokens (    0.46 ms per token,  2154.72 tokens per second)\n",
      "llama_print_timings:        eval time =    2264.00 ms /    57 runs   (   39.72 ms per token,    25.18 tokens per second)\n",
      "llama_print_timings:       total time =    2476.60 ms /   323 tokens\n"
     ]
    },
    {
     "name": "stdout",
     "output_type": "stream",
     "text": [
      "51\n"
     ]
    },
    {
     "name": "stderr",
     "output_type": "stream",
     "text": [
      "Compiling FSM index for all state transitions: 100%|██████████| 139/139 [00:00<00:00, 175.05it/s]\n",
      "\n",
      "llama_print_timings:        load time =     196.58 ms\n",
      "llama_print_timings:      sample time =      53.65 ms /    47 runs   (    1.14 ms per token,   875.98 tokens per second)\n",
      "llama_print_timings: prompt eval time =      91.05 ms /   218 tokens (    0.42 ms per token,  2394.34 tokens per second)\n",
      "llama_print_timings:        eval time =    1814.19 ms /    46 runs   (   39.44 ms per token,    25.36 tokens per second)\n",
      "llama_print_timings:       total time =    1974.38 ms /   264 tokens\n"
     ]
    },
    {
     "name": "stdout",
     "output_type": "stream",
     "text": [
      "52\n"
     ]
    },
    {
     "name": "stderr",
     "output_type": "stream",
     "text": [
      "Compiling FSM index for all state transitions:  50%|█████     | 171/339 [00:01<00:01, 96.70it/s] \n",
      "\n",
      "llama_print_timings:        load time =     196.58 ms\n",
      "llama_print_timings:      sample time =      36.39 ms /    32 runs   (    1.14 ms per token,   879.29 tokens per second)\n",
      "llama_print_timings: prompt eval time =      80.69 ms /   169 tokens (    0.48 ms per token,  2094.36 tokens per second)\n",
      "llama_print_timings:        eval time =    1220.02 ms /    31 runs   (   39.36 ms per token,    25.41 tokens per second)\n",
      "llama_print_timings:       total time =    1347.19 ms /   200 tokens\n"
     ]
    },
    {
     "name": "stdout",
     "output_type": "stream",
     "text": [
      "53\n"
     ]
    },
    {
     "name": "stderr",
     "output_type": "stream",
     "text": [
      "Compiling FSM index for all state transitions:  44%|████▎     | 261/597 [00:03<00:03, 84.36it/s]\n",
      "\n",
      "llama_print_timings:        load time =     196.58 ms\n",
      "llama_print_timings:      sample time =      37.24 ms /    31 runs   (    1.20 ms per token,   832.46 tokens per second)\n",
      "llama_print_timings: prompt eval time =      80.48 ms /   179 tokens (    0.45 ms per token,  2224.18 tokens per second)\n",
      "llama_print_timings:        eval time =    1181.51 ms /    30 runs   (   39.38 ms per token,    25.39 tokens per second)\n",
      "llama_print_timings:       total time =    1319.15 ms /   209 tokens\n"
     ]
    },
    {
     "name": "stdout",
     "output_type": "stream",
     "text": [
      "54\n"
     ]
    },
    {
     "name": "stderr",
     "output_type": "stream",
     "text": [
      "Compiling FSM index for all state transitions:  42%|████▏     | 245/581 [00:02<00:04, 81.85it/s]\n",
      "\n",
      "llama_print_timings:        load time =     196.58 ms\n",
      "llama_print_timings:      sample time =      45.38 ms /    38 runs   (    1.19 ms per token,   837.30 tokens per second)\n",
      "llama_print_timings: prompt eval time =      71.75 ms /   132 tokens (    0.54 ms per token,  1839.75 tokens per second)\n",
      "llama_print_timings:        eval time =    1455.95 ms /    37 runs   (   39.35 ms per token,    25.41 tokens per second)\n",
      "llama_print_timings:       total time =    1599.77 ms /   169 tokens\n"
     ]
    },
    {
     "name": "stdout",
     "output_type": "stream",
     "text": [
      "55\n"
     ]
    },
    {
     "name": "stderr",
     "output_type": "stream",
     "text": [
      "Compiling FSM index for all state transitions:  50%|█████     | 173/345 [00:01<00:01, 97.35it/s] \n",
      "\n",
      "llama_print_timings:        load time =     196.58 ms\n",
      "llama_print_timings:      sample time =      39.37 ms /    34 runs   (    1.16 ms per token,   863.60 tokens per second)\n",
      "llama_print_timings: prompt eval time =      71.22 ms /   133 tokens (    0.54 ms per token,  1867.35 tokens per second)\n",
      "llama_print_timings:        eval time =    1298.08 ms /    33 runs   (   39.34 ms per token,    25.42 tokens per second)\n",
      "llama_print_timings:       total time =    1423.80 ms /   166 tokens\n"
     ]
    },
    {
     "name": "stdout",
     "output_type": "stream",
     "text": [
      "56\n"
     ]
    },
    {
     "name": "stderr",
     "output_type": "stream",
     "text": [
      "Compiling FSM index for all state transitions:  52%|█████▏    | 190/362 [00:01<00:01, 99.84it/s] \n",
      "\n",
      "llama_print_timings:        load time =     196.58 ms\n",
      "llama_print_timings:      sample time =      47.30 ms /    40 runs   (    1.18 ms per token,   845.59 tokens per second)\n",
      "llama_print_timings: prompt eval time =      72.15 ms /   138 tokens (    0.52 ms per token,  1912.63 tokens per second)\n",
      "llama_print_timings:        eval time =    1534.57 ms /    39 runs   (   39.35 ms per token,    25.41 tokens per second)\n",
      "llama_print_timings:       total time =    1677.65 ms /   177 tokens\n"
     ]
    },
    {
     "name": "stdout",
     "output_type": "stream",
     "text": [
      "57\n"
     ]
    },
    {
     "name": "stderr",
     "output_type": "stream",
     "text": [
      "Compiling FSM index for all state transitions: 100%|██████████| 130/130 [00:00<00:00, 173.13it/s]\n",
      "\n",
      "llama_print_timings:        load time =     196.58 ms\n",
      "llama_print_timings:      sample time =      54.96 ms /    48 runs   (    1.14 ms per token,   873.41 tokens per second)\n",
      "llama_print_timings: prompt eval time =      89.22 ms /   208 tokens (    0.43 ms per token,  2331.24 tokens per second)\n",
      "llama_print_timings:        eval time =    1850.77 ms /    47 runs   (   39.38 ms per token,    25.39 tokens per second)\n",
      "llama_print_timings:       total time =    2011.19 ms /   255 tokens\n"
     ]
    },
    {
     "name": "stdout",
     "output_type": "stream",
     "text": [
      "58\n"
     ]
    },
    {
     "name": "stderr",
     "output_type": "stream",
     "text": [
      "\n",
      "llama_print_timings:        load time =     196.58 ms\n",
      "llama_print_timings:      sample time =      57.88 ms /    48 runs   (    1.21 ms per token,   829.23 tokens per second)\n",
      "llama_print_timings: prompt eval time =      79.05 ms /   176 tokens (    0.45 ms per token,  2226.52 tokens per second)\n",
      "llama_print_timings:        eval time =    1850.71 ms /    47 runs   (   39.38 ms per token,    25.40 tokens per second)\n",
      "llama_print_timings:       total time =    2021.15 ms /   223 tokens\n"
     ]
    },
    {
     "name": "stdout",
     "output_type": "stream",
     "text": [
      "59\n"
     ]
    },
    {
     "name": "stderr",
     "output_type": "stream",
     "text": [
      "\n",
      "llama_print_timings:        load time =     196.58 ms\n",
      "llama_print_timings:      sample time =      54.91 ms /    44 runs   (    1.25 ms per token,   801.25 tokens per second)\n",
      "llama_print_timings: prompt eval time =      72.42 ms /   141 tokens (    0.51 ms per token,  1947.06 tokens per second)\n",
      "llama_print_timings:        eval time =    1692.28 ms /    43 runs   (   39.36 ms per token,    25.41 tokens per second)\n",
      "llama_print_timings:       total time =    1853.55 ms /   184 tokens\n"
     ]
    },
    {
     "name": "stdout",
     "output_type": "stream",
     "text": [
      "60\n"
     ]
    },
    {
     "name": "stderr",
     "output_type": "stream",
     "text": [
      "Compiling FSM index for all state transitions:  42%|████▏     | 245/585 [00:03<00:04, 81.12it/s]\n",
      "\n",
      "llama_print_timings:        load time =     196.58 ms\n",
      "llama_print_timings:      sample time =      41.01 ms /    34 runs   (    1.21 ms per token,   829.03 tokens per second)\n",
      "llama_print_timings: prompt eval time =      82.11 ms /   189 tokens (    0.43 ms per token,  2301.73 tokens per second)\n",
      "llama_print_timings:        eval time =    1299.45 ms /    33 runs   (   39.38 ms per token,    25.40 tokens per second)\n",
      "llama_print_timings:       total time =    1450.60 ms /   222 tokens\n"
     ]
    },
    {
     "name": "stdout",
     "output_type": "stream",
     "text": [
      "61\n"
     ]
    },
    {
     "name": "stderr",
     "output_type": "stream",
     "text": [
      "\n",
      "llama_print_timings:        load time =     196.58 ms\n",
      "llama_print_timings:      sample time =      50.65 ms /    43 runs   (    1.18 ms per token,   849.00 tokens per second)\n",
      "llama_print_timings: prompt eval time =      88.11 ms /   202 tokens (    0.44 ms per token,  2292.48 tokens per second)\n",
      "llama_print_timings:        eval time =    1653.77 ms /    42 runs   (   39.38 ms per token,    25.40 tokens per second)\n",
      "llama_print_timings:       total time =    1811.18 ms /   244 tokens\n"
     ]
    },
    {
     "name": "stdout",
     "output_type": "stream",
     "text": [
      "62\n"
     ]
    },
    {
     "name": "stderr",
     "output_type": "stream",
     "text": [
      "Compiling FSM index for all state transitions:  42%|████▏     | 365/869 [00:04<00:06, 78.27it/s] \n",
      "\n",
      "llama_print_timings:        load time =     196.58 ms\n",
      "llama_print_timings:      sample time =      82.28 ms /    66 runs   (    1.25 ms per token,   802.19 tokens per second)\n",
      "llama_print_timings: prompt eval time =      92.09 ms /   214 tokens (    0.43 ms per token,  2323.89 tokens per second)\n",
      "llama_print_timings:        eval time =    2567.89 ms /    65 runs   (   39.51 ms per token,    25.31 tokens per second)\n",
      "llama_print_timings:       total time =    2818.69 ms /   279 tokens\n"
     ]
    },
    {
     "name": "stdout",
     "output_type": "stream",
     "text": [
      "63\n"
     ]
    },
    {
     "name": "stderr",
     "output_type": "stream",
     "text": [
      "Compiling FSM index for all state transitions:  41%|████▏     | 357/865 [00:04<00:06, 80.05it/s]\n",
      "\n",
      "llama_print_timings:        load time =     196.58 ms\n",
      "llama_print_timings:      sample time =      53.11 ms /    45 runs   (    1.18 ms per token,   847.31 tokens per second)\n",
      "llama_print_timings: prompt eval time =      77.27 ms /   164 tokens (    0.47 ms per token,  2122.46 tokens per second)\n",
      "llama_print_timings:        eval time =    1732.11 ms /    44 runs   (   39.37 ms per token,    25.40 tokens per second)\n",
      "llama_print_timings:       total time =    1889.64 ms /   208 tokens\n"
     ]
    },
    {
     "name": "stdout",
     "output_type": "stream",
     "text": [
      "64\n"
     ]
    },
    {
     "name": "stderr",
     "output_type": "stream",
     "text": [
      "\n",
      "llama_print_timings:        load time =     196.58 ms\n",
      "llama_print_timings:      sample time =      42.99 ms /    37 runs   (    1.16 ms per token,   860.73 tokens per second)\n",
      "llama_print_timings: prompt eval time =      78.91 ms /   176 tokens (    0.45 ms per token,  2230.36 tokens per second)\n",
      "llama_print_timings:        eval time =    1417.46 ms /    36 runs   (   39.37 ms per token,    25.40 tokens per second)\n",
      "llama_print_timings:       total time =    1554.69 ms /   212 tokens\n"
     ]
    },
    {
     "name": "stdout",
     "output_type": "stream",
     "text": [
      "65\n"
     ]
    },
    {
     "name": "stderr",
     "output_type": "stream",
     "text": [
      "\n",
      "llama_print_timings:        load time =     196.58 ms\n",
      "llama_print_timings:      sample time =      74.23 ms /    61 runs   (    1.22 ms per token,   821.77 tokens per second)\n",
      "llama_print_timings: prompt eval time =      89.21 ms /   208 tokens (    0.43 ms per token,  2331.50 tokens per second)\n",
      "llama_print_timings:        eval time =    2368.32 ms /    60 runs   (   39.47 ms per token,    25.33 tokens per second)\n",
      "llama_print_timings:       total time =    2567.25 ms /   268 tokens\n"
     ]
    },
    {
     "name": "stdout",
     "output_type": "stream",
     "text": [
      "66\n"
     ]
    },
    {
     "name": "stderr",
     "output_type": "stream",
     "text": [
      "\n",
      "llama_print_timings:        load time =     196.58 ms\n",
      "llama_print_timings:      sample time =      50.99 ms /    43 runs   (    1.19 ms per token,   843.24 tokens per second)\n",
      "llama_print_timings: prompt eval time =      76.79 ms /   164 tokens (    0.47 ms per token,  2135.69 tokens per second)\n",
      "llama_print_timings:        eval time =    1653.37 ms /    42 runs   (   39.37 ms per token,    25.40 tokens per second)\n",
      "llama_print_timings:       total time =    1811.77 ms /   206 tokens\n"
     ]
    },
    {
     "name": "stdout",
     "output_type": "stream",
     "text": [
      "67\n"
     ]
    },
    {
     "name": "stderr",
     "output_type": "stream",
     "text": [
      "Compiling FSM index for all state transitions:  40%|███▉      | 335/839 [00:04<00:06, 76.60it/s]\n",
      "\n",
      "llama_print_timings:        load time =     196.58 ms\n",
      "llama_print_timings:      sample time =      42.85 ms /    36 runs   (    1.19 ms per token,   840.06 tokens per second)\n",
      "llama_print_timings: prompt eval time =      73.06 ms /   146 tokens (    0.50 ms per token,  1998.36 tokens per second)\n",
      "llama_print_timings:        eval time =    1377.41 ms /    35 runs   (   39.35 ms per token,    25.41 tokens per second)\n",
      "llama_print_timings:       total time =    1516.91 ms /   181 tokens\n"
     ]
    },
    {
     "name": "stdout",
     "output_type": "stream",
     "text": [
      "68\n"
     ]
    },
    {
     "name": "stderr",
     "output_type": "stream",
     "text": [
      "Compiling FSM index for all state transitions:  54%|█████▍    | 199/367 [00:01<00:01, 101.43it/s]\n",
      "\n",
      "llama_print_timings:        load time =     196.58 ms\n",
      "llama_print_timings:      sample time =      53.92 ms /    46 runs   (    1.17 ms per token,   853.05 tokens per second)\n",
      "llama_print_timings: prompt eval time =      79.47 ms /   179 tokens (    0.44 ms per token,  2252.54 tokens per second)\n",
      "llama_print_timings:        eval time =    1771.57 ms /    45 runs   (   39.37 ms per token,    25.40 tokens per second)\n",
      "llama_print_timings:       total time =    1929.16 ms /   224 tokens\n"
     ]
    },
    {
     "name": "stdout",
     "output_type": "stream",
     "text": [
      "69\n"
     ]
    },
    {
     "name": "stderr",
     "output_type": "stream",
     "text": [
      "Compiling FSM index for all state transitions:  53%|█████▎    | 192/364 [00:01<00:01, 99.69it/s] \n",
      "\n",
      "llama_print_timings:        load time =     196.58 ms\n",
      "llama_print_timings:      sample time =      47.19 ms /    40 runs   (    1.18 ms per token,   847.62 tokens per second)\n",
      "llama_print_timings: prompt eval time =      76.44 ms /   162 tokens (    0.47 ms per token,  2119.23 tokens per second)\n",
      "llama_print_timings:        eval time =    1535.63 ms /    39 runs   (   39.38 ms per token,    25.40 tokens per second)\n",
      "llama_print_timings:       total time =    1680.04 ms /   201 tokens\n"
     ]
    },
    {
     "name": "stdout",
     "output_type": "stream",
     "text": [
      "70\n"
     ]
    },
    {
     "name": "stderr",
     "output_type": "stream",
     "text": [
      "Compiling FSM index for all state transitions:  56%|█████▌    | 210/378 [00:02<00:01, 103.86it/s]\n",
      "\n",
      "llama_print_timings:        load time =     196.58 ms\n",
      "llama_print_timings:      sample time =      46.29 ms /    40 runs   (    1.16 ms per token,   864.17 tokens per second)\n",
      "llama_print_timings: prompt eval time =      91.68 ms /   219 tokens (    0.42 ms per token,  2388.80 tokens per second)\n",
      "llama_print_timings:        eval time =    1536.77 ms /    39 runs   (   39.40 ms per token,    25.38 tokens per second)\n",
      "llama_print_timings:       total time =    1691.38 ms /   258 tokens\n"
     ]
    },
    {
     "name": "stdout",
     "output_type": "stream",
     "text": [
      "71\n"
     ]
    },
    {
     "name": "stderr",
     "output_type": "stream",
     "text": [
      "\n",
      "llama_print_timings:        load time =     196.58 ms\n",
      "llama_print_timings:      sample time =      42.33 ms /    36 runs   (    1.18 ms per token,   850.54 tokens per second)\n",
      "llama_print_timings: prompt eval time =      79.83 ms /   171 tokens (    0.47 ms per token,  2142.03 tokens per second)\n",
      "llama_print_timings:        eval time =    1377.94 ms /    35 runs   (   39.37 ms per token,    25.40 tokens per second)\n",
      "llama_print_timings:       total time =    1519.21 ms /   206 tokens\n"
     ]
    },
    {
     "name": "stdout",
     "output_type": "stream",
     "text": [
      "72\n"
     ]
    },
    {
     "name": "stderr",
     "output_type": "stream",
     "text": [
      "\n",
      "llama_print_timings:        load time =     196.58 ms\n",
      "llama_print_timings:      sample time =      56.23 ms /    49 runs   (    1.15 ms per token,   871.50 tokens per second)\n",
      "llama_print_timings: prompt eval time =      93.73 ms /   230 tokens (    0.41 ms per token,  2453.99 tokens per second)\n",
      "llama_print_timings:        eval time =    1897.97 ms /    48 runs   (   39.54 ms per token,    25.29 tokens per second)\n",
      "llama_print_timings:       total time =    2064.07 ms /   278 tokens\n"
     ]
    },
    {
     "name": "stdout",
     "output_type": "stream",
     "text": [
      "73\n"
     ]
    },
    {
     "name": "stderr",
     "output_type": "stream",
     "text": [
      "Compiling FSM index for all state transitions:  53%|█████▎    | 190/358 [00:01<00:01, 101.31it/s]\n",
      "\n",
      "llama_print_timings:        load time =     196.58 ms\n",
      "llama_print_timings:      sample time =      37.52 ms /    32 runs   (    1.17 ms per token,   852.86 tokens per second)\n",
      "llama_print_timings: prompt eval time =      79.10 ms /   164 tokens (    0.48 ms per token,  2073.43 tokens per second)\n",
      "llama_print_timings:        eval time =    1220.54 ms /    31 runs   (   39.37 ms per token,    25.40 tokens per second)\n",
      "llama_print_timings:       total time =    1354.52 ms /   195 tokens\n"
     ]
    },
    {
     "name": "stdout",
     "output_type": "stream",
     "text": [
      "74\n"
     ]
    },
    {
     "name": "stderr",
     "output_type": "stream",
     "text": [
      "Compiling FSM index for all state transitions: 100%|██████████| 159/159 [00:00<00:00, 176.90it/s]\n",
      "\n",
      "llama_print_timings:        load time =     196.58 ms\n",
      "llama_print_timings:      sample time =      55.89 ms /    49 runs   (    1.14 ms per token,   876.78 tokens per second)\n",
      "llama_print_timings: prompt eval time =      91.29 ms /   217 tokens (    0.42 ms per token,  2376.96 tokens per second)\n",
      "llama_print_timings:        eval time =    1893.29 ms /    48 runs   (   39.44 ms per token,    25.35 tokens per second)\n",
      "llama_print_timings:       total time =    2056.95 ms /   265 tokens\n"
     ]
    },
    {
     "name": "stdout",
     "output_type": "stream",
     "text": [
      "75\n"
     ]
    },
    {
     "name": "stderr",
     "output_type": "stream",
     "text": [
      "\n",
      "llama_print_timings:        load time =     196.58 ms\n",
      "llama_print_timings:      sample time =      59.37 ms /    52 runs   (    1.14 ms per token,   875.83 tokens per second)\n",
      "llama_print_timings: prompt eval time =      81.30 ms /   189 tokens (    0.43 ms per token,  2324.84 tokens per second)\n",
      "llama_print_timings:        eval time =    2007.95 ms /    51 runs   (   39.37 ms per token,    25.40 tokens per second)\n",
      "llama_print_timings:       total time =    2165.99 ms /   240 tokens\n"
     ]
    },
    {
     "name": "stdout",
     "output_type": "stream",
     "text": [
      "76\n"
     ]
    },
    {
     "name": "stderr",
     "output_type": "stream",
     "text": [
      "Compiling FSM index for all state transitions:  43%|████▎     | 260/600 [00:03<00:04, 83.02it/s] \n",
      "\n",
      "llama_print_timings:        load time =     196.58 ms\n",
      "llama_print_timings:      sample time =      51.92 ms /    44 runs   (    1.18 ms per token,   847.49 tokens per second)\n",
      "llama_print_timings: prompt eval time =      80.84 ms /   182 tokens (    0.44 ms per token,  2251.39 tokens per second)\n",
      "llama_print_timings:        eval time =    1692.78 ms /    43 runs   (   39.37 ms per token,    25.40 tokens per second)\n",
      "llama_print_timings:       total time =    1857.35 ms /   225 tokens\n"
     ]
    },
    {
     "name": "stdout",
     "output_type": "stream",
     "text": [
      "77\n"
     ]
    },
    {
     "name": "stderr",
     "output_type": "stream",
     "text": [
      "Compiling FSM index for all state transitions:  37%|███▋      | 968/2652 [00:14<00:24, 68.63it/s] \n",
      "\n",
      "llama_print_timings:        load time =     196.58 ms\n",
      "llama_print_timings:      sample time =      51.12 ms /    43 runs   (    1.19 ms per token,   841.21 tokens per second)\n",
      "llama_print_timings: prompt eval time =      84.47 ms /   173 tokens (    0.49 ms per token,  2047.99 tokens per second)\n",
      "llama_print_timings:        eval time =    1653.50 ms /    42 runs   (   39.37 ms per token,    25.40 tokens per second)\n",
      "llama_print_timings:       total time =    1817.93 ms /   215 tokens\n"
     ]
    },
    {
     "name": "stdout",
     "output_type": "stream",
     "text": [
      "78\n"
     ]
    },
    {
     "name": "stderr",
     "output_type": "stream",
     "text": [
      "Compiling FSM index for all state transitions:  44%|████▍     | 263/599 [00:03<00:03, 84.30it/s] \n",
      "\n",
      "llama_print_timings:        load time =     196.58 ms\n",
      "llama_print_timings:      sample time =      48.75 ms /    41 runs   (    1.19 ms per token,   840.96 tokens per second)\n",
      "llama_print_timings: prompt eval time =      79.49 ms /   179 tokens (    0.44 ms per token,  2251.97 tokens per second)\n",
      "llama_print_timings:        eval time =    1574.83 ms /    40 runs   (   39.37 ms per token,    25.40 tokens per second)\n",
      "llama_print_timings:       total time =    1728.39 ms /   219 tokens\n"
     ]
    },
    {
     "name": "stdout",
     "output_type": "stream",
     "text": [
      "79\n"
     ]
    },
    {
     "name": "stderr",
     "output_type": "stream",
     "text": [
      "\n",
      "llama_print_timings:        load time =     196.58 ms\n",
      "llama_print_timings:      sample time =      60.56 ms /    53 runs   (    1.14 ms per token,   875.19 tokens per second)\n",
      "llama_print_timings: prompt eval time =      78.57 ms /   174 tokens (    0.45 ms per token,  2214.70 tokens per second)\n",
      "llama_print_timings:        eval time =    2047.34 ms /    52 runs   (   39.37 ms per token,    25.40 tokens per second)\n",
      "llama_print_timings:       total time =    2204.72 ms /   226 tokens\n"
     ]
    },
    {
     "name": "stdout",
     "output_type": "stream",
     "text": [
      "80\n"
     ]
    },
    {
     "name": "stderr",
     "output_type": "stream",
     "text": [
      "Compiling FSM index for all state transitions:  37%|███▋      | 1080/2928 [00:15<00:26, 69.36it/s]\n",
      "\n",
      "llama_print_timings:        load time =     196.58 ms\n",
      "llama_print_timings:      sample time =      60.17 ms /    51 runs   (    1.18 ms per token,   847.54 tokens per second)\n",
      "llama_print_timings: prompt eval time =     104.16 ms /   213 tokens (    0.49 ms per token,  2044.91 tokens per second)\n",
      "llama_print_timings:        eval time =    1971.37 ms /    50 runs   (   39.43 ms per token,    25.36 tokens per second)\n",
      "llama_print_timings:       total time =    2169.85 ms /   263 tokens\n"
     ]
    },
    {
     "name": "stdout",
     "output_type": "stream",
     "text": [
      "81\n"
     ]
    },
    {
     "name": "stderr",
     "output_type": "stream",
     "text": [
      "Compiling FSM index for all state transitions:  46%|████▌     | 289/629 [00:03<00:03, 89.71it/s] \n",
      "\n",
      "llama_print_timings:        load time =     196.58 ms\n",
      "llama_print_timings:      sample time =      55.45 ms /    47 runs   (    1.18 ms per token,   847.58 tokens per second)\n",
      "llama_print_timings: prompt eval time =      77.91 ms /   168 tokens (    0.46 ms per token,  2156.39 tokens per second)\n",
      "llama_print_timings:        eval time =    1810.58 ms /    46 runs   (   39.36 ms per token,    25.41 tokens per second)\n",
      "llama_print_timings:       total time =    1968.51 ms /   214 tokens\n"
     ]
    },
    {
     "name": "stdout",
     "output_type": "stream",
     "text": [
      "82\n"
     ]
    },
    {
     "name": "stderr",
     "output_type": "stream",
     "text": [
      "\n",
      "llama_print_timings:        load time =     196.58 ms\n",
      "llama_print_timings:      sample time =      56.15 ms /    49 runs   (    1.15 ms per token,   872.68 tokens per second)\n",
      "llama_print_timings: prompt eval time =      70.45 ms /   130 tokens (    0.54 ms per token,  1845.41 tokens per second)\n",
      "llama_print_timings:        eval time =    1888.55 ms /    48 runs   (   39.34 ms per token,    25.42 tokens per second)\n",
      "llama_print_timings:       total time =    2032.37 ms /   178 tokens\n"
     ]
    },
    {
     "name": "stdout",
     "output_type": "stream",
     "text": [
      "83\n"
     ]
    },
    {
     "name": "stderr",
     "output_type": "stream",
     "text": [
      "\n",
      "llama_print_timings:        load time =     196.58 ms\n",
      "llama_print_timings:      sample time =      81.96 ms /    68 runs   (    1.21 ms per token,   829.69 tokens per second)\n",
      "llama_print_timings: prompt eval time =      91.48 ms /   220 tokens (    0.42 ms per token,  2404.79 tokens per second)\n",
      "llama_print_timings:        eval time =    2650.69 ms /    67 runs   (   39.56 ms per token,    25.28 tokens per second)\n",
      "llama_print_timings:       total time =    2855.70 ms /   287 tokens\n"
     ]
    },
    {
     "name": "stdout",
     "output_type": "stream",
     "text": [
      "84\n"
     ]
    },
    {
     "name": "stderr",
     "output_type": "stream",
     "text": [
      "Compiling FSM index for all state transitions:  50%|█████     | 169/337 [00:01<00:01, 95.95it/s] \n",
      "\n",
      "llama_print_timings:        load time =     196.58 ms\n",
      "llama_print_timings:      sample time =      35.74 ms /    31 runs   (    1.15 ms per token,   867.38 tokens per second)\n",
      "llama_print_timings: prompt eval time =      79.22 ms /   177 tokens (    0.45 ms per token,  2234.43 tokens per second)\n",
      "llama_print_timings:        eval time =    1180.72 ms /    30 runs   (   39.36 ms per token,    25.41 tokens per second)\n",
      "llama_print_timings:       total time =    1305.76 ms /   207 tokens\n"
     ]
    },
    {
     "name": "stdout",
     "output_type": "stream",
     "text": [
      "85\n"
     ]
    },
    {
     "name": "stderr",
     "output_type": "stream",
     "text": [
      "Compiling FSM index for all state transitions:  41%|████▏     | 359/867 [00:04<00:06, 79.54it/s]\n",
      "\n",
      "llama_print_timings:        load time =     196.58 ms\n",
      "llama_print_timings:      sample time =      50.79 ms /    42 runs   (    1.21 ms per token,   826.92 tokens per second)\n",
      "llama_print_timings: prompt eval time =      88.53 ms /   200 tokens (    0.44 ms per token,  2259.04 tokens per second)\n",
      "llama_print_timings:        eval time =    1614.55 ms /    41 runs   (   39.38 ms per token,    25.39 tokens per second)\n",
      "llama_print_timings:       total time =    1788.99 ms /   241 tokens\n"
     ]
    },
    {
     "name": "stdout",
     "output_type": "stream",
     "text": [
      "86\n"
     ]
    },
    {
     "name": "stderr",
     "output_type": "stream",
     "text": [
      "Compiling FSM index for all state transitions:  44%|████▎     | 392/900 [00:04<00:06, 80.50it/s] \n",
      "\n",
      "llama_print_timings:        load time =     196.58 ms\n",
      "llama_print_timings:      sample time =      62.32 ms /    51 runs   (    1.22 ms per token,   818.40 tokens per second)\n",
      "llama_print_timings: prompt eval time =      91.03 ms /   218 tokens (    0.42 ms per token,  2394.89 tokens per second)\n",
      "llama_print_timings:        eval time =    1974.13 ms /    50 runs   (   39.48 ms per token,    25.33 tokens per second)\n",
      "llama_print_timings:       total time =    2158.22 ms /   268 tokens\n"
     ]
    },
    {
     "name": "stdout",
     "output_type": "stream",
     "text": [
      "87\n"
     ]
    },
    {
     "name": "stderr",
     "output_type": "stream",
     "text": [
      "\n",
      "llama_print_timings:        load time =     196.58 ms\n",
      "llama_print_timings:      sample time =      46.50 ms /    40 runs   (    1.16 ms per token,   860.16 tokens per second)\n",
      "llama_print_timings: prompt eval time =      72.95 ms /   145 tokens (    0.50 ms per token,  1987.80 tokens per second)\n",
      "llama_print_timings:        eval time =    1535.23 ms /    39 runs   (   39.36 ms per token,    25.40 tokens per second)\n",
      "llama_print_timings:       total time =    1672.22 ms /   184 tokens\n"
     ]
    },
    {
     "name": "stdout",
     "output_type": "stream",
     "text": [
      "88\n"
     ]
    },
    {
     "name": "stderr",
     "output_type": "stream",
     "text": [
      "\n",
      "llama_print_timings:        load time =     196.58 ms\n",
      "llama_print_timings:      sample time =      41.01 ms /    36 runs   (    1.14 ms per token,   877.75 tokens per second)\n",
      "llama_print_timings: prompt eval time =      74.25 ms /   153 tokens (    0.49 ms per token,  2060.72 tokens per second)\n",
      "llama_print_timings:        eval time =    1377.27 ms /    35 runs   (   39.35 ms per token,    25.41 tokens per second)\n",
      "llama_print_timings:       total time =    1504.33 ms /   188 tokens\n"
     ]
    },
    {
     "name": "stdout",
     "output_type": "stream",
     "text": [
      "89\n",
      "90\n"
     ]
    },
    {
     "name": "stderr",
     "output_type": "stream",
     "text": [
      "Compiling FSM index for all state transitions:  37%|███▋      | 981/2665 [00:14<00:24, 67.54it/s] \n",
      "\n",
      "llama_print_timings:        load time =     196.58 ms\n",
      "llama_print_timings:      sample time =      62.84 ms /    53 runs   (    1.19 ms per token,   843.45 tokens per second)\n",
      "llama_print_timings: prompt eval time =      99.30 ms /   210 tokens (    0.47 ms per token,  2114.87 tokens per second)\n",
      "llama_print_timings:        eval time =    2049.75 ms /    52 runs   (   39.42 ms per token,    25.37 tokens per second)\n",
      "llama_print_timings:       total time =    2249.73 ms /   262 tokens\n"
     ]
    },
    {
     "name": "stdout",
     "output_type": "stream",
     "text": [
      "91\n"
     ]
    },
    {
     "name": "stderr",
     "output_type": "stream",
     "text": [
      "\n",
      "llama_print_timings:        load time =     196.58 ms\n",
      "llama_print_timings:      sample time =      51.90 ms /    43 runs   (    1.21 ms per token,   828.52 tokens per second)\n",
      "llama_print_timings: prompt eval time =      76.62 ms /   163 tokens (    0.47 ms per token,  2127.35 tokens per second)\n",
      "llama_print_timings:        eval time =    1653.36 ms /    42 runs   (   39.37 ms per token,    25.40 tokens per second)\n",
      "llama_print_timings:       total time =    1813.06 ms /   205 tokens\n"
     ]
    },
    {
     "name": "stdout",
     "output_type": "stream",
     "text": [
      "92\n"
     ]
    },
    {
     "name": "stderr",
     "output_type": "stream",
     "text": [
      "Compiling FSM index for all state transitions:  44%|████▍     | 270/610 [00:03<00:03, 85.31it/s] \n",
      "\n",
      "llama_print_timings:        load time =     196.58 ms\n",
      "llama_print_timings:      sample time =      53.12 ms /    44 runs   (    1.21 ms per token,   828.24 tokens per second)\n",
      "llama_print_timings: prompt eval time =      79.99 ms /   179 tokens (    0.45 ms per token,  2237.72 tokens per second)\n",
      "llama_print_timings:        eval time =    1693.81 ms /    43 runs   (   39.39 ms per token,    25.39 tokens per second)\n",
      "llama_print_timings:       total time =    1855.98 ms /   222 tokens\n"
     ]
    },
    {
     "name": "stdout",
     "output_type": "stream",
     "text": [
      "93\n"
     ]
    },
    {
     "name": "stderr",
     "output_type": "stream",
     "text": [
      "Compiling FSM index for all state transitions:  45%|████▍     | 272/608 [00:03<00:03, 85.46it/s] \n",
      "\n",
      "llama_print_timings:        load time =     196.58 ms\n",
      "llama_print_timings:      sample time =      49.98 ms /    43 runs   (    1.16 ms per token,   860.43 tokens per second)\n",
      "llama_print_timings: prompt eval time =      87.54 ms /   197 tokens (    0.44 ms per token,  2250.32 tokens per second)\n",
      "llama_print_timings:        eval time =    1654.12 ms /    42 runs   (   39.38 ms per token,    25.39 tokens per second)\n",
      "llama_print_timings:       total time =    1813.19 ms /   239 tokens\n"
     ]
    },
    {
     "name": "stdout",
     "output_type": "stream",
     "text": [
      "94\n",
      "95\n"
     ]
    },
    {
     "name": "stderr",
     "output_type": "stream",
     "text": [
      "\n",
      "llama_print_timings:        load time =     196.58 ms\n",
      "llama_print_timings:      sample time =      32.98 ms /    29 runs   (    1.14 ms per token,   879.40 tokens per second)\n",
      "llama_print_timings: prompt eval time =      73.67 ms /   147 tokens (    0.50 ms per token,  1995.38 tokens per second)\n",
      "llama_print_timings:        eval time =    1101.99 ms /    28 runs   (   39.36 ms per token,    25.41 tokens per second)\n",
      "llama_print_timings:       total time =    1217.73 ms /   175 tokens\n"
     ]
    },
    {
     "name": "stdout",
     "output_type": "stream",
     "text": [
      "96\n",
      "97\n"
     ]
    },
    {
     "name": "stderr",
     "output_type": "stream",
     "text": [
      "\n",
      "llama_print_timings:        load time =     196.58 ms\n",
      "llama_print_timings:      sample time =      23.61 ms /    21 runs   (    1.12 ms per token,   889.45 tokens per second)\n",
      "llama_print_timings: prompt eval time =      54.40 ms /    87 tokens (    0.63 ms per token,  1599.29 tokens per second)\n",
      "llama_print_timings:        eval time =     782.81 ms /    20 runs   (   39.14 ms per token,    25.55 tokens per second)\n",
      "llama_print_timings:       total time =     867.27 ms /   107 tokens\n"
     ]
    },
    {
     "name": "stdout",
     "output_type": "stream",
     "text": [
      "98\n"
     ]
    },
    {
     "name": "stderr",
     "output_type": "stream",
     "text": [
      "Compiling FSM index for all state transitions: 100%|██████████| 98/98 [00:00<00:00, 169.38it/s]\n",
      "\n",
      "llama_print_timings:        load time =     196.58 ms\n",
      "llama_print_timings:      sample time =      37.50 ms /    33 runs   (    1.14 ms per token,   879.93 tokens per second)\n",
      "llama_print_timings: prompt eval time =      77.56 ms /   169 tokens (    0.46 ms per token,  2179.07 tokens per second)\n",
      "llama_print_timings:        eval time =    1259.93 ms /    32 runs   (   39.37 ms per token,    25.40 tokens per second)\n",
      "llama_print_timings:       total time =    1385.66 ms /   201 tokens\n"
     ]
    },
    {
     "name": "stdout",
     "output_type": "stream",
     "text": [
      "99\n"
     ]
    },
    {
     "name": "stderr",
     "output_type": "stream",
     "text": [
      "Compiling FSM index for all state transitions: 100%|██████████| 148/148 [00:00<00:00, 165.07it/s]\n",
      "\n",
      "llama_print_timings:        load time =     196.58 ms\n",
      "llama_print_timings:      sample time =      72.14 ms /    63 runs   (    1.15 ms per token,   873.30 tokens per second)\n",
      "llama_print_timings: prompt eval time =      95.12 ms /   237 tokens (    0.40 ms per token,  2491.69 tokens per second)\n",
      "llama_print_timings:        eval time =    2455.93 ms /    62 runs   (   39.61 ms per token,    25.25 tokens per second)\n",
      "llama_print_timings:       total time =    2643.95 ms /   299 tokens\n"
     ]
    },
    {
     "name": "stdout",
     "output_type": "stream",
     "text": [
      "100\n"
     ]
    },
    {
     "name": "stderr",
     "output_type": "stream",
     "text": [
      "Compiling FSM index for all state transitions: 100%|██████████| 102/102 [00:00<00:00, 163.26it/s]\n",
      "\n",
      "llama_print_timings:        load time =     196.58 ms\n",
      "llama_print_timings:      sample time =      34.39 ms /    30 runs   (    1.15 ms per token,   872.25 tokens per second)\n",
      "llama_print_timings: prompt eval time =      78.73 ms /   175 tokens (    0.45 ms per token,  2222.70 tokens per second)\n",
      "llama_print_timings:        eval time =    1141.84 ms /    29 runs   (   39.37 ms per token,    25.40 tokens per second)\n",
      "llama_print_timings:       total time =    1264.21 ms /   204 tokens\n"
     ]
    },
    {
     "name": "stdout",
     "output_type": "stream",
     "text": [
      "101\n"
     ]
    },
    {
     "name": "stderr",
     "output_type": "stream",
     "text": [
      "Compiling FSM index for all state transitions:  51%|█████     | 174/342 [00:01<00:01, 92.64it/s]\n",
      "\n",
      "llama_print_timings:        load time =     196.58 ms\n",
      "llama_print_timings:      sample time =      47.91 ms /    41 runs   (    1.17 ms per token,   855.81 tokens per second)\n",
      "llama_print_timings: prompt eval time =      78.39 ms /   173 tokens (    0.45 ms per token,  2207.00 tokens per second)\n",
      "llama_print_timings:        eval time =    1574.85 ms /    40 runs   (   39.37 ms per token,    25.40 tokens per second)\n",
      "llama_print_timings:       total time =    1720.91 ms /   213 tokens\n"
     ]
    },
    {
     "name": "stdout",
     "output_type": "stream",
     "text": [
      "102\n"
     ]
    },
    {
     "name": "stderr",
     "output_type": "stream",
     "text": [
      "Compiling FSM index for all state transitions:  40%|████      | 338/842 [00:04<00:06, 74.29it/s]\n",
      "\n",
      "llama_print_timings:        load time =     196.58 ms\n",
      "llama_print_timings:      sample time =      45.53 ms /    38 runs   (    1.20 ms per token,   834.54 tokens per second)\n",
      "llama_print_timings: prompt eval time =      73.22 ms /   145 tokens (    0.50 ms per token,  1980.25 tokens per second)\n",
      "llama_print_timings:        eval time =    1456.36 ms /    37 runs   (   39.36 ms per token,    25.41 tokens per second)\n",
      "llama_print_timings:       total time =    1601.10 ms /   182 tokens\n"
     ]
    },
    {
     "name": "stdout",
     "output_type": "stream",
     "text": [
      "103\n"
     ]
    },
    {
     "name": "stderr",
     "output_type": "stream",
     "text": [
      "\n",
      "llama_print_timings:        load time =     196.58 ms\n",
      "llama_print_timings:      sample time =      55.42 ms /    48 runs   (    1.15 ms per token,   866.10 tokens per second)\n",
      "llama_print_timings: prompt eval time =      92.63 ms /   225 tokens (    0.41 ms per token,  2429.07 tokens per second)\n",
      "llama_print_timings:        eval time =    1856.80 ms /    47 runs   (   39.51 ms per token,    25.31 tokens per second)\n",
      "llama_print_timings:       total time =    2021.62 ms /   272 tokens\n"
     ]
    },
    {
     "name": "stdout",
     "output_type": "stream",
     "text": [
      "104\n"
     ]
    },
    {
     "name": "stderr",
     "output_type": "stream",
     "text": [
      "Compiling FSM index for all state transitions:  51%|█████     | 176/348 [00:01<00:01, 91.57it/s]\n",
      "\n",
      "llama_print_timings:        load time =     196.58 ms\n",
      "llama_print_timings:      sample time =      34.37 ms /    30 runs   (    1.15 ms per token,   872.91 tokens per second)\n",
      "llama_print_timings: prompt eval time =      75.67 ms /   149 tokens (    0.51 ms per token,  1969.10 tokens per second)\n",
      "llama_print_timings:        eval time =    1141.22 ms /    29 runs   (   39.35 ms per token,    25.41 tokens per second)\n",
      "llama_print_timings:       total time =    1261.69 ms /   178 tokens\n"
     ]
    },
    {
     "name": "stdout",
     "output_type": "stream",
     "text": [
      "105\n"
     ]
    },
    {
     "name": "stderr",
     "output_type": "stream",
     "text": [
      "Compiling FSM index for all state transitions:  96%|█████████▋| 82/85 [00:00<00:00, 145.73it/s]\n",
      "\n",
      "llama_print_timings:        load time =     196.58 ms\n",
      "llama_print_timings:      sample time =      31.19 ms /    27 runs   (    1.16 ms per token,   865.80 tokens per second)\n",
      "llama_print_timings: prompt eval time =      73.19 ms /   147 tokens (    0.50 ms per token,  2008.36 tokens per second)\n",
      "llama_print_timings:        eval time =    1023.26 ms /    26 runs   (   39.36 ms per token,    25.41 tokens per second)\n",
      "llama_print_timings:       total time =    1136.16 ms /   173 tokens\n"
     ]
    },
    {
     "name": "stdout",
     "output_type": "stream",
     "text": [
      "106\n"
     ]
    },
    {
     "name": "stderr",
     "output_type": "stream",
     "text": [
      "\n",
      "llama_print_timings:        load time =     196.58 ms\n",
      "llama_print_timings:      sample time =      58.59 ms /    50 runs   (    1.17 ms per token,   853.39 tokens per second)\n",
      "llama_print_timings: prompt eval time =      80.32 ms /   183 tokens (    0.44 ms per token,  2278.39 tokens per second)\n",
      "llama_print_timings:        eval time =    1929.21 ms /    49 runs   (   39.37 ms per token,    25.40 tokens per second)\n",
      "llama_print_timings:       total time =    2093.47 ms /   232 tokens\n"
     ]
    },
    {
     "name": "stdout",
     "output_type": "stream",
     "text": [
      "107\n"
     ]
    },
    {
     "name": "stderr",
     "output_type": "stream",
     "text": [
      "Compiling FSM index for all state transitions:  50%|█████     | 171/339 [00:01<00:01, 93.51it/s] \n",
      "\n",
      "llama_print_timings:        load time =     196.58 ms\n",
      "llama_print_timings:      sample time =      44.01 ms /    38 runs   (    1.16 ms per token,   863.44 tokens per second)\n",
      "llama_print_timings: prompt eval time =      80.24 ms /   181 tokens (    0.44 ms per token,  2255.70 tokens per second)\n",
      "llama_print_timings:        eval time =    1456.55 ms /    37 runs   (   39.37 ms per token,    25.40 tokens per second)\n",
      "llama_print_timings:       total time =    1595.20 ms /   218 tokens\n"
     ]
    },
    {
     "name": "stdout",
     "output_type": "stream",
     "text": [
      "108\n"
     ]
    },
    {
     "name": "stderr",
     "output_type": "stream",
     "text": [
      "Compiling FSM index for all state transitions:  37%|███▋      | 981/2661 [00:14<00:24, 69.26it/s]\n",
      "\n",
      "llama_print_timings:        load time =     196.58 ms\n",
      "llama_print_timings:      sample time =      59.17 ms /    49 runs   (    1.21 ms per token,   828.09 tokens per second)\n",
      "llama_print_timings: prompt eval time =      87.45 ms /   190 tokens (    0.46 ms per token,  2172.65 tokens per second)\n",
      "llama_print_timings:        eval time =    1889.85 ms /    48 runs   (   39.37 ms per token,    25.40 tokens per second)\n",
      "llama_print_timings:       total time =    2076.64 ms /   238 tokens\n"
     ]
    },
    {
     "name": "stdout",
     "output_type": "stream",
     "text": [
      "109\n"
     ]
    },
    {
     "name": "stderr",
     "output_type": "stream",
     "text": [
      "\n",
      "llama_print_timings:        load time =     196.58 ms\n",
      "llama_print_timings:      sample time =      53.59 ms /    46 runs   (    1.16 ms per token,   858.45 tokens per second)\n",
      "llama_print_timings: prompt eval time =      76.91 ms /   165 tokens (    0.47 ms per token,  2145.50 tokens per second)\n",
      "llama_print_timings:        eval time =    1771.45 ms /    45 runs   (   39.37 ms per token,    25.40 tokens per second)\n",
      "llama_print_timings:       total time =    1924.84 ms /   210 tokens\n"
     ]
    },
    {
     "name": "stdout",
     "output_type": "stream",
     "text": [
      "110\n"
     ]
    },
    {
     "name": "stderr",
     "output_type": "stream",
     "text": [
      "\n",
      "llama_print_timings:        load time =     196.58 ms\n",
      "llama_print_timings:      sample time =      56.54 ms /    48 runs   (    1.18 ms per token,   848.94 tokens per second)\n",
      "llama_print_timings: prompt eval time =      89.68 ms /   211 tokens (    0.43 ms per token,  2352.81 tokens per second)\n",
      "llama_print_timings:        eval time =    1850.82 ms /    47 runs   (   39.38 ms per token,    25.39 tokens per second)\n",
      "llama_print_timings:       total time =    2016.97 ms /   258 tokens\n"
     ]
    },
    {
     "name": "stdout",
     "output_type": "stream",
     "text": [
      "111\n"
     ]
    },
    {
     "name": "stderr",
     "output_type": "stream",
     "text": [
      "\n",
      "llama_print_timings:        load time =     196.58 ms\n",
      "llama_print_timings:      sample time =      32.06 ms /    28 runs   (    1.14 ms per token,   873.42 tokens per second)\n",
      "llama_print_timings: prompt eval time =      70.23 ms /   129 tokens (    0.54 ms per token,  1836.74 tokens per second)\n",
      "llama_print_timings:        eval time =    1062.33 ms /    27 runs   (   39.35 ms per token,    25.42 tokens per second)\n",
      "llama_print_timings:       total time =    1173.29 ms /   156 tokens\n"
     ]
    },
    {
     "name": "stdout",
     "output_type": "stream",
     "text": [
      "112\n"
     ]
    },
    {
     "name": "stderr",
     "output_type": "stream",
     "text": [
      "Compiling FSM index for all state transitions: 100%|██████████| 118/118 [00:00<00:00, 175.39it/s]\n",
      "\n",
      "llama_print_timings:        load time =     196.58 ms\n",
      "llama_print_timings:      sample time =      42.22 ms /    37 runs   (    1.14 ms per token,   876.32 tokens per second)\n",
      "llama_print_timings: prompt eval time =      76.34 ms /   162 tokens (    0.47 ms per token,  2122.20 tokens per second)\n",
      "llama_print_timings:        eval time =    1416.63 ms /    36 runs   (   39.35 ms per token,    25.41 tokens per second)\n",
      "llama_print_timings:       total time =    1547.75 ms /   198 tokens\n"
     ]
    },
    {
     "name": "stdout",
     "output_type": "stream",
     "text": [
      "113\n"
     ]
    },
    {
     "name": "stderr",
     "output_type": "stream",
     "text": [
      "Compiling FSM index for all state transitions:  97%|█████████▋| 116/119 [00:00<00:00, 172.91it/s]\n",
      "\n",
      "llama_print_timings:        load time =     196.58 ms\n",
      "llama_print_timings:      sample time =      43.38 ms /    38 runs   (    1.14 ms per token,   876.08 tokens per second)\n",
      "llama_print_timings: prompt eval time =      89.43 ms /   195 tokens (    0.46 ms per token,  2180.43 tokens per second)\n",
      "llama_print_timings:        eval time =    1456.83 ms /    37 runs   (   39.37 ms per token,    25.40 tokens per second)\n",
      "llama_print_timings:       total time =    1603.30 ms /   232 tokens\n"
     ]
    },
    {
     "name": "stdout",
     "output_type": "stream",
     "text": [
      "114\n"
     ]
    },
    {
     "name": "stderr",
     "output_type": "stream",
     "text": [
      "Compiling FSM index for all state transitions:  97%|█████████▋| 96/99 [00:00<00:00, 166.75it/s]\n",
      "\n",
      "llama_print_timings:        load time =     196.58 ms\n",
      "llama_print_timings:      sample time =      47.08 ms /    41 runs   (    1.15 ms per token,   870.93 tokens per second)\n",
      "llama_print_timings: prompt eval time =      77.72 ms /   159 tokens (    0.49 ms per token,  2045.73 tokens per second)\n",
      "llama_print_timings:        eval time =    1574.47 ms /    40 runs   (   39.36 ms per token,    25.41 tokens per second)\n",
      "llama_print_timings:       total time =    1713.06 ms /   199 tokens\n"
     ]
    },
    {
     "name": "stdout",
     "output_type": "stream",
     "text": [
      "115\n"
     ]
    },
    {
     "name": "stderr",
     "output_type": "stream",
     "text": [
      "Compiling FSM index for all state transitions: 100%|██████████| 149/149 [00:00<00:00, 177.51it/s]\n",
      "\n",
      "llama_print_timings:        load time =     196.58 ms\n",
      "llama_print_timings:      sample time =      62.73 ms /    55 runs   (    1.14 ms per token,   876.83 tokens per second)\n",
      "llama_print_timings: prompt eval time =      87.42 ms /   198 tokens (    0.44 ms per token,  2264.93 tokens per second)\n",
      "llama_print_timings:        eval time =    2126.22 ms /    54 runs   (   39.37 ms per token,    25.40 tokens per second)\n",
      "llama_print_timings:       total time =    2295.83 ms /   252 tokens\n"
     ]
    },
    {
     "name": "stdout",
     "output_type": "stream",
     "text": [
      "116\n"
     ]
    },
    {
     "name": "stderr",
     "output_type": "stream",
     "text": [
      "Compiling FSM index for all state transitions:  98%|█████████▊| 120/123 [00:00<00:00, 174.94it/s]\n",
      "\n",
      "llama_print_timings:        load time =     196.58 ms\n",
      "llama_print_timings:      sample time =      42.30 ms /    37 runs   (    1.14 ms per token,   874.77 tokens per second)\n",
      "llama_print_timings: prompt eval time =      77.42 ms /   168 tokens (    0.46 ms per token,  2169.84 tokens per second)\n",
      "llama_print_timings:        eval time =    1416.81 ms /    36 runs   (   39.36 ms per token,    25.41 tokens per second)\n",
      "llama_print_timings:       total time =    1548.37 ms /   204 tokens\n"
     ]
    },
    {
     "name": "stdout",
     "output_type": "stream",
     "text": [
      "117\n"
     ]
    },
    {
     "name": "stderr",
     "output_type": "stream",
     "text": [
      "Compiling FSM index for all state transitions: 100%|██████████| 126/126 [00:00<00:00, 180.10it/s]\n",
      "\n",
      "llama_print_timings:        load time =     196.58 ms\n",
      "llama_print_timings:      sample time =      53.32 ms /    46 runs   (    1.16 ms per token,   862.76 tokens per second)\n",
      "llama_print_timings: prompt eval time =      79.16 ms /   177 tokens (    0.45 ms per token,  2236.09 tokens per second)\n",
      "llama_print_timings:        eval time =    1771.47 ms /    45 runs   (   39.37 ms per token,    25.40 tokens per second)\n",
      "llama_print_timings:       total time =    1919.51 ms /   222 tokens\n"
     ]
    },
    {
     "name": "stdout",
     "output_type": "stream",
     "text": [
      "118\n"
     ]
    },
    {
     "name": "stderr",
     "output_type": "stream",
     "text": [
      "\n",
      "llama_print_timings:        load time =     196.58 ms\n",
      "llama_print_timings:      sample time =      85.70 ms /    75 runs   (    1.14 ms per token,   875.16 tokens per second)\n",
      "llama_print_timings: prompt eval time =      91.57 ms /   221 tokens (    0.41 ms per token,  2413.53 tokens per second)\n",
      "llama_print_timings:        eval time =    2926.15 ms /    74 runs   (   39.54 ms per token,    25.29 tokens per second)\n",
      "llama_print_timings:       total time =    3129.36 ms /   295 tokens\n"
     ]
    },
    {
     "name": "stdout",
     "output_type": "stream",
     "text": [
      "119\n"
     ]
    },
    {
     "name": "stderr",
     "output_type": "stream",
     "text": [
      "Compiling FSM index for all state transitions:  99%|█████████▊| 206/209 [00:01<00:00, 167.12it/s]\n",
      "\n",
      "llama_print_timings:        load time =     196.58 ms\n",
      "llama_print_timings:      sample time =      96.12 ms /    83 runs   (    1.16 ms per token,   863.54 tokens per second)\n",
      "llama_print_timings: prompt eval time =      94.73 ms /   231 tokens (    0.41 ms per token,  2438.59 tokens per second)\n",
      "llama_print_timings:        eval time =    3248.39 ms /    82 runs   (   39.61 ms per token,    25.24 tokens per second)\n",
      "llama_print_timings:       total time =    3467.67 ms /   313 tokens\n"
     ]
    },
    {
     "name": "stdout",
     "output_type": "stream",
     "text": [
      "120\n"
     ]
    },
    {
     "name": "stderr",
     "output_type": "stream",
     "text": [
      "Compiling FSM index for all state transitions: 100%|██████████| 191/191 [00:01<00:00, 168.95it/s]\n",
      "\n",
      "llama_print_timings:        load time =     196.58 ms\n",
      "llama_print_timings:      sample time =      67.78 ms /    58 runs   (    1.17 ms per token,   855.75 tokens per second)\n",
      "llama_print_timings: prompt eval time =      93.11 ms /   213 tokens (    0.44 ms per token,  2287.67 tokens per second)\n",
      "llama_print_timings:        eval time =    2249.25 ms /    57 runs   (   39.46 ms per token,    25.34 tokens per second)\n",
      "llama_print_timings:       total time =    2429.27 ms /   270 tokens\n"
     ]
    },
    {
     "name": "stdout",
     "output_type": "stream",
     "text": [
      "121\n"
     ]
    },
    {
     "name": "stderr",
     "output_type": "stream",
     "text": [
      "\n",
      "llama_print_timings:        load time =     196.58 ms\n",
      "llama_print_timings:      sample time =      56.85 ms /    48 runs   (    1.18 ms per token,   844.34 tokens per second)\n",
      "llama_print_timings: prompt eval time =      80.49 ms /   185 tokens (    0.44 ms per token,  2298.48 tokens per second)\n",
      "llama_print_timings:        eval time =    1850.21 ms /    47 runs   (   39.37 ms per token,    25.40 tokens per second)\n",
      "llama_print_timings:       total time =    2003.20 ms /   232 tokens\n"
     ]
    },
    {
     "name": "stdout",
     "output_type": "stream",
     "text": [
      "122\n"
     ]
    },
    {
     "name": "stderr",
     "output_type": "stream",
     "text": [
      "Compiling FSM index for all state transitions: 100%|██████████| 121/121 [00:00<00:00, 164.44it/s]\n",
      "\n",
      "llama_print_timings:        load time =     196.58 ms\n",
      "llama_print_timings:      sample time =      43.91 ms /    38 runs   (    1.16 ms per token,   865.51 tokens per second)\n",
      "llama_print_timings: prompt eval time =      81.77 ms /   179 tokens (    0.46 ms per token,  2189.15 tokens per second)\n",
      "llama_print_timings:        eval time =    1456.21 ms /    37 runs   (   39.36 ms per token,    25.41 tokens per second)\n",
      "llama_print_timings:       total time =    1594.04 ms /   216 tokens\n"
     ]
    },
    {
     "name": "stdout",
     "output_type": "stream",
     "text": [
      "123\n"
     ]
    },
    {
     "name": "stderr",
     "output_type": "stream",
     "text": [
      "Compiling FSM index for all state transitions:  99%|█████████▉| 289/292 [00:01<00:00, 155.47it/s]\n",
      "\n",
      "llama_print_timings:        load time =     196.58 ms\n",
      "llama_print_timings:      sample time =     102.00 ms /    89 runs   (    1.15 ms per token,   872.52 tokens per second)\n",
      "llama_print_timings: prompt eval time =     123.54 ms /   273 tokens (    0.45 ms per token,  2209.76 tokens per second)\n",
      "llama_print_timings:        eval time =    3496.03 ms /    88 runs   (   39.73 ms per token,    25.17 tokens per second)\n",
      "llama_print_timings:       total time =    3751.88 ms /   361 tokens\n"
     ]
    },
    {
     "name": "stdout",
     "output_type": "stream",
     "text": [
      "124\n"
     ]
    },
    {
     "name": "stderr",
     "output_type": "stream",
     "text": [
      "Compiling FSM index for all state transitions: 100%|██████████| 175/175 [00:01<00:00, 161.71it/s]\n",
      "\n",
      "llama_print_timings:        load time =     196.58 ms\n",
      "llama_print_timings:      sample time =      65.34 ms /    57 runs   (    1.15 ms per token,   872.36 tokens per second)\n",
      "llama_print_timings: prompt eval time =      89.97 ms /   209 tokens (    0.43 ms per token,  2322.89 tokens per second)\n",
      "llama_print_timings:        eval time =    2207.46 ms /    56 runs   (   39.42 ms per token,    25.37 tokens per second)\n",
      "llama_print_timings:       total time =    2381.16 ms /   265 tokens\n"
     ]
    },
    {
     "name": "stdout",
     "output_type": "stream",
     "text": [
      "125\n"
     ]
    },
    {
     "name": "stderr",
     "output_type": "stream",
     "text": [
      "\n",
      "llama_print_timings:        load time =     196.58 ms\n",
      "llama_print_timings:      sample time =      57.02 ms /    48 runs   (    1.19 ms per token,   841.77 tokens per second)\n",
      "llama_print_timings: prompt eval time =      86.96 ms /   195 tokens (    0.45 ms per token,  2242.51 tokens per second)\n",
      "llama_print_timings:        eval time =    1849.88 ms /    47 runs   (   39.36 ms per token,    25.41 tokens per second)\n",
      "llama_print_timings:       total time =    2013.68 ms /   242 tokens\n"
     ]
    },
    {
     "name": "stdout",
     "output_type": "stream",
     "text": [
      "126\n"
     ]
    },
    {
     "name": "stderr",
     "output_type": "stream",
     "text": [
      "\n",
      "llama_print_timings:        load time =     196.58 ms\n",
      "llama_print_timings:      sample time =      82.82 ms /    68 runs   (    1.22 ms per token,   821.09 tokens per second)\n",
      "llama_print_timings: prompt eval time =      89.54 ms /   210 tokens (    0.43 ms per token,  2345.22 tokens per second)\n",
      "llama_print_timings:        eval time =    2645.28 ms /    67 runs   (   39.48 ms per token,    25.33 tokens per second)\n",
      "llama_print_timings:       total time =    2878.68 ms /   277 tokens\n"
     ]
    },
    {
     "name": "stdout",
     "output_type": "stream",
     "text": [
      "127\n"
     ]
    },
    {
     "name": "stderr",
     "output_type": "stream",
     "text": [
      "Compiling FSM index for all state transitions: 100%|██████████| 158/158 [00:00<00:00, 167.30it/s]\n",
      "\n",
      "llama_print_timings:        load time =     196.58 ms\n",
      "llama_print_timings:      sample time =      78.02 ms /    67 runs   (    1.16 ms per token,   858.78 tokens per second)\n",
      "llama_print_timings: prompt eval time =      93.27 ms /   228 tokens (    0.41 ms per token,  2444.65 tokens per second)\n",
      "llama_print_timings:        eval time =    2611.37 ms /    66 runs   (   39.57 ms per token,    25.27 tokens per second)\n",
      "llama_print_timings:       total time =    2804.61 ms /   294 tokens\n"
     ]
    },
    {
     "name": "stdout",
     "output_type": "stream",
     "text": [
      "128\n"
     ]
    },
    {
     "name": "stderr",
     "output_type": "stream",
     "text": [
      "\n",
      "llama_print_timings:        load time =     196.58 ms\n",
      "llama_print_timings:      sample time =      71.81 ms /    62 runs   (    1.16 ms per token,   863.38 tokens per second)\n",
      "llama_print_timings: prompt eval time =      79.62 ms /   179 tokens (    0.44 ms per token,  2248.09 tokens per second)\n",
      "llama_print_timings:        eval time =    2400.99 ms /    61 runs   (   39.36 ms per token,    25.41 tokens per second)\n",
      "llama_print_timings:       total time =    2572.40 ms /   240 tokens\n"
     ]
    },
    {
     "name": "stdout",
     "output_type": "stream",
     "text": [
      "129\n"
     ]
    },
    {
     "name": "stderr",
     "output_type": "stream",
     "text": [
      "Compiling FSM index for all state transitions: 100%|██████████| 144/144 [00:00<00:00, 175.48it/s]\n",
      "\n",
      "llama_print_timings:        load time =     196.58 ms\n",
      "llama_print_timings:      sample time =      59.31 ms /    51 runs   (    1.16 ms per token,   859.90 tokens per second)\n",
      "llama_print_timings: prompt eval time =      92.52 ms /   225 tokens (    0.41 ms per token,  2431.93 tokens per second)\n",
      "llama_print_timings:        eval time =    1975.34 ms /    50 runs   (   39.51 ms per token,    25.31 tokens per second)\n",
      "llama_print_timings:       total time =    2143.66 ms /   275 tokens\n"
     ]
    },
    {
     "name": "stdout",
     "output_type": "stream",
     "text": [
      "130\n"
     ]
    },
    {
     "name": "stderr",
     "output_type": "stream",
     "text": [
      "Compiling FSM index for all state transitions:  98%|█████████▊| 196/199 [00:01<00:00, 163.79it/s]\n",
      "\n",
      "llama_print_timings:        load time =     196.58 ms\n",
      "llama_print_timings:      sample time =      97.09 ms /    81 runs   (    1.20 ms per token,   834.32 tokens per second)\n",
      "llama_print_timings: prompt eval time =     101.41 ms /   254 tokens (    0.40 ms per token,  2504.73 tokens per second)\n",
      "llama_print_timings:        eval time =    3178.16 ms /    80 runs   (   39.73 ms per token,    25.17 tokens per second)\n",
      "llama_print_timings:       total time =    3405.86 ms /   334 tokens\n"
     ]
    },
    {
     "name": "stdout",
     "output_type": "stream",
     "text": [
      "131\n"
     ]
    },
    {
     "name": "stderr",
     "output_type": "stream",
     "text": [
      "Compiling FSM index for all state transitions: 100%|██████████| 116/116 [00:00<00:00, 171.90it/s]\n",
      "\n",
      "llama_print_timings:        load time =     196.58 ms\n",
      "llama_print_timings:      sample time =      58.26 ms /    51 runs   (    1.14 ms per token,   875.42 tokens per second)\n",
      "llama_print_timings: prompt eval time =      97.80 ms /   237 tokens (    0.41 ms per token,  2423.36 tokens per second)\n",
      "llama_print_timings:        eval time =    1978.89 ms /    50 runs   (   39.58 ms per token,    25.27 tokens per second)\n",
      "llama_print_timings:       total time =    2152.05 ms /   287 tokens\n"
     ]
    },
    {
     "name": "stdout",
     "output_type": "stream",
     "text": [
      "132\n"
     ]
    },
    {
     "name": "stderr",
     "output_type": "stream",
     "text": [
      "Compiling FSM index for all state transitions: 100%|██████████| 125/125 [00:00<00:00, 166.71it/s]\n",
      "\n",
      "llama_print_timings:        load time =     196.58 ms\n",
      "llama_print_timings:      sample time =      77.98 ms /    67 runs   (    1.16 ms per token,   859.21 tokens per second)\n",
      "llama_print_timings: prompt eval time =      94.43 ms /   235 tokens (    0.40 ms per token,  2488.59 tokens per second)\n",
      "llama_print_timings:        eval time =    2613.30 ms /    66 runs   (   39.60 ms per token,    25.26 tokens per second)\n",
      "llama_print_timings:       total time =    2808.81 ms /   301 tokens\n"
     ]
    },
    {
     "name": "stdout",
     "output_type": "stream",
     "text": [
      "133\n"
     ]
    },
    {
     "name": "stderr",
     "output_type": "stream",
     "text": [
      "Compiling FSM index for all state transitions:  98%|█████████▊| 170/173 [00:01<00:00, 165.12it/s]\n",
      "\n",
      "llama_print_timings:        load time =     196.58 ms\n",
      "llama_print_timings:      sample time =      78.60 ms /    69 runs   (    1.14 ms per token,   877.87 tokens per second)\n",
      "llama_print_timings: prompt eval time =      97.21 ms /   243 tokens (    0.40 ms per token,  2499.85 tokens per second)\n",
      "llama_print_timings:        eval time =    2695.62 ms /    68 runs   (   39.64 ms per token,    25.23 tokens per second)\n",
      "llama_print_timings:       total time =    2895.42 ms /   311 tokens\n"
     ]
    },
    {
     "name": "stdout",
     "output_type": "stream",
     "text": [
      "134\n"
     ]
    },
    {
     "name": "stderr",
     "output_type": "stream",
     "text": [
      "\n",
      "llama_print_timings:        load time =     196.58 ms\n",
      "llama_print_timings:      sample time =      56.78 ms /    50 runs   (    1.14 ms per token,   880.59 tokens per second)\n",
      "llama_print_timings: prompt eval time =      80.43 ms /   184 tokens (    0.44 ms per token,  2287.76 tokens per second)\n",
      "llama_print_timings:        eval time =    1928.84 ms /    49 runs   (   39.36 ms per token,    25.40 tokens per second)\n",
      "llama_print_timings:       total time =    2082.65 ms /   233 tokens\n"
     ]
    },
    {
     "name": "stdout",
     "output_type": "stream",
     "text": [
      "135\n"
     ]
    },
    {
     "name": "stderr",
     "output_type": "stream",
     "text": [
      "Compiling FSM index for all state transitions: 100%|██████████| 119/119 [00:00<00:00, 175.36it/s]\n",
      "\n",
      "llama_print_timings:        load time =     196.58 ms\n",
      "llama_print_timings:      sample time =      57.27 ms /    49 runs   (    1.17 ms per token,   855.58 tokens per second)\n",
      "llama_print_timings: prompt eval time =      86.75 ms /   194 tokens (    0.45 ms per token,  2236.31 tokens per second)\n",
      "llama_print_timings:        eval time =    1889.61 ms /    48 runs   (   39.37 ms per token,    25.40 tokens per second)\n",
      "llama_print_timings:       total time =    2049.61 ms /   242 tokens\n"
     ]
    },
    {
     "name": "stdout",
     "output_type": "stream",
     "text": [
      "136\n"
     ]
    },
    {
     "name": "stderr",
     "output_type": "stream",
     "text": [
      "\n",
      "llama_print_timings:        load time =     196.58 ms\n",
      "llama_print_timings:      sample time =      67.18 ms /    57 runs   (    1.18 ms per token,   848.47 tokens per second)\n",
      "llama_print_timings: prompt eval time =      95.44 ms /   240 tokens (    0.40 ms per token,  2514.59 tokens per second)\n",
      "llama_print_timings:        eval time =    2218.59 ms /    56 runs   (   39.62 ms per token,    25.24 tokens per second)\n",
      "llama_print_timings:       total time =    2404.85 ms /   296 tokens\n"
     ]
    },
    {
     "name": "stdout",
     "output_type": "stream",
     "text": [
      "137\n"
     ]
    },
    {
     "name": "stderr",
     "output_type": "stream",
     "text": [
      "Compiling FSM index for all state transitions: 100%|██████████| 155/155 [00:00<00:00, 177.42it/s]\n",
      "\n",
      "llama_print_timings:        load time =     196.58 ms\n",
      "llama_print_timings:      sample time =      62.21 ms /    54 runs   (    1.15 ms per token,   868.00 tokens per second)\n",
      "llama_print_timings: prompt eval time =      98.14 ms /   246 tokens (    0.40 ms per token,  2506.73 tokens per second)\n",
      "llama_print_timings:        eval time =    2101.12 ms /    53 runs   (   39.64 ms per token,    25.22 tokens per second)\n",
      "llama_print_timings:       total time =    2278.64 ms /   299 tokens\n"
     ]
    },
    {
     "name": "stdout",
     "output_type": "stream",
     "text": [
      "138\n"
     ]
    },
    {
     "name": "stderr",
     "output_type": "stream",
     "text": [
      "\n",
      "llama_print_timings:        load time =     196.58 ms\n",
      "llama_print_timings:      sample time =      66.81 ms /    57 runs   (    1.17 ms per token,   853.20 tokens per second)\n",
      "llama_print_timings: prompt eval time =      95.94 ms /   242 tokens (    0.40 ms per token,  2522.49 tokens per second)\n",
      "llama_print_timings:        eval time =    2219.34 ms /    56 runs   (   39.63 ms per token,    25.23 tokens per second)\n",
      "llama_print_timings:       total time =    2403.91 ms /   298 tokens\n"
     ]
    },
    {
     "name": "stdout",
     "output_type": "stream",
     "text": [
      "139\n"
     ]
    },
    {
     "name": "stderr",
     "output_type": "stream",
     "text": [
      "\n",
      "llama_print_timings:        load time =     196.58 ms\n",
      "llama_print_timings:      sample time =      58.22 ms /    50 runs   (    1.16 ms per token,   858.83 tokens per second)\n",
      "llama_print_timings: prompt eval time =      89.98 ms /   213 tokens (    0.42 ms per token,  2367.11 tokens per second)\n",
      "llama_print_timings:        eval time =    1931.53 ms /    49 runs   (   39.42 ms per token,    25.37 tokens per second)\n",
      "llama_print_timings:       total time =    2095.83 ms /   262 tokens\n"
     ]
    },
    {
     "name": "stdout",
     "output_type": "stream",
     "text": [
      "140\n"
     ]
    },
    {
     "name": "stderr",
     "output_type": "stream",
     "text": [
      "\n",
      "llama_print_timings:        load time =     196.58 ms\n",
      "llama_print_timings:      sample time =      56.59 ms /    49 runs   (    1.15 ms per token,   865.85 tokens per second)\n",
      "llama_print_timings: prompt eval time =      88.13 ms /   203 tokens (    0.43 ms per token,  2303.36 tokens per second)\n",
      "llama_print_timings:        eval time =    1890.37 ms /    48 runs   (   39.38 ms per token,    25.39 tokens per second)\n",
      "llama_print_timings:       total time =    2052.38 ms /   251 tokens\n"
     ]
    },
    {
     "name": "stdout",
     "output_type": "stream",
     "text": [
      "141\n"
     ]
    },
    {
     "name": "stderr",
     "output_type": "stream",
     "text": [
      "\n",
      "llama_print_timings:        load time =     196.58 ms\n",
      "llama_print_timings:      sample time =      36.37 ms /    31 runs   (    1.17 ms per token,   852.30 tokens per second)\n",
      "llama_print_timings: prompt eval time =      62.50 ms /   126 tokens (    0.50 ms per token,  2015.90 tokens per second)\n",
      "llama_print_timings:        eval time =    1179.91 ms /    30 runs   (   39.33 ms per token,    25.43 tokens per second)\n",
      "llama_print_timings:       total time =    1294.22 ms /   156 tokens\n"
     ]
    },
    {
     "name": "stdout",
     "output_type": "stream",
     "text": [
      "142\n"
     ]
    },
    {
     "name": "stderr",
     "output_type": "stream",
     "text": [
      "Compiling FSM index for all state transitions:  41%|████      | 345/849 [00:04<00:06, 76.61it/s] \n",
      "\n",
      "llama_print_timings:        load time =     196.58 ms\n",
      "llama_print_timings:      sample time =      50.30 ms /    41 runs   (    1.23 ms per token,   815.06 tokens per second)\n",
      "llama_print_timings: prompt eval time =      81.02 ms /   182 tokens (    0.45 ms per token,  2246.25 tokens per second)\n",
      "llama_print_timings:        eval time =    1574.96 ms /    40 runs   (   39.37 ms per token,    25.40 tokens per second)\n",
      "llama_print_timings:       total time =    1743.74 ms /   222 tokens\n"
     ]
    },
    {
     "name": "stdout",
     "output_type": "stream",
     "text": [
      "143\n"
     ]
    },
    {
     "name": "stderr",
     "output_type": "stream",
     "text": [
      "Compiling FSM index for all state transitions:  43%|████▎     | 257/593 [00:03<00:04, 83.83it/s] \n",
      "\n",
      "llama_print_timings:        load time =     196.58 ms\n",
      "llama_print_timings:      sample time =      48.66 ms /    41 runs   (    1.19 ms per token,   842.63 tokens per second)\n",
      "llama_print_timings: prompt eval time =      75.11 ms /   157 tokens (    0.48 ms per token,  2090.35 tokens per second)\n",
      "llama_print_timings:        eval time =    1574.11 ms /    40 runs   (   39.35 ms per token,    25.41 tokens per second)\n",
      "llama_print_timings:       total time =    1724.65 ms /   197 tokens\n"
     ]
    },
    {
     "name": "stdout",
     "output_type": "stream",
     "text": [
      "144\n"
     ]
    },
    {
     "name": "stderr",
     "output_type": "stream",
     "text": [
      "Compiling FSM index for all state transitions:  37%|███▋      | 896/2412 [00:12<00:21, 70.22it/s] \n",
      "\n",
      "llama_print_timings:        load time =     196.58 ms\n",
      "llama_print_timings:      sample time =      58.55 ms /    49 runs   (    1.19 ms per token,   836.88 tokens per second)\n",
      "llama_print_timings: prompt eval time =     102.14 ms /   243 tokens (    0.42 ms per token,  2379.18 tokens per second)\n",
      "llama_print_timings:        eval time =    1901.90 ms /    48 runs   (   39.62 ms per token,    25.24 tokens per second)\n",
      "llama_print_timings:       total time =    2100.40 ms /   291 tokens\n"
     ]
    },
    {
     "name": "stdout",
     "output_type": "stream",
     "text": [
      "145\n"
     ]
    },
    {
     "name": "stderr",
     "output_type": "stream",
     "text": [
      "Compiling FSM index for all state transitions:  58%|█████▊    | 232/400 [00:02<00:01, 108.65it/s]\n",
      "\n",
      "llama_print_timings:        load time =     196.58 ms\n",
      "llama_print_timings:      sample time =      55.10 ms /    47 runs   (    1.17 ms per token,   852.98 tokens per second)\n",
      "llama_print_timings: prompt eval time =      93.67 ms /   229 tokens (    0.41 ms per token,  2444.65 tokens per second)\n",
      "llama_print_timings:        eval time =    1818.39 ms /    46 runs   (   39.53 ms per token,    25.30 tokens per second)\n",
      "llama_print_timings:       total time =    1982.58 ms /   275 tokens\n"
     ]
    },
    {
     "name": "stdout",
     "output_type": "stream",
     "text": [
      "146\n"
     ]
    },
    {
     "name": "stderr",
     "output_type": "stream",
     "text": [
      "Compiling FSM index for all state transitions:  43%|████▎     | 254/590 [00:03<00:04, 82.17it/s] \n",
      "\n",
      "llama_print_timings:        load time =     196.58 ms\n",
      "llama_print_timings:      sample time =      31.62 ms /    27 runs   (    1.17 ms per token,   853.89 tokens per second)\n",
      "llama_print_timings: prompt eval time =      77.84 ms /   166 tokens (    0.47 ms per token,  2132.58 tokens per second)\n",
      "llama_print_timings:        eval time =    1023.86 ms /    26 runs   (   39.38 ms per token,    25.39 tokens per second)\n",
      "llama_print_timings:       total time =    1147.37 ms /   192 tokens\n"
     ]
    },
    {
     "name": "stdout",
     "output_type": "stream",
     "text": [
      "147\n"
     ]
    },
    {
     "name": "stderr",
     "output_type": "stream",
     "text": [
      "\n",
      "llama_print_timings:        load time =     196.58 ms\n",
      "llama_print_timings:      sample time =      42.77 ms /    36 runs   (    1.19 ms per token,   841.79 tokens per second)\n",
      "llama_print_timings: prompt eval time =      74.29 ms /   153 tokens (    0.49 ms per token,  2059.55 tokens per second)\n",
      "llama_print_timings:        eval time =    1377.61 ms /    35 runs   (   39.36 ms per token,    25.41 tokens per second)\n",
      "llama_print_timings:       total time =    1515.34 ms /   188 tokens\n"
     ]
    },
    {
     "name": "stdout",
     "output_type": "stream",
     "text": [
      "148\n"
     ]
    },
    {
     "name": "stderr",
     "output_type": "stream",
     "text": [
      "Compiling FSM index for all state transitions:  98%|█████████▊| 150/153 [00:00<00:00, 162.76it/s]\n",
      "\n",
      "llama_print_timings:        load time =     196.58 ms\n",
      "llama_print_timings:      sample time =      61.69 ms /    54 runs   (    1.14 ms per token,   875.32 tokens per second)\n",
      "llama_print_timings: prompt eval time =      92.56 ms /   225 tokens (    0.41 ms per token,  2430.86 tokens per second)\n",
      "llama_print_timings:        eval time =    2094.12 ms /    53 runs   (   39.51 ms per token,    25.31 tokens per second)\n",
      "llama_print_timings:       total time =    2266.60 ms /   278 tokens\n"
     ]
    },
    {
     "name": "stdout",
     "output_type": "stream",
     "text": [
      "149\n"
     ]
    },
    {
     "name": "stderr",
     "output_type": "stream",
     "text": [
      "\n",
      "llama_print_timings:        load time =     196.58 ms\n",
      "llama_print_timings:      sample time =      34.04 ms /    29 runs   (    1.17 ms per token,   851.94 tokens per second)\n",
      "llama_print_timings: prompt eval time =      57.83 ms /   110 tokens (    0.53 ms per token,  1902.16 tokens per second)\n",
      "llama_print_timings:        eval time =    1097.80 ms /    28 runs   (   39.21 ms per token,    25.51 tokens per second)\n",
      "llama_print_timings:       total time =    1207.03 ms /   138 tokens\n"
     ]
    },
    {
     "name": "stdout",
     "output_type": "stream",
     "text": [
      "150\n"
     ]
    },
    {
     "name": "stderr",
     "output_type": "stream",
     "text": [
      "\n",
      "llama_print_timings:        load time =     196.58 ms\n",
      "llama_print_timings:      sample time =      54.41 ms /    48 runs   (    1.13 ms per token,   882.14 tokens per second)\n",
      "llama_print_timings: prompt eval time =      81.46 ms /   189 tokens (    0.43 ms per token,  2320.10 tokens per second)\n",
      "llama_print_timings:        eval time =    1849.91 ms /    47 runs   (   39.36 ms per token,    25.41 tokens per second)\n",
      "llama_print_timings:       total time =    2000.98 ms /   236 tokens\n"
     ]
    },
    {
     "name": "stdout",
     "output_type": "stream",
     "text": [
      "151\n"
     ]
    },
    {
     "name": "stderr",
     "output_type": "stream",
     "text": [
      "Compiling FSM index for all state transitions:  51%|█████▏    | 178/346 [00:01<00:01, 98.32it/s] \n",
      "\n",
      "llama_print_timings:        load time =     196.58 ms\n",
      "llama_print_timings:      sample time =      44.83 ms /    38 runs   (    1.18 ms per token,   847.72 tokens per second)\n",
      "llama_print_timings: prompt eval time =      76.73 ms /   162 tokens (    0.47 ms per token,  2111.24 tokens per second)\n",
      "llama_print_timings:        eval time =    1456.31 ms /    37 runs   (   39.36 ms per token,    25.41 tokens per second)\n",
      "llama_print_timings:       total time =    1597.93 ms /   199 tokens\n"
     ]
    },
    {
     "name": "stdout",
     "output_type": "stream",
     "text": [
      "152\n"
     ]
    },
    {
     "name": "stderr",
     "output_type": "stream",
     "text": [
      "\n",
      "llama_print_timings:        load time =     196.58 ms\n",
      "llama_print_timings:      sample time =      61.55 ms /    54 runs   (    1.14 ms per token,   877.35 tokens per second)\n",
      "llama_print_timings: prompt eval time =      87.78 ms /   200 tokens (    0.44 ms per token,  2278.50 tokens per second)\n",
      "llama_print_timings:        eval time =    2086.47 ms /    53 runs   (   39.37 ms per token,    25.40 tokens per second)\n",
      "llama_print_timings:       total time =    2254.09 ms /   253 tokens\n"
     ]
    },
    {
     "name": "stdout",
     "output_type": "stream",
     "text": [
      "153\n"
     ]
    },
    {
     "name": "stderr",
     "output_type": "stream",
     "text": [
      "\n",
      "llama_print_timings:        load time =     196.58 ms\n",
      "llama_print_timings:      sample time =      56.99 ms /    50 runs   (    1.14 ms per token,   877.30 tokens per second)\n",
      "llama_print_timings: prompt eval time =      92.70 ms /   226 tokens (    0.41 ms per token,  2438.02 tokens per second)\n",
      "llama_print_timings:        eval time =    1935.86 ms /    49 runs   (   39.51 ms per token,    25.31 tokens per second)\n",
      "llama_print_timings:       total time =    2101.74 ms /   275 tokens\n"
     ]
    },
    {
     "name": "stdout",
     "output_type": "stream",
     "text": [
      "154\n"
     ]
    },
    {
     "name": "stderr",
     "output_type": "stream",
     "text": [
      "Compiling FSM index for all state transitions: 100%|██████████| 149/149 [00:00<00:00, 174.61it/s]\n",
      "\n",
      "llama_print_timings:        load time =     196.58 ms\n",
      "llama_print_timings:      sample time =      57.49 ms /    50 runs   (    1.15 ms per token,   869.73 tokens per second)\n",
      "llama_print_timings: prompt eval time =     100.19 ms /   247 tokens (    0.41 ms per token,  2465.22 tokens per second)\n",
      "llama_print_timings:        eval time =    1943.22 ms /    49 runs   (   39.66 ms per token,    25.22 tokens per second)\n",
      "llama_print_timings:       total time =    2118.11 ms /   296 tokens\n"
     ]
    },
    {
     "name": "stdout",
     "output_type": "stream",
     "text": [
      "155\n"
     ]
    },
    {
     "name": "stderr",
     "output_type": "stream",
     "text": [
      "Compiling FSM index for all state transitions: 100%|██████████| 142/142 [00:00<00:00, 175.29it/s]\n",
      "\n",
      "llama_print_timings:        load time =     196.58 ms\n",
      "llama_print_timings:      sample time =      53.53 ms /    47 runs   (    1.14 ms per token,   878.03 tokens per second)\n",
      "llama_print_timings: prompt eval time =      90.21 ms /   214 tokens (    0.42 ms per token,  2372.16 tokens per second)\n",
      "llama_print_timings:        eval time =    1812.59 ms /    46 runs   (   39.40 ms per token,    25.38 tokens per second)\n",
      "llama_print_timings:       total time =    1972.60 ms /   260 tokens\n"
     ]
    },
    {
     "name": "stdout",
     "output_type": "stream",
     "text": [
      "156\n"
     ]
    },
    {
     "name": "stderr",
     "output_type": "stream",
     "text": [
      "Compiling FSM index for all state transitions:  45%|████▍     | 274/614 [00:03<00:03, 86.47it/s] \n",
      "\n",
      "llama_print_timings:        load time =     196.58 ms\n",
      "llama_print_timings:      sample time =      50.46 ms /    42 runs   (    1.20 ms per token,   832.34 tokens per second)\n",
      "llama_print_timings: prompt eval time =      78.50 ms /   170 tokens (    0.46 ms per token,  2165.72 tokens per second)\n",
      "llama_print_timings:        eval time =    1614.37 ms /    41 runs   (   39.37 ms per token,    25.40 tokens per second)\n",
      "llama_print_timings:       total time =    1776.06 ms /   211 tokens\n"
     ]
    },
    {
     "name": "stdout",
     "output_type": "stream",
     "text": [
      "157\n"
     ]
    },
    {
     "name": "stderr",
     "output_type": "stream",
     "text": [
      "Compiling FSM index for all state transitions:  42%|████▏     | 361/869 [00:04<00:06, 79.55it/s] \n",
      "\n",
      "llama_print_timings:        load time =     196.58 ms\n",
      "llama_print_timings:      sample time =      69.03 ms /    57 runs   (    1.21 ms per token,   825.68 tokens per second)\n",
      "llama_print_timings: prompt eval time =      90.56 ms /   210 tokens (    0.43 ms per token,  2318.88 tokens per second)\n",
      "llama_print_timings:        eval time =    2208.57 ms /    56 runs   (   39.44 ms per token,    25.36 tokens per second)\n",
      "llama_print_timings:       total time =    2419.41 ms /   266 tokens\n"
     ]
    },
    {
     "name": "stdout",
     "output_type": "stream",
     "text": [
      "158\n"
     ]
    },
    {
     "name": "stderr",
     "output_type": "stream",
     "text": [
      "\n",
      "llama_print_timings:        load time =     196.58 ms\n",
      "llama_print_timings:      sample time =      67.13 ms /    56 runs   (    1.20 ms per token,   834.18 tokens per second)\n",
      "llama_print_timings: prompt eval time =      87.96 ms /   201 tokens (    0.44 ms per token,  2285.03 tokens per second)\n",
      "llama_print_timings:        eval time =    2165.70 ms /    55 runs   (   39.38 ms per token,    25.40 tokens per second)\n",
      "llama_print_timings:       total time =    2351.44 ms /   256 tokens\n"
     ]
    },
    {
     "name": "stdout",
     "output_type": "stream",
     "text": [
      "159\n"
     ]
    },
    {
     "name": "stderr",
     "output_type": "stream",
     "text": [
      "\n",
      "llama_print_timings:        load time =     196.58 ms\n",
      "llama_print_timings:      sample time =      50.20 ms /    42 runs   (    1.20 ms per token,   836.62 tokens per second)\n",
      "llama_print_timings: prompt eval time =      74.45 ms /   153 tokens (    0.49 ms per token,  2055.18 tokens per second)\n",
      "llama_print_timings:        eval time =    1613.94 ms /    41 runs   (   39.36 ms per token,    25.40 tokens per second)\n",
      "llama_print_timings:       total time =    1764.14 ms /   194 tokens\n"
     ]
    },
    {
     "name": "stdout",
     "output_type": "stream",
     "text": [
      "160\n"
     ]
    },
    {
     "name": "stderr",
     "output_type": "stream",
     "text": [
      "\n",
      "llama_print_timings:        load time =     196.58 ms\n",
      "llama_print_timings:      sample time =      61.75 ms /    50 runs   (    1.23 ms per token,   809.73 tokens per second)\n",
      "llama_print_timings: prompt eval time =      79.89 ms /   181 tokens (    0.44 ms per token,  2265.70 tokens per second)\n",
      "llama_print_timings:        eval time =    1929.59 ms /    49 runs   (   39.38 ms per token,    25.39 tokens per second)\n",
      "llama_print_timings:       total time =    2114.73 ms /   230 tokens\n"
     ]
    },
    {
     "name": "stdout",
     "output_type": "stream",
     "text": [
      "161\n"
     ]
    },
    {
     "name": "stderr",
     "output_type": "stream",
     "text": [
      "Compiling FSM index for all state transitions:  41%|████▏     | 355/859 [00:04<00:06, 78.99it/s] \n",
      "\n",
      "llama_print_timings:        load time =     196.58 ms\n",
      "llama_print_timings:      sample time =      55.05 ms /    46 runs   (    1.20 ms per token,   835.66 tokens per second)\n",
      "llama_print_timings: prompt eval time =      81.26 ms /   188 tokens (    0.43 ms per token,  2313.68 tokens per second)\n",
      "llama_print_timings:        eval time =    1772.23 ms /    45 runs   (   39.38 ms per token,    25.39 tokens per second)\n",
      "llama_print_timings:       total time =    1938.49 ms /   233 tokens\n"
     ]
    },
    {
     "name": "stdout",
     "output_type": "stream",
     "text": [
      "162\n"
     ]
    },
    {
     "name": "stderr",
     "output_type": "stream",
     "text": [
      "\n",
      "llama_print_timings:        load time =     196.58 ms\n",
      "llama_print_timings:      sample time =      53.74 ms /    45 runs   (    1.19 ms per token,   837.32 tokens per second)\n",
      "llama_print_timings: prompt eval time =      76.57 ms /   163 tokens (    0.47 ms per token,  2128.83 tokens per second)\n",
      "llama_print_timings:        eval time =    1732.18 ms /    44 runs   (   39.37 ms per token,    25.40 tokens per second)\n",
      "llama_print_timings:       total time =    1894.51 ms /   207 tokens\n"
     ]
    },
    {
     "name": "stdout",
     "output_type": "stream",
     "text": [
      "163\n"
     ]
    },
    {
     "name": "stderr",
     "output_type": "stream",
     "text": [
      "Compiling FSM index for all state transitions:  43%|████▎     | 378/886 [00:04<00:06, 80.00it/s] \n",
      "\n",
      "llama_print_timings:        load time =     196.58 ms\n",
      "llama_print_timings:      sample time =      74.67 ms /    60 runs   (    1.24 ms per token,   803.50 tokens per second)\n",
      "llama_print_timings: prompt eval time =      91.19 ms /   217 tokens (    0.42 ms per token,  2379.70 tokens per second)\n",
      "llama_print_timings:        eval time =    2333.03 ms /    59 runs   (   39.54 ms per token,    25.29 tokens per second)\n",
      "llama_print_timings:       total time =    2562.41 ms /   276 tokens\n"
     ]
    },
    {
     "name": "stdout",
     "output_type": "stream",
     "text": [
      "164\n"
     ]
    },
    {
     "name": "stderr",
     "output_type": "stream",
     "text": [
      "Compiling FSM index for all state transitions:  41%|████      | 346/850 [00:04<00:06, 76.13it/s] \n",
      "\n",
      "llama_print_timings:        load time =     196.58 ms\n",
      "llama_print_timings:      sample time =      54.51 ms /    46 runs   (    1.19 ms per token,   843.84 tokens per second)\n",
      "llama_print_timings: prompt eval time =      80.79 ms /   183 tokens (    0.44 ms per token,  2265.10 tokens per second)\n",
      "llama_print_timings:        eval time =    1771.97 ms /    45 runs   (   39.38 ms per token,    25.40 tokens per second)\n",
      "llama_print_timings:       total time =    1934.32 ms /   228 tokens\n"
     ]
    },
    {
     "name": "stdout",
     "output_type": "stream",
     "text": [
      "165\n"
     ]
    },
    {
     "name": "stderr",
     "output_type": "stream",
     "text": [
      "\n",
      "llama_print_timings:        load time =     196.58 ms\n",
      "llama_print_timings:      sample time =      56.14 ms /    47 runs   (    1.19 ms per token,   837.15 tokens per second)\n",
      "llama_print_timings: prompt eval time =      75.31 ms /   158 tokens (    0.48 ms per token,  2097.97 tokens per second)\n",
      "llama_print_timings:        eval time =    1810.93 ms /    46 runs   (   39.37 ms per token,    25.40 tokens per second)\n",
      "llama_print_timings:       total time =    1970.55 ms /   204 tokens\n"
     ]
    },
    {
     "name": "stdout",
     "output_type": "stream",
     "text": [
      "166\n"
     ]
    },
    {
     "name": "stderr",
     "output_type": "stream",
     "text": [
      "\n",
      "llama_print_timings:        load time =     196.58 ms\n",
      "llama_print_timings:      sample time =      53.49 ms /    45 runs   (    1.19 ms per token,   841.34 tokens per second)\n",
      "llama_print_timings: prompt eval time =      88.50 ms /   204 tokens (    0.43 ms per token,  2305.11 tokens per second)\n",
      "llama_print_timings:        eval time =    1732.34 ms /    44 runs   (   39.37 ms per token,    25.40 tokens per second)\n",
      "llama_print_timings:       total time =    1904.49 ms /   248 tokens\n"
     ]
    },
    {
     "name": "stdout",
     "output_type": "stream",
     "text": [
      "167\n"
     ]
    },
    {
     "name": "stderr",
     "output_type": "stream",
     "text": [
      "\n",
      "llama_print_timings:        load time =     196.58 ms\n",
      "llama_print_timings:      sample time =      54.53 ms /    42 runs   (    1.30 ms per token,   770.25 tokens per second)\n",
      "llama_print_timings: prompt eval time =      73.98 ms /   151 tokens (    0.49 ms per token,  2041.01 tokens per second)\n",
      "llama_print_timings:        eval time =    1615.63 ms /    41 runs   (   39.41 ms per token,    25.38 tokens per second)\n",
      "llama_print_timings:       total time =    1768.88 ms /   192 tokens\n"
     ]
    },
    {
     "name": "stdout",
     "output_type": "stream",
     "text": [
      "168\n"
     ]
    },
    {
     "name": "stderr",
     "output_type": "stream",
     "text": [
      "Compiling FSM index for all state transitions:  40%|███▉      | 443/1115 [00:06<00:09, 71.84it/s]\n",
      "\n",
      "llama_print_timings:        load time =     196.58 ms\n",
      "llama_print_timings:      sample time =      56.26 ms /    46 runs   (    1.22 ms per token,   817.69 tokens per second)\n",
      "llama_print_timings: prompt eval time =      94.15 ms /   231 tokens (    0.41 ms per token,  2453.43 tokens per second)\n",
      "llama_print_timings:        eval time =    1779.49 ms /    45 runs   (   39.54 ms per token,    25.29 tokens per second)\n",
      "llama_print_timings:       total time =    1974.98 ms /   276 tokens\n"
     ]
    },
    {
     "name": "stdout",
     "output_type": "stream",
     "text": [
      "169\n"
     ]
    },
    {
     "name": "stderr",
     "output_type": "stream",
     "text": [
      "Compiling FSM index for all state transitions:  45%|████▍     | 274/614 [00:03<00:04, 83.10it/s] \n",
      "\n",
      "llama_print_timings:        load time =     196.58 ms\n",
      "llama_print_timings:      sample time =      45.91 ms /    38 runs   (    1.21 ms per token,   827.67 tokens per second)\n",
      "llama_print_timings: prompt eval time =      81.90 ms /   188 tokens (    0.44 ms per token,  2295.57 tokens per second)\n",
      "llama_print_timings:        eval time =    1457.58 ms /    37 runs   (   39.39 ms per token,    25.38 tokens per second)\n",
      "llama_print_timings:       total time =    1613.63 ms /   225 tokens\n"
     ]
    },
    {
     "name": "stdout",
     "output_type": "stream",
     "text": [
      "170\n"
     ]
    },
    {
     "name": "stderr",
     "output_type": "stream",
     "text": [
      "\n",
      "llama_print_timings:        load time =     196.58 ms\n",
      "llama_print_timings:      sample time =      60.96 ms /    52 runs   (    1.17 ms per token,   852.98 tokens per second)\n",
      "llama_print_timings: prompt eval time =      87.28 ms /   197 tokens (    0.44 ms per token,  2257.08 tokens per second)\n",
      "llama_print_timings:        eval time =    2008.11 ms /    51 runs   (   39.37 ms per token,    25.40 tokens per second)\n",
      "llama_print_timings:       total time =    2179.43 ms /   248 tokens\n"
     ]
    },
    {
     "name": "stdout",
     "output_type": "stream",
     "text": [
      "171\n"
     ]
    },
    {
     "name": "stderr",
     "output_type": "stream",
     "text": [
      "\n",
      "llama_print_timings:        load time =     196.58 ms\n",
      "llama_print_timings:      sample time =      54.27 ms /    46 runs   (    1.18 ms per token,   847.60 tokens per second)\n",
      "llama_print_timings: prompt eval time =      77.87 ms /   170 tokens (    0.46 ms per token,  2183.10 tokens per second)\n",
      "llama_print_timings:        eval time =    1771.43 ms /    45 runs   (   39.37 ms per token,    25.40 tokens per second)\n",
      "llama_print_timings:       total time =    1923.11 ms /   215 tokens\n"
     ]
    },
    {
     "name": "stdout",
     "output_type": "stream",
     "text": [
      "172\n"
     ]
    },
    {
     "name": "stderr",
     "output_type": "stream",
     "text": [
      "\n",
      "llama_print_timings:        load time =     196.58 ms\n",
      "llama_print_timings:      sample time =      36.74 ms /    31 runs   (    1.19 ms per token,   843.79 tokens per second)\n",
      "llama_print_timings: prompt eval time =      61.94 ms /   122 tokens (    0.51 ms per token,  1969.68 tokens per second)\n",
      "llama_print_timings:        eval time =    1179.27 ms /    30 runs   (   39.31 ms per token,    25.44 tokens per second)\n",
      "llama_print_timings:       total time =    1293.90 ms /   152 tokens\n"
     ]
    },
    {
     "name": "stdout",
     "output_type": "stream",
     "text": [
      "173\n"
     ]
    },
    {
     "name": "stderr",
     "output_type": "stream",
     "text": [
      "Compiling FSM index for all state transitions:  45%|████▍     | 410/914 [00:04<00:06, 83.28it/s] \n",
      "\n",
      "llama_print_timings:        load time =     196.58 ms\n",
      "llama_print_timings:      sample time =      68.15 ms /    58 runs   (    1.17 ms per token,   851.08 tokens per second)\n",
      "llama_print_timings: prompt eval time =      92.68 ms /   225 tokens (    0.41 ms per token,  2427.76 tokens per second)\n",
      "llama_print_timings:        eval time =    2253.76 ms /    57 runs   (   39.54 ms per token,    25.29 tokens per second)\n",
      "llama_print_timings:       total time =    2450.05 ms /   282 tokens\n"
     ]
    },
    {
     "name": "stdout",
     "output_type": "stream",
     "text": [
      "174\n"
     ]
    },
    {
     "name": "stderr",
     "output_type": "stream",
     "text": [
      "Compiling FSM index for all state transitions:  44%|████▍     | 265/601 [00:03<00:03, 84.74it/s] \n",
      "\n",
      "llama_print_timings:        load time =     196.58 ms\n",
      "llama_print_timings:      sample time =      53.01 ms /    45 runs   (    1.18 ms per token,   848.88 tokens per second)\n",
      "llama_print_timings: prompt eval time =      80.68 ms /   183 tokens (    0.44 ms per token,  2268.22 tokens per second)\n",
      "llama_print_timings:        eval time =    1732.60 ms /    44 runs   (   39.38 ms per token,    25.40 tokens per second)\n",
      "llama_print_timings:       total time =    1891.95 ms /   227 tokens\n"
     ]
    },
    {
     "name": "stdout",
     "output_type": "stream",
     "text": [
      "175\n"
     ]
    },
    {
     "name": "stderr",
     "output_type": "stream",
     "text": [
      "\n",
      "llama_print_timings:        load time =     196.58 ms\n",
      "llama_print_timings:      sample time =      44.71 ms /    37 runs   (    1.21 ms per token,   827.54 tokens per second)\n",
      "llama_print_timings: prompt eval time =      72.20 ms /   140 tokens (    0.52 ms per token,  1939.11 tokens per second)\n",
      "llama_print_timings:        eval time =    1416.90 ms /    36 runs   (   39.36 ms per token,    25.41 tokens per second)\n",
      "llama_print_timings:       total time =    1557.91 ms /   176 tokens\n"
     ]
    },
    {
     "name": "stdout",
     "output_type": "stream",
     "text": [
      "176\n"
     ]
    },
    {
     "name": "stderr",
     "output_type": "stream",
     "text": [
      "Compiling FSM index for all state transitions:  44%|████▍     | 268/608 [00:03<00:04, 83.99it/s] \n",
      "\n",
      "llama_print_timings:        load time =     196.58 ms\n",
      "llama_print_timings:      sample time =      55.28 ms /    46 runs   (    1.20 ms per token,   832.17 tokens per second)\n",
      "llama_print_timings: prompt eval time =      79.45 ms /   177 tokens (    0.45 ms per token,  2227.93 tokens per second)\n",
      "llama_print_timings:        eval time =    1772.00 ms /    45 runs   (   39.38 ms per token,    25.39 tokens per second)\n",
      "llama_print_timings:       total time =    1934.34 ms /   222 tokens\n"
     ]
    },
    {
     "name": "stdout",
     "output_type": "stream",
     "text": [
      "177\n"
     ]
    },
    {
     "name": "stderr",
     "output_type": "stream",
     "text": [
      "Compiling FSM index for all state transitions:  44%|████▍     | 262/598 [00:03<00:04, 82.78it/s] \n",
      "\n",
      "llama_print_timings:        load time =     196.58 ms\n",
      "llama_print_timings:      sample time =      40.80 ms /    35 runs   (    1.17 ms per token,   857.78 tokens per second)\n",
      "llama_print_timings: prompt eval time =      79.23 ms /   173 tokens (    0.46 ms per token,  2183.49 tokens per second)\n",
      "llama_print_timings:        eval time =    1338.68 ms /    34 runs   (   39.37 ms per token,    25.40 tokens per second)\n",
      "llama_print_timings:       total time =    1475.09 ms /   207 tokens\n"
     ]
    },
    {
     "name": "stdout",
     "output_type": "stream",
     "text": [
      "178\n"
     ]
    },
    {
     "name": "stderr",
     "output_type": "stream",
     "text": [
      "Compiling FSM index for all state transitions:  37%|███▋      | 1074/2922 [00:16<00:27, 66.68it/s]\n",
      "\n",
      "llama_print_timings:        load time =     196.58 ms\n",
      "llama_print_timings:      sample time =      56.46 ms /    46 runs   (    1.23 ms per token,   814.74 tokens per second)\n",
      "llama_print_timings: prompt eval time =      97.31 ms /   219 tokens (    0.44 ms per token,  2250.49 tokens per second)\n",
      "llama_print_timings:        eval time =    1775.25 ms /    45 runs   (   39.45 ms per token,    25.35 tokens per second)\n",
      "llama_print_timings:       total time =    1973.63 ms /   264 tokens\n"
     ]
    },
    {
     "name": "stdout",
     "output_type": "stream",
     "text": [
      "179\n"
     ]
    },
    {
     "name": "stderr",
     "output_type": "stream",
     "text": [
      "Compiling FSM index for all state transitions:  41%|████      | 351/855 [00:04<00:06, 78.27it/s] \n",
      "\n",
      "llama_print_timings:        load time =     196.58 ms\n",
      "llama_print_timings:      sample time =      50.09 ms /    42 runs   (    1.19 ms per token,   838.42 tokens per second)\n",
      "llama_print_timings: prompt eval time =      73.93 ms /   151 tokens (    0.49 ms per token,  2042.36 tokens per second)\n",
      "llama_print_timings:        eval time =    1613.48 ms /    41 runs   (   39.35 ms per token,    25.41 tokens per second)\n",
      "llama_print_timings:       total time =    1765.57 ms /   192 tokens\n"
     ]
    },
    {
     "name": "stdout",
     "output_type": "stream",
     "text": [
      "180\n"
     ]
    },
    {
     "name": "stderr",
     "output_type": "stream",
     "text": [
      "Compiling FSM index for all state transitions:  42%|████▏     | 363/867 [00:04<00:06, 80.29it/s] \n",
      "\n",
      "llama_print_timings:        load time =     196.58 ms\n",
      "llama_print_timings:      sample time =      46.65 ms /    40 runs   (    1.17 ms per token,   857.38 tokens per second)\n",
      "llama_print_timings: prompt eval time =      88.62 ms /   205 tokens (    0.43 ms per token,  2313.17 tokens per second)\n",
      "llama_print_timings:        eval time =    1535.16 ms /    39 runs   (   39.36 ms per token,    25.40 tokens per second)\n",
      "llama_print_timings:       total time =    1693.48 ms /   244 tokens\n"
     ]
    },
    {
     "name": "stdout",
     "output_type": "stream",
     "text": [
      "181\n"
     ]
    },
    {
     "name": "stderr",
     "output_type": "stream",
     "text": [
      "Compiling FSM index for all state transitions:  46%|████▌     | 283/619 [00:03<00:03, 87.83it/s] \n",
      "\n",
      "llama_print_timings:        load time =     196.58 ms\n",
      "llama_print_timings:      sample time =      61.55 ms /    50 runs   (    1.23 ms per token,   812.37 tokens per second)\n",
      "llama_print_timings: prompt eval time =      79.08 ms /   176 tokens (    0.45 ms per token,  2225.57 tokens per second)\n",
      "llama_print_timings:        eval time =    1929.03 ms /    49 runs   (   39.37 ms per token,    25.40 tokens per second)\n",
      "llama_print_timings:       total time =    2108.17 ms /   225 tokens\n"
     ]
    },
    {
     "name": "stdout",
     "output_type": "stream",
     "text": [
      "182\n"
     ]
    },
    {
     "name": "stderr",
     "output_type": "stream",
     "text": [
      "Compiling FSM index for all state transitions:  43%|████▎     | 258/594 [00:03<00:04, 83.49it/s]\n",
      "\n",
      "llama_print_timings:        load time =     196.58 ms\n",
      "llama_print_timings:      sample time =      33.35 ms /    28 runs   (    1.19 ms per token,   839.61 tokens per second)\n",
      "llama_print_timings: prompt eval time =      77.91 ms /   170 tokens (    0.46 ms per token,  2181.95 tokens per second)\n",
      "llama_print_timings:        eval time =    1062.40 ms /    27 runs   (   39.35 ms per token,    25.41 tokens per second)\n",
      "llama_print_timings:       total time =    1194.28 ms /   197 tokens\n"
     ]
    },
    {
     "name": "stdout",
     "output_type": "stream",
     "text": [
      "183\n"
     ]
    },
    {
     "name": "stderr",
     "output_type": "stream",
     "text": [
      "Compiling FSM index for all state transitions:  40%|████      | 337/841 [00:04<00:06, 76.77it/s]\n",
      "\n",
      "llama_print_timings:        load time =     196.58 ms\n",
      "llama_print_timings:      sample time =      49.10 ms /    39 runs   (    1.26 ms per token,   794.25 tokens per second)\n",
      "llama_print_timings: prompt eval time =      74.70 ms /   155 tokens (    0.48 ms per token,  2074.86 tokens per second)\n",
      "llama_print_timings:        eval time =    1496.52 ms /    38 runs   (   39.38 ms per token,    25.39 tokens per second)\n",
      "llama_print_timings:       total time =    1650.38 ms /   193 tokens\n"
     ]
    },
    {
     "name": "stdout",
     "output_type": "stream",
     "text": [
      "184\n"
     ]
    },
    {
     "name": "stderr",
     "output_type": "stream",
     "text": [
      "\n",
      "llama_print_timings:        load time =     196.58 ms\n",
      "llama_print_timings:      sample time =      40.94 ms /    35 runs   (    1.17 ms per token,   854.93 tokens per second)\n",
      "llama_print_timings: prompt eval time =      73.08 ms /   146 tokens (    0.50 ms per token,  1997.92 tokens per second)\n",
      "llama_print_timings:        eval time =    1337.65 ms /    34 runs   (   39.34 ms per token,    25.42 tokens per second)\n",
      "llama_print_timings:       total time =    1462.55 ms /   180 tokens\n"
     ]
    },
    {
     "name": "stdout",
     "output_type": "stream",
     "text": [
      "185\n"
     ]
    },
    {
     "name": "stderr",
     "output_type": "stream",
     "text": [
      "Compiling FSM index for all state transitions:  55%|█████▌    | 206/374 [00:01<00:01, 104.71it/s]\n",
      "\n",
      "llama_print_timings:        load time =     196.58 ms\n",
      "llama_print_timings:      sample time =      52.02 ms /    42 runs   (    1.24 ms per token,   807.44 tokens per second)\n",
      "llama_print_timings: prompt eval time =      78.28 ms /   172 tokens (    0.46 ms per token,  2197.38 tokens per second)\n",
      "llama_print_timings:        eval time =    1614.52 ms /    41 runs   (   39.38 ms per token,    25.39 tokens per second)\n",
      "llama_print_timings:       total time =    1764.83 ms /   213 tokens\n"
     ]
    },
    {
     "name": "stdout",
     "output_type": "stream",
     "text": [
      "186\n"
     ]
    },
    {
     "name": "stderr",
     "output_type": "stream",
     "text": [
      "Compiling FSM index for all state transitions:  41%|████      | 353/857 [00:04<00:06, 76.34it/s] \n",
      "\n",
      "llama_print_timings:        load time =     196.58 ms\n",
      "llama_print_timings:      sample time =      40.45 ms /    32 runs   (    1.26 ms per token,   791.04 tokens per second)\n",
      "llama_print_timings: prompt eval time =      80.03 ms /   182 tokens (    0.44 ms per token,  2274.29 tokens per second)\n",
      "llama_print_timings:        eval time =    1221.83 ms /    31 runs   (   39.41 ms per token,    25.37 tokens per second)\n",
      "llama_print_timings:       total time =    1363.22 ms /   213 tokens\n"
     ]
    },
    {
     "name": "stdout",
     "output_type": "stream",
     "text": [
      "187\n"
     ]
    },
    {
     "name": "stderr",
     "output_type": "stream",
     "text": [
      "Compiling FSM index for all state transitions:  56%|█████▌    | 210/378 [00:02<00:01, 99.83it/s] \n",
      "\n",
      "llama_print_timings:        load time =     196.58 ms\n",
      "llama_print_timings:      sample time =      49.21 ms /    42 runs   (    1.17 ms per token,   853.52 tokens per second)\n",
      "llama_print_timings: prompt eval time =      76.29 ms /   162 tokens (    0.47 ms per token,  2123.45 tokens per second)\n",
      "llama_print_timings:        eval time =    1613.56 ms /    41 runs   (   39.36 ms per token,    25.41 tokens per second)\n",
      "llama_print_timings:       total time =    1760.54 ms /   203 tokens\n"
     ]
    },
    {
     "name": "stdout",
     "output_type": "stream",
     "text": [
      "188\n"
     ]
    },
    {
     "name": "stderr",
     "output_type": "stream",
     "text": [
      "Compiling FSM index for all state transitions:  52%|█████▏    | 189/361 [00:01<00:01, 100.24it/s]\n",
      "\n",
      "llama_print_timings:        load time =     196.58 ms\n",
      "llama_print_timings:      sample time =      40.03 ms /    34 runs   (    1.18 ms per token,   849.36 tokens per second)\n",
      "llama_print_timings: prompt eval time =      77.41 ms /   168 tokens (    0.46 ms per token,  2170.32 tokens per second)\n",
      "llama_print_timings:        eval time =    1298.55 ms /    33 runs   (   39.35 ms per token,    25.41 tokens per second)\n",
      "llama_print_timings:       total time =    1435.10 ms /   201 tokens\n"
     ]
    },
    {
     "name": "stdout",
     "output_type": "stream",
     "text": [
      "189\n"
     ]
    },
    {
     "name": "stderr",
     "output_type": "stream",
     "text": [
      "Compiling FSM index for all state transitions:  53%|█████▎    | 188/356 [00:01<00:01, 99.84it/s] \n",
      "\n",
      "llama_print_timings:        load time =     196.58 ms\n",
      "llama_print_timings:      sample time =      43.63 ms /    37 runs   (    1.18 ms per token,   848.02 tokens per second)\n",
      "llama_print_timings: prompt eval time =      75.62 ms /   158 tokens (    0.48 ms per token,  2089.34 tokens per second)\n",
      "llama_print_timings:        eval time =    1417.40 ms /    36 runs   (   39.37 ms per token,    25.40 tokens per second)\n",
      "llama_print_timings:       total time =    1553.69 ms /   194 tokens\n"
     ]
    },
    {
     "name": "stdout",
     "output_type": "stream",
     "text": [
      "190\n"
     ]
    },
    {
     "name": "stderr",
     "output_type": "stream",
     "text": [
      "\n",
      "llama_print_timings:        load time =     196.58 ms\n",
      "llama_print_timings:      sample time =      45.78 ms /    38 runs   (    1.20 ms per token,   830.07 tokens per second)\n",
      "llama_print_timings: prompt eval time =      75.03 ms /   157 tokens (    0.48 ms per token,  2092.58 tokens per second)\n",
      "llama_print_timings:        eval time =    1455.86 ms /    37 runs   (   39.35 ms per token,    25.41 tokens per second)\n",
      "llama_print_timings:       total time =    1608.93 ms /   194 tokens\n"
     ]
    },
    {
     "name": "stdout",
     "output_type": "stream",
     "text": [
      "191\n"
     ]
    },
    {
     "name": "stderr",
     "output_type": "stream",
     "text": [
      "\n",
      "llama_print_timings:        load time =     196.58 ms\n",
      "llama_print_timings:      sample time =      49.23 ms /    42 runs   (    1.17 ms per token,   853.12 tokens per second)\n",
      "llama_print_timings: prompt eval time =      76.97 ms /   165 tokens (    0.47 ms per token,  2143.61 tokens per second)\n",
      "llama_print_timings:        eval time =    1613.94 ms /    41 runs   (   39.36 ms per token,    25.40 tokens per second)\n",
      "llama_print_timings:       total time =    1761.73 ms /   206 tokens\n"
     ]
    },
    {
     "name": "stdout",
     "output_type": "stream",
     "text": [
      "192\n"
     ]
    },
    {
     "name": "stderr",
     "output_type": "stream",
     "text": [
      "Compiling FSM index for all state transitions:  68%|██████▊   | 354/522 [00:03<00:01, 117.26it/s]\n",
      "\n",
      "llama_print_timings:        load time =     196.58 ms\n",
      "llama_print_timings:      sample time =      86.76 ms /    71 runs   (    1.22 ms per token,   818.39 tokens per second)\n",
      "llama_print_timings: prompt eval time =      95.49 ms /   238 tokens (    0.40 ms per token,  2492.30 tokens per second)\n",
      "llama_print_timings:        eval time =    2776.07 ms /    70 runs   (   39.66 ms per token,    25.22 tokens per second)\n",
      "llama_print_timings:       total time =    2986.75 ms /   308 tokens\n"
     ]
    },
    {
     "name": "stdout",
     "output_type": "stream",
     "text": [
      "193\n"
     ]
    },
    {
     "name": "stderr",
     "output_type": "stream",
     "text": [
      "\n",
      "llama_print_timings:        load time =     196.58 ms\n",
      "llama_print_timings:      sample time =      42.42 ms /    36 runs   (    1.18 ms per token,   848.64 tokens per second)\n",
      "llama_print_timings: prompt eval time =      78.96 ms /   176 tokens (    0.45 ms per token,  2229.03 tokens per second)\n",
      "llama_print_timings:        eval time =    1377.68 ms /    35 runs   (   39.36 ms per token,    25.41 tokens per second)\n",
      "llama_print_timings:       total time =    1520.90 ms /   211 tokens\n"
     ]
    },
    {
     "name": "stdout",
     "output_type": "stream",
     "text": [
      "194\n"
     ]
    },
    {
     "name": "stderr",
     "output_type": "stream",
     "text": [
      "\n",
      "llama_print_timings:        load time =     196.58 ms\n",
      "llama_print_timings:      sample time =      42.88 ms /    37 runs   (    1.16 ms per token,   862.81 tokens per second)\n",
      "llama_print_timings: prompt eval time =      73.80 ms /   150 tokens (    0.49 ms per token,  2032.49 tokens per second)\n",
      "llama_print_timings:        eval time =    1416.85 ms /    36 runs   (   39.36 ms per token,    25.41 tokens per second)\n",
      "llama_print_timings:       total time =    1548.77 ms /   186 tokens\n"
     ]
    },
    {
     "name": "stdout",
     "output_type": "stream",
     "text": [
      "195\n"
     ]
    },
    {
     "name": "stderr",
     "output_type": "stream",
     "text": [
      "Compiling FSM index for all state transitions: 100%|██████████| 157/157 [00:00<00:00, 177.10it/s]\n",
      "\n",
      "llama_print_timings:        load time =     196.58 ms\n",
      "llama_print_timings:      sample time =      70.38 ms /    58 runs   (    1.21 ms per token,   824.10 tokens per second)\n",
      "llama_print_timings: prompt eval time =     123.59 ms /   265 tokens (    0.47 ms per token,  2144.10 tokens per second)\n",
      "llama_print_timings:        eval time =    2265.59 ms /    57 runs   (   39.75 ms per token,    25.16 tokens per second)\n",
      "llama_print_timings:       total time =    2480.86 ms /   322 tokens\n"
     ]
    },
    {
     "name": "stdout",
     "output_type": "stream",
     "text": [
      "196\n"
     ]
    },
    {
     "name": "stderr",
     "output_type": "stream",
     "text": [
      "\n",
      "llama_print_timings:        load time =     196.58 ms\n",
      "llama_print_timings:      sample time =      44.13 ms /    36 runs   (    1.23 ms per token,   815.72 tokens per second)\n",
      "llama_print_timings: prompt eval time =      71.60 ms /   136 tokens (    0.53 ms per token,  1899.49 tokens per second)\n",
      "llama_print_timings:        eval time =    1376.85 ms /    35 runs   (   39.34 ms per token,    25.42 tokens per second)\n",
      "llama_print_timings:       total time =    1523.26 ms /   171 tokens\n"
     ]
    },
    {
     "name": "stdout",
     "output_type": "stream",
     "text": [
      "197\n"
     ]
    },
    {
     "name": "stderr",
     "output_type": "stream",
     "text": [
      "\n",
      "llama_print_timings:        load time =     196.58 ms\n",
      "llama_print_timings:      sample time =      40.40 ms /    34 runs   (    1.19 ms per token,   841.60 tokens per second)\n",
      "llama_print_timings: prompt eval time =      70.83 ms /   132 tokens (    0.54 ms per token,  1863.75 tokens per second)\n",
      "llama_print_timings:        eval time =    1298.31 ms /    33 runs   (   39.34 ms per token,    25.42 tokens per second)\n",
      "llama_print_timings:       total time =    1431.40 ms /   165 tokens\n"
     ]
    },
    {
     "name": "stdout",
     "output_type": "stream",
     "text": [
      "198\n"
     ]
    },
    {
     "name": "stderr",
     "output_type": "stream",
     "text": [
      "Compiling FSM index for all state transitions:  45%|████▌     | 278/614 [00:03<00:03, 84.37it/s] \n",
      "\n",
      "llama_print_timings:        load time =     196.58 ms\n",
      "llama_print_timings:      sample time =      32.43 ms /    28 runs   (    1.16 ms per token,   863.42 tokens per second)\n",
      "llama_print_timings: prompt eval time =      79.67 ms /   176 tokens (    0.45 ms per token,  2209.03 tokens per second)\n",
      "llama_print_timings:        eval time =    1062.92 ms /    27 runs   (   39.37 ms per token,    25.40 tokens per second)\n",
      "llama_print_timings:       total time =    1184.21 ms /   203 tokens\n"
     ]
    },
    {
     "name": "stdout",
     "output_type": "stream",
     "text": [
      "199\n"
     ]
    },
    {
     "name": "stderr",
     "output_type": "stream",
     "text": [
      "Compiling FSM index for all state transitions:  51%|█████     | 179/351 [00:01<00:01, 97.64it/s] \n",
      "\n",
      "llama_print_timings:        load time =     196.58 ms\n",
      "llama_print_timings:      sample time =      39.65 ms /    34 runs   (    1.17 ms per token,   857.57 tokens per second)\n",
      "llama_print_timings: prompt eval time =      73.34 ms /   142 tokens (    0.52 ms per token,  1936.27 tokens per second)\n",
      "llama_print_timings:        eval time =    1298.69 ms /    33 runs   (   39.35 ms per token,    25.41 tokens per second)\n",
      "llama_print_timings:       total time =    1427.24 ms /   175 tokens\n"
     ]
    },
    {
     "name": "stdout",
     "output_type": "stream",
     "text": [
      "200\n"
     ]
    },
    {
     "name": "stderr",
     "output_type": "stream",
     "text": [
      "Compiling FSM index for all state transitions:  57%|█████▋    | 225/393 [00:02<00:01, 107.27it/s]\n",
      "\n",
      "llama_print_timings:        load time =     196.58 ms\n",
      "llama_print_timings:      sample time =      63.80 ms /    56 runs   (    1.14 ms per token,   877.81 tokens per second)\n",
      "llama_print_timings: prompt eval time =      95.76 ms /   239 tokens (    0.40 ms per token,  2495.82 tokens per second)\n",
      "llama_print_timings:        eval time =    2178.36 ms /    55 runs   (   39.61 ms per token,    25.25 tokens per second)\n",
      "llama_print_timings:       total time =    2360.20 ms /   294 tokens\n"
     ]
    },
    {
     "name": "stdout",
     "output_type": "stream",
     "text": [
      "201\n"
     ]
    },
    {
     "name": "stderr",
     "output_type": "stream",
     "text": [
      "Compiling FSM index for all state transitions:  44%|████▎     | 260/596 [00:03<00:04, 83.68it/s]\n",
      "\n",
      "llama_print_timings:        load time =     196.58 ms\n",
      "llama_print_timings:      sample time =      38.89 ms /    33 runs   (    1.18 ms per token,   848.59 tokens per second)\n",
      "llama_print_timings: prompt eval time =      74.17 ms /   152 tokens (    0.49 ms per token,  2049.29 tokens per second)\n",
      "llama_print_timings:        eval time =    1258.74 ms /    32 runs   (   39.34 ms per token,    25.42 tokens per second)\n",
      "llama_print_timings:       total time =    1393.79 ms /   184 tokens\n"
     ]
    },
    {
     "name": "stdout",
     "output_type": "stream",
     "text": [
      "202\n"
     ]
    },
    {
     "name": "stderr",
     "output_type": "stream",
     "text": [
      "Compiling FSM index for all state transitions:  45%|████▌     | 280/616 [00:03<00:03, 86.10it/s] \n",
      "\n",
      "llama_print_timings:        load time =     196.58 ms\n",
      "llama_print_timings:      sample time =      51.32 ms /    44 runs   (    1.17 ms per token,   857.35 tokens per second)\n",
      "llama_print_timings: prompt eval time =      78.39 ms /   171 tokens (    0.46 ms per token,  2181.54 tokens per second)\n",
      "llama_print_timings:        eval time =    1692.26 ms /    43 runs   (   39.35 ms per token,    25.41 tokens per second)\n",
      "llama_print_timings:       total time =    1844.30 ms /   214 tokens\n"
     ]
    },
    {
     "name": "stdout",
     "output_type": "stream",
     "text": [
      "203\n"
     ]
    },
    {
     "name": "stderr",
     "output_type": "stream",
     "text": [
      "Compiling FSM index for all state transitions:  44%|████▍     | 266/602 [00:03<00:03, 84.95it/s] \n",
      "\n",
      "llama_print_timings:        load time =     196.58 ms\n",
      "llama_print_timings:      sample time =      28.06 ms /    24 runs   (    1.17 ms per token,   855.37 tokens per second)\n",
      "llama_print_timings: prompt eval time =      86.58 ms /   193 tokens (    0.45 ms per token,  2229.28 tokens per second)\n",
      "llama_print_timings:        eval time =     905.43 ms /    23 runs   (   39.37 ms per token,    25.40 tokens per second)\n",
      "llama_print_timings:       total time =    1033.59 ms /   216 tokens\n"
     ]
    },
    {
     "name": "stdout",
     "output_type": "stream",
     "text": [
      "204\n"
     ]
    },
    {
     "name": "stderr",
     "output_type": "stream",
     "text": [
      "Compiling FSM index for all state transitions:  44%|████▍     | 272/612 [00:03<00:03, 85.20it/s] \n",
      "\n",
      "llama_print_timings:        load time =     196.58 ms\n",
      "llama_print_timings:      sample time =      53.87 ms /    46 runs   (    1.17 ms per token,   853.99 tokens per second)\n",
      "llama_print_timings: prompt eval time =      77.87 ms /   170 tokens (    0.46 ms per token,  2183.24 tokens per second)\n",
      "llama_print_timings:        eval time =    1770.79 ms /    45 runs   (   39.35 ms per token,    25.41 tokens per second)\n",
      "llama_print_timings:       total time =    1930.70 ms /   215 tokens\n"
     ]
    },
    {
     "name": "stdout",
     "output_type": "stream",
     "text": [
      "205\n"
     ]
    },
    {
     "name": "stderr",
     "output_type": "stream",
     "text": [
      "Compiling FSM index for all state transitions:  41%|████      | 352/856 [00:04<00:06, 78.54it/s] \n",
      "\n",
      "llama_print_timings:        load time =     196.58 ms\n",
      "llama_print_timings:      sample time =      50.93 ms /    43 runs   (    1.18 ms per token,   844.23 tokens per second)\n",
      "llama_print_timings: prompt eval time =      78.08 ms /   171 tokens (    0.46 ms per token,  2190.03 tokens per second)\n",
      "llama_print_timings:        eval time =    1653.58 ms /    42 runs   (   39.37 ms per token,    25.40 tokens per second)\n",
      "llama_print_timings:       total time =    1811.35 ms /   213 tokens\n"
     ]
    },
    {
     "name": "stdout",
     "output_type": "stream",
     "text": [
      "206\n"
     ]
    },
    {
     "name": "stderr",
     "output_type": "stream",
     "text": [
      "Compiling FSM index for all state transitions:  36%|███▌      | 954/2638 [00:13<00:24, 68.25it/s] \n",
      "\n",
      "llama_print_timings:        load time =     196.58 ms\n",
      "llama_print_timings:      sample time =      43.91 ms /    37 runs   (    1.19 ms per token,   842.56 tokens per second)\n",
      "llama_print_timings: prompt eval time =      82.81 ms /   161 tokens (    0.51 ms per token,  1944.26 tokens per second)\n",
      "llama_print_timings:        eval time =    1416.80 ms /    36 runs   (   39.36 ms per token,    25.41 tokens per second)\n",
      "llama_print_timings:       total time =    1569.34 ms /   197 tokens\n"
     ]
    },
    {
     "name": "stdout",
     "output_type": "stream",
     "text": [
      "207\n"
     ]
    },
    {
     "name": "stderr",
     "output_type": "stream",
     "text": [
      "\n",
      "llama_print_timings:        load time =     196.58 ms\n",
      "llama_print_timings:      sample time =      61.08 ms /    51 runs   (    1.20 ms per token,   834.94 tokens per second)\n",
      "llama_print_timings: prompt eval time =      77.79 ms /   170 tokens (    0.46 ms per token,  2185.43 tokens per second)\n",
      "llama_print_timings:        eval time =    1968.06 ms /    50 runs   (   39.36 ms per token,    25.41 tokens per second)\n",
      "llama_print_timings:       total time =    2142.28 ms /   220 tokens\n"
     ]
    },
    {
     "name": "stdout",
     "output_type": "stream",
     "text": [
      "208\n"
     ]
    },
    {
     "name": "stderr",
     "output_type": "stream",
     "text": [
      "Compiling FSM index for all state transitions:  36%|███▌      | 1051/2903 [00:15<00:26, 68.86it/s]\n",
      "\n",
      "llama_print_timings:        load time =     196.58 ms\n",
      "llama_print_timings:      sample time =      56.64 ms /    47 runs   (    1.21 ms per token,   829.76 tokens per second)\n",
      "llama_print_timings: prompt eval time =      87.13 ms /   187 tokens (    0.47 ms per token,  2146.32 tokens per second)\n",
      "llama_print_timings:        eval time =    1811.13 ms /    46 runs   (   39.37 ms per token,    25.40 tokens per second)\n",
      "llama_print_timings:       total time =    1995.14 ms /   233 tokens\n"
     ]
    },
    {
     "name": "stdout",
     "output_type": "stream",
     "text": [
      "209\n"
     ]
    },
    {
     "name": "stderr",
     "output_type": "stream",
     "text": [
      "\n",
      "llama_print_timings:        load time =     196.58 ms\n",
      "llama_print_timings:      sample time =      53.01 ms /    44 runs   (    1.20 ms per token,   830.09 tokens per second)\n",
      "llama_print_timings: prompt eval time =      79.50 ms /   179 tokens (    0.44 ms per token,  2251.49 tokens per second)\n",
      "llama_print_timings:        eval time =    1692.96 ms /    43 runs   (   39.37 ms per token,    25.40 tokens per second)\n",
      "llama_print_timings:       total time =    1858.87 ms /   222 tokens\n"
     ]
    },
    {
     "name": "stdout",
     "output_type": "stream",
     "text": [
      "210\n"
     ]
    },
    {
     "name": "stderr",
     "output_type": "stream",
     "text": [
      "Compiling FSM index for all state transitions:  43%|████▎     | 250/586 [00:03<00:04, 81.83it/s] \n",
      "\n",
      "llama_print_timings:        load time =     196.58 ms\n",
      "llama_print_timings:      sample time =      41.53 ms /    35 runs   (    1.19 ms per token,   842.85 tokens per second)\n",
      "llama_print_timings: prompt eval time =      72.31 ms /   139 tokens (    0.52 ms per token,  1922.33 tokens per second)\n",
      "llama_print_timings:        eval time =    1338.61 ms /    34 runs   (   39.37 ms per token,    25.40 tokens per second)\n",
      "llama_print_timings:       total time =    1473.42 ms /   173 tokens\n"
     ]
    },
    {
     "name": "stdout",
     "output_type": "stream",
     "text": [
      "211\n"
     ]
    },
    {
     "name": "stderr",
     "output_type": "stream",
     "text": [
      "Compiling FSM index for all state transitions:  38%|███▊      | 518/1358 [00:07<00:11, 73.15it/s]\n",
      "\n",
      "llama_print_timings:        load time =     196.58 ms\n",
      "llama_print_timings:      sample time =      81.88 ms /    65 runs   (    1.26 ms per token,   793.83 tokens per second)\n",
      "llama_print_timings: prompt eval time =      91.65 ms /   218 tokens (    0.42 ms per token,  2378.51 tokens per second)\n",
      "llama_print_timings:        eval time =    2529.53 ms /    64 runs   (   39.52 ms per token,    25.30 tokens per second)\n",
      "llama_print_timings:       total time =    2780.00 ms /   282 tokens\n"
     ]
    },
    {
     "name": "stdout",
     "output_type": "stream",
     "text": [
      "212\n"
     ]
    },
    {
     "name": "stderr",
     "output_type": "stream",
     "text": [
      "Compiling FSM index for all state transitions:  41%|████      | 350/854 [00:04<00:06, 78.07it/s]\n",
      "\n",
      "llama_print_timings:        load time =     196.58 ms\n",
      "llama_print_timings:      sample time =      54.00 ms /    45 runs   (    1.20 ms per token,   833.29 tokens per second)\n",
      "llama_print_timings: prompt eval time =      76.81 ms /   163 tokens (    0.47 ms per token,  2122.17 tokens per second)\n",
      "llama_print_timings:        eval time =    1732.20 ms /    44 runs   (   39.37 ms per token,    25.40 tokens per second)\n",
      "llama_print_timings:       total time =    1896.74 ms /   207 tokens\n"
     ]
    },
    {
     "name": "stdout",
     "output_type": "stream",
     "text": [
      "213\n"
     ]
    },
    {
     "name": "stderr",
     "output_type": "stream",
     "text": [
      "Compiling FSM index for all state transitions:  42%|████▏     | 481/1157 [00:06<00:08, 78.99it/s] \n",
      "\n",
      "llama_print_timings:        load time =     196.58 ms\n",
      "llama_print_timings:      sample time =      77.58 ms /    64 runs   (    1.21 ms per token,   824.95 tokens per second)\n",
      "llama_print_timings: prompt eval time =      96.74 ms /   247 tokens (    0.39 ms per token,  2553.21 tokens per second)\n",
      "llama_print_timings:        eval time =    2500.10 ms /    63 runs   (   39.68 ms per token,    25.20 tokens per second)\n",
      "llama_print_timings:       total time =    2728.65 ms /   310 tokens\n"
     ]
    },
    {
     "name": "stdout",
     "output_type": "stream",
     "text": [
      "214\n"
     ]
    },
    {
     "name": "stderr",
     "output_type": "stream",
     "text": [
      "Compiling FSM index for all state transitions:  44%|████▍     | 272/612 [00:03<00:03, 85.23it/s]\n",
      "\n",
      "llama_print_timings:        load time =     196.58 ms\n",
      "llama_print_timings:      sample time =      55.24 ms /    47 runs   (    1.18 ms per token,   850.85 tokens per second)\n",
      "llama_print_timings: prompt eval time =      77.63 ms /   165 tokens (    0.47 ms per token,  2125.38 tokens per second)\n",
      "llama_print_timings:        eval time =    1811.01 ms /    46 runs   (   39.37 ms per token,    25.40 tokens per second)\n",
      "llama_print_timings:       total time =    1973.07 ms /   211 tokens\n"
     ]
    },
    {
     "name": "stdout",
     "output_type": "stream",
     "text": [
      "215\n"
     ]
    },
    {
     "name": "stderr",
     "output_type": "stream",
     "text": [
      "Compiling FSM index for all state transitions:  50%|████▉     | 169/341 [00:01<00:01, 94.04it/s]\n",
      "\n",
      "llama_print_timings:        load time =     196.58 ms\n",
      "llama_print_timings:      sample time =      30.69 ms /    26 runs   (    1.18 ms per token,   847.26 tokens per second)\n",
      "llama_print_timings: prompt eval time =      61.97 ms /   123 tokens (    0.50 ms per token,  1984.90 tokens per second)\n",
      "llama_print_timings:        eval time =     982.48 ms /    25 runs   (   39.30 ms per token,    25.45 tokens per second)\n",
      "llama_print_timings:       total time =    1089.49 ms /   148 tokens\n"
     ]
    },
    {
     "name": "stdout",
     "output_type": "stream",
     "text": [
      "216\n"
     ]
    },
    {
     "name": "stderr",
     "output_type": "stream",
     "text": [
      "\n",
      "llama_print_timings:        load time =     196.58 ms\n",
      "llama_print_timings:      sample time =      50.49 ms /    42 runs   (    1.20 ms per token,   831.78 tokens per second)\n",
      "llama_print_timings: prompt eval time =      70.98 ms /   131 tokens (    0.54 ms per token,  1845.54 tokens per second)\n",
      "llama_print_timings:        eval time =    1613.28 ms /    41 runs   (   39.35 ms per token,    25.41 tokens per second)\n",
      "llama_print_timings:       total time =    1769.75 ms /   172 tokens\n"
     ]
    },
    {
     "name": "stdout",
     "output_type": "stream",
     "text": [
      "217\n"
     ]
    },
    {
     "name": "stderr",
     "output_type": "stream",
     "text": [
      "Compiling FSM index for all state transitions:  46%|████▌     | 284/624 [00:03<00:03, 87.13it/s] \n",
      "\n",
      "llama_print_timings:        load time =     196.58 ms\n",
      "llama_print_timings:      sample time =      77.45 ms /    64 runs   (    1.21 ms per token,   826.39 tokens per second)\n",
      "llama_print_timings: prompt eval time =      93.60 ms /   230 tokens (    0.41 ms per token,  2457.34 tokens per second)\n",
      "llama_print_timings:        eval time =    2493.08 ms /    63 runs   (   39.57 ms per token,    25.27 tokens per second)\n",
      "llama_print_timings:       total time =    2718.90 ms /   293 tokens\n"
     ]
    },
    {
     "name": "stdout",
     "output_type": "stream",
     "text": [
      "218\n"
     ]
    },
    {
     "name": "stderr",
     "output_type": "stream",
     "text": [
      "Compiling FSM index for all state transitions:  41%|████      | 352/860 [00:04<00:06, 79.19it/s] \n",
      "\n",
      "llama_print_timings:        load time =     196.58 ms\n",
      "llama_print_timings:      sample time =      60.40 ms /    50 runs   (    1.21 ms per token,   827.83 tokens per second)\n",
      "llama_print_timings: prompt eval time =      90.20 ms /   213 tokens (    0.42 ms per token,  2361.31 tokens per second)\n",
      "llama_print_timings:        eval time =    1931.99 ms /    49 runs   (   39.43 ms per token,    25.36 tokens per second)\n",
      "llama_print_timings:       total time =    2120.22 ms /   262 tokens\n"
     ]
    },
    {
     "name": "stdout",
     "output_type": "stream",
     "text": [
      "219\n"
     ]
    },
    {
     "name": "stderr",
     "output_type": "stream",
     "text": [
      "\n",
      "llama_print_timings:        load time =     196.58 ms\n",
      "llama_print_timings:      sample time =      46.02 ms /    39 runs   (    1.18 ms per token,   847.38 tokens per second)\n",
      "llama_print_timings: prompt eval time =      78.05 ms /   171 tokens (    0.46 ms per token,  2190.90 tokens per second)\n",
      "llama_print_timings:        eval time =    1495.73 ms /    38 runs   (   39.36 ms per token,    25.41 tokens per second)\n",
      "llama_print_timings:       total time =    1641.65 ms /   209 tokens\n"
     ]
    },
    {
     "name": "stdout",
     "output_type": "stream",
     "text": [
      "220\n"
     ]
    },
    {
     "name": "stderr",
     "output_type": "stream",
     "text": [
      "Compiling FSM index for all state transitions: 100%|██████████| 129/129 [00:00<00:00, 162.29it/s]\n",
      "\n",
      "llama_print_timings:        load time =     196.58 ms\n",
      "llama_print_timings:      sample time =      59.31 ms /    51 runs   (    1.16 ms per token,   859.87 tokens per second)\n",
      "llama_print_timings: prompt eval time =      97.65 ms /   249 tokens (    0.39 ms per token,  2549.87 tokens per second)\n",
      "llama_print_timings:        eval time =    1983.68 ms /    50 runs   (   39.67 ms per token,    25.21 tokens per second)\n",
      "llama_print_timings:       total time =    2158.34 ms /   299 tokens\n"
     ]
    },
    {
     "name": "stdout",
     "output_type": "stream",
     "text": [
      "221\n"
     ]
    },
    {
     "name": "stderr",
     "output_type": "stream",
     "text": [
      "Compiling FSM index for all state transitions:  53%|█████▎    | 188/356 [00:01<00:01, 100.64it/s]\n",
      "\n",
      "llama_print_timings:        load time =     196.58 ms\n",
      "llama_print_timings:      sample time =      36.66 ms /    32 runs   (    1.15 ms per token,   872.86 tokens per second)\n",
      "llama_print_timings: prompt eval time =      77.12 ms /   163 tokens (    0.47 ms per token,  2113.62 tokens per second)\n",
      "llama_print_timings:        eval time =    1219.89 ms /    31 runs   (   39.35 ms per token,    25.41 tokens per second)\n",
      "llama_print_timings:       total time =    1347.55 ms /   194 tokens\n"
     ]
    },
    {
     "name": "stdout",
     "output_type": "stream",
     "text": [
      "222\n"
     ]
    },
    {
     "name": "stderr",
     "output_type": "stream",
     "text": [
      "\n",
      "llama_print_timings:        load time =     196.58 ms\n",
      "llama_print_timings:      sample time =      36.21 ms /    31 runs   (    1.17 ms per token,   856.14 tokens per second)\n",
      "llama_print_timings: prompt eval time =      78.21 ms /   172 tokens (    0.45 ms per token,  2199.32 tokens per second)\n",
      "llama_print_timings:        eval time =    1181.25 ms /    30 runs   (   39.38 ms per token,    25.40 tokens per second)\n",
      "llama_print_timings:       total time =    1305.79 ms /   202 tokens\n"
     ]
    },
    {
     "name": "stdout",
     "output_type": "stream",
     "text": [
      "223\n"
     ]
    },
    {
     "name": "stderr",
     "output_type": "stream",
     "text": [
      "\n",
      "llama_print_timings:        load time =     196.58 ms\n",
      "llama_print_timings:      sample time =      50.58 ms /    42 runs   (    1.20 ms per token,   830.38 tokens per second)\n",
      "llama_print_timings: prompt eval time =      79.71 ms /   180 tokens (    0.44 ms per token,  2258.13 tokens per second)\n",
      "llama_print_timings:        eval time =    1614.77 ms /    41 runs   (   39.38 ms per token,    25.39 tokens per second)\n",
      "llama_print_timings:       total time =    1760.09 ms /   221 tokens\n"
     ]
    },
    {
     "name": "stdout",
     "output_type": "stream",
     "text": [
      "224\n"
     ]
    },
    {
     "name": "stderr",
     "output_type": "stream",
     "text": [
      "Compiling FSM index for all state transitions:  37%|███▋      | 1069/2921 [00:15<00:26, 68.96it/s]\n",
      "\n",
      "llama_print_timings:        load time =     196.58 ms\n",
      "llama_print_timings:      sample time =      54.77 ms /    46 runs   (    1.19 ms per token,   839.94 tokens per second)\n",
      "llama_print_timings: prompt eval time =      87.83 ms /   171 tokens (    0.51 ms per token,  1946.85 tokens per second)\n",
      "llama_print_timings:        eval time =    1771.31 ms /    45 runs   (   39.36 ms per token,    25.40 tokens per second)\n",
      "llama_print_timings:       total time =    1949.55 ms /   216 tokens\n"
     ]
    },
    {
     "name": "stdout",
     "output_type": "stream",
     "text": [
      "225\n"
     ]
    },
    {
     "name": "stderr",
     "output_type": "stream",
     "text": [
      "Compiling FSM index for all state transitions:  41%|████      | 466/1142 [00:05<00:08, 78.09it/s] \n",
      "\n",
      "llama_print_timings:        load time =     196.58 ms\n",
      "llama_print_timings:      sample time =      59.35 ms /    49 runs   (    1.21 ms per token,   825.67 tokens per second)\n",
      "llama_print_timings: prompt eval time =      88.74 ms /   205 tokens (    0.43 ms per token,  2310.12 tokens per second)\n",
      "llama_print_timings:        eval time =    1889.85 ms /    48 runs   (   39.37 ms per token,    25.40 tokens per second)\n",
      "llama_print_timings:       total time =    2073.14 ms /   253 tokens\n"
     ]
    },
    {
     "name": "stdout",
     "output_type": "stream",
     "text": [
      "226\n"
     ]
    },
    {
     "name": "stderr",
     "output_type": "stream",
     "text": [
      "Compiling FSM index for all state transitions:  41%|████      | 345/849 [00:04<00:06, 77.32it/s]\n",
      "\n",
      "llama_print_timings:        load time =     196.58 ms\n",
      "llama_print_timings:      sample time =      53.19 ms /    44 runs   (    1.21 ms per token,   827.29 tokens per second)\n",
      "llama_print_timings: prompt eval time =      77.85 ms /   168 tokens (    0.46 ms per token,  2157.97 tokens per second)\n",
      "llama_print_timings:        eval time =    1692.87 ms /    43 runs   (   39.37 ms per token,    25.40 tokens per second)\n",
      "llama_print_timings:       total time =    1855.98 ms /   211 tokens\n"
     ]
    },
    {
     "name": "stdout",
     "output_type": "stream",
     "text": [
      "227\n"
     ]
    },
    {
     "name": "stderr",
     "output_type": "stream",
     "text": [
      "Compiling FSM index for all state transitions:  36%|███▌      | 952/2632 [00:13<00:24, 68.44it/s]\n",
      "\n",
      "llama_print_timings:        load time =     196.58 ms\n",
      "llama_print_timings:      sample time =      49.67 ms /    41 runs   (    1.21 ms per token,   825.51 tokens per second)\n",
      "llama_print_timings: prompt eval time =      80.36 ms /   152 tokens (    0.53 ms per token,  1891.58 tokens per second)\n",
      "llama_print_timings:        eval time =    1574.45 ms /    40 runs   (   39.36 ms per token,    25.41 tokens per second)\n",
      "llama_print_timings:       total time =    1738.81 ms /   192 tokens\n"
     ]
    },
    {
     "name": "stdout",
     "output_type": "stream",
     "text": [
      "228\n"
     ]
    },
    {
     "name": "stderr",
     "output_type": "stream",
     "text": [
      "Compiling FSM index for all state transitions:  50%|█████     | 169/337 [00:01<00:01, 95.51it/s] \n",
      "\n",
      "llama_print_timings:        load time =     196.58 ms\n",
      "llama_print_timings:      sample time =      40.99 ms /    35 runs   (    1.17 ms per token,   853.91 tokens per second)\n",
      "llama_print_timings: prompt eval time =      70.92 ms /   130 tokens (    0.55 ms per token,  1833.08 tokens per second)\n",
      "llama_print_timings:        eval time =    1337.75 ms /    34 runs   (   39.35 ms per token,    25.42 tokens per second)\n",
      "llama_print_timings:       total time =    1466.80 ms /   164 tokens\n"
     ]
    },
    {
     "name": "stdout",
     "output_type": "stream",
     "text": [
      "229\n"
     ]
    },
    {
     "name": "stderr",
     "output_type": "stream",
     "text": [
      "Compiling FSM index for all state transitions:  36%|███▋      | 958/2638 [00:13<00:24, 69.50it/s] \n",
      "\n",
      "llama_print_timings:        load time =     196.58 ms\n",
      "llama_print_timings:      sample time =      56.33 ms /    46 runs   (    1.22 ms per token,   816.60 tokens per second)\n",
      "llama_print_timings: prompt eval time =      86.29 ms /   161 tokens (    0.54 ms per token,  1865.84 tokens per second)\n",
      "llama_print_timings:        eval time =    1771.73 ms /    45 runs   (   39.37 ms per token,    25.40 tokens per second)\n",
      "llama_print_timings:       total time =    1956.72 ms /   206 tokens\n"
     ]
    },
    {
     "name": "stdout",
     "output_type": "stream",
     "text": [
      "230\n"
     ]
    },
    {
     "name": "stderr",
     "output_type": "stream",
     "text": [
      "Compiling FSM index for all state transitions:  44%|████▍     | 262/598 [00:03<00:03, 84.73it/s] \n",
      "\n",
      "llama_print_timings:        load time =     196.58 ms\n",
      "llama_print_timings:      sample time =      39.83 ms /    34 runs   (    1.17 ms per token,   853.54 tokens per second)\n",
      "llama_print_timings: prompt eval time =      73.14 ms /   146 tokens (    0.50 ms per token,  1996.09 tokens per second)\n",
      "llama_print_timings:        eval time =    1298.88 ms /    33 runs   (   39.36 ms per token,    25.41 tokens per second)\n",
      "llama_print_timings:       total time =    1428.13 ms /   179 tokens\n"
     ]
    },
    {
     "name": "stdout",
     "output_type": "stream",
     "text": [
      "231\n"
     ]
    },
    {
     "name": "stderr",
     "output_type": "stream",
     "text": [
      "Compiling FSM index for all state transitions:  37%|███▋      | 995/2679 [00:14<00:24, 69.72it/s] \n",
      "\n",
      "llama_print_timings:        load time =     196.58 ms\n",
      "llama_print_timings:      sample time =      67.21 ms /    57 runs   (    1.18 ms per token,   848.06 tokens per second)\n",
      "llama_print_timings: prompt eval time =     101.23 ms /   238 tokens (    0.43 ms per token,  2351.13 tokens per second)\n",
      "llama_print_timings:        eval time =    2218.61 ms /    56 runs   (   39.62 ms per token,    25.24 tokens per second)\n",
      "llama_print_timings:       total time =    2417.30 ms /   294 tokens\n"
     ]
    },
    {
     "name": "stdout",
     "output_type": "stream",
     "text": [
      "232\n"
     ]
    },
    {
     "name": "stderr",
     "output_type": "stream",
     "text": [
      "Compiling FSM index for all state transitions:  52%|█████▏    | 188/360 [00:01<00:01, 99.77it/s] \n",
      "\n",
      "llama_print_timings:        load time =     196.58 ms\n",
      "llama_print_timings:      sample time =      48.97 ms /    41 runs   (    1.19 ms per token,   837.25 tokens per second)\n",
      "llama_print_timings: prompt eval time =      77.88 ms /   169 tokens (    0.46 ms per token,  2170.03 tokens per second)\n",
      "llama_print_timings:        eval time =    1574.87 ms /    40 runs   (   39.37 ms per token,    25.40 tokens per second)\n",
      "llama_print_timings:       total time =    1719.74 ms /   209 tokens\n"
     ]
    },
    {
     "name": "stdout",
     "output_type": "stream",
     "text": [
      "233\n"
     ]
    },
    {
     "name": "stderr",
     "output_type": "stream",
     "text": [
      "Compiling FSM index for all state transitions:  43%|████▎     | 261/601 [00:03<00:04, 83.52it/s]\n",
      "\n",
      "llama_print_timings:        load time =     196.58 ms\n",
      "llama_print_timings:      sample time =      45.52 ms /    38 runs   (    1.20 ms per token,   834.89 tokens per second)\n",
      "llama_print_timings: prompt eval time =      73.09 ms /   144 tokens (    0.51 ms per token,  1970.31 tokens per second)\n",
      "llama_print_timings:        eval time =    1456.56 ms /    37 runs   (   39.37 ms per token,    25.40 tokens per second)\n",
      "llama_print_timings:       total time =    1604.73 ms /   181 tokens\n"
     ]
    },
    {
     "name": "stdout",
     "output_type": "stream",
     "text": [
      "234\n"
     ]
    },
    {
     "name": "stderr",
     "output_type": "stream",
     "text": [
      "Compiling FSM index for all state transitions:  44%|████▍     | 267/607 [00:03<00:04, 84.45it/s] \n",
      "\n",
      "llama_print_timings:        load time =     196.58 ms\n",
      "llama_print_timings:      sample time =      47.00 ms /    40 runs   (    1.17 ms per token,   851.10 tokens per second)\n",
      "llama_print_timings: prompt eval time =      88.50 ms /   196 tokens (    0.45 ms per token,  2214.59 tokens per second)\n",
      "llama_print_timings:        eval time =    1536.24 ms /    39 runs   (   39.39 ms per token,    25.39 tokens per second)\n",
      "llama_print_timings:       total time =    1694.86 ms /   235 tokens\n"
     ]
    },
    {
     "name": "stdout",
     "output_type": "stream",
     "text": [
      "235\n"
     ]
    },
    {
     "name": "stderr",
     "output_type": "stream",
     "text": [
      "Compiling FSM index for all state transitions:  42%|████▏     | 241/577 [00:03<00:04, 79.20it/s]\n",
      "\n",
      "llama_print_timings:        load time =     196.58 ms\n",
      "llama_print_timings:      sample time =      33.77 ms /    28 runs   (    1.21 ms per token,   829.09 tokens per second)\n",
      "llama_print_timings: prompt eval time =      58.48 ms /   117 tokens (    0.50 ms per token,  2000.68 tokens per second)\n",
      "llama_print_timings:        eval time =    1060.57 ms /    27 runs   (   39.28 ms per token,    25.46 tokens per second)\n",
      "llama_print_timings:       total time =    1174.10 ms /   144 tokens\n"
     ]
    },
    {
     "name": "stdout",
     "output_type": "stream",
     "text": [
      "236\n"
     ]
    },
    {
     "name": "stderr",
     "output_type": "stream",
     "text": [
      "\n",
      "llama_print_timings:        load time =     196.58 ms\n",
      "llama_print_timings:      sample time =      47.16 ms /    40 runs   (    1.18 ms per token,   848.21 tokens per second)\n",
      "llama_print_timings: prompt eval time =      75.81 ms /   160 tokens (    0.47 ms per token,  2110.54 tokens per second)\n",
      "llama_print_timings:        eval time =    1535.50 ms /    39 runs   (   39.37 ms per token,    25.40 tokens per second)\n",
      "llama_print_timings:       total time =    1682.23 ms /   199 tokens\n"
     ]
    },
    {
     "name": "stdout",
     "output_type": "stream",
     "text": [
      "237\n"
     ]
    },
    {
     "name": "stderr",
     "output_type": "stream",
     "text": [
      "\n",
      "llama_print_timings:        load time =     196.58 ms\n",
      "llama_print_timings:      sample time =      56.83 ms /    49 runs   (    1.16 ms per token,   862.18 tokens per second)\n",
      "llama_print_timings: prompt eval time =      80.14 ms /   181 tokens (    0.44 ms per token,  2258.69 tokens per second)\n",
      "llama_print_timings:        eval time =    1890.07 ms /    48 runs   (   39.38 ms per token,    25.40 tokens per second)\n",
      "llama_print_timings:       total time =    2050.05 ms /   229 tokens\n"
     ]
    },
    {
     "name": "stdout",
     "output_type": "stream",
     "text": [
      "238\n"
     ]
    },
    {
     "name": "stderr",
     "output_type": "stream",
     "text": [
      "\n",
      "llama_print_timings:        load time =     196.58 ms\n",
      "llama_print_timings:      sample time =      42.19 ms /    36 runs   (    1.17 ms per token,   853.22 tokens per second)\n",
      "llama_print_timings: prompt eval time =      62.54 ms /   127 tokens (    0.49 ms per token,  2030.83 tokens per second)\n",
      "llama_print_timings:        eval time =    1376.96 ms /    35 runs   (   39.34 ms per token,    25.42 tokens per second)\n",
      "llama_print_timings:       total time =    1499.49 ms /   162 tokens\n"
     ]
    },
    {
     "name": "stdout",
     "output_type": "stream",
     "text": [
      "239\n"
     ]
    },
    {
     "name": "stderr",
     "output_type": "stream",
     "text": [
      "Compiling FSM index for all state transitions:  97%|█████████▋| 85/88 [00:00<00:00, 157.63it/s]\n",
      "\n",
      "llama_print_timings:        load time =     196.58 ms\n",
      "llama_print_timings:      sample time =      40.03 ms /    35 runs   (    1.14 ms per token,   874.26 tokens per second)\n",
      "llama_print_timings: prompt eval time =      71.87 ms /   137 tokens (    0.52 ms per token,  1906.30 tokens per second)\n",
      "llama_print_timings:        eval time =    1338.12 ms /    34 runs   (   39.36 ms per token,    25.41 tokens per second)\n",
      "llama_print_timings:       total time =    1461.48 ms /   171 tokens\n"
     ]
    },
    {
     "name": "stdout",
     "output_type": "stream",
     "text": [
      "240\n"
     ]
    },
    {
     "name": "stderr",
     "output_type": "stream",
     "text": [
      "Compiling FSM index for all state transitions:  97%|█████████▋| 103/106 [00:00<00:00, 172.75it/s]\n",
      "\n",
      "llama_print_timings:        load time =     196.58 ms\n",
      "llama_print_timings:      sample time =      36.77 ms /    32 runs   (    1.15 ms per token,   870.39 tokens per second)\n",
      "llama_print_timings: prompt eval time =      77.14 ms /   154 tokens (    0.50 ms per token,  1996.47 tokens per second)\n",
      "llama_print_timings:        eval time =    1220.80 ms /    31 runs   (   39.38 ms per token,    25.39 tokens per second)\n",
      "llama_print_timings:       total time =    1346.14 ms /   185 tokens\n"
     ]
    },
    {
     "name": "stdout",
     "output_type": "stream",
     "text": [
      "241\n"
     ]
    },
    {
     "name": "stderr",
     "output_type": "stream",
     "text": [
      "Compiling FSM index for all state transitions:  43%|████▎     | 251/587 [00:03<00:04, 82.29it/s] \n",
      "\n",
      "llama_print_timings:        load time =     196.58 ms\n",
      "llama_print_timings:      sample time =      34.05 ms /    29 runs   (    1.17 ms per token,   851.64 tokens per second)\n",
      "llama_print_timings: prompt eval time =      64.71 ms /   128 tokens (    0.51 ms per token,  1978.09 tokens per second)\n",
      "llama_print_timings:        eval time =    1101.82 ms /    28 runs   (   39.35 ms per token,    25.41 tokens per second)\n",
      "llama_print_timings:       total time =    1217.90 ms /   156 tokens\n"
     ]
    },
    {
     "name": "stdout",
     "output_type": "stream",
     "text": [
      "242\n"
     ]
    },
    {
     "name": "stderr",
     "output_type": "stream",
     "text": [
      "\n",
      "llama_print_timings:        load time =     196.58 ms\n",
      "llama_print_timings:      sample time =      37.56 ms /    32 runs   (    1.17 ms per token,   851.90 tokens per second)\n",
      "llama_print_timings: prompt eval time =      57.02 ms /   105 tokens (    0.54 ms per token,  1841.49 tokens per second)\n",
      "llama_print_timings:        eval time =    1215.61 ms /    31 runs   (   39.21 ms per token,    25.50 tokens per second)\n",
      "llama_print_timings:       total time =    1327.13 ms /   136 tokens\n"
     ]
    },
    {
     "name": "stdout",
     "output_type": "stream",
     "text": [
      "243\n"
     ]
    },
    {
     "name": "stderr",
     "output_type": "stream",
     "text": [
      "\n",
      "llama_print_timings:        load time =     196.58 ms\n",
      "llama_print_timings:      sample time =      35.20 ms /    30 runs   (    1.17 ms per token,   852.35 tokens per second)\n",
      "llama_print_timings: prompt eval time =      72.35 ms /   140 tokens (    0.52 ms per token,  1935.12 tokens per second)\n",
      "llama_print_timings:        eval time =    1141.51 ms /    29 runs   (   39.36 ms per token,    25.40 tokens per second)\n",
      "llama_print_timings:       total time =    1264.32 ms /   169 tokens\n"
     ]
    },
    {
     "name": "stdout",
     "output_type": "stream",
     "text": [
      "244\n"
     ]
    },
    {
     "name": "stderr",
     "output_type": "stream",
     "text": [
      "Compiling FSM index for all state transitions:  41%|████      | 351/859 [00:04<00:06, 76.25it/s] \n",
      "\n",
      "llama_print_timings:        load time =     196.58 ms\n",
      "llama_print_timings:      sample time =      56.45 ms /    46 runs   (    1.23 ms per token,   814.92 tokens per second)\n",
      "llama_print_timings: prompt eval time =      74.25 ms /   151 tokens (    0.49 ms per token,  2033.67 tokens per second)\n",
      "llama_print_timings:        eval time =    1772.09 ms /    45 runs   (   39.38 ms per token,    25.39 tokens per second)\n",
      "llama_print_timings:       total time =    1946.10 ms /   196 tokens\n"
     ]
    },
    {
     "name": "stdout",
     "output_type": "stream",
     "text": [
      "245\n"
     ]
    },
    {
     "name": "stderr",
     "output_type": "stream",
     "text": [
      "Compiling FSM index for all state transitions:  51%|█████     | 179/351 [00:01<00:01, 95.40it/s] \n",
      "\n",
      "llama_print_timings:        load time =     196.58 ms\n",
      "llama_print_timings:      sample time =      30.56 ms /    26 runs   (    1.18 ms per token,   850.76 tokens per second)\n",
      "llama_print_timings: prompt eval time =      79.48 ms /   176 tokens (    0.45 ms per token,  2214.45 tokens per second)\n",
      "llama_print_timings:        eval time =     984.71 ms /    25 runs   (   39.39 ms per token,    25.39 tokens per second)\n",
      "llama_print_timings:       total time =    1107.88 ms /   201 tokens\n"
     ]
    },
    {
     "name": "stdout",
     "output_type": "stream",
     "text": [
      "246\n"
     ]
    },
    {
     "name": "stderr",
     "output_type": "stream",
     "text": [
      "Compiling FSM index for all state transitions:  44%|████▍     | 271/611 [00:03<00:03, 85.68it/s] \n",
      "\n",
      "llama_print_timings:        load time =     196.58 ms\n",
      "llama_print_timings:      sample time =      44.67 ms /    38 runs   (    1.18 ms per token,   850.72 tokens per second)\n",
      "llama_print_timings: prompt eval time =      72.54 ms /   141 tokens (    0.51 ms per token,  1943.86 tokens per second)\n",
      "llama_print_timings:        eval time =    1456.70 ms /    37 runs   (   39.37 ms per token,    25.40 tokens per second)\n",
      "llama_print_timings:       total time =    1595.42 ms /   178 tokens\n"
     ]
    },
    {
     "name": "stdout",
     "output_type": "stream",
     "text": [
      "247\n"
     ]
    },
    {
     "name": "stderr",
     "output_type": "stream",
     "text": [
      "Compiling FSM index for all state transitions:  41%|████▏     | 357/865 [00:04<00:06, 78.22it/s]\n",
      "\n",
      "llama_print_timings:        load time =     196.58 ms\n",
      "llama_print_timings:      sample time =      55.90 ms /    46 runs   (    1.22 ms per token,   822.90 tokens per second)\n",
      "llama_print_timings: prompt eval time =      80.67 ms /   184 tokens (    0.44 ms per token,  2280.87 tokens per second)\n",
      "llama_print_timings:        eval time =    1772.34 ms /    45 runs   (   39.39 ms per token,    25.39 tokens per second)\n",
      "llama_print_timings:       total time =    1950.46 ms /   229 tokens\n"
     ]
    },
    {
     "name": "stdout",
     "output_type": "stream",
     "text": [
      "248\n"
     ]
    },
    {
     "name": "stderr",
     "output_type": "stream",
     "text": [
      "\n",
      "llama_print_timings:        load time =     196.58 ms\n",
      "llama_print_timings:      sample time =      47.18 ms /    39 runs   (    1.21 ms per token,   826.59 tokens per second)\n",
      "llama_print_timings: prompt eval time =      74.79 ms /   141 tokens (    0.53 ms per token,  1885.38 tokens per second)\n",
      "llama_print_timings:        eval time =    1495.48 ms /    38 runs   (   39.35 ms per token,    25.41 tokens per second)\n",
      "llama_print_timings:       total time =    1638.84 ms /   179 tokens\n"
     ]
    },
    {
     "name": "stdout",
     "output_type": "stream",
     "text": [
      "249\n"
     ]
    },
    {
     "name": "stderr",
     "output_type": "stream",
     "text": [
      "Compiling FSM index for all state transitions:  54%|█████▎    | 199/371 [00:01<00:01, 102.37it/s]\n",
      "\n",
      "llama_print_timings:        load time =     196.58 ms\n",
      "llama_print_timings:      sample time =      44.16 ms /    38 runs   (    1.16 ms per token,   860.43 tokens per second)\n",
      "llama_print_timings: prompt eval time =      79.51 ms /   173 tokens (    0.46 ms per token,  2175.91 tokens per second)\n",
      "llama_print_timings:        eval time =    1457.03 ms /    37 runs   (   39.38 ms per token,    25.39 tokens per second)\n",
      "llama_print_timings:       total time =    1599.25 ms /   210 tokens\n"
     ]
    },
    {
     "name": "stdout",
     "output_type": "stream",
     "text": [
      "250\n"
     ]
    },
    {
     "name": "stderr",
     "output_type": "stream",
     "text": [
      "\n",
      "llama_print_timings:        load time =     196.58 ms\n",
      "llama_print_timings:      sample time =      41.59 ms /    35 runs   (    1.19 ms per token,   841.53 tokens per second)\n",
      "llama_print_timings: prompt eval time =      58.58 ms /   117 tokens (    0.50 ms per token,  1997.23 tokens per second)\n",
      "llama_print_timings:        eval time =    1335.77 ms /    34 runs   (   39.29 ms per token,    25.45 tokens per second)\n",
      "llama_print_timings:       total time =    1457.49 ms /   151 tokens\n"
     ]
    },
    {
     "name": "stdout",
     "output_type": "stream",
     "text": [
      "251\n"
     ]
    },
    {
     "name": "stderr",
     "output_type": "stream",
     "text": [
      "Compiling FSM index for all state transitions:  42%|████▏     | 246/582 [00:03<00:04, 78.89it/s]\n",
      "\n",
      "llama_print_timings:        load time =     196.58 ms\n",
      "llama_print_timings:      sample time =      43.85 ms /    36 runs   (    1.22 ms per token,   820.98 tokens per second)\n",
      "llama_print_timings: prompt eval time =      70.94 ms /   131 tokens (    0.54 ms per token,  1846.74 tokens per second)\n",
      "llama_print_timings:        eval time =    1377.47 ms /    35 runs   (   39.36 ms per token,    25.41 tokens per second)\n",
      "llama_print_timings:       total time =    1521.47 ms /   166 tokens\n"
     ]
    },
    {
     "name": "stdout",
     "output_type": "stream",
     "text": [
      "252\n"
     ]
    },
    {
     "name": "stderr",
     "output_type": "stream",
     "text": [
      "Compiling FSM index for all state transitions:  45%|████▌     | 279/615 [00:03<00:03, 86.83it/s] \n",
      "\n",
      "llama_print_timings:        load time =     196.58 ms\n",
      "llama_print_timings:      sample time =      62.67 ms /    51 runs   (    1.23 ms per token,   813.79 tokens per second)\n",
      "llama_print_timings: prompt eval time =      92.35 ms /   223 tokens (    0.41 ms per token,  2414.78 tokens per second)\n",
      "llama_print_timings:        eval time =    1976.69 ms /    50 runs   (   39.53 ms per token,    25.29 tokens per second)\n",
      "llama_print_timings:       total time =    2160.80 ms /   273 tokens\n"
     ]
    },
    {
     "name": "stdout",
     "output_type": "stream",
     "text": [
      "253\n"
     ]
    },
    {
     "name": "stderr",
     "output_type": "stream",
     "text": [
      "\n",
      "llama_print_timings:        load time =     196.58 ms\n",
      "llama_print_timings:      sample time =      49.78 ms /    41 runs   (    1.21 ms per token,   823.59 tokens per second)\n",
      "llama_print_timings: prompt eval time =      72.71 ms /   142 tokens (    0.51 ms per token,  1952.86 tokens per second)\n",
      "llama_print_timings:        eval time =    1574.36 ms /    40 runs   (   39.36 ms per token,    25.41 tokens per second)\n",
      "llama_print_timings:       total time =    1721.62 ms /   182 tokens\n"
     ]
    },
    {
     "name": "stdout",
     "output_type": "stream",
     "text": [
      "254\n"
     ]
    },
    {
     "name": "stderr",
     "output_type": "stream",
     "text": [
      "Compiling FSM index for all state transitions:  46%|████▌     | 288/624 [00:03<00:03, 86.01it/s] \n",
      "\n",
      "llama_print_timings:        load time =     196.58 ms\n",
      "llama_print_timings:      sample time =      55.91 ms /    48 runs   (    1.16 ms per token,   858.46 tokens per second)\n",
      "llama_print_timings: prompt eval time =      92.06 ms /   218 tokens (    0.42 ms per token,  2367.89 tokens per second)\n",
      "llama_print_timings:        eval time =    1854.15 ms /    47 runs   (   39.45 ms per token,    25.35 tokens per second)\n",
      "llama_print_timings:       total time =    2025.83 ms /   265 tokens\n"
     ]
    },
    {
     "name": "stdout",
     "output_type": "stream",
     "text": [
      "255\n"
     ]
    },
    {
     "name": "stderr",
     "output_type": "stream",
     "text": [
      "\n",
      "llama_print_timings:        load time =     196.58 ms\n",
      "llama_print_timings:      sample time =      53.89 ms /    46 runs   (    1.17 ms per token,   853.61 tokens per second)\n",
      "llama_print_timings: prompt eval time =      76.52 ms /   162 tokens (    0.47 ms per token,  2117.23 tokens per second)\n",
      "llama_print_timings:        eval time =    1771.63 ms /    45 runs   (   39.37 ms per token,    25.40 tokens per second)\n",
      "llama_print_timings:       total time =    1923.84 ms /   207 tokens\n"
     ]
    },
    {
     "name": "stdout",
     "output_type": "stream",
     "text": [
      "256\n"
     ]
    },
    {
     "name": "stderr",
     "output_type": "stream",
     "text": [
      "Compiling FSM index for all state transitions:  44%|████▍     | 265/601 [00:03<00:03, 84.72it/s] \n",
      "\n",
      "llama_print_timings:        load time =     196.58 ms\n",
      "llama_print_timings:      sample time =      34.32 ms /    30 runs   (    1.14 ms per token,   874.15 tokens per second)\n",
      "llama_print_timings: prompt eval time =      73.90 ms /   150 tokens (    0.49 ms per token,  2029.66 tokens per second)\n",
      "llama_print_timings:        eval time =    1140.68 ms /    29 runs   (   39.33 ms per token,    25.42 tokens per second)\n",
      "llama_print_timings:       total time =    1262.14 ms /   179 tokens\n"
     ]
    },
    {
     "name": "stdout",
     "output_type": "stream",
     "text": [
      "257\n"
     ]
    },
    {
     "name": "stderr",
     "output_type": "stream",
     "text": [
      "Compiling FSM index for all state transitions:  43%|████▎     | 250/586 [00:03<00:04, 81.53it/s] \n",
      "\n",
      "llama_print_timings:        load time =     196.58 ms\n",
      "llama_print_timings:      sample time =      40.59 ms /    34 runs   (    1.19 ms per token,   837.58 tokens per second)\n",
      "llama_print_timings: prompt eval time =      70.91 ms /   131 tokens (    0.54 ms per token,  1847.44 tokens per second)\n",
      "llama_print_timings:        eval time =    1297.82 ms /    33 runs   (   39.33 ms per token,    25.43 tokens per second)\n",
      "llama_print_timings:       total time =    1430.04 ms /   164 tokens\n"
     ]
    },
    {
     "name": "stdout",
     "output_type": "stream",
     "text": [
      "258\n"
     ]
    },
    {
     "name": "stderr",
     "output_type": "stream",
     "text": [
      "Compiling FSM index for all state transitions:  44%|████▎     | 259/595 [00:03<00:04, 82.69it/s]\n",
      "\n",
      "llama_print_timings:        load time =     196.58 ms\n",
      "llama_print_timings:      sample time =      46.90 ms /    40 runs   (    1.17 ms per token,   852.90 tokens per second)\n",
      "llama_print_timings: prompt eval time =      78.05 ms /   170 tokens (    0.46 ms per token,  2178.15 tokens per second)\n",
      "llama_print_timings:        eval time =    1535.38 ms /    39 runs   (   39.37 ms per token,    25.40 tokens per second)\n",
      "llama_print_timings:       total time =    1681.07 ms /   209 tokens\n"
     ]
    },
    {
     "name": "stdout",
     "output_type": "stream",
     "text": [
      "259\n"
     ]
    },
    {
     "name": "stderr",
     "output_type": "stream",
     "text": [
      "\n",
      "llama_print_timings:        load time =     196.58 ms\n",
      "llama_print_timings:      sample time =      50.32 ms /    44 runs   (    1.14 ms per token,   874.46 tokens per second)\n",
      "llama_print_timings: prompt eval time =      88.15 ms /   199 tokens (    0.44 ms per token,  2257.59 tokens per second)\n",
      "llama_print_timings:        eval time =    1693.26 ms /    43 runs   (   39.38 ms per token,    25.39 tokens per second)\n",
      "llama_print_timings:       total time =    1846.31 ms /   242 tokens\n"
     ]
    },
    {
     "name": "stdout",
     "output_type": "stream",
     "text": [
      "260\n",
      "261\n"
     ]
    },
    {
     "name": "stderr",
     "output_type": "stream",
     "text": [
      "Compiling FSM index for all state transitions:  50%|█████     | 170/338 [00:01<00:01, 94.59it/s] \n",
      "\n",
      "llama_print_timings:        load time =     196.58 ms\n",
      "llama_print_timings:      sample time =      41.82 ms /    36 runs   (    1.16 ms per token,   860.87 tokens per second)\n",
      "llama_print_timings: prompt eval time =      75.36 ms /   145 tokens (    0.52 ms per token,  1924.15 tokens per second)\n",
      "llama_print_timings:        eval time =    1377.35 ms /    35 runs   (   39.35 ms per token,    25.41 tokens per second)\n",
      "llama_print_timings:       total time =    1508.95 ms /   180 tokens\n"
     ]
    },
    {
     "name": "stdout",
     "output_type": "stream",
     "text": [
      "262\n"
     ]
    },
    {
     "name": "stderr",
     "output_type": "stream",
     "text": [
      "Compiling FSM index for all state transitions:  41%|████      | 345/849 [00:04<00:06, 76.63it/s]\n",
      "\n",
      "llama_print_timings:        load time =     196.58 ms\n",
      "llama_print_timings:      sample time =      52.62 ms /    44 runs   (    1.20 ms per token,   836.12 tokens per second)\n",
      "llama_print_timings: prompt eval time =      79.32 ms /   177 tokens (    0.45 ms per token,  2231.47 tokens per second)\n",
      "llama_print_timings:        eval time =    1692.50 ms /    43 runs   (   39.36 ms per token,    25.41 tokens per second)\n",
      "llama_print_timings:       total time =    1856.86 ms /   220 tokens\n"
     ]
    },
    {
     "name": "stdout",
     "output_type": "stream",
     "text": [
      "263\n"
     ]
    },
    {
     "name": "stderr",
     "output_type": "stream",
     "text": [
      "Compiling FSM index for all state transitions:  52%|█████▏    | 183/351 [00:01<00:01, 96.89it/s] \n",
      "\n",
      "llama_print_timings:        load time =     196.58 ms\n",
      "llama_print_timings:      sample time =      38.46 ms /    32 runs   (    1.20 ms per token,   832.05 tokens per second)\n",
      "llama_print_timings: prompt eval time =      78.53 ms /   170 tokens (    0.46 ms per token,  2164.83 tokens per second)\n",
      "llama_print_timings:        eval time =    1220.10 ms /    31 runs   (   39.36 ms per token,    25.41 tokens per second)\n",
      "llama_print_timings:       total time =    1355.66 ms /   201 tokens\n"
     ]
    },
    {
     "name": "stdout",
     "output_type": "stream",
     "text": [
      "264\n"
     ]
    },
    {
     "name": "stderr",
     "output_type": "stream",
     "text": [
      "Compiling FSM index for all state transitions:  40%|████      | 344/852 [00:04<00:06, 76.72it/s]\n",
      "\n",
      "llama_print_timings:        load time =     196.58 ms\n",
      "llama_print_timings:      sample time =      47.91 ms /    41 runs   (    1.17 ms per token,   855.79 tokens per second)\n",
      "llama_print_timings: prompt eval time =      76.68 ms /   163 tokens (    0.47 ms per token,  2125.72 tokens per second)\n",
      "llama_print_timings:        eval time =    1574.10 ms /    40 runs   (   39.35 ms per token,    25.41 tokens per second)\n",
      "llama_print_timings:       total time =    1728.72 ms /   203 tokens\n"
     ]
    },
    {
     "name": "stdout",
     "output_type": "stream",
     "text": [
      "265\n"
     ]
    },
    {
     "name": "stderr",
     "output_type": "stream",
     "text": [
      "Compiling FSM index for all state transitions:  41%|████      | 348/852 [00:04<00:06, 77.87it/s] \n",
      "\n",
      "llama_print_timings:        load time =     196.58 ms\n",
      "llama_print_timings:      sample time =      41.61 ms /    35 runs   (    1.19 ms per token,   841.08 tokens per second)\n",
      "llama_print_timings: prompt eval time =      75.28 ms /   157 tokens (    0.48 ms per token,  2085.41 tokens per second)\n",
      "llama_print_timings:        eval time =    1338.38 ms /    34 runs   (   39.36 ms per token,    25.40 tokens per second)\n",
      "llama_print_timings:       total time =    1480.00 ms /   191 tokens\n"
     ]
    },
    {
     "name": "stdout",
     "output_type": "stream",
     "text": [
      "266\n"
     ]
    },
    {
     "name": "stderr",
     "output_type": "stream",
     "text": [
      "Compiling FSM index for all state transitions:  44%|████▎     | 261/597 [00:03<00:04, 80.39it/s]\n",
      "\n",
      "llama_print_timings:        load time =     196.58 ms\n",
      "llama_print_timings:      sample time =      44.98 ms /    38 runs   (    1.18 ms per token,   844.82 tokens per second)\n",
      "llama_print_timings: prompt eval time =      79.88 ms /   178 tokens (    0.45 ms per token,  2228.23 tokens per second)\n",
      "llama_print_timings:        eval time =    1456.70 ms /    37 runs   (   39.37 ms per token,    25.40 tokens per second)\n",
      "llama_print_timings:       total time =    1606.60 ms /   215 tokens\n"
     ]
    },
    {
     "name": "stdout",
     "output_type": "stream",
     "text": [
      "267\n"
     ]
    },
    {
     "name": "stderr",
     "output_type": "stream",
     "text": [
      "Compiling FSM index for all state transitions:  40%|███▉      | 446/1118 [00:05<00:08, 75.81it/s] \n",
      "\n",
      "llama_print_timings:        load time =     196.58 ms\n",
      "llama_print_timings:      sample time =      53.89 ms /    44 runs   (    1.22 ms per token,   816.43 tokens per second)\n",
      "llama_print_timings: prompt eval time =      94.60 ms /   227 tokens (    0.42 ms per token,  2399.63 tokens per second)\n",
      "llama_print_timings:        eval time =    1697.78 ms /    43 runs   (   39.48 ms per token,    25.33 tokens per second)\n",
      "llama_print_timings:       total time =    1884.24 ms /   270 tokens\n"
     ]
    },
    {
     "name": "stdout",
     "output_type": "stream",
     "text": [
      "268\n"
     ]
    },
    {
     "name": "stderr",
     "output_type": "stream",
     "text": [
      "Compiling FSM index for all state transitions:  41%|████▏     | 360/868 [00:04<00:06, 78.97it/s]\n",
      "\n",
      "llama_print_timings:        load time =     196.58 ms\n",
      "llama_print_timings:      sample time =      61.04 ms /    51 runs   (    1.20 ms per token,   835.46 tokens per second)\n",
      "llama_print_timings: prompt eval time =      78.11 ms /   167 tokens (    0.47 ms per token,  2138.09 tokens per second)\n",
      "llama_print_timings:        eval time =    1968.63 ms /    50 runs   (   39.37 ms per token,    25.40 tokens per second)\n",
      "llama_print_timings:       total time =    2145.41 ms /   217 tokens\n"
     ]
    },
    {
     "name": "stdout",
     "output_type": "stream",
     "text": [
      "269\n"
     ]
    },
    {
     "name": "stderr",
     "output_type": "stream",
     "text": [
      "Compiling FSM index for all state transitions: 100%|██████████| 142/142 [00:00<00:00, 174.47it/s]\n",
      "\n",
      "llama_print_timings:        load time =     196.58 ms\n",
      "llama_print_timings:      sample time =      55.57 ms /    48 runs   (    1.16 ms per token,   863.81 tokens per second)\n",
      "llama_print_timings: prompt eval time =      94.35 ms /   229 tokens (    0.41 ms per token,  2427.18 tokens per second)\n",
      "llama_print_timings:        eval time =    1857.51 ms /    47 runs   (   39.52 ms per token,    25.30 tokens per second)\n",
      "llama_print_timings:       total time =    2026.71 ms /   276 tokens\n"
     ]
    },
    {
     "name": "stdout",
     "output_type": "stream",
     "text": [
      "270\n"
     ]
    },
    {
     "name": "stderr",
     "output_type": "stream",
     "text": [
      "\n",
      "llama_print_timings:        load time =     196.58 ms\n",
      "llama_print_timings:      sample time =      43.41 ms /    36 runs   (    1.21 ms per token,   829.36 tokens per second)\n",
      "llama_print_timings: prompt eval time =      72.51 ms /   141 tokens (    0.51 ms per token,  1944.53 tokens per second)\n",
      "llama_print_timings:        eval time =    1377.45 ms /    35 runs   (   39.36 ms per token,    25.41 tokens per second)\n",
      "llama_print_timings:       total time =    1518.68 ms /   176 tokens\n"
     ]
    },
    {
     "name": "stdout",
     "output_type": "stream",
     "text": [
      "271\n"
     ]
    },
    {
     "name": "stderr",
     "output_type": "stream",
     "text": [
      "Compiling FSM index for all state transitions:  47%|████▋     | 303/639 [00:03<00:03, 88.47it/s] \n",
      "\n",
      "llama_print_timings:        load time =     196.58 ms\n",
      "llama_print_timings:      sample time =      56.82 ms /    48 runs   (    1.18 ms per token,   844.77 tokens per second)\n",
      "llama_print_timings: prompt eval time =      81.76 ms /   190 tokens (    0.43 ms per token,  2323.93 tokens per second)\n",
      "llama_print_timings:        eval time =    1851.04 ms /    47 runs   (   39.38 ms per token,    25.39 tokens per second)\n",
      "llama_print_timings:       total time =    2020.04 ms /   237 tokens\n"
     ]
    },
    {
     "name": "stdout",
     "output_type": "stream",
     "text": [
      "272\n"
     ]
    },
    {
     "name": "stderr",
     "output_type": "stream",
     "text": [
      "\n",
      "llama_print_timings:        load time =     196.58 ms\n",
      "llama_print_timings:      sample time =      27.37 ms /    24 runs   (    1.14 ms per token,   877.03 tokens per second)\n",
      "llama_print_timings: prompt eval time =      56.50 ms /   102 tokens (    0.55 ms per token,  1805.21 tokens per second)\n",
      "llama_print_timings:        eval time =     900.13 ms /    23 runs   (   39.14 ms per token,    25.55 tokens per second)\n",
      "llama_print_timings:       total time =     991.81 ms /   125 tokens\n"
     ]
    },
    {
     "name": "stdout",
     "output_type": "stream",
     "text": [
      "273\n"
     ]
    },
    {
     "name": "stderr",
     "output_type": "stream",
     "text": [
      "Compiling FSM index for all state transitions:  40%|███▉      | 337/845 [00:04<00:06, 73.56it/s]\n",
      "\n",
      "llama_print_timings:        load time =     196.58 ms\n",
      "llama_print_timings:      sample time =      40.58 ms /    34 runs   (    1.19 ms per token,   837.95 tokens per second)\n",
      "llama_print_timings: prompt eval time =      74.75 ms /   154 tokens (    0.49 ms per token,  2060.31 tokens per second)\n",
      "llama_print_timings:        eval time =    1299.31 ms /    33 runs   (   39.37 ms per token,    25.40 tokens per second)\n",
      "llama_print_timings:       total time =    1439.00 ms /   187 tokens\n"
     ]
    },
    {
     "name": "stdout",
     "output_type": "stream",
     "text": [
      "274\n"
     ]
    },
    {
     "name": "stderr",
     "output_type": "stream",
     "text": [
      "Compiling FSM index for all state transitions:  42%|████▏     | 245/581 [00:03<00:04, 80.22it/s]\n",
      "\n",
      "llama_print_timings:        load time =     196.58 ms\n",
      "llama_print_timings:      sample time =      49.83 ms /    41 runs   (    1.22 ms per token,   822.85 tokens per second)\n",
      "llama_print_timings: prompt eval time =      72.30 ms /   136 tokens (    0.53 ms per token,  1880.95 tokens per second)\n",
      "llama_print_timings:        eval time =    1574.98 ms /    40 runs   (   39.37 ms per token,    25.40 tokens per second)\n",
      "llama_print_timings:       total time =    1728.55 ms /   176 tokens\n"
     ]
    },
    {
     "name": "stdout",
     "output_type": "stream",
     "text": [
      "275\n"
     ]
    },
    {
     "name": "stderr",
     "output_type": "stream",
     "text": [
      "Compiling FSM index for all state transitions:  51%|█████     | 180/352 [00:01<00:01, 95.83it/s] \n",
      "\n",
      "llama_print_timings:        load time =     196.58 ms\n",
      "llama_print_timings:      sample time =      46.37 ms /    40 runs   (    1.16 ms per token,   862.72 tokens per second)\n",
      "llama_print_timings: prompt eval time =      78.64 ms /   172 tokens (    0.46 ms per token,  2187.07 tokens per second)\n",
      "llama_print_timings:        eval time =    1535.49 ms /    39 runs   (   39.37 ms per token,    25.40 tokens per second)\n",
      "llama_print_timings:       total time =    1679.71 ms /   211 tokens\n"
     ]
    },
    {
     "name": "stdout",
     "output_type": "stream",
     "text": [
      "276\n"
     ]
    },
    {
     "name": "stderr",
     "output_type": "stream",
     "text": [
      "Compiling FSM index for all state transitions:  41%|████      | 347/855 [00:04<00:06, 77.57it/s]\n",
      "\n",
      "llama_print_timings:        load time =     196.58 ms\n",
      "llama_print_timings:      sample time =      43.63 ms /    37 runs   (    1.18 ms per token,   848.12 tokens per second)\n",
      "llama_print_timings: prompt eval time =      73.49 ms /   147 tokens (    0.50 ms per token,  2000.30 tokens per second)\n",
      "llama_print_timings:        eval time =    1416.73 ms /    36 runs   (   39.35 ms per token,    25.41 tokens per second)\n",
      "llama_print_timings:       total time =    1558.78 ms /   183 tokens\n"
     ]
    },
    {
     "name": "stdout",
     "output_type": "stream",
     "text": [
      "277\n"
     ]
    },
    {
     "name": "stderr",
     "output_type": "stream",
     "text": [
      "Compiling FSM index for all state transitions:  36%|███▌      | 1044/2892 [00:16<00:28, 64.92it/s]\n",
      "\n",
      "llama_print_timings:        load time =     196.58 ms\n",
      "llama_print_timings:      sample time =      58.88 ms /    48 runs   (    1.23 ms per token,   815.23 tokens per second)\n",
      "llama_print_timings: prompt eval time =     103.51 ms /   248 tokens (    0.42 ms per token,  2395.86 tokens per second)\n",
      "llama_print_timings:        eval time =    1864.36 ms /    47 runs   (   39.67 ms per token,    25.21 tokens per second)\n",
      "llama_print_timings:       total time =    2072.71 ms /   295 tokens\n"
     ]
    },
    {
     "name": "stdout",
     "output_type": "stream",
     "text": [
      "278\n"
     ]
    },
    {
     "name": "stderr",
     "output_type": "stream",
     "text": [
      "Compiling FSM index for all state transitions:  37%|███▋      | 1064/2912 [00:15<00:26, 69.33it/s]\n",
      "\n",
      "llama_print_timings:        load time =     196.58 ms\n",
      "llama_print_timings:      sample time =      54.01 ms /    45 runs   (    1.20 ms per token,   833.12 tokens per second)\n",
      "llama_print_timings: prompt eval time =      84.55 ms /   171 tokens (    0.49 ms per token,  2022.50 tokens per second)\n",
      "llama_print_timings:        eval time =    1732.87 ms /    44 runs   (   39.38 ms per token,    25.39 tokens per second)\n",
      "llama_print_timings:       total time =    1904.95 ms /   215 tokens\n"
     ]
    },
    {
     "name": "stdout",
     "output_type": "stream",
     "text": [
      "279\n"
     ]
    },
    {
     "name": "stderr",
     "output_type": "stream",
     "text": [
      "\n",
      "llama_print_timings:        load time =     196.58 ms\n",
      "llama_print_timings:      sample time =      54.96 ms /    45 runs   (    1.22 ms per token,   818.82 tokens per second)\n",
      "llama_print_timings: prompt eval time =      74.85 ms /   154 tokens (    0.49 ms per token,  2057.45 tokens per second)\n",
      "llama_print_timings:        eval time =    1732.54 ms /    44 runs   (   39.38 ms per token,    25.40 tokens per second)\n",
      "llama_print_timings:       total time =    1899.01 ms /   198 tokens\n"
     ]
    },
    {
     "name": "stdout",
     "output_type": "stream",
     "text": [
      "280\n"
     ]
    },
    {
     "name": "stderr",
     "output_type": "stream",
     "text": [
      "Compiling FSM index for all state transitions:  43%|████▎     | 252/588 [00:03<00:04, 81.34it/s] \n",
      "\n",
      "llama_print_timings:        load time =     196.58 ms\n",
      "llama_print_timings:      sample time =      38.31 ms /    33 runs   (    1.16 ms per token,   861.42 tokens per second)\n",
      "llama_print_timings: prompt eval time =      73.79 ms /   145 tokens (    0.51 ms per token,  1965.12 tokens per second)\n",
      "llama_print_timings:        eval time =    1259.47 ms /    32 runs   (   39.36 ms per token,    25.41 tokens per second)\n",
      "llama_print_timings:       total time =    1389.15 ms /   177 tokens\n"
     ]
    },
    {
     "name": "stdout",
     "output_type": "stream",
     "text": [
      "281\n"
     ]
    },
    {
     "name": "stderr",
     "output_type": "stream",
     "text": [
      "\n",
      "llama_print_timings:        load time =     196.58 ms\n",
      "llama_print_timings:      sample time =      49.50 ms /    42 runs   (    1.18 ms per token,   848.57 tokens per second)\n",
      "llama_print_timings: prompt eval time =      77.88 ms /   169 tokens (    0.46 ms per token,  2169.95 tokens per second)\n",
      "llama_print_timings:        eval time =    1614.01 ms /    41 runs   (   39.37 ms per token,    25.40 tokens per second)\n",
      "llama_print_timings:       total time =    1766.36 ms /   210 tokens\n"
     ]
    },
    {
     "name": "stdout",
     "output_type": "stream",
     "text": [
      "282\n"
     ]
    },
    {
     "name": "stderr",
     "output_type": "stream",
     "text": [
      "\n",
      "llama_print_timings:        load time =     196.58 ms\n",
      "llama_print_timings:      sample time =      51.09 ms /    42 runs   (    1.22 ms per token,   822.05 tokens per second)\n",
      "llama_print_timings: prompt eval time =      77.41 ms /   166 tokens (    0.47 ms per token,  2144.43 tokens per second)\n",
      "llama_print_timings:        eval time =    1615.08 ms /    41 runs   (   39.39 ms per token,    25.39 tokens per second)\n",
      "llama_print_timings:       total time =    1784.23 ms /   207 tokens\n"
     ]
    },
    {
     "name": "stdout",
     "output_type": "stream",
     "text": [
      "283\n"
     ]
    },
    {
     "name": "stderr",
     "output_type": "stream",
     "text": [
      "\n",
      "llama_print_timings:        load time =     196.58 ms\n",
      "llama_print_timings:      sample time =      52.11 ms /    43 runs   (    1.21 ms per token,   825.21 tokens per second)\n",
      "llama_print_timings: prompt eval time =      77.81 ms /   168 tokens (    0.46 ms per token,  2159.22 tokens per second)\n",
      "llama_print_timings:        eval time =    1653.48 ms /    42 runs   (   39.37 ms per token,    25.40 tokens per second)\n",
      "llama_print_timings:       total time =    1817.14 ms /   210 tokens\n"
     ]
    },
    {
     "name": "stdout",
     "output_type": "stream",
     "text": [
      "284\n"
     ]
    },
    {
     "name": "stderr",
     "output_type": "stream",
     "text": [
      "\n",
      "llama_print_timings:        load time =     196.58 ms\n",
      "llama_print_timings:      sample time =      46.39 ms /    39 runs   (    1.19 ms per token,   840.73 tokens per second)\n",
      "llama_print_timings: prompt eval time =      79.75 ms /   179 tokens (    0.45 ms per token,  2244.65 tokens per second)\n",
      "llama_print_timings:        eval time =    1496.41 ms /    38 runs   (   39.38 ms per token,    25.39 tokens per second)\n",
      "llama_print_timings:       total time =    1650.73 ms /   217 tokens\n"
     ]
    },
    {
     "name": "stdout",
     "output_type": "stream",
     "text": [
      "285\n"
     ]
    },
    {
     "name": "stderr",
     "output_type": "stream",
     "text": [
      "Compiling FSM index for all state transitions:  43%|████▎     | 253/589 [00:03<00:04, 81.96it/s] \n",
      "\n",
      "llama_print_timings:        load time =     196.58 ms\n",
      "llama_print_timings:      sample time =      48.41 ms /    41 runs   (    1.18 ms per token,   846.98 tokens per second)\n",
      "llama_print_timings: prompt eval time =      79.37 ms /   177 tokens (    0.45 ms per token,  2230.12 tokens per second)\n",
      "llama_print_timings:        eval time =    1575.13 ms /    40 runs   (   39.38 ms per token,    25.39 tokens per second)\n",
      "llama_print_timings:       total time =    1729.61 ms /   217 tokens\n"
     ]
    },
    {
     "name": "stdout",
     "output_type": "stream",
     "text": [
      "286\n"
     ]
    },
    {
     "name": "stderr",
     "output_type": "stream",
     "text": [
      "Compiling FSM index for all state transitions:  40%|████      | 343/851 [00:04<00:06, 77.62it/s]\n",
      "\n",
      "llama_print_timings:        load time =     196.58 ms\n",
      "llama_print_timings:      sample time =      55.88 ms /    46 runs   (    1.21 ms per token,   823.13 tokens per second)\n",
      "llama_print_timings: prompt eval time =      78.28 ms /   169 tokens (    0.46 ms per token,  2158.92 tokens per second)\n",
      "llama_print_timings:        eval time =    1772.35 ms /    45 runs   (   39.39 ms per token,    25.39 tokens per second)\n",
      "llama_print_timings:       total time =    1945.97 ms /   214 tokens\n"
     ]
    },
    {
     "name": "stdout",
     "output_type": "stream",
     "text": [
      "287\n"
     ]
    },
    {
     "name": "stderr",
     "output_type": "stream",
     "text": [
      "Compiling FSM index for all state transitions:  39%|███▉      | 440/1116 [00:06<00:09, 70.99it/s] \n",
      "\n",
      "llama_print_timings:        load time =     196.58 ms\n",
      "llama_print_timings:      sample time =      56.12 ms /    47 runs   (    1.19 ms per token,   837.45 tokens per second)\n",
      "llama_print_timings: prompt eval time =      89.71 ms /   206 tokens (    0.44 ms per token,  2296.31 tokens per second)\n",
      "llama_print_timings:        eval time =    1812.08 ms /    46 runs   (   39.39 ms per token,    25.39 tokens per second)\n",
      "llama_print_timings:       total time =    1993.66 ms /   252 tokens\n"
     ]
    },
    {
     "name": "stdout",
     "output_type": "stream",
     "text": [
      "288\n"
     ]
    },
    {
     "name": "stderr",
     "output_type": "stream",
     "text": [
      "Compiling FSM index for all state transitions:  44%|████▍     | 271/611 [00:03<00:04, 84.84it/s]\n",
      "\n",
      "llama_print_timings:        load time =     196.58 ms\n",
      "llama_print_timings:      sample time =      55.68 ms /    47 runs   (    1.18 ms per token,   844.12 tokens per second)\n",
      "llama_print_timings: prompt eval time =      75.62 ms /   155 tokens (    0.49 ms per token,  2049.80 tokens per second)\n",
      "llama_print_timings:        eval time =    1811.21 ms /    46 runs   (   39.37 ms per token,    25.40 tokens per second)\n",
      "llama_print_timings:       total time =    1971.83 ms /   201 tokens\n"
     ]
    },
    {
     "name": "stdout",
     "output_type": "stream",
     "text": [
      "289\n"
     ]
    },
    {
     "name": "stderr",
     "output_type": "stream",
     "text": [
      "\n",
      "llama_print_timings:        load time =     196.58 ms\n",
      "llama_print_timings:      sample time =      44.15 ms /    37 runs   (    1.19 ms per token,   838.00 tokens per second)\n",
      "llama_print_timings: prompt eval time =      70.78 ms /   130 tokens (    0.54 ms per token,  1836.68 tokens per second)\n",
      "llama_print_timings:        eval time =    1416.65 ms /    36 runs   (   39.35 ms per token,    25.41 tokens per second)\n",
      "llama_print_timings:       total time =    1556.92 ms /   166 tokens\n"
     ]
    },
    {
     "name": "stdout",
     "output_type": "stream",
     "text": [
      "290\n"
     ]
    },
    {
     "name": "stderr",
     "output_type": "stream",
     "text": [
      "Compiling FSM index for all state transitions:  43%|████▎     | 258/598 [00:03<00:04, 83.72it/s]\n",
      "\n",
      "llama_print_timings:        load time =     196.58 ms\n",
      "llama_print_timings:      sample time =      40.71 ms /    34 runs   (    1.20 ms per token,   835.16 tokens per second)\n",
      "llama_print_timings: prompt eval time =      74.17 ms /   148 tokens (    0.50 ms per token,  1995.34 tokens per second)\n",
      "llama_print_timings:        eval time =    1298.68 ms /    33 runs   (   39.35 ms per token,    25.41 tokens per second)\n",
      "llama_print_timings:       total time =    1436.83 ms /   181 tokens\n"
     ]
    },
    {
     "name": "stdout",
     "output_type": "stream",
     "text": [
      "291\n"
     ]
    },
    {
     "name": "stderr",
     "output_type": "stream",
     "text": [
      "Compiling FSM index for all state transitions:  46%|████▌     | 287/627 [00:03<00:03, 89.00it/s] \n",
      "\n",
      "llama_print_timings:        load time =     196.58 ms\n",
      "llama_print_timings:      sample time =      48.90 ms /    42 runs   (    1.16 ms per token,   858.97 tokens per second)\n",
      "llama_print_timings: prompt eval time =      95.69 ms /   237 tokens (    0.40 ms per token,  2476.85 tokens per second)\n",
      "llama_print_timings:        eval time =    1622.23 ms /    41 runs   (   39.57 ms per token,    25.27 tokens per second)\n",
      "llama_print_timings:       total time =    1788.46 ms /   278 tokens\n"
     ]
    },
    {
     "name": "stdout",
     "output_type": "stream",
     "text": [
      "292\n"
     ]
    },
    {
     "name": "stderr",
     "output_type": "stream",
     "text": [
      "Compiling FSM index for all state transitions:  37%|███▋      | 972/2652 [00:13<00:24, 69.61it/s] \n",
      "\n",
      "llama_print_timings:        load time =     196.58 ms\n",
      "llama_print_timings:      sample time =      57.40 ms /    48 runs   (    1.20 ms per token,   836.22 tokens per second)\n",
      "llama_print_timings: prompt eval time =      85.82 ms /   179 tokens (    0.48 ms per token,  2085.71 tokens per second)\n",
      "llama_print_timings:        eval time =    1850.78 ms /    47 runs   (   39.38 ms per token,    25.39 tokens per second)\n",
      "llama_print_timings:       total time =    2027.87 ms /   226 tokens\n"
     ]
    },
    {
     "name": "stdout",
     "output_type": "stream",
     "text": [
      "293\n"
     ]
    },
    {
     "name": "stderr",
     "output_type": "stream",
     "text": [
      "\n",
      "llama_print_timings:        load time =     196.58 ms\n",
      "llama_print_timings:      sample time =      54.64 ms /    46 runs   (    1.19 ms per token,   841.81 tokens per second)\n",
      "llama_print_timings: prompt eval time =      93.33 ms /   226 tokens (    0.41 ms per token,  2421.46 tokens per second)\n",
      "llama_print_timings:        eval time =    1778.19 ms /    45 runs   (   39.52 ms per token,    25.31 tokens per second)\n",
      "llama_print_timings:       total time =    1950.47 ms /   271 tokens\n"
     ]
    },
    {
     "name": "stdout",
     "output_type": "stream",
     "text": [
      "294\n"
     ]
    },
    {
     "name": "stderr",
     "output_type": "stream",
     "text": [
      "Compiling FSM index for all state transitions:  46%|████▌     | 289/629 [00:03<00:03, 88.53it/s] \n",
      "\n",
      "llama_print_timings:        load time =     196.58 ms\n",
      "llama_print_timings:      sample time =      43.55 ms /    37 runs   (    1.18 ms per token,   849.60 tokens per second)\n",
      "llama_print_timings: prompt eval time =      78.70 ms /   172 tokens (    0.46 ms per token,  2185.54 tokens per second)\n",
      "llama_print_timings:        eval time =    1417.55 ms /    36 runs   (   39.38 ms per token,    25.40 tokens per second)\n",
      "llama_print_timings:       total time =    1555.66 ms /   208 tokens\n"
     ]
    },
    {
     "name": "stdout",
     "output_type": "stream",
     "text": [
      "295\n"
     ]
    },
    {
     "name": "stderr",
     "output_type": "stream",
     "text": [
      "Compiling FSM index for all state transitions:  41%|████      | 346/850 [00:04<00:06, 78.54it/s]\n",
      "\n",
      "llama_print_timings:        load time =     196.58 ms\n",
      "llama_print_timings:      sample time =      51.57 ms /    43 runs   (    1.20 ms per token,   833.80 tokens per second)\n",
      "llama_print_timings: prompt eval time =      81.75 ms /   190 tokens (    0.43 ms per token,  2324.05 tokens per second)\n",
      "llama_print_timings:        eval time =    1654.31 ms /    42 runs   (   39.39 ms per token,    25.39 tokens per second)\n",
      "llama_print_timings:       total time =    1819.21 ms /   232 tokens\n"
     ]
    },
    {
     "name": "stdout",
     "output_type": "stream",
     "text": [
      "296\n"
     ]
    },
    {
     "name": "stderr",
     "output_type": "stream",
     "text": [
      "Compiling FSM index for all state transitions:  47%|████▋     | 300/640 [00:03<00:03, 89.27it/s] \n",
      "\n",
      "llama_print_timings:        load time =     196.58 ms\n",
      "llama_print_timings:      sample time =      59.05 ms /    51 runs   (    1.16 ms per token,   863.62 tokens per second)\n",
      "llama_print_timings: prompt eval time =      89.73 ms /   208 tokens (    0.43 ms per token,  2318.12 tokens per second)\n",
      "llama_print_timings:        eval time =    1970.41 ms /    50 runs   (   39.41 ms per token,    25.38 tokens per second)\n",
      "llama_print_timings:       total time =    2143.04 ms /   258 tokens\n"
     ]
    },
    {
     "name": "stdout",
     "output_type": "stream",
     "text": [
      "297\n"
     ]
    },
    {
     "name": "stderr",
     "output_type": "stream",
     "text": [
      "Compiling FSM index for all state transitions:  38%|███▊      | 926/2446 [00:12<00:20, 72.76it/s] \n",
      "\n",
      "llama_print_timings:        load time =     196.58 ms\n",
      "llama_print_timings:      sample time =      45.20 ms /    38 runs   (    1.19 ms per token,   840.80 tokens per second)\n",
      "llama_print_timings: prompt eval time =     106.60 ms /   246 tokens (    0.43 ms per token,  2307.69 tokens per second)\n",
      "llama_print_timings:        eval time =    1467.83 ms /    37 runs   (   39.67 ms per token,    25.21 tokens per second)\n",
      "llama_print_timings:       total time =    1646.28 ms /   283 tokens\n"
     ]
    },
    {
     "name": "stdout",
     "output_type": "stream",
     "text": [
      "298\n"
     ]
    },
    {
     "name": "stderr",
     "output_type": "stream",
     "text": [
      "Compiling FSM index for all state transitions:  43%|████▎     | 253/593 [00:03<00:04, 75.32it/s] \n",
      "\n",
      "llama_print_timings:        load time =     196.58 ms\n",
      "llama_print_timings:      sample time =      42.44 ms /    36 runs   (    1.18 ms per token,   848.28 tokens per second)\n",
      "llama_print_timings: prompt eval time =      74.39 ms /   152 tokens (    0.49 ms per token,  2043.37 tokens per second)\n",
      "llama_print_timings:        eval time =    1377.90 ms /    35 runs   (   39.37 ms per token,    25.40 tokens per second)\n",
      "llama_print_timings:       total time =    1515.01 ms /   187 tokens\n"
     ]
    },
    {
     "name": "stdout",
     "output_type": "stream",
     "text": [
      "299\n"
     ]
    },
    {
     "name": "stderr",
     "output_type": "stream",
     "text": [
      "Compiling FSM index for all state transitions:  42%|████▏     | 240/576 [00:02<00:04, 81.82it/s]\n",
      "\n",
      "llama_print_timings:        load time =     196.58 ms\n",
      "llama_print_timings:      sample time =      36.62 ms /    31 runs   (    1.18 ms per token,   846.46 tokens per second)\n",
      "llama_print_timings: prompt eval time =      61.65 ms /   122 tokens (    0.51 ms per token,  1978.82 tokens per second)\n",
      "llama_print_timings:        eval time =    1179.35 ms /    30 runs   (   39.31 ms per token,    25.44 tokens per second)\n",
      "llama_print_timings:       total time =    1295.27 ms /   152 tokens\n"
     ]
    },
    {
     "name": "stdout",
     "output_type": "stream",
     "text": [
      "300\n"
     ]
    },
    {
     "name": "stderr",
     "output_type": "stream",
     "text": [
      "Compiling FSM index for all state transitions:  98%|█████████▊| 132/135 [00:00<00:00, 177.48it/s]\n",
      "\n",
      "llama_print_timings:        load time =     196.58 ms\n",
      "llama_print_timings:      sample time =      50.36 ms /    44 runs   (    1.14 ms per token,   873.67 tokens per second)\n",
      "llama_print_timings: prompt eval time =      88.06 ms /   198 tokens (    0.44 ms per token,  2248.49 tokens per second)\n",
      "llama_print_timings:        eval time =    1694.01 ms /    43 runs   (   39.40 ms per token,    25.38 tokens per second)\n",
      "llama_print_timings:       total time =    1846.77 ms /   241 tokens\n"
     ]
    },
    {
     "name": "stdout",
     "output_type": "stream",
     "text": [
      "301\n"
     ]
    },
    {
     "name": "stderr",
     "output_type": "stream",
     "text": [
      "Compiling FSM index for all state transitions:  41%|████▏     | 236/572 [00:02<00:04, 80.74it/s]\n",
      "\n",
      "llama_print_timings:        load time =     196.58 ms\n",
      "llama_print_timings:      sample time =      35.09 ms /    30 runs   (    1.17 ms per token,   854.99 tokens per second)\n",
      "llama_print_timings: prompt eval time =      61.70 ms /   122 tokens (    0.51 ms per token,  1977.15 tokens per second)\n",
      "llama_print_timings:        eval time =    1140.24 ms /    29 runs   (   39.32 ms per token,    25.43 tokens per second)\n",
      "llama_print_timings:       total time =    1253.51 ms /   151 tokens\n"
     ]
    },
    {
     "name": "stdout",
     "output_type": "stream",
     "text": [
      "302\n"
     ]
    },
    {
     "name": "stderr",
     "output_type": "stream",
     "text": [
      "Compiling FSM index for all state transitions: 100%|██████████| 107/107 [00:00<00:00, 174.36it/s]\n",
      "\n",
      "llama_print_timings:        load time =     196.58 ms\n",
      "llama_print_timings:      sample time =      55.94 ms /    49 runs   (    1.14 ms per token,   876.02 tokens per second)\n",
      "llama_print_timings: prompt eval time =      87.36 ms /   195 tokens (    0.45 ms per token,  2232.02 tokens per second)\n",
      "llama_print_timings:        eval time =    1890.77 ms /    48 runs   (   39.39 ms per token,    25.39 tokens per second)\n",
      "llama_print_timings:       total time =    2050.09 ms /   243 tokens\n"
     ]
    },
    {
     "name": "stdout",
     "output_type": "stream",
     "text": [
      "303\n"
     ]
    },
    {
     "name": "stderr",
     "output_type": "stream",
     "text": [
      "Compiling FSM index for all state transitions:  42%|████▏     | 245/581 [00:02<00:04, 81.89it/s]\n",
      "\n",
      "llama_print_timings:        load time =     196.58 ms\n",
      "llama_print_timings:      sample time =      37.91 ms /    29 runs   (    1.31 ms per token,   764.87 tokens per second)\n",
      "llama_print_timings: prompt eval time =      72.55 ms /   141 tokens (    0.51 ms per token,  1943.38 tokens per second)\n",
      "llama_print_timings:        eval time =    1102.89 ms /    28 runs   (   39.39 ms per token,    25.39 tokens per second)\n",
      "llama_print_timings:       total time =    1235.39 ms /   169 tokens\n"
     ]
    },
    {
     "name": "stdout",
     "output_type": "stream",
     "text": [
      "311\n"
     ]
    },
    {
     "name": "stderr",
     "output_type": "stream",
     "text": [
      "Compiling FSM index for all state transitions:  40%|████      | 341/849 [00:04<00:06, 77.07it/s]\n",
      "\n",
      "llama_print_timings:        load time =     196.58 ms\n",
      "llama_print_timings:      sample time =      46.19 ms /    39 runs   (    1.18 ms per token,   844.43 tokens per second)\n",
      "llama_print_timings: prompt eval time =      79.57 ms /   176 tokens (    0.45 ms per token,  2212.00 tokens per second)\n",
      "llama_print_timings:        eval time =    1496.75 ms /    38 runs   (   39.39 ms per token,    25.39 tokens per second)\n",
      "llama_print_timings:       total time =    1651.97 ms /   214 tokens\n"
     ]
    },
    {
     "name": "stdout",
     "output_type": "stream",
     "text": [
      "312\n"
     ]
    },
    {
     "name": "stderr",
     "output_type": "stream",
     "text": [
      "Compiling FSM index for all state transitions:  44%|████▍     | 263/599 [00:03<00:03, 84.74it/s] \n",
      "\n",
      "llama_print_timings:        load time =     196.58 ms\n",
      "llama_print_timings:      sample time =      39.94 ms /    34 runs   (    1.17 ms per token,   851.36 tokens per second)\n",
      "llama_print_timings: prompt eval time =      75.87 ms /   160 tokens (    0.47 ms per token,  2108.95 tokens per second)\n",
      "llama_print_timings:        eval time =    1299.39 ms /    33 runs   (   39.38 ms per token,    25.40 tokens per second)\n",
      "llama_print_timings:       total time =    1432.76 ms /   193 tokens\n"
     ]
    },
    {
     "name": "stdout",
     "output_type": "stream",
     "text": [
      "313\n"
     ]
    },
    {
     "name": "stderr",
     "output_type": "stream",
     "text": [
      "\n",
      "llama_print_timings:        load time =     196.58 ms\n",
      "llama_print_timings:      sample time =      46.47 ms /    39 runs   (    1.19 ms per token,   839.27 tokens per second)\n",
      "llama_print_timings: prompt eval time =      73.24 ms /   143 tokens (    0.51 ms per token,  1952.51 tokens per second)\n",
      "llama_print_timings:        eval time =    1495.89 ms /    38 runs   (   39.37 ms per token,    25.40 tokens per second)\n",
      "llama_print_timings:       total time =    1643.35 ms /   181 tokens\n"
     ]
    },
    {
     "name": "stdout",
     "output_type": "stream",
     "text": [
      "314\n"
     ]
    },
    {
     "name": "stderr",
     "output_type": "stream",
     "text": [
      "Compiling FSM index for all state transitions:  42%|████▏     | 369/877 [00:04<00:06, 79.36it/s]\n",
      "\n",
      "llama_print_timings:        load time =     196.58 ms\n",
      "llama_print_timings:      sample time =      59.41 ms /    50 runs   (    1.19 ms per token,   841.61 tokens per second)\n",
      "llama_print_timings: prompt eval time =      78.18 ms /   171 tokens (    0.46 ms per token,  2187.20 tokens per second)\n",
      "llama_print_timings:        eval time =    1930.03 ms /    49 runs   (   39.39 ms per token,    25.39 tokens per second)\n",
      "llama_print_timings:       total time =    2102.37 ms /   220 tokens\n"
     ]
    },
    {
     "name": "stdout",
     "output_type": "stream",
     "text": [
      "315\n"
     ]
    },
    {
     "name": "stderr",
     "output_type": "stream",
     "text": [
      "Compiling FSM index for all state transitions: 100%|██████████| 76/76 [00:00<00:00, 168.85it/s]\n",
      "\n",
      "llama_print_timings:        load time =     196.58 ms\n",
      "llama_print_timings:      sample time =      38.12 ms /    33 runs   (    1.16 ms per token,   865.57 tokens per second)\n",
      "llama_print_timings: prompt eval time =      71.94 ms /   135 tokens (    0.53 ms per token,  1876.64 tokens per second)\n",
      "llama_print_timings:        eval time =    1259.01 ms /    32 runs   (   39.34 ms per token,    25.42 tokens per second)\n",
      "llama_print_timings:       total time =    1380.20 ms /   167 tokens\n"
     ]
    },
    {
     "name": "stdout",
     "output_type": "stream",
     "text": [
      "316\n"
     ]
    },
    {
     "name": "stderr",
     "output_type": "stream",
     "text": [
      "Compiling FSM index for all state transitions:  41%|████      | 345/849 [00:04<00:06, 77.26it/s]\n",
      "\n",
      "llama_print_timings:        load time =     196.58 ms\n",
      "llama_print_timings:      sample time =      52.56 ms /    44 runs   (    1.19 ms per token,   837.07 tokens per second)\n",
      "llama_print_timings: prompt eval time =      78.57 ms /   170 tokens (    0.46 ms per token,  2163.68 tokens per second)\n",
      "llama_print_timings:        eval time =    1693.68 ms /    43 runs   (   39.39 ms per token,    25.39 tokens per second)\n",
      "llama_print_timings:       total time =    1857.55 ms /   213 tokens\n"
     ]
    },
    {
     "name": "stdout",
     "output_type": "stream",
     "text": [
      "317\n"
     ]
    },
    {
     "name": "stderr",
     "output_type": "stream",
     "text": [
      "\n",
      "llama_print_timings:        load time =     196.58 ms\n",
      "llama_print_timings:      sample time =      60.16 ms /    50 runs   (    1.20 ms per token,   831.17 tokens per second)\n",
      "llama_print_timings: prompt eval time =      88.70 ms /   201 tokens (    0.44 ms per token,  2266.19 tokens per second)\n",
      "llama_print_timings:        eval time =    1930.30 ms /    49 runs   (   39.39 ms per token,    25.38 tokens per second)\n",
      "llama_print_timings:       total time =    2116.44 ms /   250 tokens\n"
     ]
    },
    {
     "name": "stdout",
     "output_type": "stream",
     "text": [
      "318\n"
     ]
    },
    {
     "name": "stderr",
     "output_type": "stream",
     "text": [
      "Compiling FSM index for all state transitions:  43%|████▎     | 258/594 [00:03<00:04, 81.31it/s] \n",
      "\n",
      "llama_print_timings:        load time =     196.58 ms\n",
      "llama_print_timings:      sample time =      42.14 ms /    36 runs   (    1.17 ms per token,   854.27 tokens per second)\n",
      "llama_print_timings: prompt eval time =      79.84 ms /   176 tokens (    0.45 ms per token,  2204.44 tokens per second)\n",
      "llama_print_timings:        eval time =    1378.12 ms /    35 runs   (   39.38 ms per token,    25.40 tokens per second)\n",
      "llama_print_timings:       total time =    1519.74 ms /   211 tokens\n"
     ]
    },
    {
     "name": "stdout",
     "output_type": "stream",
     "text": [
      "319\n"
     ]
    },
    {
     "name": "stderr",
     "output_type": "stream",
     "text": [
      "Compiling FSM index for all state transitions:  43%|████▎     | 253/589 [00:03<00:04, 82.82it/s]\n",
      "\n",
      "llama_print_timings:        load time =     196.58 ms\n",
      "llama_print_timings:      sample time =      41.97 ms /    35 runs   (    1.20 ms per token,   833.93 tokens per second)\n",
      "llama_print_timings: prompt eval time =      73.74 ms /   146 tokens (    0.51 ms per token,  1980.01 tokens per second)\n",
      "llama_print_timings:        eval time =    1338.59 ms /    34 runs   (   39.37 ms per token,    25.40 tokens per second)\n",
      "llama_print_timings:       total time =    1479.46 ms /   180 tokens\n"
     ]
    },
    {
     "name": "stdout",
     "output_type": "stream",
     "text": [
      "320\n"
     ]
    },
    {
     "name": "stderr",
     "output_type": "stream",
     "text": [
      "Compiling FSM index for all state transitions:  45%|████▍     | 277/617 [00:03<00:03, 85.24it/s] \n",
      "\n",
      "llama_print_timings:        load time =     196.58 ms\n",
      "llama_print_timings:      sample time =      62.81 ms /    52 runs   (    1.21 ms per token,   827.87 tokens per second)\n",
      "llama_print_timings: prompt eval time =      79.20 ms /   176 tokens (    0.45 ms per token,  2222.31 tokens per second)\n",
      "llama_print_timings:        eval time =    2008.28 ms /    51 runs   (   39.38 ms per token,    25.39 tokens per second)\n",
      "llama_print_timings:       total time =    2192.45 ms /   227 tokens\n"
     ]
    },
    {
     "name": "stdout",
     "output_type": "stream",
     "text": [
      "321\n"
     ]
    },
    {
     "name": "stderr",
     "output_type": "stream",
     "text": [
      "\n",
      "llama_print_timings:        load time =     196.58 ms\n",
      "llama_print_timings:      sample time =      51.04 ms /    42 runs   (    1.22 ms per token,   822.90 tokens per second)\n",
      "llama_print_timings: prompt eval time =      74.48 ms /   152 tokens (    0.49 ms per token,  2040.82 tokens per second)\n",
      "llama_print_timings:        eval time =    1613.84 ms /    41 runs   (   39.36 ms per token,    25.41 tokens per second)\n",
      "llama_print_timings:       total time =    1770.64 ms /   193 tokens\n"
     ]
    },
    {
     "name": "stdout",
     "output_type": "stream",
     "text": [
      "322\n"
     ]
    },
    {
     "name": "stderr",
     "output_type": "stream",
     "text": [
      "Compiling FSM index for all state transitions:  41%|████      | 348/856 [00:04<00:06, 77.93it/s] \n",
      "\n",
      "llama_print_timings:        load time =     196.58 ms\n",
      "llama_print_timings:      sample time =      49.05 ms /    41 runs   (    1.20 ms per token,   835.97 tokens per second)\n",
      "llama_print_timings: prompt eval time =      77.31 ms /   163 tokens (    0.47 ms per token,  2108.29 tokens per second)\n",
      "llama_print_timings:        eval time =    1574.76 ms /    40 runs   (   39.37 ms per token,    25.40 tokens per second)\n",
      "llama_print_timings:       total time =    1735.32 ms /   203 tokens\n"
     ]
    },
    {
     "name": "stdout",
     "output_type": "stream",
     "text": [
      "323\n"
     ]
    },
    {
     "name": "stderr",
     "output_type": "stream",
     "text": [
      "Compiling FSM index for all state transitions:  43%|████▎     | 254/594 [00:03<00:04, 82.95it/s]\n",
      "\n",
      "llama_print_timings:        load time =     196.58 ms\n",
      "llama_print_timings:      sample time =      44.36 ms /    38 runs   (    1.17 ms per token,   856.63 tokens per second)\n",
      "llama_print_timings: prompt eval time =      61.91 ms /   123 tokens (    0.50 ms per token,  1986.69 tokens per second)\n",
      "llama_print_timings:        eval time =    1454.80 ms /    37 runs   (   39.32 ms per token,    25.43 tokens per second)\n",
      "llama_print_timings:       total time =    1582.11 ms /   160 tokens\n"
     ]
    },
    {
     "name": "stdout",
     "output_type": "stream",
     "text": [
      "324\n"
     ]
    },
    {
     "name": "stderr",
     "output_type": "stream",
     "text": [
      "Compiling FSM index for all state transitions:  51%|█████     | 176/348 [00:01<00:01, 96.25it/s] \n",
      "\n",
      "llama_print_timings:        load time =     196.58 ms\n",
      "llama_print_timings:      sample time =      40.99 ms /    35 runs   (    1.17 ms per token,   853.78 tokens per second)\n",
      "llama_print_timings: prompt eval time =      71.02 ms /   132 tokens (    0.54 ms per token,  1858.66 tokens per second)\n",
      "llama_print_timings:        eval time =    1337.77 ms /    34 runs   (   39.35 ms per token,    25.42 tokens per second)\n",
      "llama_print_timings:       total time =    1468.74 ms /   166 tokens\n"
     ]
    },
    {
     "name": "stdout",
     "output_type": "stream",
     "text": [
      "325\n"
     ]
    },
    {
     "name": "stderr",
     "output_type": "stream",
     "text": [
      "Compiling FSM index for all state transitions:  40%|████      | 342/850 [00:04<00:06, 77.31it/s] \n",
      "\n",
      "llama_print_timings:        load time =     196.58 ms\n",
      "llama_print_timings:      sample time =      45.39 ms /    38 runs   (    1.19 ms per token,   837.17 tokens per second)\n",
      "llama_print_timings: prompt eval time =      74.83 ms /   150 tokens (    0.50 ms per token,  2004.65 tokens per second)\n",
      "llama_print_timings:        eval time =    1456.73 ms /    37 runs   (   39.37 ms per token,    25.40 tokens per second)\n",
      "llama_print_timings:       total time =    1607.38 ms /   187 tokens\n"
     ]
    },
    {
     "name": "stdout",
     "output_type": "stream",
     "text": [
      "326\n"
     ]
    },
    {
     "name": "stderr",
     "output_type": "stream",
     "text": [
      "Compiling FSM index for all state transitions:  45%|████▌     | 276/612 [00:03<00:03, 86.13it/s] \n",
      "\n",
      "llama_print_timings:        load time =     196.58 ms\n",
      "llama_print_timings:      sample time =      52.18 ms /    44 runs   (    1.19 ms per token,   843.22 tokens per second)\n",
      "llama_print_timings: prompt eval time =      79.22 ms /   176 tokens (    0.45 ms per token,  2221.77 tokens per second)\n",
      "llama_print_timings:        eval time =    1693.06 ms /    43 runs   (   39.37 ms per token,    25.40 tokens per second)\n",
      "llama_print_timings:       total time =    1850.65 ms /   219 tokens\n"
     ]
    },
    {
     "name": "stdout",
     "output_type": "stream",
     "text": [
      "327\n"
     ]
    },
    {
     "name": "stderr",
     "output_type": "stream",
     "text": [
      "Compiling FSM index for all state transitions:  42%|████▏     | 374/882 [00:04<00:06, 80.78it/s] \n",
      "\n",
      "llama_print_timings:        load time =     196.58 ms\n",
      "llama_print_timings:      sample time =      60.40 ms /    51 runs   (    1.18 ms per token,   844.31 tokens per second)\n",
      "llama_print_timings: prompt eval time =      95.40 ms /   235 tokens (    0.41 ms per token,  2463.23 tokens per second)\n",
      "llama_print_timings:        eval time =    1979.08 ms /    50 runs   (   39.58 ms per token,    25.26 tokens per second)\n",
      "llama_print_timings:       total time =    2167.60 ms /   285 tokens\n"
     ]
    },
    {
     "name": "stdout",
     "output_type": "stream",
     "text": [
      "328\n"
     ]
    },
    {
     "name": "stderr",
     "output_type": "stream",
     "text": [
      "Compiling FSM index for all state transitions:  36%|███▌      | 1052/2904 [00:15<00:27, 68.25it/s]\n",
      "\n",
      "llama_print_timings:        load time =     196.58 ms\n",
      "llama_print_timings:      sample time =      45.77 ms /    38 runs   (    1.20 ms per token,   830.18 tokens per second)\n",
      "llama_print_timings: prompt eval time =      84.55 ms /   174 tokens (    0.49 ms per token,  2058.03 tokens per second)\n",
      "llama_print_timings:        eval time =    1456.89 ms /    37 runs   (   39.38 ms per token,    25.40 tokens per second)\n",
      "llama_print_timings:       total time =    1619.14 ms /   211 tokens\n"
     ]
    },
    {
     "name": "stdout",
     "output_type": "stream",
     "text": [
      "329\n"
     ]
    },
    {
     "name": "stderr",
     "output_type": "stream",
     "text": [
      "Compiling FSM index for all state transitions: 100%|██████████| 108/108 [00:00<00:00, 172.62it/s]\n",
      "\n",
      "llama_print_timings:        load time =     196.58 ms\n",
      "llama_print_timings:      sample time =      41.06 ms /    36 runs   (    1.14 ms per token,   876.79 tokens per second)\n",
      "llama_print_timings: prompt eval time =      82.73 ms /   188 tokens (    0.44 ms per token,  2272.32 tokens per second)\n",
      "llama_print_timings:        eval time =    1378.15 ms /    35 runs   (   39.38 ms per token,    25.40 tokens per second)\n",
      "llama_print_timings:       total time =    1513.84 ms /   223 tokens\n"
     ]
    },
    {
     "name": "stdout",
     "output_type": "stream",
     "text": [
      "330\n"
     ]
    },
    {
     "name": "stderr",
     "output_type": "stream",
     "text": [
      "\n",
      "llama_print_timings:        load time =     196.58 ms\n",
      "llama_print_timings:      sample time =      53.34 ms /    44 runs   (    1.21 ms per token,   824.82 tokens per second)\n",
      "llama_print_timings: prompt eval time =      79.22 ms /   176 tokens (    0.45 ms per token,  2221.72 tokens per second)\n",
      "llama_print_timings:        eval time =    1693.38 ms /    43 runs   (   39.38 ms per token,    25.39 tokens per second)\n",
      "llama_print_timings:       total time =    1864.14 ms /   219 tokens\n"
     ]
    },
    {
     "name": "stdout",
     "output_type": "stream",
     "text": [
      "331\n"
     ]
    },
    {
     "name": "stderr",
     "output_type": "stream",
     "text": [
      "Compiling FSM index for all state transitions:  55%|█████▍    | 211/387 [00:02<00:01, 105.43it/s]\n",
      "\n",
      "llama_print_timings:        load time =     196.58 ms\n",
      "llama_print_timings:      sample time =      49.85 ms /    43 runs   (    1.16 ms per token,   862.62 tokens per second)\n",
      "llama_print_timings: prompt eval time =      80.50 ms /   182 tokens (    0.44 ms per token,  2260.73 tokens per second)\n",
      "llama_print_timings:        eval time =    1653.66 ms /    42 runs   (   39.37 ms per token,    25.40 tokens per second)\n",
      "llama_print_timings:       total time =    1803.13 ms /   224 tokens\n"
     ]
    },
    {
     "name": "stdout",
     "output_type": "stream",
     "text": [
      "332\n"
     ]
    },
    {
     "name": "stderr",
     "output_type": "stream",
     "text": [
      "Compiling FSM index for all state transitions:  42%|████▏     | 244/584 [00:03<00:04, 81.11it/s]\n",
      "\n",
      "llama_print_timings:        load time =     196.58 ms\n",
      "llama_print_timings:      sample time =      33.39 ms /    28 runs   (    1.19 ms per token,   838.47 tokens per second)\n",
      "llama_print_timings: prompt eval time =      73.56 ms /   147 tokens (    0.50 ms per token,  1998.31 tokens per second)\n",
      "llama_print_timings:        eval time =    1062.93 ms /    27 runs   (   39.37 ms per token,    25.40 tokens per second)\n",
      "llama_print_timings:       total time =    1190.14 ms /   174 tokens\n"
     ]
    },
    {
     "name": "stdout",
     "output_type": "stream",
     "text": [
      "333\n"
     ]
    },
    {
     "name": "stderr",
     "output_type": "stream",
     "text": [
      "\n",
      "llama_print_timings:        load time =     196.58 ms\n",
      "llama_print_timings:      sample time =      67.26 ms /    55 runs   (    1.22 ms per token,   817.70 tokens per second)\n",
      "llama_print_timings: prompt eval time =      92.29 ms /   207 tokens (    0.45 ms per token,  2242.83 tokens per second)\n",
      "llama_print_timings:        eval time =    2129.35 ms /    54 runs   (   39.43 ms per token,    25.36 tokens per second)\n",
      "llama_print_timings:       total time =    2336.36 ms /   261 tokens\n"
     ]
    },
    {
     "name": "stdout",
     "output_type": "stream",
     "text": [
      "334\n"
     ]
    },
    {
     "name": "stderr",
     "output_type": "stream",
     "text": [
      "Compiling FSM index for all state transitions:  36%|███▌      | 1690/4718 [00:25<00:46, 65.79it/s] \n",
      "\n",
      "llama_print_timings:        load time =     196.58 ms\n",
      "llama_print_timings:      sample time =      52.97 ms /    44 runs   (    1.20 ms per token,   830.72 tokens per second)\n",
      "llama_print_timings: prompt eval time =      96.23 ms /   212 tokens (    0.45 ms per token,  2202.96 tokens per second)\n",
      "llama_print_timings:        eval time =    1694.07 ms /    43 runs   (   39.40 ms per token,    25.38 tokens per second)\n",
      "llama_print_timings:       total time =    1877.43 ms /   255 tokens\n"
     ]
    },
    {
     "name": "stdout",
     "output_type": "stream",
     "text": [
      "335\n",
      "336\n"
     ]
    },
    {
     "name": "stderr",
     "output_type": "stream",
     "text": [
      "\n",
      "llama_print_timings:        load time =     196.58 ms\n",
      "llama_print_timings:      sample time =      33.35 ms /    27 runs   (    1.24 ms per token,   809.57 tokens per second)\n",
      "llama_print_timings: prompt eval time =      61.85 ms /   123 tokens (    0.50 ms per token,  1988.59 tokens per second)\n",
      "llama_print_timings:        eval time =    1023.19 ms /    26 runs   (   39.35 ms per token,    25.41 tokens per second)\n",
      "llama_print_timings:       total time =    1128.58 ms /   149 tokens\n"
     ]
    },
    {
     "name": "stdout",
     "output_type": "stream",
     "text": [
      "337\n",
      "338\n"
     ]
    },
    {
     "name": "stderr",
     "output_type": "stream",
     "text": [
      "Compiling FSM index for all state transitions:  98%|█████████▊| 123/126 [00:00<00:00, 172.01it/s]\n",
      "\n",
      "llama_print_timings:        load time =     196.58 ms\n",
      "llama_print_timings:      sample time =      44.71 ms /    39 runs   (    1.15 ms per token,   872.25 tokens per second)\n",
      "llama_print_timings: prompt eval time =      79.35 ms /   177 tokens (    0.45 ms per token,  2230.74 tokens per second)\n",
      "llama_print_timings:        eval time =    1496.43 ms /    38 runs   (   39.38 ms per token,    25.39 tokens per second)\n",
      "llama_print_timings:       total time =    1634.05 ms /   215 tokens\n"
     ]
    },
    {
     "name": "stdout",
     "output_type": "stream",
     "text": [
      "339\n"
     ]
    },
    {
     "name": "stderr",
     "output_type": "stream",
     "text": [
      "\n",
      "llama_print_timings:        load time =     196.58 ms\n",
      "llama_print_timings:      sample time =      42.64 ms /    37 runs   (    1.15 ms per token,   867.71 tokens per second)\n",
      "llama_print_timings: prompt eval time =      71.98 ms /   139 tokens (    0.52 ms per token,  1931.04 tokens per second)\n",
      "llama_print_timings:        eval time =    1416.80 ms /    36 runs   (   39.36 ms per token,    25.41 tokens per second)\n",
      "llama_print_timings:       total time =    1543.68 ms /   175 tokens\n"
     ]
    },
    {
     "name": "stdout",
     "output_type": "stream",
     "text": [
      "340\n"
     ]
    },
    {
     "name": "stderr",
     "output_type": "stream",
     "text": [
      "\n",
      "llama_print_timings:        load time =     196.58 ms\n",
      "llama_print_timings:      sample time =     110.98 ms /    90 runs   (    1.23 ms per token,   810.96 tokens per second)\n",
      "llama_print_timings: prompt eval time =     132.68 ms /   309 tokens (    0.43 ms per token,  2328.89 tokens per second)\n",
      "llama_print_timings:        eval time =    3539.14 ms /    89 runs   (   39.77 ms per token,    25.15 tokens per second)\n",
      "llama_print_timings:       total time =    3873.00 ms /   398 tokens\n"
     ]
    },
    {
     "name": "stdout",
     "output_type": "stream",
     "text": [
      "341\n"
     ]
    },
    {
     "name": "stderr",
     "output_type": "stream",
     "text": [
      "\n",
      "llama_print_timings:        load time =     196.58 ms\n",
      "llama_print_timings:      sample time =      45.33 ms /    38 runs   (    1.19 ms per token,   838.32 tokens per second)\n",
      "llama_print_timings: prompt eval time =      77.91 ms /   169 tokens (    0.46 ms per token,  2169.09 tokens per second)\n",
      "llama_print_timings:        eval time =    1456.99 ms /    37 runs   (   39.38 ms per token,    25.39 tokens per second)\n",
      "llama_print_timings:       total time =    1604.55 ms /   206 tokens\n"
     ]
    },
    {
     "name": "stdout",
     "output_type": "stream",
     "text": [
      "342\n"
     ]
    },
    {
     "name": "stderr",
     "output_type": "stream",
     "text": [
      "\n",
      "llama_print_timings:        load time =     196.58 ms\n",
      "llama_print_timings:      sample time =      54.24 ms /    47 runs   (    1.15 ms per token,   866.54 tokens per second)\n",
      "llama_print_timings: prompt eval time =      79.71 ms /   179 tokens (    0.45 ms per token,  2245.70 tokens per second)\n",
      "llama_print_timings:        eval time =    1811.01 ms /    46 runs   (   39.37 ms per token,    25.40 tokens per second)\n",
      "llama_print_timings:       total time =    1965.85 ms /   225 tokens\n"
     ]
    },
    {
     "name": "stdout",
     "output_type": "stream",
     "text": [
      "343\n"
     ]
    },
    {
     "name": "stderr",
     "output_type": "stream",
     "text": [
      "Compiling FSM index for all state transitions:  41%|████▏     | 360/868 [00:04<00:06, 80.89it/s]\n",
      "\n",
      "llama_print_timings:        load time =     196.58 ms\n",
      "llama_print_timings:      sample time =      50.08 ms /    42 runs   (    1.19 ms per token,   838.69 tokens per second)\n",
      "llama_print_timings: prompt eval time =      74.58 ms /   153 tokens (    0.49 ms per token,  2051.54 tokens per second)\n",
      "llama_print_timings:        eval time =    1614.23 ms /    41 runs   (   39.37 ms per token,    25.40 tokens per second)\n",
      "llama_print_timings:       total time =    1766.51 ms /   194 tokens\n"
     ]
    },
    {
     "name": "stdout",
     "output_type": "stream",
     "text": [
      "344\n"
     ]
    },
    {
     "name": "stderr",
     "output_type": "stream",
     "text": [
      "\n",
      "llama_print_timings:        load time =     196.58 ms\n",
      "llama_print_timings:      sample time =      62.45 ms /    51 runs   (    1.22 ms per token,   816.67 tokens per second)\n",
      "llama_print_timings: prompt eval time =      77.44 ms /   166 tokens (    0.47 ms per token,  2143.65 tokens per second)\n",
      "llama_print_timings:        eval time =    1968.77 ms /    50 runs   (   39.38 ms per token,    25.40 tokens per second)\n",
      "llama_print_timings:       total time =    2154.47 ms /   216 tokens\n"
     ]
    },
    {
     "name": "stdout",
     "output_type": "stream",
     "text": [
      "345\n"
     ]
    },
    {
     "name": "stderr",
     "output_type": "stream",
     "text": [
      "Compiling FSM index for all state transitions:  44%|████▍     | 267/603 [00:03<00:03, 85.86it/s] \n",
      "\n",
      "llama_print_timings:        load time =     196.58 ms\n",
      "llama_print_timings:      sample time =      52.88 ms /    45 runs   (    1.18 ms per token,   851.02 tokens per second)\n",
      "llama_print_timings: prompt eval time =      80.02 ms /   177 tokens (    0.45 ms per token,  2211.86 tokens per second)\n",
      "llama_print_timings:        eval time =    1732.65 ms /    44 runs   (   39.38 ms per token,    25.39 tokens per second)\n",
      "llama_print_timings:       total time =    1894.80 ms /   221 tokens\n"
     ]
    },
    {
     "name": "stdout",
     "output_type": "stream",
     "text": [
      "346\n"
     ]
    },
    {
     "name": "stderr",
     "output_type": "stream",
     "text": [
      "Compiling FSM index for all state transitions:  41%|████▏     | 356/860 [00:04<00:06, 79.00it/s]\n",
      "\n",
      "llama_print_timings:        load time =     196.58 ms\n",
      "llama_print_timings:      sample time =      55.03 ms /    42 runs   (    1.31 ms per token,   763.28 tokens per second)\n",
      "llama_print_timings: prompt eval time =      82.40 ms /   190 tokens (    0.43 ms per token,  2305.83 tokens per second)\n",
      "llama_print_timings:        eval time =    1614.98 ms /    41 runs   (   39.39 ms per token,    25.39 tokens per second)\n",
      "llama_print_timings:       total time =    1786.64 ms /   231 tokens\n"
     ]
    },
    {
     "name": "stdout",
     "output_type": "stream",
     "text": [
      "347\n"
     ]
    },
    {
     "name": "stderr",
     "output_type": "stream",
     "text": [
      "Compiling FSM index for all state transitions:  51%|█████     | 178/350 [00:01<00:01, 98.38it/s] \n",
      "\n",
      "llama_print_timings:        load time =     196.58 ms\n",
      "llama_print_timings:      sample time =      46.45 ms /    39 runs   (    1.19 ms per token,   839.68 tokens per second)\n",
      "llama_print_timings: prompt eval time =      73.35 ms /   144 tokens (    0.51 ms per token,  1963.30 tokens per second)\n",
      "llama_print_timings:        eval time =    1495.84 ms /    38 runs   (   39.36 ms per token,    25.40 tokens per second)\n",
      "llama_print_timings:       total time =    1637.57 ms /   182 tokens\n"
     ]
    },
    {
     "name": "stdout",
     "output_type": "stream",
     "text": [
      "348\n"
     ]
    },
    {
     "name": "stderr",
     "output_type": "stream",
     "text": [
      "Compiling FSM index for all state transitions:  45%|████▌     | 275/611 [00:03<00:03, 85.97it/s] \n",
      "\n",
      "llama_print_timings:        load time =     196.58 ms\n",
      "llama_print_timings:      sample time =      48.33 ms /    41 runs   (    1.18 ms per token,   848.32 tokens per second)\n",
      "llama_print_timings: prompt eval time =      77.47 ms /   167 tokens (    0.46 ms per token,  2155.62 tokens per second)\n",
      "llama_print_timings:        eval time =    1575.00 ms /    40 runs   (   39.38 ms per token,    25.40 tokens per second)\n",
      "llama_print_timings:       total time =    1723.27 ms /   207 tokens\n"
     ]
    },
    {
     "name": "stdout",
     "output_type": "stream",
     "text": [
      "349\n"
     ]
    },
    {
     "name": "stderr",
     "output_type": "stream",
     "text": [
      "Compiling FSM index for all state transitions:  40%|████      | 342/850 [00:04<00:06, 76.94it/s]\n",
      "\n",
      "llama_print_timings:        load time =     196.58 ms\n",
      "llama_print_timings:      sample time =      37.43 ms /    32 runs   (    1.17 ms per token,   854.91 tokens per second)\n",
      "llama_print_timings: prompt eval time =      78.55 ms /   168 tokens (    0.47 ms per token,  2138.74 tokens per second)\n",
      "llama_print_timings:        eval time =    1220.75 ms /    31 runs   (   39.38 ms per token,    25.39 tokens per second)\n",
      "llama_print_timings:       total time =    1355.85 ms /   199 tokens\n"
     ]
    },
    {
     "name": "stdout",
     "output_type": "stream",
     "text": [
      "350\n"
     ]
    },
    {
     "name": "stderr",
     "output_type": "stream",
     "text": [
      "\n",
      "llama_print_timings:        load time =     196.58 ms\n",
      "llama_print_timings:      sample time =      46.51 ms /    39 runs   (    1.19 ms per token,   838.62 tokens per second)\n",
      "llama_print_timings: prompt eval time =      72.19 ms /   139 tokens (    0.52 ms per token,  1925.42 tokens per second)\n",
      "llama_print_timings:        eval time =    1495.67 ms /    38 runs   (   39.36 ms per token,    25.41 tokens per second)\n",
      "llama_print_timings:       total time =    1640.48 ms /   177 tokens\n"
     ]
    },
    {
     "name": "stdout",
     "output_type": "stream",
     "text": [
      "351\n"
     ]
    },
    {
     "name": "stderr",
     "output_type": "stream",
     "text": [
      "Compiling FSM index for all state transitions:  45%|████▍     | 270/606 [00:03<00:03, 84.71it/s] \n",
      "\n",
      "llama_print_timings:        load time =     196.58 ms\n",
      "llama_print_timings:      sample time =      40.18 ms /    34 runs   (    1.18 ms per token,   846.23 tokens per second)\n",
      "llama_print_timings: prompt eval time =      90.90 ms /   215 tokens (    0.42 ms per token,  2365.34 tokens per second)\n",
      "llama_print_timings:        eval time =    1299.94 ms /    33 runs   (   39.39 ms per token,    25.39 tokens per second)\n",
      "llama_print_timings:       total time =    1452.55 ms /   248 tokens\n"
     ]
    },
    {
     "name": "stdout",
     "output_type": "stream",
     "text": [
      "352\n"
     ]
    },
    {
     "name": "stderr",
     "output_type": "stream",
     "text": [
      "\n",
      "llama_print_timings:        load time =     196.58 ms\n",
      "llama_print_timings:      sample time =      57.35 ms /    47 runs   (    1.22 ms per token,   819.49 tokens per second)\n",
      "llama_print_timings: prompt eval time =      75.86 ms /   160 tokens (    0.47 ms per token,  2109.29 tokens per second)\n",
      "llama_print_timings:        eval time =    1811.94 ms /    46 runs   (   39.39 ms per token,    25.39 tokens per second)\n",
      "llama_print_timings:       total time =    1982.74 ms /   206 tokens\n"
     ]
    },
    {
     "name": "stdout",
     "output_type": "stream",
     "text": [
      "353\n"
     ]
    },
    {
     "name": "stderr",
     "output_type": "stream",
     "text": [
      "Compiling FSM index for all state transitions:  36%|███▌      | 1048/2896 [00:15<00:27, 67.55it/s]\n",
      "\n",
      "llama_print_timings:        load time =     196.58 ms\n",
      "llama_print_timings:      sample time =      43.47 ms /    36 runs   (    1.21 ms per token,   828.18 tokens per second)\n",
      "llama_print_timings: prompt eval time =      87.35 ms /   190 tokens (    0.46 ms per token,  2175.23 tokens per second)\n",
      "llama_print_timings:        eval time =    1378.66 ms /    35 runs   (   39.39 ms per token,    25.39 tokens per second)\n",
      "llama_print_timings:       total time =    1537.37 ms /   225 tokens\n"
     ]
    },
    {
     "name": "stdout",
     "output_type": "stream",
     "text": [
      "354\n"
     ]
    },
    {
     "name": "stderr",
     "output_type": "stream",
     "text": [
      "Compiling FSM index for all state transitions:  37%|███▋      | 987/2667 [00:14<00:24, 69.66it/s] \n",
      "\n",
      "llama_print_timings:        load time =     196.58 ms\n",
      "llama_print_timings:      sample time =      44.48 ms /    38 runs   (    1.17 ms per token,   854.22 tokens per second)\n",
      "llama_print_timings: prompt eval time =      97.06 ms /   217 tokens (    0.45 ms per token,  2235.71 tokens per second)\n",
      "llama_print_timings:        eval time =    1457.85 ms /    37 runs   (   39.40 ms per token,    25.38 tokens per second)\n",
      "llama_print_timings:       total time =    1617.38 ms /   254 tokens\n"
     ]
    },
    {
     "name": "stdout",
     "output_type": "stream",
     "text": [
      "355\n"
     ]
    },
    {
     "name": "stderr",
     "output_type": "stream",
     "text": [
      "Compiling FSM index for all state transitions:  42%|████▏     | 361/869 [00:04<00:06, 79.55it/s]\n",
      "\n",
      "llama_print_timings:        load time =     196.58 ms\n",
      "llama_print_timings:      sample time =      50.60 ms /    42 runs   (    1.20 ms per token,   830.04 tokens per second)\n",
      "llama_print_timings: prompt eval time =      80.63 ms /   184 tokens (    0.44 ms per token,  2282.09 tokens per second)\n",
      "llama_print_timings:        eval time =    1614.62 ms /    41 runs   (   39.38 ms per token,    25.39 tokens per second)\n",
      "llama_print_timings:       total time =    1779.23 ms /   225 tokens\n"
     ]
    },
    {
     "name": "stdout",
     "output_type": "stream",
     "text": [
      "356\n"
     ]
    },
    {
     "name": "stderr",
     "output_type": "stream",
     "text": [
      "Compiling FSM index for all state transitions:  51%|█████     | 179/351 [00:01<00:01, 95.13it/s]\n",
      "\n",
      "llama_print_timings:        load time =     196.58 ms\n",
      "llama_print_timings:      sample time =      51.14 ms /    44 runs   (    1.16 ms per token,   860.38 tokens per second)\n",
      "llama_print_timings: prompt eval time =      88.42 ms /   195 tokens (    0.45 ms per token,  2205.38 tokens per second)\n",
      "llama_print_timings:        eval time =    1694.25 ms /    43 runs   (   39.40 ms per token,    25.38 tokens per second)\n",
      "llama_print_timings:       total time =    1852.96 ms /   238 tokens\n"
     ]
    },
    {
     "name": "stdout",
     "output_type": "stream",
     "text": [
      "357\n"
     ]
    },
    {
     "name": "stderr",
     "output_type": "stream",
     "text": [
      "Compiling FSM index for all state transitions:  42%|████▏     | 248/584 [00:03<00:04, 81.94it/s]\n",
      "\n",
      "llama_print_timings:        load time =     196.58 ms\n",
      "llama_print_timings:      sample time =      46.50 ms /    39 runs   (    1.19 ms per token,   838.67 tokens per second)\n",
      "llama_print_timings: prompt eval time =      74.02 ms /   150 tokens (    0.49 ms per token,  2026.51 tokens per second)\n",
      "llama_print_timings:        eval time =    1496.20 ms /    38 runs   (   39.37 ms per token,    25.40 tokens per second)\n",
      "llama_print_timings:       total time =    1642.87 ms /   188 tokens\n"
     ]
    },
    {
     "name": "stdout",
     "output_type": "stream",
     "text": [
      "358\n"
     ]
    },
    {
     "name": "stderr",
     "output_type": "stream",
     "text": [
      "Compiling FSM index for all state transitions:  36%|███▋      | 960/2640 [00:13<00:24, 69.06it/s] \n",
      "\n",
      "llama_print_timings:        load time =     196.58 ms\n",
      "llama_print_timings:      sample time =      47.35 ms /    40 runs   (    1.18 ms per token,   844.81 tokens per second)\n",
      "llama_print_timings: prompt eval time =      95.48 ms /   205 tokens (    0.47 ms per token,  2147.02 tokens per second)\n",
      "llama_print_timings:        eval time =    1536.45 ms /    39 runs   (   39.40 ms per token,    25.38 tokens per second)\n",
      "llama_print_timings:       total time =    1702.34 ms /   244 tokens\n"
     ]
    },
    {
     "name": "stdout",
     "output_type": "stream",
     "text": [
      "359\n"
     ]
    },
    {
     "name": "stderr",
     "output_type": "stream",
     "text": [
      "\n",
      "llama_print_timings:        load time =     196.58 ms\n",
      "llama_print_timings:      sample time =      81.85 ms /    67 runs   (    1.22 ms per token,   818.54 tokens per second)\n",
      "llama_print_timings: prompt eval time =      81.33 ms /   187 tokens (    0.43 ms per token,  2299.33 tokens per second)\n",
      "llama_print_timings:        eval time =    2599.34 ms /    66 runs   (   39.38 ms per token,    25.39 tokens per second)\n",
      "llama_print_timings:       total time =    2820.94 ms /   253 tokens\n"
     ]
    },
    {
     "name": "stdout",
     "output_type": "stream",
     "text": [
      "360\n"
     ]
    },
    {
     "name": "stderr",
     "output_type": "stream",
     "text": [
      "Compiling FSM index for all state transitions:  49%|████▉     | 163/331 [00:01<00:01, 91.12it/s]\n",
      "\n",
      "llama_print_timings:        load time =     196.58 ms\n",
      "llama_print_timings:      sample time =      42.48 ms /    36 runs   (    1.18 ms per token,   847.42 tokens per second)\n",
      "llama_print_timings: prompt eval time =      71.80 ms /   135 tokens (    0.53 ms per token,  1880.30 tokens per second)\n",
      "llama_print_timings:        eval time =    1377.74 ms /    35 runs   (   39.36 ms per token,    25.40 tokens per second)\n",
      "llama_print_timings:       total time =    1512.41 ms /   170 tokens\n"
     ]
    },
    {
     "name": "stdout",
     "output_type": "stream",
     "text": [
      "361\n"
     ]
    },
    {
     "name": "stderr",
     "output_type": "stream",
     "text": [
      "Compiling FSM index for all state transitions:  40%|████      | 338/842 [00:04<00:06, 76.83it/s]\n",
      "\n",
      "llama_print_timings:        load time =     196.58 ms\n",
      "llama_print_timings:      sample time =      51.96 ms /    43 runs   (    1.21 ms per token,   827.54 tokens per second)\n",
      "llama_print_timings: prompt eval time =      79.92 ms /   178 tokens (    0.45 ms per token,  2227.31 tokens per second)\n",
      "llama_print_timings:        eval time =    1654.19 ms /    42 runs   (   39.39 ms per token,    25.39 tokens per second)\n",
      "llama_print_timings:       total time =    1819.67 ms /   220 tokens\n"
     ]
    },
    {
     "name": "stdout",
     "output_type": "stream",
     "text": [
      "362\n"
     ]
    },
    {
     "name": "stderr",
     "output_type": "stream",
     "text": [
      "Compiling FSM index for all state transitions:  52%|█████▏    | 184/352 [00:01<00:01, 97.56it/s] \n",
      "\n",
      "llama_print_timings:        load time =     196.58 ms\n",
      "llama_print_timings:      sample time =      50.92 ms /    44 runs   (    1.16 ms per token,   864.15 tokens per second)\n",
      "llama_print_timings: prompt eval time =      87.63 ms /   196 tokens (    0.45 ms per token,  2236.75 tokens per second)\n",
      "llama_print_timings:        eval time =    1693.33 ms /    43 runs   (   39.38 ms per token,    25.39 tokens per second)\n",
      "llama_print_timings:       total time =    1851.82 ms /   239 tokens\n"
     ]
    },
    {
     "name": "stdout",
     "output_type": "stream",
     "text": [
      "363\n"
     ]
    },
    {
     "name": "stderr",
     "output_type": "stream",
     "text": [
      "Compiling FSM index for all state transitions:  37%|███▋      | 1066/2918 [00:15<00:27, 68.34it/s]\n",
      "\n",
      "llama_print_timings:        load time =     196.58 ms\n",
      "llama_print_timings:      sample time =      57.84 ms /    48 runs   (    1.20 ms per token,   829.93 tokens per second)\n",
      "llama_print_timings: prompt eval time =      95.71 ms /   204 tokens (    0.47 ms per token,  2131.53 tokens per second)\n",
      "llama_print_timings:        eval time =    1851.78 ms /    47 runs   (   39.40 ms per token,    25.38 tokens per second)\n",
      "llama_print_timings:       total time =    2043.79 ms /   251 tokens\n"
     ]
    },
    {
     "name": "stdout",
     "output_type": "stream",
     "text": [
      "364\n"
     ]
    },
    {
     "name": "stderr",
     "output_type": "stream",
     "text": [
      "\n",
      "llama_print_timings:        load time =     196.58 ms\n",
      "llama_print_timings:      sample time =      54.56 ms /    45 runs   (    1.21 ms per token,   824.73 tokens per second)\n",
      "llama_print_timings: prompt eval time =      74.59 ms /   153 tokens (    0.49 ms per token,  2051.30 tokens per second)\n",
      "llama_print_timings:        eval time =    1732.37 ms /    44 runs   (   39.37 ms per token,    25.40 tokens per second)\n",
      "llama_print_timings:       total time =    1895.07 ms /   197 tokens\n"
     ]
    },
    {
     "name": "stdout",
     "output_type": "stream",
     "text": [
      "365\n"
     ]
    },
    {
     "name": "stderr",
     "output_type": "stream",
     "text": [
      "\n",
      "llama_print_timings:        load time =     196.58 ms\n",
      "llama_print_timings:      sample time =      59.94 ms /    50 runs   (    1.20 ms per token,   834.11 tokens per second)\n",
      "llama_print_timings: prompt eval time =      77.82 ms /   169 tokens (    0.46 ms per token,  2171.76 tokens per second)\n",
      "llama_print_timings:        eval time =    1929.35 ms /    49 runs   (   39.37 ms per token,    25.40 tokens per second)\n",
      "llama_print_timings:       total time =    2097.01 ms /   218 tokens\n"
     ]
    },
    {
     "name": "stdout",
     "output_type": "stream",
     "text": [
      "366\n"
     ]
    },
    {
     "name": "stderr",
     "output_type": "stream",
     "text": [
      "Compiling FSM index for all state transitions:  46%|████▌     | 284/624 [00:03<00:03, 88.51it/s] \n",
      "\n",
      "llama_print_timings:        load time =     196.58 ms\n",
      "llama_print_timings:      sample time =      59.06 ms /    50 runs   (    1.18 ms per token,   846.57 tokens per second)\n",
      "llama_print_timings: prompt eval time =      93.82 ms /   225 tokens (    0.42 ms per token,  2398.31 tokens per second)\n",
      "llama_print_timings:        eval time =    1936.63 ms /    49 runs   (   39.52 ms per token,    25.30 tokens per second)\n",
      "llama_print_timings:       total time =    2117.86 ms /   274 tokens\n"
     ]
    },
    {
     "name": "stdout",
     "output_type": "stream",
     "text": [
      "367\n"
     ]
    },
    {
     "name": "stderr",
     "output_type": "stream",
     "text": [
      "\n",
      "llama_print_timings:        load time =     196.58 ms\n",
      "llama_print_timings:      sample time =      53.47 ms /    45 runs   (    1.19 ms per token,   841.55 tokens per second)\n",
      "llama_print_timings: prompt eval time =      87.58 ms /   196 tokens (    0.45 ms per token,  2237.95 tokens per second)\n",
      "llama_print_timings:        eval time =    1733.55 ms /    44 runs   (   39.40 ms per token,    25.38 tokens per second)\n",
      "llama_print_timings:       total time =    1898.35 ms /   240 tokens\n"
     ]
    },
    {
     "name": "stdout",
     "output_type": "stream",
     "text": [
      "368\n"
     ]
    },
    {
     "name": "stderr",
     "output_type": "stream",
     "text": [
      "Compiling FSM index for all state transitions:  55%|█████▍    | 202/370 [00:01<00:01, 103.85it/s]\n",
      "\n",
      "llama_print_timings:        load time =     196.58 ms\n",
      "llama_print_timings:      sample time =      61.48 ms /    50 runs   (    1.23 ms per token,   813.29 tokens per second)\n",
      "llama_print_timings: prompt eval time =      78.03 ms /   170 tokens (    0.46 ms per token,  2178.68 tokens per second)\n",
      "llama_print_timings:        eval time =    1930.94 ms /    49 runs   (   39.41 ms per token,    25.38 tokens per second)\n",
      "llama_print_timings:       total time =    2093.67 ms /   219 tokens\n"
     ]
    },
    {
     "name": "stdout",
     "output_type": "stream",
     "text": [
      "369\n"
     ]
    },
    {
     "name": "stderr",
     "output_type": "stream",
     "text": [
      "Compiling FSM index for all state transitions:  36%|███▋      | 963/2647 [00:13<00:24, 69.70it/s] \n",
      "\n",
      "llama_print_timings:        load time =     196.58 ms\n",
      "llama_print_timings:      sample time =      62.38 ms /    51 runs   (    1.22 ms per token,   817.56 tokens per second)\n",
      "llama_print_timings: prompt eval time =      86.33 ms /   183 tokens (    0.47 ms per token,  2119.85 tokens per second)\n",
      "llama_print_timings:        eval time =    1969.36 ms /    50 runs   (   39.39 ms per token,    25.39 tokens per second)\n",
      "llama_print_timings:       total time =    2166.94 ms /   233 tokens\n"
     ]
    },
    {
     "name": "stdout",
     "output_type": "stream",
     "text": [
      "370\n"
     ]
    },
    {
     "name": "stderr",
     "output_type": "stream",
     "text": [
      "\n",
      "llama_print_timings:        load time =     196.58 ms\n",
      "llama_print_timings:      sample time =      65.48 ms /    54 runs   (    1.21 ms per token,   824.62 tokens per second)\n",
      "llama_print_timings: prompt eval time =      80.82 ms /   185 tokens (    0.44 ms per token,  2289.12 tokens per second)\n",
      "llama_print_timings:        eval time =    2087.17 ms /    53 runs   (   39.38 ms per token,    25.39 tokens per second)\n",
      "llama_print_timings:       total time =    2276.67 ms /   238 tokens\n"
     ]
    },
    {
     "name": "stdout",
     "output_type": "stream",
     "text": [
      "371\n"
     ]
    },
    {
     "name": "stderr",
     "output_type": "stream",
     "text": [
      "\n",
      "llama_print_timings:        load time =     196.58 ms\n",
      "llama_print_timings:      sample time =      46.41 ms /    39 runs   (    1.19 ms per token,   840.28 tokens per second)\n",
      "llama_print_timings: prompt eval time =      73.21 ms /   145 tokens (    0.50 ms per token,  1980.60 tokens per second)\n",
      "llama_print_timings:        eval time =    1495.81 ms /    38 runs   (   39.36 ms per token,    25.40 tokens per second)\n",
      "llama_print_timings:       total time =    1644.09 ms /   183 tokens\n"
     ]
    },
    {
     "name": "stdout",
     "output_type": "stream",
     "text": [
      "372\n"
     ]
    },
    {
     "name": "stderr",
     "output_type": "stream",
     "text": [
      "Compiling FSM index for all state transitions:  53%|█████▎    | 191/363 [00:01<00:01, 101.90it/s]\n",
      "\n",
      "llama_print_timings:        load time =     196.58 ms\n",
      "llama_print_timings:      sample time =      48.64 ms /    42 runs   (    1.16 ms per token,   863.50 tokens per second)\n",
      "llama_print_timings: prompt eval time =      77.53 ms /   167 tokens (    0.46 ms per token,  2154.00 tokens per second)\n",
      "llama_print_timings:        eval time =    1614.13 ms /    41 runs   (   39.37 ms per token,    25.40 tokens per second)\n",
      "llama_print_timings:       total time =    1759.09 ms /   208 tokens\n"
     ]
    },
    {
     "name": "stdout",
     "output_type": "stream",
     "text": [
      "373\n"
     ]
    },
    {
     "name": "stderr",
     "output_type": "stream",
     "text": [
      "Compiling FSM index for all state transitions:  38%|███▊      | 1011/2695 [00:14<00:23, 70.22it/s]\n",
      "\n",
      "llama_print_timings:        load time =     196.58 ms\n",
      "llama_print_timings:      sample time =      53.55 ms /    44 runs   (    1.22 ms per token,   821.69 tokens per second)\n",
      "llama_print_timings: prompt eval time =      96.35 ms /   209 tokens (    0.46 ms per token,  2169.20 tokens per second)\n",
      "llama_print_timings:        eval time =    1694.63 ms /    43 runs   (   39.41 ms per token,    25.37 tokens per second)\n",
      "llama_print_timings:       total time =    1887.26 ms /   252 tokens\n"
     ]
    },
    {
     "name": "stdout",
     "output_type": "stream",
     "text": [
      "374\n"
     ]
    },
    {
     "name": "stderr",
     "output_type": "stream",
     "text": [
      "\n",
      "llama_print_timings:        load time =     196.58 ms\n",
      "llama_print_timings:      sample time =      70.75 ms /    58 runs   (    1.22 ms per token,   819.78 tokens per second)\n",
      "llama_print_timings: prompt eval time =      87.91 ms /   195 tokens (    0.45 ms per token,  2218.15 tokens per second)\n",
      "llama_print_timings:        eval time =    2245.68 ms /    57 runs   (   39.40 ms per token,    25.38 tokens per second)\n",
      "llama_print_timings:       total time =    2453.51 ms /   252 tokens\n"
     ]
    },
    {
     "name": "stdout",
     "output_type": "stream",
     "text": [
      "375\n"
     ]
    },
    {
     "name": "stderr",
     "output_type": "stream",
     "text": [
      "Compiling FSM index for all state transitions:  38%|███▊      | 1019/2703 [00:14<00:23, 71.44it/s] \n",
      "\n",
      "llama_print_timings:        load time =     196.58 ms\n",
      "llama_print_timings:      sample time =      49.93 ms /    42 runs   (    1.19 ms per token,   841.11 tokens per second)\n",
      "llama_print_timings: prompt eval time =      85.90 ms /   180 tokens (    0.48 ms per token,  2095.39 tokens per second)\n",
      "llama_print_timings:        eval time =    1615.14 ms /    41 runs   (   39.39 ms per token,    25.38 tokens per second)\n",
      "llama_print_timings:       total time =    1782.18 ms /   221 tokens\n"
     ]
    },
    {
     "name": "stdout",
     "output_type": "stream",
     "text": [
      "376\n"
     ]
    },
    {
     "name": "stderr",
     "output_type": "stream",
     "text": [
      "Compiling FSM index for all state transitions:  41%|████      | 350/854 [00:04<00:06, 78.64it/s] \n",
      "\n",
      "llama_print_timings:        load time =     196.58 ms\n",
      "llama_print_timings:      sample time =      35.21 ms /    30 runs   (    1.17 ms per token,   852.03 tokens per second)\n",
      "llama_print_timings: prompt eval time =      77.22 ms /   164 tokens (    0.47 ms per token,  2123.91 tokens per second)\n",
      "llama_print_timings:        eval time =    1142.11 ms /    29 runs   (   39.38 ms per token,    25.39 tokens per second)\n",
      "llama_print_timings:       total time =    1270.89 ms /   193 tokens\n"
     ]
    },
    {
     "name": "stdout",
     "output_type": "stream",
     "text": [
      "377\n"
     ]
    },
    {
     "name": "stderr",
     "output_type": "stream",
     "text": [
      "Compiling FSM index for all state transitions:  40%|████      | 339/843 [00:04<00:06, 76.99it/s]\n",
      "\n",
      "llama_print_timings:        load time =     196.58 ms\n",
      "llama_print_timings:      sample time =      38.41 ms /    32 runs   (    1.20 ms per token,   833.18 tokens per second)\n",
      "llama_print_timings: prompt eval time =      75.75 ms /   158 tokens (    0.48 ms per token,  2085.84 tokens per second)\n",
      "llama_print_timings:        eval time =    1220.84 ms /    31 runs   (   39.38 ms per token,    25.39 tokens per second)\n",
      "llama_print_timings:       total time =    1357.61 ms /   189 tokens\n"
     ]
    },
    {
     "name": "stdout",
     "output_type": "stream",
     "text": [
      "378\n"
     ]
    },
    {
     "name": "stderr",
     "output_type": "stream",
     "text": [
      "\n",
      "llama_print_timings:        load time =     196.58 ms\n",
      "llama_print_timings:      sample time =      57.82 ms /    48 runs   (    1.20 ms per token,   830.12 tokens per second)\n",
      "llama_print_timings: prompt eval time =      76.98 ms /   163 tokens (    0.47 ms per token,  2117.57 tokens per second)\n",
      "llama_print_timings:        eval time =    1851.43 ms /    47 runs   (   39.39 ms per token,    25.39 tokens per second)\n",
      "llama_print_timings:       total time =    2023.76 ms /   210 tokens\n"
     ]
    },
    {
     "name": "stdout",
     "output_type": "stream",
     "text": [
      "379\n"
     ]
    },
    {
     "name": "stderr",
     "output_type": "stream",
     "text": [
      "Compiling FSM index for all state transitions:  41%|████      | 345/849 [00:04<00:06, 78.42it/s]\n",
      "\n",
      "llama_print_timings:        load time =     196.58 ms\n",
      "llama_print_timings:      sample time =      38.31 ms /    32 runs   (    1.20 ms per token,   835.36 tokens per second)\n",
      "llama_print_timings: prompt eval time =      72.30 ms /   138 tokens (    0.52 ms per token,  1908.71 tokens per second)\n",
      "llama_print_timings:        eval time =    1220.17 ms /    31 runs   (   39.36 ms per token,    25.41 tokens per second)\n",
      "llama_print_timings:       total time =    1354.53 ms /   169 tokens\n"
     ]
    },
    {
     "name": "stdout",
     "output_type": "stream",
     "text": [
      "380\n"
     ]
    },
    {
     "name": "stderr",
     "output_type": "stream",
     "text": [
      "Compiling FSM index for all state transitions:  37%|███▋      | 1172/3188 [00:17<00:29, 68.60it/s]\n",
      "\n",
      "llama_print_timings:        load time =     196.58 ms\n",
      "llama_print_timings:      sample time =      83.24 ms /    67 runs   (    1.24 ms per token,   804.88 tokens per second)\n",
      "llama_print_timings: prompt eval time =     135.89 ms /   291 tokens (    0.47 ms per token,  2141.50 tokens per second)\n",
      "llama_print_timings:        eval time =    2624.70 ms /    66 runs   (   39.77 ms per token,    25.15 tokens per second)\n",
      "llama_print_timings:       total time =    2905.91 ms /   357 tokens\n"
     ]
    },
    {
     "name": "stdout",
     "output_type": "stream",
     "text": [
      "381\n"
     ]
    },
    {
     "name": "stderr",
     "output_type": "stream",
     "text": [
      "Compiling FSM index for all state transitions:  42%|████▏     | 496/1172 [00:06<00:08, 79.78it/s] \n",
      "\n",
      "llama_print_timings:        load time =     196.58 ms\n",
      "llama_print_timings:      sample time =      95.24 ms /    78 runs   (    1.22 ms per token,   818.98 tokens per second)\n",
      "llama_print_timings: prompt eval time =     124.52 ms /   271 tokens (    0.46 ms per token,  2176.43 tokens per second)\n",
      "llama_print_timings:        eval time =    3061.04 ms /    77 runs   (   39.75 ms per token,    25.15 tokens per second)\n",
      "llama_print_timings:       total time =    3348.73 ms /   348 tokens\n"
     ]
    },
    {
     "name": "stdout",
     "output_type": "stream",
     "text": [
      "382\n"
     ]
    },
    {
     "name": "stderr",
     "output_type": "stream",
     "text": [
      "\n",
      "llama_print_timings:        load time =     196.58 ms\n",
      "llama_print_timings:      sample time =      83.49 ms /    65 runs   (    1.28 ms per token,   778.54 tokens per second)\n",
      "llama_print_timings: prompt eval time =      96.23 ms /   239 tokens (    0.40 ms per token,  2483.56 tokens per second)\n",
      "llama_print_timings:        eval time =    2539.52 ms /    64 runs   (   39.68 ms per token,    25.20 tokens per second)\n",
      "llama_print_timings:       total time =    2773.00 ms /   303 tokens\n"
     ]
    },
    {
     "name": "stdout",
     "output_type": "stream",
     "text": [
      "383\n"
     ]
    },
    {
     "name": "stderr",
     "output_type": "stream",
     "text": [
      "\n",
      "llama_print_timings:        load time =     196.58 ms\n",
      "llama_print_timings:      sample time =      49.24 ms /    42 runs   (    1.17 ms per token,   852.93 tokens per second)\n",
      "llama_print_timings: prompt eval time =      75.84 ms /   159 tokens (    0.48 ms per token,  2096.55 tokens per second)\n",
      "llama_print_timings:        eval time =    1614.48 ms /    41 runs   (   39.38 ms per token,    25.40 tokens per second)\n",
      "llama_print_timings:       total time =    1763.91 ms /   200 tokens\n"
     ]
    },
    {
     "name": "stdout",
     "output_type": "stream",
     "text": [
      "384\n"
     ]
    },
    {
     "name": "stderr",
     "output_type": "stream",
     "text": [
      "Compiling FSM index for all state transitions:  41%|████▏     | 477/1153 [00:06<00:08, 79.29it/s] \n",
      "\n",
      "llama_print_timings:        load time =     196.58 ms\n",
      "llama_print_timings:      sample time =      89.83 ms /    73 runs   (    1.23 ms per token,   812.66 tokens per second)\n",
      "llama_print_timings: prompt eval time =     131.66 ms /   305 tokens (    0.43 ms per token,  2316.61 tokens per second)\n",
      "llama_print_timings:        eval time =    2864.01 ms /    72 runs   (   39.78 ms per token,    25.14 tokens per second)\n",
      "llama_print_timings:       total time =    3159.50 ms /   377 tokens\n"
     ]
    },
    {
     "name": "stdout",
     "output_type": "stream",
     "text": [
      "385\n"
     ]
    },
    {
     "name": "stderr",
     "output_type": "stream",
     "text": [
      "Compiling FSM index for all state transitions:  22%|██▏       | 199/909 [00:02<00:11, 63.84it/s]IOPub message rate exceeded.\n",
      "The Jupyter server will temporarily stop sending output\n",
      "to the client in order to avoid crashing it.\n",
      "To change this limit, set the config variable\n",
      "`--ServerApp.iopub_msg_rate_limit`.\n",
      "\n",
      "Current values:\n",
      "ServerApp.iopub_msg_rate_limit=1000.0 (msgs/sec)\n",
      "ServerApp.rate_limit_window=3.0 (secs)\n",
      "\n"
     ]
    }
   ],
   "source": [
    "answers = []\n",
    "for pos in range(len(df)):\n",
    "    try:\n",
    "        print(pos)\n",
    "        question = df.iloc[pos][\"question\"]\n",
    "        function = df.iloc[pos]['function']\n",
    "        final_prompt = (\n",
    "            \"<s>[AVAILABLE_TOOLS] [\"\n",
    "            + json.dumps(function)\n",
    "            + \"] [/AVAILABLE_TOOLS][INST] \"\n",
    "            + question\n",
    "            + \" [/INST]\"\n",
    "            + \"[TOOL_CALLS] \"\n",
    "        )\n",
    "        regex = build_fc_regex(function)\n",
    "        generator = generate.regex(model, regex)\n",
    "        answer = generator(final_prompt, max_tokens=1024)\n",
    "        answers.append(answer[1:-1])\n",
    "    except:\n",
    "        answers.append(\"Error\")"
   ]
  },
  {
   "cell_type": "code",
   "execution_count": 31,
   "id": "b0c8af4f-1dca-4ff8-86fb-729558f32cb7",
   "metadata": {
    "execution": {
     "iopub.execute_input": "2024-07-08T17:11:37.627701Z",
     "iopub.status.busy": "2024-07-08T17:11:37.627125Z",
     "iopub.status.idle": "2024-07-08T17:11:37.664039Z",
     "shell.execute_reply": "2024-07-08T17:11:37.663056Z",
     "shell.execute_reply.started": "2024-07-08T17:11:37.627645Z"
    }
   },
   "outputs": [
    {
     "data": {
      "text/plain": [
       "['{\"name\": \"parking_lot.find_nearest\", \"arguments\": {\"location\": \"Central Park, NY\", \"radius\": 2}}',\n",
       " '{\"name\": \"hospital.locate\", \"arguments\": {\"location\": \"Denver, CO\", \"radius\": 5, \"department\": \"Pediatrics\"}}',\n",
       " '{\"name\": \"distance_calculator.calculate\", \"arguments\": {\"origin\": \"New York\", \"destination\": \"Boston\", \"consider_terrain\": true}}',\n",
       " '{\"name\": \"get_museum_hours\", \"arguments\": {\"museum_name\": \"Metropolitan Museum of Art\", \"day\": \"Saturday\"}}',\n",
       " '{\"name\": \"restaurant_search\", \"arguments\": {\"location\": \"New York City, NY\", \"cuisine\": \"Italian\", \"rating\": 4, \"accepts_credit_cards\": true}}']"
      ]
     },
     "execution_count": 31,
     "metadata": {},
     "output_type": "execute_result"
    }
   ],
   "source": [
    "answers[-5:]"
   ]
  },
  {
   "cell_type": "code",
   "execution_count": 32,
   "id": "8f4158f8-0372-459c-ba1e-9d9937327e7a",
   "metadata": {
    "execution": {
     "iopub.execute_input": "2024-07-08T17:11:46.870485Z",
     "iopub.status.busy": "2024-07-08T17:11:46.869953Z",
     "iopub.status.idle": "2024-07-08T17:11:46.906422Z",
     "shell.execute_reply": "2024-07-08T17:11:46.905630Z",
     "shell.execute_reply.started": "2024-07-08T17:11:46.870433Z"
    }
   },
   "outputs": [
    {
     "data": {
      "text/plain": [
       "400"
      ]
     },
     "execution_count": 32,
     "metadata": {},
     "output_type": "execute_result"
    }
   ],
   "source": [
    "len(answers)"
   ]
  },
  {
   "cell_type": "code",
   "execution_count": 33,
   "id": "73a6ccc5-20b0-4bd1-a513-5a83a55bf1de",
   "metadata": {
    "execution": {
     "iopub.execute_input": "2024-07-08T17:11:49.228779Z",
     "iopub.status.busy": "2024-07-08T17:11:49.228224Z",
     "iopub.status.idle": "2024-07-08T17:11:49.264284Z",
     "shell.execute_reply": "2024-07-08T17:11:49.263107Z",
     "shell.execute_reply.started": "2024-07-08T17:11:49.228726Z"
    }
   },
   "outputs": [],
   "source": [
    "# RUN IT ONCE TO DOWNLOAD THE TEST DATASET\n",
    "# !wget https://raw.githubusercontent.com/ShishirPatil/gorilla/main/berkeley-function-call-leaderboard/data/possible_answer/gorilla_openfunctions_v1_test_simple.json"
   ]
  },
  {
   "cell_type": "code",
   "execution_count": 34,
   "id": "fe8cdbca-3fdc-474a-8608-be4427a2b3b1",
   "metadata": {
    "execution": {
     "iopub.execute_input": "2024-07-08T17:11:51.645839Z",
     "iopub.status.busy": "2024-07-08T17:11:51.645150Z",
     "iopub.status.idle": "2024-07-08T17:11:51.679941Z",
     "shell.execute_reply": "2024-07-08T17:11:51.679009Z",
     "shell.execute_reply.started": "2024-07-08T17:11:51.645785Z"
    }
   },
   "outputs": [],
   "source": [
    "file_path = \"gorilla_openfunctions_v1_test_simple.json\""
   ]
  },
  {
   "cell_type": "code",
   "execution_count": 35,
   "id": "4050add1-9a58-47f9-9eab-0f0db047f772",
   "metadata": {
    "execution": {
     "iopub.execute_input": "2024-07-08T17:11:52.168678Z",
     "iopub.status.busy": "2024-07-08T17:11:52.168146Z",
     "iopub.status.idle": "2024-07-08T17:11:52.207161Z",
     "shell.execute_reply": "2024-07-08T17:11:52.205778Z",
     "shell.execute_reply.started": "2024-07-08T17:11:52.168629Z"
    }
   },
   "outputs": [],
   "source": [
    "# standardize possible_answers from gorilla simple test set\n",
    "import json\n",
    "\n",
    "possible_answers = []\n",
    "# Open the file and read line by line\n",
    "with open(file_path, 'r') as file:\n",
    "    for line in file:\n",
    "        # Parse the JSON line into a Python dictionary\n",
    "        json_data = json.loads(line)\n",
    "        \n",
    "        # Process the JSON object\n",
    "        for function_name, params in json_data.items():\n",
    "            final_string = function_name + ',{'\n",
    "            for param_name, param_value in params.items():\n",
    "                final_string += '\"' + param_name + '\":' + str(param_value) +','\n",
    "            final_string = final_string[:-1] +\"}\"\n",
    "            final_string = final_string.replace(\"'\", '\"')\n",
    "            final_string = final_string.replace(\" \", \"\")\n",
    "            possible_answers.append(final_string)"
   ]
  },
  {
   "cell_type": "code",
   "execution_count": 36,
   "id": "47b36354-331e-4c30-88fa-9019e0d8e384",
   "metadata": {
    "execution": {
     "iopub.execute_input": "2024-07-08T17:11:53.196440Z",
     "iopub.status.busy": "2024-07-08T17:11:53.195686Z",
     "iopub.status.idle": "2024-07-08T17:11:53.230909Z",
     "shell.execute_reply": "2024-07-08T17:11:53.229803Z",
     "shell.execute_reply.started": "2024-07-08T17:11:53.196383Z"
    }
   },
   "outputs": [
    {
     "data": {
      "text/plain": [
       "'{\"name\": \"calculate_triangle_area\", \"arguments\": {\"base\": 10, \"height\": 5}}'"
      ]
     },
     "execution_count": 36,
     "metadata": {},
     "output_type": "execute_result"
    }
   ],
   "source": [
    "answers[0]"
   ]
  },
  {
   "cell_type": "code",
   "execution_count": 37,
   "id": "9f457e93-9aab-4338-a9f6-ea289ba4b72c",
   "metadata": {
    "execution": {
     "iopub.execute_input": "2024-07-08T17:11:56.654223Z",
     "iopub.status.busy": "2024-07-08T17:11:56.653702Z",
     "iopub.status.idle": "2024-07-08T17:11:56.691050Z",
     "shell.execute_reply": "2024-07-08T17:11:56.689672Z",
     "shell.execute_reply.started": "2024-07-08T17:11:56.654173Z"
    }
   },
   "outputs": [],
   "source": [
    "# standardize model_output\n",
    "def standardize(result):\n",
    "    final_result = str(json_repair.loads(result)[\"name\"]) + \",\" + str(json_repair.loads(result)[\"arguments\"])\n",
    "    final_result = final_result.replace(\"'\",'\"')\n",
    "    final_result = final_result.replace(\" \", \"\")\n",
    "    return final_result"
   ]
  },
  {
   "cell_type": "code",
   "execution_count": 38,
   "id": "20f1b716-693d-4a73-aa96-338302db4195",
   "metadata": {
    "execution": {
     "iopub.execute_input": "2024-07-08T17:11:57.537077Z",
     "iopub.status.busy": "2024-07-08T17:11:57.536025Z",
     "iopub.status.idle": "2024-07-08T17:11:57.574472Z",
     "shell.execute_reply": "2024-07-08T17:11:57.573536Z",
     "shell.execute_reply.started": "2024-07-08T17:11:57.537024Z"
    }
   },
   "outputs": [],
   "source": [
    "model_output = []\n",
    "for i, result in enumerate(answers):\n",
    "    try:\n",
    "        model_output.append(standardize(result))\n",
    "    except:\n",
    "        model_output.append(\"Error\")"
   ]
  },
  {
   "cell_type": "code",
   "execution_count": 39,
   "id": "8112ffa0-7e62-4abe-b059-368b3b861473",
   "metadata": {
    "execution": {
     "iopub.execute_input": "2024-07-08T17:11:59.844966Z",
     "iopub.status.busy": "2024-07-08T17:11:59.844446Z",
     "iopub.status.idle": "2024-07-08T17:11:59.881623Z",
     "shell.execute_reply": "2024-07-08T17:11:59.880695Z",
     "shell.execute_reply.started": "2024-07-08T17:11:59.844916Z"
    }
   },
   "outputs": [
    {
     "data": {
      "text/plain": [
       "['calculate_triangle_area,{\"base\":10,\"height\":5}',\n",
       " 'math.factorial,{\"number\":5}',\n",
       " 'math.hypot,{\"x\":4,\"y\":5}',\n",
       " 'algebra.quadratic_roots,{\"a\":1,\"b\":-3,\"c\":2}',\n",
       " 'solve_quadratic_equation,{\"a\":2,\"b\":6,\"c\":5}']"
      ]
     },
     "execution_count": 39,
     "metadata": {},
     "output_type": "execute_result"
    }
   ],
   "source": [
    "model_output[:5]"
   ]
  },
  {
   "cell_type": "code",
   "execution_count": 40,
   "id": "68f85a13-956d-46e3-81e0-1f6f6fa238e5",
   "metadata": {
    "execution": {
     "iopub.execute_input": "2024-07-08T17:12:04.530309Z",
     "iopub.status.busy": "2024-07-08T17:12:04.529785Z",
     "iopub.status.idle": "2024-07-08T17:12:04.574875Z",
     "shell.execute_reply": "2024-07-08T17:12:04.573974Z",
     "shell.execute_reply.started": "2024-07-08T17:12:04.530258Z"
    }
   },
   "outputs": [
    {
     "data": {
      "text/html": [
       "<div>\n",
       "<style scoped>\n",
       "    .dataframe tbody tr th:only-of-type {\n",
       "        vertical-align: middle;\n",
       "    }\n",
       "\n",
       "    .dataframe tbody tr th {\n",
       "        vertical-align: top;\n",
       "    }\n",
       "\n",
       "    .dataframe thead th {\n",
       "        text-align: right;\n",
       "    }\n",
       "</style>\n",
       "<table border=\"1\" class=\"dataframe\">\n",
       "  <thead>\n",
       "    <tr style=\"text-align: right;\">\n",
       "      <th></th>\n",
       "      <th>possible_answer</th>\n",
       "      <th>model_output</th>\n",
       "    </tr>\n",
       "  </thead>\n",
       "  <tbody>\n",
       "    <tr>\n",
       "      <th>0</th>\n",
       "      <td>calculate_triangle_area,{\"base\":[10],\"height\":...</td>\n",
       "      <td>calculate_triangle_area,{\"base\":10,\"height\":5}</td>\n",
       "    </tr>\n",
       "    <tr>\n",
       "      <th>1</th>\n",
       "      <td>math.factorial,{\"number\":[5]}</td>\n",
       "      <td>math.factorial,{\"number\":5}</td>\n",
       "    </tr>\n",
       "    <tr>\n",
       "      <th>2</th>\n",
       "      <td>math.hypot,{\"x\":[4],\"y\":[5],\"z\":[\"\",0]}</td>\n",
       "      <td>math.hypot,{\"x\":4,\"y\":5}</td>\n",
       "    </tr>\n",
       "    <tr>\n",
       "      <th>3</th>\n",
       "      <td>algebra.quadratic_roots,{\"a\":[1],\"b\":[-3],\"c\":...</td>\n",
       "      <td>algebra.quadratic_roots,{\"a\":1,\"b\":-3,\"c\":2}</td>\n",
       "    </tr>\n",
       "    <tr>\n",
       "      <th>4</th>\n",
       "      <td>solve_quadratic_equation,{\"a\":[2],\"b\":[6],\"c\":...</td>\n",
       "      <td>solve_quadratic_equation,{\"a\":2,\"b\":6,\"c\":5}</td>\n",
       "    </tr>\n",
       "  </tbody>\n",
       "</table>\n",
       "</div>"
      ],
      "text/plain": [
       "                                     possible_answer  \\\n",
       "0  calculate_triangle_area,{\"base\":[10],\"height\":...   \n",
       "1                      math.factorial,{\"number\":[5]}   \n",
       "2            math.hypot,{\"x\":[4],\"y\":[5],\"z\":[\"\",0]}   \n",
       "3  algebra.quadratic_roots,{\"a\":[1],\"b\":[-3],\"c\":...   \n",
       "4  solve_quadratic_equation,{\"a\":[2],\"b\":[6],\"c\":...   \n",
       "\n",
       "                                     model_output  \n",
       "0  calculate_triangle_area,{\"base\":10,\"height\":5}  \n",
       "1                     math.factorial,{\"number\":5}  \n",
       "2                        math.hypot,{\"x\":4,\"y\":5}  \n",
       "3    algebra.quadratic_roots,{\"a\":1,\"b\":-3,\"c\":2}  \n",
       "4    solve_quadratic_equation,{\"a\":2,\"b\":6,\"c\":5}  "
      ]
     },
     "execution_count": 40,
     "metadata": {},
     "output_type": "execute_result"
    }
   ],
   "source": [
    "df = pd.DataFrame()\n",
    "df[\"possible_answer\"] = possible_answers\n",
    "df[\"model_output\"] = model_output\n",
    "df.head()"
   ]
  },
  {
   "cell_type": "code",
   "execution_count": 41,
   "id": "3ffb0417-ec79-481d-9dce-0c90af7f2abb",
   "metadata": {
    "execution": {
     "iopub.execute_input": "2024-07-08T17:12:09.214659Z",
     "iopub.status.busy": "2024-07-08T17:12:09.214115Z",
     "iopub.status.idle": "2024-07-08T17:12:09.252479Z",
     "shell.execute_reply": "2024-07-08T17:12:09.251675Z",
     "shell.execute_reply.started": "2024-07-08T17:12:09.214608Z"
    }
   },
   "outputs": [],
   "source": [
    "df.to_csv(\"results_Outlines_Mistral_v0_3.csv\", index=False)"
   ]
  }
 ],
 "metadata": {
  "kernelspec": {
   "display_name": "Python 3 (ipykernel)",
   "language": "python",
   "name": "python3"
  },
  "language_info": {
   "codemirror_mode": {
    "name": "ipython",
    "version": 3
   },
   "file_extension": ".py",
   "mimetype": "text/x-python",
   "name": "python",
   "nbconvert_exporter": "python",
   "pygments_lexer": "ipython3",
   "version": "3.10.12"
  }
 },
 "nbformat": 4,
 "nbformat_minor": 5
}
