{
 "cells": [
  {
   "cell_type": "code",
   "execution_count": 1,
   "id": "5db0704d-5d44-4330-a4ac-dbe3c89aaa3e",
   "metadata": {
    "execution": {
     "iopub.execute_input": "2024-07-19T20:50:11.913337Z",
     "iopub.status.busy": "2024-07-19T20:50:11.911418Z",
     "iopub.status.idle": "2024-07-19T20:50:11.954957Z",
     "shell.execute_reply": "2024-07-19T20:50:11.953650Z",
     "shell.execute_reply.started": "2024-07-19T20:50:11.913263Z"
    }
   },
   "outputs": [],
   "source": [
    "%load_ext autoreload\n",
    "%autoreload 2"
   ]
  },
  {
   "cell_type": "code",
   "execution_count": 2,
   "id": "d6525fce-9008-4448-b95b-2f178ee875b0",
   "metadata": {
    "execution": {
     "iopub.execute_input": "2024-07-19T20:50:12.475318Z",
     "iopub.status.busy": "2024-07-19T20:50:12.474791Z",
     "iopub.status.idle": "2024-07-19T20:50:12.493343Z",
     "shell.execute_reply": "2024-07-19T20:50:12.491993Z",
     "shell.execute_reply.started": "2024-07-19T20:50:12.475268Z"
    }
   },
   "outputs": [],
   "source": [
    "import warnings\n",
    "warnings.filterwarnings(\"ignore\", category=RuntimeWarning)"
   ]
  },
  {
   "cell_type": "code",
   "execution_count": 3,
   "id": "92cf36e7-6d15-4f8b-9917-ff57075cbe5e",
   "metadata": {
    "execution": {
     "iopub.execute_input": "2024-07-19T20:50:13.231263Z",
     "iopub.status.busy": "2024-07-19T20:50:13.230239Z",
     "iopub.status.idle": "2024-07-19T20:50:19.207887Z",
     "shell.execute_reply": "2024-07-19T20:50:19.206813Z",
     "shell.execute_reply.started": "2024-07-19T20:50:13.231213Z"
    }
   },
   "outputs": [
    {
     "data": {
      "text/html": [
       "<div>\n",
       "<style scoped>\n",
       "    .dataframe tbody tr th:only-of-type {\n",
       "        vertical-align: middle;\n",
       "    }\n",
       "\n",
       "    .dataframe tbody tr th {\n",
       "        vertical-align: top;\n",
       "    }\n",
       "\n",
       "    .dataframe thead th {\n",
       "        text-align: right;\n",
       "    }\n",
       "</style>\n",
       "<table border=\"1\" class=\"dataframe\">\n",
       "  <thead>\n",
       "    <tr style=\"text-align: right;\">\n",
       "      <th></th>\n",
       "      <th>question</th>\n",
       "      <th>function</th>\n",
       "    </tr>\n",
       "  </thead>\n",
       "  <tbody>\n",
       "    <tr>\n",
       "      <th>0</th>\n",
       "      <td>Find the area of a triangle with a base of 10 ...</td>\n",
       "      <td>{'name': 'calculate_triangle_area', 'descripti...</td>\n",
       "    </tr>\n",
       "    <tr>\n",
       "      <th>1</th>\n",
       "      <td>Calculate the factorial of 5 using math functi...</td>\n",
       "      <td>{'name': 'math.factorial', 'description': 'Cal...</td>\n",
       "    </tr>\n",
       "    <tr>\n",
       "      <th>2</th>\n",
       "      <td>Calculate the hypotenuse of a right triangle g...</td>\n",
       "      <td>{'name': 'math.hypot', 'description': 'Calcula...</td>\n",
       "    </tr>\n",
       "    <tr>\n",
       "      <th>3</th>\n",
       "      <td>Find the roots of a quadratic equation with co...</td>\n",
       "      <td>{'name': 'algebra.quadratic_roots', 'descripti...</td>\n",
       "    </tr>\n",
       "    <tr>\n",
       "      <th>4</th>\n",
       "      <td>Solve a quadratic equation where a=2, b=6, and...</td>\n",
       "      <td>{'name': 'solve_quadratic_equation', 'descript...</td>\n",
       "    </tr>\n",
       "  </tbody>\n",
       "</table>\n",
       "</div>"
      ],
      "text/plain": [
       "                                            question  \\\n",
       "0  Find the area of a triangle with a base of 10 ...   \n",
       "1  Calculate the factorial of 5 using math functi...   \n",
       "2  Calculate the hypotenuse of a right triangle g...   \n",
       "3  Find the roots of a quadratic equation with co...   \n",
       "4  Solve a quadratic equation where a=2, b=6, and...   \n",
       "\n",
       "                                            function  \n",
       "0  {'name': 'calculate_triangle_area', 'descripti...  \n",
       "1  {'name': 'math.factorial', 'description': 'Cal...  \n",
       "2  {'name': 'math.hypot', 'description': 'Calcula...  \n",
       "3  {'name': 'algebra.quadratic_roots', 'descripti...  \n",
       "4  {'name': 'solve_quadratic_equation', 'descript...  "
      ]
     },
     "execution_count": 3,
     "metadata": {},
     "output_type": "execute_result"
    }
   ],
   "source": [
    "import pandas as pd\n",
    "\n",
    "df = pd.read_json(\n",
    "    \"https://huggingface.co/datasets/gorilla-llm/Berkeley-Function-Calling-Leaderboard/raw/main/gorilla_openfunctions_v1_test_simple.json\",\n",
    "    lines=True,\n",
    ")\n",
    "df.head()"
   ]
  },
  {
   "cell_type": "code",
   "execution_count": 4,
   "id": "aa234ddd-06e8-4902-a924-232623e5d23d",
   "metadata": {
    "execution": {
     "iopub.execute_input": "2024-07-19T20:50:20.191250Z",
     "iopub.status.busy": "2024-07-19T20:50:20.190695Z",
     "iopub.status.idle": "2024-07-19T20:50:25.035987Z",
     "shell.execute_reply": "2024-07-19T20:50:25.034691Z",
     "shell.execute_reply.started": "2024-07-19T20:50:20.191201Z"
    }
   },
   "outputs": [
    {
     "name": "stderr",
     "output_type": "stream",
     "text": [
      "Special tokens have been added in the vocabulary, make sure the associated word embeddings are fine-tuned or trained.\n"
     ]
    }
   ],
   "source": [
    "import llama_cpp\n",
    "from llama_cpp import Llama\n",
    "\n",
    "llm = Llama(\n",
    "    \"/home/asilva/models/Hermes-2-Pro-Llama-3-8B-F16.gguf\",\n",
    "    tokenizer=llama_cpp.llama_tokenizer.LlamaHFTokenizer.from_pretrained(\n",
    "        \"NousResearch/Hermes-2-Pro-Llama-3-8B\"\n",
    "    ),\n",
    "    n_gpu_layers=-1,\n",
    "    flash_attn=True,\n",
    "    n_ctx=8192,\n",
    "    verbose=False,\n",
    ")"
   ]
  },
  {
   "cell_type": "code",
   "execution_count": 5,
   "id": "20b35c39-6118-4690-9fe5-05dc6e6c028d",
   "metadata": {
    "execution": {
     "iopub.execute_input": "2024-07-19T20:50:25.038921Z",
     "iopub.status.busy": "2024-07-19T20:50:25.038161Z",
     "iopub.status.idle": "2024-07-19T20:50:25.065556Z",
     "shell.execute_reply": "2024-07-19T20:50:25.064933Z",
     "shell.execute_reply.started": "2024-07-19T20:50:25.038870Z"
    }
   },
   "outputs": [
    {
     "data": {
      "text/plain": [
       "'Find the area of a triangle with a base of 10 units and height of 5 units.'"
      ]
     },
     "execution_count": 5,
     "metadata": {},
     "output_type": "execute_result"
    }
   ],
   "source": [
    "pos = 0\n",
    "question = df.iloc[pos][\"question\"]\n",
    "question"
   ]
  },
  {
   "cell_type": "code",
   "execution_count": 6,
   "id": "3bd60448-35c8-48c7-98c9-45a0cd678ef5",
   "metadata": {
    "execution": {
     "iopub.execute_input": "2024-07-19T20:50:25.066566Z",
     "iopub.status.busy": "2024-07-19T20:50:25.066339Z",
     "iopub.status.idle": "2024-07-19T20:50:25.091806Z",
     "shell.execute_reply": "2024-07-19T20:50:25.090812Z",
     "shell.execute_reply.started": "2024-07-19T20:50:25.066545Z"
    }
   },
   "outputs": [
    {
     "data": {
      "text/plain": [
       "'{\"name\": \"calculate_triangle_area\", \"description\": \"Calculate the area of a triangle given its base and height.\", \"parameters\": {\"type\": \"dict\", \"properties\": {\"base\": {\"type\": \"integer\", \"description\": \"The base of the triangle.\"}, \"height\": {\"type\": \"integer\", \"description\": \"The height of the triangle.\"}, \"unit\": {\"type\": \"string\", \"description\": \"The unit of measure (defaults to \\'units\\' if not specified)\"}}, \"required\": [\"base\", \"height\"]}}'"
      ]
     },
     "execution_count": 6,
     "metadata": {},
     "output_type": "execute_result"
    }
   ],
   "source": [
    "import json\n",
    "\n",
    "function = df.iloc[pos][\"function\"]\n",
    "json.dumps(function)"
   ]
  },
  {
   "cell_type": "code",
   "execution_count": 7,
   "id": "1765c588-3884-4e33-b4dc-af000a72cf5b",
   "metadata": {
    "execution": {
     "iopub.execute_input": "2024-07-19T20:50:25.716370Z",
     "iopub.status.busy": "2024-07-19T20:50:25.715838Z",
     "iopub.status.idle": "2024-07-19T20:50:25.750686Z",
     "shell.execute_reply": "2024-07-19T20:50:25.749512Z",
     "shell.execute_reply.started": "2024-07-19T20:50:25.716320Z"
    }
   },
   "outputs": [
    {
     "data": {
      "text/plain": [
       "'<|im_start|>system\\nYou are a function calling AI model. You are provided with function signatures within <tools></tools> XML tags. You may call one or more functions to assist with the user query. Don\\'t make assumptions about what values to plug into functions. Here are the available tools: <tools> [{\"name\": \"calculate_triangle_area\", \"description\": \"Calculate the area of a triangle given its base and height.\", \"parameters\": {\"type\": \"dict\", \"properties\": {\"base\": {\"type\": \"integer\", \"description\": \"The base of the triangle.\"}, \"height\": {\"type\": \"integer\", \"description\": \"The height of the triangle.\"}, \"unit\": {\"type\": \"string\", \"description\": \"The unit of measure (defaults to \\'units\\' if not specified)\"}}, \"required\": [\"base\", \"height\"]}}] </tools> Use the following pydantic model json schema for each tool call you will make: {\\'title\\': \\'FunctionCall\\', \\'type\\': \\'object\\', \\'properties\\': {\\'arguments\\': {\\'title\\': \\'Arguments\\', \\'type\\': \\'object\\'}, \\'name\\': {\\'title\\': \\'Name\\', \\'type\\': \\'string\\'}}, \\'required\\': [\\'arguments\\', \\'name\\']} For each function call return a json object with function name and arguments within <tool_call></tool_call> XML tags as follows: <tool_call>\\n{\\'arguments\\': <args-dict>, \\'name\\': <function-name>}</tool_call><|im_end|>\\n<|im_start|>user\\nFind the area of a triangle with a base of 10 units and height of 5 units.<|im_start|>assistant\\n<tool_call>'"
      ]
     },
     "execution_count": 7,
     "metadata": {},
     "output_type": "execute_result"
    }
   ],
   "source": [
    "final_prompt = (\n",
    "    \"<|im_start|>system\\n\"\n",
    "    \"You are a function calling AI model. You are provided with function signatures within <tools></tools> XML tags. \"\n",
    "    \"You may call one or more functions to assist with the user query. \"\n",
    "    \"Don't make assumptions about what values to plug into functions. \"\n",
    "    \"Here are the available tools: <tools> [\"\n",
    "    + json.dumps(function)\n",
    "    + \"] </tools> Use the following pydantic model json schema for each tool call you will make: \"\n",
    "    \"{'title': 'FunctionCall', 'type': 'object', 'properties': {'arguments': {'title': 'Arguments', 'type': 'object'}, 'name': {'title': 'Name', 'type': 'string'}}, 'required': ['arguments', 'name']} \"\n",
    "    \"For each function call return a json object with function name and arguments within <tool_call></tool_call> XML tags as follows: \"\n",
    "    \"<tool_call>\\n\"\n",
    "    \"{'arguments': <args-dict>, 'name': <function-name>}\"\n",
    "    \"</tool_call><|im_end|>\\n\"\n",
    "    \"<|im_start|>user\\n\" + question + \"<|im_start|>assistant\\n\"\n",
    "    \"<tool_call>\"\n",
    ")\n",
    "final_prompt"
   ]
  },
  {
   "cell_type": "code",
   "execution_count": 8,
   "id": "7cf521be-96f6-402f-9e19-a7780dfa014b",
   "metadata": {
    "execution": {
     "iopub.execute_input": "2024-07-19T20:50:30.814357Z",
     "iopub.status.busy": "2024-07-19T20:50:30.813817Z",
     "iopub.status.idle": "2024-07-19T20:50:32.192482Z",
     "shell.execute_reply": "2024-07-19T20:50:32.191317Z",
     "shell.execute_reply.started": "2024-07-19T20:50:30.814308Z"
    }
   },
   "outputs": [],
   "source": [
    "response = llm(final_prompt, temperature=0, seed=0, max_tokens=None)"
   ]
  },
  {
   "cell_type": "code",
   "execution_count": 9,
   "id": "8079d041-73d7-4078-86f7-3572678be952",
   "metadata": {
    "execution": {
     "iopub.execute_input": "2024-07-19T20:50:33.178978Z",
     "iopub.status.busy": "2024-07-19T20:50:33.178367Z",
     "iopub.status.idle": "2024-07-19T20:50:33.215158Z",
     "shell.execute_reply": "2024-07-19T20:50:33.213934Z",
     "shell.execute_reply.started": "2024-07-19T20:50:33.178926Z"
    }
   },
   "outputs": [
    {
     "data": {
      "text/plain": [
       "\" {'arguments': {'base': 10, 'height': 5}, 'name': 'calculate_triangle_area'}</tool_call>\""
      ]
     },
     "execution_count": 9,
     "metadata": {},
     "output_type": "execute_result"
    }
   ],
   "source": [
    "response[\"choices\"][0][\"text\"]"
   ]
  },
  {
   "cell_type": "code",
   "execution_count": 10,
   "id": "77b7d4c2-e63a-4100-843d-93c50701fcbf",
   "metadata": {
    "execution": {
     "iopub.execute_input": "2024-07-19T20:50:34.435229Z",
     "iopub.status.busy": "2024-07-19T20:50:34.434691Z",
     "iopub.status.idle": "2024-07-19T20:50:34.477701Z",
     "shell.execute_reply": "2024-07-19T20:50:34.476301Z",
     "shell.execute_reply.started": "2024-07-19T20:50:34.435179Z"
    }
   },
   "outputs": [],
   "source": [
    "import regex\n",
    "\n",
    "def extract_first_of_nested_brackets(input_string):\n",
    "    pattern = r\"\\{(?>[^{}]+|(?R))*\\}\"\n",
    "    # pattern = r'\\[(.*?)\\]'\n",
    "    match = regex.search(pattern, input_string)\n",
    "    if match:\n",
    "        return match.group(0)\n",
    "    return None"
   ]
  },
  {
   "cell_type": "code",
   "execution_count": 11,
   "id": "fb4e6ac1-7e44-4695-bee1-b2844f46a7db",
   "metadata": {
    "execution": {
     "iopub.execute_input": "2024-07-19T20:50:36.920457Z",
     "iopub.status.busy": "2024-07-19T20:50:36.919904Z",
     "iopub.status.idle": "2024-07-19T20:50:36.953635Z",
     "shell.execute_reply": "2024-07-19T20:50:36.952789Z",
     "shell.execute_reply.started": "2024-07-19T20:50:36.920406Z"
    }
   },
   "outputs": [
    {
     "data": {
      "text/plain": [
       "\"{'arguments': {'base': 10, 'height': 5}, 'name': 'calculate_triangle_area'}\""
      ]
     },
     "execution_count": 11,
     "metadata": {},
     "output_type": "execute_result"
    }
   ],
   "source": [
    "final_result = extract_first_of_nested_brackets(response[\"choices\"][0][\"text\"])\n",
    "final_result"
   ]
  },
  {
   "cell_type": "code",
   "execution_count": 12,
   "id": "68b2e124-5a50-4440-aa2e-4e0456f1793d",
   "metadata": {
    "execution": {
     "iopub.execute_input": "2024-07-19T20:50:42.433941Z",
     "iopub.status.busy": "2024-07-19T20:50:42.433390Z",
     "iopub.status.idle": "2024-07-19T20:50:42.468552Z",
     "shell.execute_reply": "2024-07-19T20:50:42.467733Z",
     "shell.execute_reply.started": "2024-07-19T20:50:42.433890Z"
    }
   },
   "outputs": [
    {
     "data": {
      "text/plain": [
       "{'arguments': {'base': 10, 'height': 5}, 'name': 'calculate_triangle_area'}"
      ]
     },
     "execution_count": 12,
     "metadata": {},
     "output_type": "execute_result"
    }
   ],
   "source": [
    "import json_repair\n",
    "\n",
    "json_repair.loads(final_result)"
   ]
  },
  {
   "cell_type": "code",
   "execution_count": 13,
   "id": "adffa7f3-766a-4a05-8109-c37ba93c55f0",
   "metadata": {
    "execution": {
     "iopub.execute_input": "2024-07-19T20:50:43.314580Z",
     "iopub.status.busy": "2024-07-19T20:50:43.314056Z",
     "iopub.status.idle": "2024-07-19T20:50:43.347648Z",
     "shell.execute_reply": "2024-07-19T20:50:43.346265Z",
     "shell.execute_reply.started": "2024-07-19T20:50:43.314530Z"
    }
   },
   "outputs": [],
   "source": [
    "GORILLA_TO_OPENAPI = {\n",
    "    \"integer\": \"integer\",\n",
    "    \"number\": \"number\",\n",
    "    \"float\": \"number\",\n",
    "    \"string\": \"string\",\n",
    "    \"boolean\": \"boolean\",\n",
    "    \"bool\": \"boolean\",\n",
    "    \"array\": \"array\",\n",
    "    \"list\": \"array\",\n",
    "    \"dict\": \"object\",\n",
    "    \"object\": \"object\",\n",
    "    \"tuple\": \"array\",\n",
    "    \"any\": \"string\",\n",
    "    \"byte\": \"integer\",\n",
    "    \"short\": \"integer\",\n",
    "    \"long\": \"integer\",\n",
    "    \"double\": \"number\",\n",
    "    \"char\": \"string\",\n",
    "    \"ArrayList\": \"array\",\n",
    "    \"Array\": \"array\",\n",
    "    \"HashMap\": \"object\",\n",
    "    \"Hashtable\": \"object\",\n",
    "    \"Queue\": \"array\",\n",
    "    \"Stack\": \"array\",\n",
    "    \"Any\": \"string\",\n",
    "    \"String\": \"string\",\n",
    "    \"Bigint\": \"integer\",\n",
    "}"
   ]
  },
  {
   "cell_type": "code",
   "execution_count": 14,
   "id": "3e310fd3-4f86-4262-873c-e1bacb1961f1",
   "metadata": {
    "execution": {
     "iopub.execute_input": "2024-07-19T20:50:44.043885Z",
     "iopub.status.busy": "2024-07-19T20:50:44.043330Z",
     "iopub.status.idle": "2024-07-19T20:50:44.081018Z",
     "shell.execute_reply": "2024-07-19T20:50:44.079791Z",
     "shell.execute_reply.started": "2024-07-19T20:50:44.043835Z"
    }
   },
   "outputs": [],
   "source": [
    "def _cast_to_openai_type(properties, mapping, test_category):\n",
    "    for key, value in properties.items():\n",
    "        if \"type\" not in value:\n",
    "            properties[key][\"type\"] = \"string\"\n",
    "        else:\n",
    "            var_type = value[\"type\"]\n",
    "            if mapping == GORILLA_TO_OPENAPI and var_type == \"float\":\n",
    "                properties[key][\"format\"] = \"float\"\n",
    "                properties[key][\"description\"] += \" This is a float type value.\"\n",
    "            if var_type in mapping:\n",
    "                properties[key][\"type\"] = mapping[var_type]\n",
    "            else:\n",
    "                properties[key][\"type\"] = \"string\"\n",
    "\n",
    "        # Currently support:\n",
    "        # - list of any\n",
    "        # - list of list of any\n",
    "        # - list of dict\n",
    "        # - list of list of dict\n",
    "        # - dict of any\n",
    "\n",
    "        if properties[key][\"type\"] == \"array\" or properties[key][\"type\"] == \"object\":\n",
    "            if \"properties\" in properties[key]:\n",
    "                properties[key][\"properties\"] = _cast_to_openai_type(\n",
    "                    properties[key][\"properties\"], mapping, test_category\n",
    "                )\n",
    "            elif \"items\" in properties[key]:\n",
    "                properties[key][\"items\"][\"type\"] = mapping[\n",
    "                    properties[key][\"items\"][\"type\"]\n",
    "                ]\n",
    "                if (\n",
    "                    properties[key][\"items\"][\"type\"] == \"array\"\n",
    "                    and \"items\" in properties[key][\"items\"]\n",
    "                ):\n",
    "                    properties[key][\"items\"][\"items\"][\"type\"] = mapping[\n",
    "                        properties[key][\"items\"][\"items\"][\"type\"]\n",
    "                    ]\n",
    "                elif (\n",
    "                    properties[key][\"items\"][\"type\"] == \"object\"\n",
    "                    and \"properties\" in properties[key][\"items\"]\n",
    "                ):\n",
    "                    properties[key][\"items\"][\"properties\"] = _cast_to_openai_type(\n",
    "                        properties[key][\"items\"][\"properties\"], mapping, test_category\n",
    "                    )\n",
    "    return properties"
   ]
  },
  {
   "cell_type": "code",
   "execution_count": 15,
   "id": "27ab1349-1454-4aca-a2d3-9bc0b9623f76",
   "metadata": {
    "execution": {
     "iopub.execute_input": "2024-07-19T20:50:54.828451Z",
     "iopub.status.busy": "2024-07-19T20:50:54.827878Z",
     "iopub.status.idle": "2024-07-19T20:50:54.861863Z",
     "shell.execute_reply": "2024-07-19T20:50:54.860480Z",
     "shell.execute_reply.started": "2024-07-19T20:50:54.828401Z"
    }
   },
   "outputs": [],
   "source": [
    "# allow `\\\"`, `\\\\`, or any character which isn't a control sequence\n",
    "STRING_INNER = r'([^\"\\\\\\x00-\\x1F\\x7F-\\x9F]|\\\\[\"\\\\])'\n",
    "STRING = f'\"{STRING_INNER}*\"'\n",
    "\n",
    "INTEGER = r\"(-)?(0|[1-9][0-9]*)\"\n",
    "# NUMBER = rf\"({INTEGER})(\\.[0-9]+)?([eE][+-][0-9]+)?\"\n",
    "NUMBER = rf\"({INTEGER})(\\.[0-9]+)([eE][+-][0-9]+)?\"\n",
    "BOOLEAN = r\"(true|false)\"\n",
    "NULL = r\"null\"\n",
    "WHITESPACE = r\"[ ]?\"\n",
    "\n",
    "_type_to_regex = {\n",
    "    \"string\": STRING,\n",
    "    \"integer\": INTEGER,\n",
    "    \"number\": NUMBER,\n",
    "    \"boolean\": BOOLEAN,\n",
    "    \"null\": NULL,\n",
    "}"
   ]
  },
  {
   "cell_type": "code",
   "execution_count": 16,
   "id": "26d68439-72f8-49c5-9382-7d7c195b79f5",
   "metadata": {
    "execution": {
     "iopub.execute_input": "2024-07-19T20:50:56.358089Z",
     "iopub.status.busy": "2024-07-19T20:50:56.357012Z",
     "iopub.status.idle": "2024-07-19T20:50:56.389823Z",
     "shell.execute_reply": "2024-07-19T20:50:56.388800Z",
     "shell.execute_reply.started": "2024-07-19T20:50:56.358036Z"
    }
   },
   "outputs": [],
   "source": [
    "function_data = function"
   ]
  },
  {
   "cell_type": "code",
   "execution_count": 17,
   "id": "540ec4f8-b14a-4758-bd7f-bd803115af37",
   "metadata": {
    "execution": {
     "iopub.execute_input": "2024-07-19T20:50:57.107490Z",
     "iopub.status.busy": "2024-07-19T20:50:57.106968Z",
     "iopub.status.idle": "2024-07-19T20:50:57.142306Z",
     "shell.execute_reply": "2024-07-19T20:50:57.141075Z",
     "shell.execute_reply.started": "2024-07-19T20:50:57.107442Z"
    }
   },
   "outputs": [
    {
     "name": "stdout",
     "output_type": "stream",
     "text": [
      "base\n",
      "{'type': 'integer', 'description': 'The base of the triangle.'}\n",
      "height\n",
      "{'type': 'integer', 'description': 'The height of the triangle.'}\n"
     ]
    }
   ],
   "source": [
    "for arg, value in _cast_to_openai_type(\n",
    "    function_data[\"parameters\"][\"properties\"], GORILLA_TO_OPENAPI, \"simple\"\n",
    ").items():\n",
    "    # do any of the examples use the option parameter?\n",
    "    # Easy enough to add in!\n",
    "    if arg in function_data[\"parameters\"][\"required\"]:\n",
    "        print(arg)\n",
    "        print(value)"
   ]
  },
  {
   "cell_type": "code",
   "execution_count": 18,
   "id": "cd83928c-df51-432b-a049-eaf7060e242d",
   "metadata": {
    "execution": {
     "iopub.execute_input": "2024-07-19T20:50:58.446018Z",
     "iopub.status.busy": "2024-07-19T20:50:58.445497Z",
     "iopub.status.idle": "2024-07-19T20:50:58.481215Z",
     "shell.execute_reply": "2024-07-19T20:50:58.479690Z",
     "shell.execute_reply.started": "2024-07-19T20:50:58.445970Z"
    }
   },
   "outputs": [],
   "source": [
    "def build_dict_regex(props):\n",
    "    out_re = r'\\{'\n",
    "    args_part  = \", \".join([\n",
    "        f'\"{prop}\": '+type_to_regex(props[prop])\n",
    "        for prop in props\n",
    "    ])\n",
    "    return out_re+args_part+r\"\\}\""
   ]
  },
  {
   "cell_type": "code",
   "execution_count": 19,
   "id": "62bd403f-ddb1-45c6-9717-fc285b676e97",
   "metadata": {
    "execution": {
     "iopub.execute_input": "2024-07-19T20:50:59.243169Z",
     "iopub.status.busy": "2024-07-19T20:50:59.242254Z",
     "iopub.status.idle": "2024-07-19T20:50:59.276736Z",
     "shell.execute_reply": "2024-07-19T20:50:59.275514Z",
     "shell.execute_reply.started": "2024-07-19T20:50:59.243118Z"
    }
   },
   "outputs": [],
   "source": [
    "# this should be more universal\n",
    "def type_to_regex(arg_meta):\n",
    "    # import pdb; pdb.set_trace()\n",
    "    basic_map = {\n",
    "        \"string\": f'\"{STRING_INNER}{{1,42}}\"',  # might need to be longer?\n",
    "        \"integer\": INTEGER,\n",
    "        \"number\": NUMBER,\n",
    "        \"float\": NUMBER,  # change this later\n",
    "        \"boolean\": BOOLEAN,\n",
    "        \"null\": NULL,\n",
    "    }\n",
    "    arg_type = arg_meta[\"type\"]\n",
    "    if arg_type == \"object\":\n",
    "        arg_type = \"dict\"\n",
    "    if arg_type == \"dict\":\n",
    "        # import pdb; pdb.set_trace()\n",
    "        if \"properties\" in arg_meta.keys():\n",
    "            result = build_dict_regex(arg_meta[\"properties\"])\n",
    "        else:\n",
    "            result = r\"\"\"\\[(\"([^\"\\\\\\x00-\\x1F\\x7F-\\x9F]|\\\\[\"\\\\]){1,42}\", ){0,8}\"([^\"\\\\\\x00-\\x1F\\x7F-\\x9F]|\\\\[\"\\\\]){1,42}\"\\]\"\"\"\n",
    "    # Note, this currently won't pass the empty list\n",
    "    elif arg_type == \"array\":\n",
    "        pattern = type_to_regex(arg_meta[\"items\"])\n",
    "        result = array_regex = r\"\\[(\" + pattern + \", ){0,8}\" + pattern + \"\\]\"\n",
    "    else:\n",
    "        result = basic_map[arg_type]\n",
    "    # print(result)\n",
    "    return result"
   ]
  },
  {
   "cell_type": "code",
   "execution_count": 20,
   "id": "7984c9b7-c0ee-43d2-affe-fdbdede87bb5",
   "metadata": {
    "execution": {
     "iopub.execute_input": "2024-07-19T20:51:00.139677Z",
     "iopub.status.busy": "2024-07-19T20:51:00.139098Z",
     "iopub.status.idle": "2024-07-19T20:51:00.172680Z",
     "shell.execute_reply": "2024-07-19T20:51:00.171761Z",
     "shell.execute_reply.started": "2024-07-19T20:51:00.139625Z"
    }
   },
   "outputs": [],
   "source": [
    "def build_fc_regex(function_data):\n",
    "    out_re = r'\\{\"name\": \"' + function_data[\"name\"] + '\", \"arguments\": \\{'\n",
    "    args_part = \", \".join(\n",
    "        [\n",
    "            f'\"{arg}\": ' + type_to_regex(value)\n",
    "            for arg, value in _cast_to_openai_type(\n",
    "                function_data[\"parameters\"][\"properties\"], GORILLA_TO_OPENAPI, \"simple\"\n",
    "            ).items()\n",
    "            # do any of the examples use the option parameter?\n",
    "            # Easy enough to add in!\n",
    "            if arg in function_data[\"parameters\"][\"required\"]\n",
    "        ]\n",
    "    )\n",
    "    optional_part = \"\".join(\n",
    "        [\n",
    "            f'(, \"{arg}\": ' + type_to_regex(value) + r\")?\"\n",
    "            for arg, value in _cast_to_openai_type(\n",
    "                function_data[\"parameters\"][\"properties\"], GORILLA_TO_OPENAPI, \"simple\"\n",
    "            ).items()\n",
    "            if not (arg in function_data[\"parameters\"][\"required\"])\n",
    "        ]\n",
    "    )\n",
    "    # return out_re + args_part + optional_part + \"}}\"\n",
    "    return out_re + args_part + \"}}\""
   ]
  },
  {
   "cell_type": "code",
   "execution_count": 21,
   "id": "83875bd7-025d-4184-a702-be423793c2a5",
   "metadata": {
    "execution": {
     "iopub.execute_input": "2024-07-19T20:51:17.780908Z",
     "iopub.status.busy": "2024-07-19T20:51:17.780303Z",
     "iopub.status.idle": "2024-07-19T20:51:17.819267Z",
     "shell.execute_reply": "2024-07-19T20:51:17.818129Z",
     "shell.execute_reply.started": "2024-07-19T20:51:17.780856Z"
    }
   },
   "outputs": [
    {
     "data": {
      "text/plain": [
       "{'name': 'calculate_triangle_area',\n",
       " 'description': 'Calculate the area of a triangle given its base and height.',\n",
       " 'parameters': {'type': 'dict',\n",
       "  'properties': {'base': {'type': 'integer',\n",
       "    'description': 'The base of the triangle.'},\n",
       "   'height': {'type': 'integer', 'description': 'The height of the triangle.'},\n",
       "   'unit': {'type': 'string',\n",
       "    'description': \"The unit of measure (defaults to 'units' if not specified)\"}},\n",
       "  'required': ['base', 'height']}}"
      ]
     },
     "execution_count": 21,
     "metadata": {},
     "output_type": "execute_result"
    }
   ],
   "source": [
    "function"
   ]
  },
  {
   "cell_type": "code",
   "execution_count": 22,
   "id": "8195e987-d919-4d46-868c-4d3557b43f9f",
   "metadata": {
    "execution": {
     "iopub.execute_input": "2024-07-19T20:51:18.480706Z",
     "iopub.status.busy": "2024-07-19T20:51:18.480170Z",
     "iopub.status.idle": "2024-07-19T20:51:18.516007Z",
     "shell.execute_reply": "2024-07-19T20:51:18.514630Z",
     "shell.execute_reply.started": "2024-07-19T20:51:18.480658Z"
    }
   },
   "outputs": [
    {
     "data": {
      "text/plain": [
       "'\\\\{\"name\": \"calculate_triangle_area\", \"arguments\": \\\\{\"base\": (-)?(0|[1-9][0-9]*), \"height\": (-)?(0|[1-9][0-9]*)}}'"
      ]
     },
     "execution_count": 22,
     "metadata": {},
     "output_type": "execute_result"
    }
   ],
   "source": [
    "regex = build_fc_regex(function)\n",
    "regex"
   ]
  },
  {
   "cell_type": "code",
   "execution_count": 23,
   "id": "6e729718-18aa-4c3f-9ef6-751178c3fced",
   "metadata": {
    "execution": {
     "iopub.execute_input": "2024-07-19T20:51:22.733010Z",
     "iopub.status.busy": "2024-07-19T20:51:22.732472Z",
     "iopub.status.idle": "2024-07-19T20:51:26.244455Z",
     "shell.execute_reply": "2024-07-19T20:51:26.243556Z",
     "shell.execute_reply.started": "2024-07-19T20:51:22.732962Z"
    }
   },
   "outputs": [],
   "source": [
    "from outlines import models, generate\n",
    "\n",
    "model = models.LlamaCpp(llm)\n",
    "generator = generate.regex(model, regex)\n",
    "answer = generator(final_prompt, \n",
    "                   max_tokens=1024, temperature=0, seed=42)"
   ]
  },
  {
   "cell_type": "code",
   "execution_count": 24,
   "id": "a17ee769-f6fa-4bff-a041-2ab5793077ab",
   "metadata": {
    "execution": {
     "iopub.execute_input": "2024-07-19T20:51:29.006098Z",
     "iopub.status.busy": "2024-07-19T20:51:29.005482Z",
     "iopub.status.idle": "2024-07-19T20:51:29.044379Z",
     "shell.execute_reply": "2024-07-19T20:51:29.043116Z",
     "shell.execute_reply.started": "2024-07-19T20:51:29.006044Z"
    }
   },
   "outputs": [
    {
     "data": {
      "text/plain": [
       "'{\"name\": \"calculate_triangle_area\", \"arguments\": {\"base\": 10, \"height\": 5}}'"
      ]
     },
     "execution_count": 24,
     "metadata": {},
     "output_type": "execute_result"
    }
   ],
   "source": [
    "answer"
   ]
  },
  {
   "cell_type": "code",
   "execution_count": 25,
   "id": "7eac89a5-7e3e-4aad-af48-44878079e20c",
   "metadata": {
    "execution": {
     "iopub.execute_input": "2024-07-19T20:52:47.990217Z",
     "iopub.status.busy": "2024-07-19T20:52:47.989651Z",
     "iopub.status.idle": "2024-07-19T20:53:22.985802Z",
     "shell.execute_reply": "2024-07-19T20:53:22.985132Z",
     "shell.execute_reply.started": "2024-07-19T20:52:47.990164Z"
    }
   },
   "outputs": [
    {
     "name": "stdout",
     "output_type": "stream",
     "text": [
      "0\n",
      "1\n"
     ]
    },
    {
     "name": "stderr",
     "output_type": "stream",
     "text": [
      "Compiling FSM index for all state transitions: 100%|██████████| 60/60 [00:01<00:00, 38.58it/s]\n"
     ]
    },
    {
     "name": "stdout",
     "output_type": "stream",
     "text": [
      "2\n"
     ]
    },
    {
     "name": "stderr",
     "output_type": "stream",
     "text": [
      "Compiling FSM index for all state transitions: 100%|██████████| 61/61 [00:01<00:00, 37.95it/s]\n"
     ]
    },
    {
     "name": "stdout",
     "output_type": "stream",
     "text": [
      "3\n"
     ]
    },
    {
     "name": "stderr",
     "output_type": "stream",
     "text": [
      "Compiling FSM index for all state transitions: 100%|██████████| 84/84 [00:02<00:00, 39.88it/s]\n"
     ]
    },
    {
     "name": "stdout",
     "output_type": "stream",
     "text": [
      "4\n"
     ]
    },
    {
     "name": "stderr",
     "output_type": "stream",
     "text": [
      "Compiling FSM index for all state transitions: 100%|██████████| 82/82 [00:02<00:00, 40.01it/s]\n"
     ]
    },
    {
     "name": "stdout",
     "output_type": "stream",
     "text": [
      "5\n"
     ]
    },
    {
     "name": "stderr",
     "output_type": "stream",
     "text": [
      "Compiling FSM index for all state transitions: 100%|██████████| 73/73 [00:01<00:00, 39.24it/s]\n"
     ]
    },
    {
     "name": "stdout",
     "output_type": "stream",
     "text": [
      "6\n",
      "7\n"
     ]
    },
    {
     "name": "stderr",
     "output_type": "stream",
     "text": [
      "Compiling FSM index for all state transitions: 100%|██████████| 66/66 [00:01<00:00, 39.86it/s]\n"
     ]
    },
    {
     "name": "stdout",
     "output_type": "stream",
     "text": [
      "8\n"
     ]
    },
    {
     "name": "stderr",
     "output_type": "stream",
     "text": [
      "Compiling FSM index for all state transitions: 100%|██████████| 66/66 [00:01<00:00, 38.12it/s]\n"
     ]
    },
    {
     "name": "stdout",
     "output_type": "stream",
     "text": [
      "9\n"
     ]
    },
    {
     "name": "stderr",
     "output_type": "stream",
     "text": [
      "Compiling FSM index for all state transitions: 100%|██████████| 76/76 [00:01<00:00, 40.48it/s]\n"
     ]
    }
   ],
   "source": [
    "answers = []\n",
    "for pos in range(10):\n",
    "    try:\n",
    "        print(pos)\n",
    "        question = df.iloc[pos][\"question\"]\n",
    "        function = df.iloc[pos][\"function\"]\n",
    "        final_prompt = (\n",
    "            \"<|im_start|>system\\n\"\n",
    "            \"You are a function calling AI model. You are provided with function signatures within <tools></tools> XML tags. \"\n",
    "            \"You may call one or more functions to assist with the user query. \"\n",
    "            \"Don't make assumptions about what values to plug into functions. \"\n",
    "            \"Here are the available tools: <tools> [\"\n",
    "            + json.dumps(function)\n",
    "            + \"] </tools> Use the following pydantic model json schema for each tool call you will make: \"\n",
    "            \"{'title': 'FunctionCall', 'type': 'object', 'properties': {'arguments': {'title': 'Arguments', 'type': 'object'}, 'name': {'title': 'Name', 'type': 'string'}}, 'required': ['arguments', 'name']} \"\n",
    "            \"For each function call return a json object with function name and arguments within <tool_call></tool_call> XML tags as follows: \"\n",
    "            \"<tool_call>\\n\"\n",
    "            \"{'arguments': <args-dict>, 'name': <function-name>}\"\n",
    "            \"</tool_call><|im_end|>\\n\"\n",
    "            \"<|im_start|>user\\n\" + question + \"<|im_start|>assistant\\n\"\n",
    "            \"<tool_call>\"\n",
    "        )\n",
    "        regex = build_fc_regex(function)\n",
    "        generator = generate.regex(model, regex)\n",
    "        answer = generator(final_prompt, max_tokens=1024, temperature=0, seed=0)\n",
    "        answers.append(answer[1:-1])\n",
    "    except:\n",
    "        answers.append(\"Error\")"
   ]
  },
  {
   "cell_type": "code",
   "execution_count": 26,
   "id": "b0c8af4f-1dca-4ff8-86fb-729558f32cb7",
   "metadata": {
    "execution": {
     "iopub.execute_input": "2024-07-19T20:55:23.418003Z",
     "iopub.status.busy": "2024-07-19T20:55:23.417443Z",
     "iopub.status.idle": "2024-07-19T20:55:23.457809Z",
     "shell.execute_reply": "2024-07-19T20:55:23.456641Z",
     "shell.execute_reply.started": "2024-07-19T20:55:23.417952Z"
    }
   },
   "outputs": [
    {
     "data": {
      "text/plain": [
       "['\"name\": \"calculate_triangle_area\", \"arguments\": {\"base\": 10, \"height\": 5}',\n",
       " '\"name\": \"math.factorial\", \"arguments\": {\"number\": 5}',\n",
       " '\"name\": \"math.hypot\", \"arguments\": {\"x\": 4, \"y\": 5}',\n",
       " '\"name\": \"algebra.quadratic_roots\", \"arguments\": {\"a\": 1, \"b\": -3, \"c\": 2}',\n",
       " '\"name\": \"solve_quadratic_equation\", \"arguments\": {\"a\": 2, \"b\": 6, \"c\": 5}',\n",
       " '\"name\": \"solve_quadratic\", \"arguments\": {\"a\": 3, \"b\": -11, \"c\": -4}',\n",
       " '\"name\": \"solve_quadratic\", \"arguments\": {\"a\": 2, \"b\": 5, \"c\": 3}',\n",
       " '\"name\": \"calculate_circumference\", \"arguments\": {\"radius\": 4}',\n",
       " '\"name\": \"geometry.area_circle\", \"arguments\": {\"radius\": 10}',\n",
       " '\"name\": \"geometry.calculate_area_circle\", \"arguments\": {\"radius\": 5}']"
      ]
     },
     "execution_count": 26,
     "metadata": {},
     "output_type": "execute_result"
    }
   ],
   "source": [
    "answers"
   ]
  },
  {
   "cell_type": "code",
   "execution_count": 27,
   "id": "8f4158f8-0372-459c-ba1e-9d9937327e7a",
   "metadata": {
    "execution": {
     "iopub.execute_input": "2024-07-19T20:55:32.005829Z",
     "iopub.status.busy": "2024-07-19T20:55:32.005287Z",
     "iopub.status.idle": "2024-07-19T20:55:32.050457Z",
     "shell.execute_reply": "2024-07-19T20:55:32.049230Z",
     "shell.execute_reply.started": "2024-07-19T20:55:32.005779Z"
    }
   },
   "outputs": [
    {
     "data": {
      "text/plain": [
       "10"
      ]
     },
     "execution_count": 27,
     "metadata": {},
     "output_type": "execute_result"
    }
   ],
   "source": [
    "len(answers)"
   ]
  },
  {
   "cell_type": "code",
   "execution_count": 35,
   "id": "73a6ccc5-20b0-4bd1-a513-5a83a55bf1de",
   "metadata": {
    "execution": {
     "iopub.execute_input": "2024-07-09T15:41:31.332722Z",
     "iopub.status.busy": "2024-07-09T15:41:31.331893Z",
     "iopub.status.idle": "2024-07-09T15:41:31.369311Z",
     "shell.execute_reply": "2024-07-09T15:41:31.368443Z",
     "shell.execute_reply.started": "2024-07-09T15:41:31.332667Z"
    }
   },
   "outputs": [],
   "source": [
    "# RUN IT ONCE TO DOWNLOAD THE TEST DATASET\n",
    "# !wget https://raw.githubusercontent.com/ShishirPatil/gorilla/main/berkeley-function-call-leaderboard/data/possible_answer/gorilla_openfunctions_v1_test_simple.json"
   ]
  },
  {
   "cell_type": "code",
   "execution_count": 36,
   "id": "fe8cdbca-3fdc-474a-8608-be4427a2b3b1",
   "metadata": {
    "execution": {
     "iopub.execute_input": "2024-07-09T15:41:32.117166Z",
     "iopub.status.busy": "2024-07-09T15:41:32.116651Z",
     "iopub.status.idle": "2024-07-09T15:41:32.154849Z",
     "shell.execute_reply": "2024-07-09T15:41:32.154018Z",
     "shell.execute_reply.started": "2024-07-09T15:41:32.117117Z"
    }
   },
   "outputs": [],
   "source": [
    "file_path = \"gorilla_openfunctions_v1_test_simple.json\""
   ]
  },
  {
   "cell_type": "code",
   "execution_count": 37,
   "id": "4050add1-9a58-47f9-9eab-0f0db047f772",
   "metadata": {
    "execution": {
     "iopub.execute_input": "2024-07-09T15:41:32.831574Z",
     "iopub.status.busy": "2024-07-09T15:41:32.831002Z",
     "iopub.status.idle": "2024-07-09T15:41:32.869852Z",
     "shell.execute_reply": "2024-07-09T15:41:32.869040Z",
     "shell.execute_reply.started": "2024-07-09T15:41:32.831482Z"
    }
   },
   "outputs": [],
   "source": [
    "# standardize possible_answers from gorilla simple test set\n",
    "import json\n",
    "\n",
    "possible_answers = []\n",
    "# Open the file and read line by line\n",
    "with open(file_path, \"r\") as file:\n",
    "    for line in file:\n",
    "        # Parse the JSON line into a Python dictionary\n",
    "        json_data = json.loads(line)\n",
    "\n",
    "        # Process the JSON object\n",
    "        for function_name, params in json_data.items():\n",
    "            final_string = function_name + \",{\"\n",
    "            for param_name, param_value in params.items():\n",
    "                final_string += '\"' + param_name + '\":' + str(param_value) + \",\"\n",
    "            final_string = final_string[:-1] + \"}\"\n",
    "            final_string = final_string.replace(\"'\", '\"')\n",
    "            final_string = final_string.replace(\" \", \"\")\n",
    "            possible_answers.append(final_string)"
   ]
  },
  {
   "cell_type": "code",
   "execution_count": 38,
   "id": "47b36354-331e-4c30-88fa-9019e0d8e384",
   "metadata": {
    "execution": {
     "iopub.execute_input": "2024-07-09T15:41:33.544760Z",
     "iopub.status.busy": "2024-07-09T15:41:33.544232Z",
     "iopub.status.idle": "2024-07-09T15:41:33.588713Z",
     "shell.execute_reply": "2024-07-09T15:41:33.587385Z",
     "shell.execute_reply.started": "2024-07-09T15:41:33.544712Z"
    }
   },
   "outputs": [
    {
     "data": {
      "text/plain": [
       "{'name': 'calculate_triangle_area', 'arguments': {'base': 10, 'height': 5}}"
      ]
     },
     "execution_count": 38,
     "metadata": {},
     "output_type": "execute_result"
    }
   ],
   "source": [
    "json_repair.loads(\"{\" + answers[0] + \"}\")"
   ]
  },
  {
   "cell_type": "code",
   "execution_count": 35,
   "id": "9f457e93-9aab-4338-a9f6-ea289ba4b72c",
   "metadata": {
    "execution": {
     "iopub.execute_input": "2024-07-09T17:26:56.582937Z",
     "iopub.status.busy": "2024-07-09T17:26:56.582373Z",
     "iopub.status.idle": "2024-07-09T17:26:56.621592Z",
     "shell.execute_reply": "2024-07-09T17:26:56.620767Z",
     "shell.execute_reply.started": "2024-07-09T17:26:56.582883Z"
    }
   },
   "outputs": [],
   "source": [
    "# standardize model_output\n",
    "def standardize(result):\n",
    "    final_result = (\n",
    "        str(json_repair.loads(\"{\" + result + \"}\")[\"name\"])\n",
    "        + \",\"\n",
    "        + str(json_repair.loads(\"{\" + result + \"}\")[\"arguments\"])\n",
    "    )\n",
    "    final_result = final_result.replace(\"'\", '\"')\n",
    "    final_result = final_result.replace(\" \", \"\")\n",
    "    return final_result"
   ]
  },
  {
   "cell_type": "code",
   "execution_count": 36,
   "id": "20f1b716-693d-4a73-aa96-338302db4195",
   "metadata": {
    "execution": {
     "iopub.execute_input": "2024-07-09T17:26:57.153628Z",
     "iopub.status.busy": "2024-07-09T17:26:57.153112Z",
     "iopub.status.idle": "2024-07-09T17:26:57.190246Z",
     "shell.execute_reply": "2024-07-09T17:26:57.188888Z",
     "shell.execute_reply.started": "2024-07-09T17:26:57.153579Z"
    }
   },
   "outputs": [],
   "source": [
    "model_output = []\n",
    "for i, result in enumerate(answers):\n",
    "    try:\n",
    "        model_output.append(standardize(result))\n",
    "    except:\n",
    "        model_output.append(\"Error\")"
   ]
  },
  {
   "cell_type": "code",
   "execution_count": 37,
   "id": "8112ffa0-7e62-4abe-b059-368b3b861473",
   "metadata": {
    "execution": {
     "iopub.execute_input": "2024-07-09T17:26:58.303170Z",
     "iopub.status.busy": "2024-07-09T17:26:58.302646Z",
     "iopub.status.idle": "2024-07-09T17:26:58.342403Z",
     "shell.execute_reply": "2024-07-09T17:26:58.341257Z",
     "shell.execute_reply.started": "2024-07-09T17:26:58.303120Z"
    }
   },
   "outputs": [
    {
     "data": {
      "text/plain": [
       "['find_card_in_deck,{\"rank\":\"Queen\",\"suit\":\"Hearts\"}',\n",
       " 'cards.shuffle_and_draw,{\"num_cards\":3}',\n",
       " 'poker_game_winner,{\"players\":[\"Alex\",\"Sam\",\"Robert\",\"Steve\"],\"cards\":[\"Aofspades\",\"Kofspades\",\"2ofdiamonds\",\"3ofclubs\",\"Qofhearts\",\"10ofhearts\",\"4ofspades\",\"5ofspades\"],\"type\":\"TexasHoldem\"}',\n",
       " 'card_game_probability.calculate,{\"total_cards\":52,\"desired_cards\":13,\"cards_drawn\":1}',\n",
       " 'poker_probability.full_house,{\"deck_size\":52,\"hand_size\":5}']"
      ]
     },
     "execution_count": 37,
     "metadata": {},
     "output_type": "execute_result"
    }
   ],
   "source": [
    "model_output"
   ]
  },
  {
   "cell_type": "code",
   "execution_count": 42,
   "id": "68f85a13-956d-46e3-81e0-1f6f6fa238e5",
   "metadata": {
    "execution": {
     "iopub.execute_input": "2024-07-09T15:41:36.380135Z",
     "iopub.status.busy": "2024-07-09T15:41:36.379418Z",
     "iopub.status.idle": "2024-07-09T15:41:36.423447Z",
     "shell.execute_reply": "2024-07-09T15:41:36.422642Z",
     "shell.execute_reply.started": "2024-07-09T15:41:36.380083Z"
    }
   },
   "outputs": [
    {
     "data": {
      "text/html": [
       "<div>\n",
       "<style scoped>\n",
       "    .dataframe tbody tr th:only-of-type {\n",
       "        vertical-align: middle;\n",
       "    }\n",
       "\n",
       "    .dataframe tbody tr th {\n",
       "        vertical-align: top;\n",
       "    }\n",
       "\n",
       "    .dataframe thead th {\n",
       "        text-align: right;\n",
       "    }\n",
       "</style>\n",
       "<table border=\"1\" class=\"dataframe\">\n",
       "  <thead>\n",
       "    <tr style=\"text-align: right;\">\n",
       "      <th></th>\n",
       "      <th>possible_answer</th>\n",
       "      <th>model_output</th>\n",
       "    </tr>\n",
       "  </thead>\n",
       "  <tbody>\n",
       "    <tr>\n",
       "      <th>0</th>\n",
       "      <td>calculate_triangle_area,{\"base\":[10],\"height\":...</td>\n",
       "      <td>calculate_triangle_area,{\"base\":10,\"height\":5}</td>\n",
       "    </tr>\n",
       "    <tr>\n",
       "      <th>1</th>\n",
       "      <td>math.factorial,{\"number\":[5]}</td>\n",
       "      <td>math.factorial,{\"number\":5}</td>\n",
       "    </tr>\n",
       "    <tr>\n",
       "      <th>2</th>\n",
       "      <td>math.hypot,{\"x\":[4],\"y\":[5],\"z\":[\"\",0]}</td>\n",
       "      <td>math.hypot,{\"x\":4,\"y\":5}</td>\n",
       "    </tr>\n",
       "    <tr>\n",
       "      <th>3</th>\n",
       "      <td>algebra.quadratic_roots,{\"a\":[1],\"b\":[-3],\"c\":...</td>\n",
       "      <td>algebra.quadratic_roots,{\"a\":1,\"b\":-3,\"c\":2}</td>\n",
       "    </tr>\n",
       "    <tr>\n",
       "      <th>4</th>\n",
       "      <td>solve_quadratic_equation,{\"a\":[2],\"b\":[6],\"c\":...</td>\n",
       "      <td>solve_quadratic_equation,{\"a\":2,\"b\":6,\"c\":5}</td>\n",
       "    </tr>\n",
       "  </tbody>\n",
       "</table>\n",
       "</div>"
      ],
      "text/plain": [
       "                                     possible_answer  \\\n",
       "0  calculate_triangle_area,{\"base\":[10],\"height\":...   \n",
       "1                      math.factorial,{\"number\":[5]}   \n",
       "2            math.hypot,{\"x\":[4],\"y\":[5],\"z\":[\"\",0]}   \n",
       "3  algebra.quadratic_roots,{\"a\":[1],\"b\":[-3],\"c\":...   \n",
       "4  solve_quadratic_equation,{\"a\":[2],\"b\":[6],\"c\":...   \n",
       "\n",
       "                                     model_output  \n",
       "0  calculate_triangle_area,{\"base\":10,\"height\":5}  \n",
       "1                     math.factorial,{\"number\":5}  \n",
       "2                        math.hypot,{\"x\":4,\"y\":5}  \n",
       "3    algebra.quadratic_roots,{\"a\":1,\"b\":-3,\"c\":2}  \n",
       "4    solve_quadratic_equation,{\"a\":2,\"b\":6,\"c\":5}  "
      ]
     },
     "execution_count": 42,
     "metadata": {},
     "output_type": "execute_result"
    }
   ],
   "source": [
    "df = pd.DataFrame()\n",
    "df[\"possible_answer\"] = possible_answers\n",
    "df[\"model_output\"] = model_output\n",
    "df.head()"
   ]
  },
  {
   "cell_type": "code",
   "execution_count": 43,
   "id": "3ffb0417-ec79-481d-9dce-0c90af7f2abb",
   "metadata": {
    "execution": {
     "iopub.execute_input": "2024-07-09T15:41:36.933501Z",
     "iopub.status.busy": "2024-07-09T15:41:36.932973Z",
     "iopub.status.idle": "2024-07-09T15:41:36.973376Z",
     "shell.execute_reply": "2024-07-09T15:41:36.972333Z",
     "shell.execute_reply.started": "2024-07-09T15:41:36.933453Z"
    }
   },
   "outputs": [],
   "source": [
    "df.to_csv(\"results_Outlines_Hermes2Pro.csv\", index=False)"
   ]
  }
 ],
 "metadata": {
  "kernelspec": {
   "display_name": "Python 3 (ipykernel)",
   "language": "python",
   "name": "python3"
  },
  "language_info": {
   "codemirror_mode": {
    "name": "ipython",
    "version": 3
   },
   "file_extension": ".py",
   "mimetype": "text/x-python",
   "name": "python",
   "nbconvert_exporter": "python",
   "pygments_lexer": "ipython3",
   "version": "3.10.12"
  }
 },
 "nbformat": 4,
 "nbformat_minor": 5
}
